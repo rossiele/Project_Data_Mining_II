{
 "cells": [
  {
   "cell_type": "markdown",
   "metadata": {},
   "source": [
    "# Outlier detection 4 metodi\n",
    "\n",
    "Eliminazione degli outliers condivisi da almeno 4 metodi"
   ]
  },
  {
   "cell_type": "code",
   "execution_count": 1,
   "metadata": {},
   "outputs": [],
   "source": [
    "#!pip install tabulate"
   ]
  },
  {
   "cell_type": "code",
   "execution_count": 2,
   "metadata": {},
   "outputs": [],
   "source": [
    "import pandas as pd\n",
    "import numpy as np\n",
    "import matplotlib.pyplot as plt\n",
    "import os\n",
    "from tabulate import tabulate\n",
    "import seaborn as sns\n",
    "#import scikitplot as skplt\n",
    "from numpy import percentile\n",
    "import math\n",
    "\n",
    "#pandas\n",
    "from pandas.plotting import parallel_coordinates\n",
    "from datetime import date, datetime\n",
    "\n",
    "#sklearn\n",
    "from sklearn.preprocessing import PowerTransformer, QuantileTransformer\n",
    "from sklearn.preprocessing import MinMaxScaler, MaxAbsScaler, RobustScaler, StandardScaler\n",
    "from sklearn.cluster import DBSCAN\n",
    "\n",
    "from sklearn.decomposition import PCA\n",
    "#from sklearn.feature_selection import SequentialFeatureSelector\n",
    "from sklearn.feature_selection import SelectKBest\n",
    "from sklearn.feature_selection import f_classif\n",
    "from sklearn.model_selection import GridSearchCV, RandomizedSearchCV\n",
    "from sklearn.model_selection import StratifiedKFold\n",
    "from sklearn.model_selection import learning_curve\n",
    "\n",
    "from sklearn.metrics import accuracy_score, f1_score, classification_report, confusion_matrix\n",
    "from sklearn.metrics import multilabel_confusion_matrix, roc_curve, auc\n",
    "from sklearn.metrics import roc_auc_score, precision_score, recall_score, make_scorer\n",
    "from sklearn.metrics import plot_confusion_matrix\n",
    "\n",
    "from sklearn.neighbors import NearestNeighbors \n",
    "from sklearn.neighbors import KNeighborsClassifier\n",
    "from sklearn.pipeline import Pipeline\n",
    "\n",
    "from sklearn.neighbors import LocalOutlierFactor\n",
    "from sklearn.ensemble import IsolationForest\n",
    "\n",
    "#scikitplot\n",
    "#from scikitplot.metrics import plot_roc\n",
    "#from scikitplot.metrics import plot_precision_recall\n",
    "#from scikitplot.metrics import plot_lift_curve\n",
    "#from scikitplot.metrics import plot_cumulative_gain\n",
    "\n",
    "#mlxtend\n",
    "#from mlxtend.plotting import plot_decision_regions\n",
    "\n",
    "#matplotlib\n",
    "from matplotlib.ticker import (MultipleLocator, AutoMinorLocator)\n",
    "from matplotlib import pyplot\n",
    "\n",
    "#seaborn\n",
    "import seaborn as sns\n",
    "\n",
    "#scipy\n",
    "import scipy.stats as stats\n",
    "from scipy.stats import shapiro, mannwhitneyu, normaltest, kstest\n",
    "from scipy.stats import boxcox, yeojohnson\n",
    "\n",
    "from matplotlib import pyplot\n",
    "from mpl_toolkits.mplot3d import Axes3D\n",
    "import random\n",
    "\n",
    "from pyod.models.abod import ABOD\n",
    "from pyod.models.knn import KNN"
   ]
  },
  {
   "cell_type": "code",
   "execution_count": 3,
   "metadata": {},
   "outputs": [],
   "source": [
    "%matplotlib inline\n",
    "\n",
    "import numpy as np\n",
    "import pandas as pd\n",
    "import seaborn as sns\n",
    "import matplotlib.pyplot as plt\n",
    "\n",
    "from collections import Counter\n",
    "from collections import defaultdict\n",
    "\n",
    "from sklearn.model_selection import train_test_split"
   ]
  },
  {
   "cell_type": "markdown",
   "metadata": {},
   "source": [
    "# Data Preparation"
   ]
  },
  {
   "cell_type": "code",
   "execution_count": 4,
   "metadata": {},
   "outputs": [
    {
     "data": {
      "text/plain": [
       "(7352, 561)"
      ]
     },
     "execution_count": 4,
     "metadata": {},
     "output_type": "execute_result"
    }
   ],
   "source": [
    "df = pd.read_csv('../data/csv_files/train.csv')\n",
    "df_numeric = df.drop(['subject','ActivityName'], axis=1)\n",
    "X = df.drop(['subject', 'Activity','ActivityName'], axis=1).values\n",
    "y = df['ActivityName']\n",
    "X.shape"
   ]
  },
  {
   "cell_type": "code",
   "execution_count": 5,
   "metadata": {},
   "outputs": [
    {
     "data": {
      "text/html": [
       "<div>\n",
       "<style scoped>\n",
       "    .dataframe tbody tr th:only-of-type {\n",
       "        vertical-align: middle;\n",
       "    }\n",
       "\n",
       "    .dataframe tbody tr th {\n",
       "        vertical-align: top;\n",
       "    }\n",
       "\n",
       "    .dataframe thead th {\n",
       "        text-align: right;\n",
       "    }\n",
       "</style>\n",
       "<table border=\"1\" class=\"dataframe\">\n",
       "  <thead>\n",
       "    <tr style=\"text-align: right;\">\n",
       "      <th></th>\n",
       "      <th>tBodyAccmeanX</th>\n",
       "      <th>tBodyAccmeanY</th>\n",
       "      <th>tBodyAccmeanZ</th>\n",
       "      <th>tBodyAccstdX</th>\n",
       "      <th>tBodyAccstdY</th>\n",
       "      <th>tBodyAccstdZ</th>\n",
       "      <th>tBodyAccmadX</th>\n",
       "      <th>tBodyAccmadY</th>\n",
       "      <th>tBodyAccmadZ</th>\n",
       "      <th>tBodyAccmaxX</th>\n",
       "      <th>...</th>\n",
       "      <th>fBodyBodyGyroJerkMagskewness</th>\n",
       "      <th>fBodyBodyGyroJerkMagkurtosis</th>\n",
       "      <th>angletBodyAccMeangravity</th>\n",
       "      <th>angletBodyAccJerkMeangravityMean</th>\n",
       "      <th>angletBodyGyroMeangravityMean</th>\n",
       "      <th>angletBodyGyroJerkMeangravityMean</th>\n",
       "      <th>angleXgravityMean</th>\n",
       "      <th>angleYgravityMean</th>\n",
       "      <th>angleZgravityMean</th>\n",
       "      <th>Activity</th>\n",
       "    </tr>\n",
       "  </thead>\n",
       "  <tbody>\n",
       "    <tr>\n",
       "      <th>0</th>\n",
       "      <td>0.288585</td>\n",
       "      <td>-0.020294</td>\n",
       "      <td>-0.132905</td>\n",
       "      <td>-0.995279</td>\n",
       "      <td>-0.983111</td>\n",
       "      <td>-0.913526</td>\n",
       "      <td>-0.995112</td>\n",
       "      <td>-0.983185</td>\n",
       "      <td>-0.923527</td>\n",
       "      <td>-0.934724</td>\n",
       "      <td>...</td>\n",
       "      <td>-0.298676</td>\n",
       "      <td>-0.710304</td>\n",
       "      <td>-0.112754</td>\n",
       "      <td>0.030400</td>\n",
       "      <td>-0.464761</td>\n",
       "      <td>-0.018446</td>\n",
       "      <td>-0.841247</td>\n",
       "      <td>0.179941</td>\n",
       "      <td>-0.058627</td>\n",
       "      <td>5</td>\n",
       "    </tr>\n",
       "    <tr>\n",
       "      <th>1</th>\n",
       "      <td>0.278419</td>\n",
       "      <td>-0.016411</td>\n",
       "      <td>-0.123520</td>\n",
       "      <td>-0.998245</td>\n",
       "      <td>-0.975300</td>\n",
       "      <td>-0.960322</td>\n",
       "      <td>-0.998807</td>\n",
       "      <td>-0.974914</td>\n",
       "      <td>-0.957686</td>\n",
       "      <td>-0.943068</td>\n",
       "      <td>...</td>\n",
       "      <td>-0.595051</td>\n",
       "      <td>-0.861499</td>\n",
       "      <td>0.053477</td>\n",
       "      <td>-0.007435</td>\n",
       "      <td>-0.732626</td>\n",
       "      <td>0.703511</td>\n",
       "      <td>-0.844788</td>\n",
       "      <td>0.180289</td>\n",
       "      <td>-0.054317</td>\n",
       "      <td>5</td>\n",
       "    </tr>\n",
       "    <tr>\n",
       "      <th>2</th>\n",
       "      <td>0.279653</td>\n",
       "      <td>-0.019467</td>\n",
       "      <td>-0.113462</td>\n",
       "      <td>-0.995380</td>\n",
       "      <td>-0.967187</td>\n",
       "      <td>-0.978944</td>\n",
       "      <td>-0.996520</td>\n",
       "      <td>-0.963668</td>\n",
       "      <td>-0.977469</td>\n",
       "      <td>-0.938692</td>\n",
       "      <td>...</td>\n",
       "      <td>-0.390748</td>\n",
       "      <td>-0.760104</td>\n",
       "      <td>-0.118559</td>\n",
       "      <td>0.177899</td>\n",
       "      <td>0.100699</td>\n",
       "      <td>0.808529</td>\n",
       "      <td>-0.848933</td>\n",
       "      <td>0.180637</td>\n",
       "      <td>-0.049118</td>\n",
       "      <td>5</td>\n",
       "    </tr>\n",
       "    <tr>\n",
       "      <th>3</th>\n",
       "      <td>0.279174</td>\n",
       "      <td>-0.026201</td>\n",
       "      <td>-0.123283</td>\n",
       "      <td>-0.996091</td>\n",
       "      <td>-0.983403</td>\n",
       "      <td>-0.990675</td>\n",
       "      <td>-0.997099</td>\n",
       "      <td>-0.982750</td>\n",
       "      <td>-0.989302</td>\n",
       "      <td>-0.938692</td>\n",
       "      <td>...</td>\n",
       "      <td>-0.117290</td>\n",
       "      <td>-0.482845</td>\n",
       "      <td>-0.036788</td>\n",
       "      <td>-0.012892</td>\n",
       "      <td>0.640011</td>\n",
       "      <td>-0.485366</td>\n",
       "      <td>-0.848649</td>\n",
       "      <td>0.181935</td>\n",
       "      <td>-0.047663</td>\n",
       "      <td>5</td>\n",
       "    </tr>\n",
       "    <tr>\n",
       "      <th>4</th>\n",
       "      <td>0.276629</td>\n",
       "      <td>-0.016570</td>\n",
       "      <td>-0.115362</td>\n",
       "      <td>-0.998139</td>\n",
       "      <td>-0.980817</td>\n",
       "      <td>-0.990482</td>\n",
       "      <td>-0.998321</td>\n",
       "      <td>-0.979672</td>\n",
       "      <td>-0.990441</td>\n",
       "      <td>-0.942469</td>\n",
       "      <td>...</td>\n",
       "      <td>-0.351471</td>\n",
       "      <td>-0.699205</td>\n",
       "      <td>0.123320</td>\n",
       "      <td>0.122542</td>\n",
       "      <td>0.693578</td>\n",
       "      <td>-0.615971</td>\n",
       "      <td>-0.847865</td>\n",
       "      <td>0.185151</td>\n",
       "      <td>-0.043892</td>\n",
       "      <td>5</td>\n",
       "    </tr>\n",
       "  </tbody>\n",
       "</table>\n",
       "<p>5 rows × 562 columns</p>\n",
       "</div>"
      ],
      "text/plain": [
       "   tBodyAccmeanX  tBodyAccmeanY  tBodyAccmeanZ  tBodyAccstdX  tBodyAccstdY  \\\n",
       "0       0.288585      -0.020294      -0.132905     -0.995279     -0.983111   \n",
       "1       0.278419      -0.016411      -0.123520     -0.998245     -0.975300   \n",
       "2       0.279653      -0.019467      -0.113462     -0.995380     -0.967187   \n",
       "3       0.279174      -0.026201      -0.123283     -0.996091     -0.983403   \n",
       "4       0.276629      -0.016570      -0.115362     -0.998139     -0.980817   \n",
       "\n",
       "   tBodyAccstdZ  tBodyAccmadX  tBodyAccmadY  tBodyAccmadZ  tBodyAccmaxX  ...  \\\n",
       "0     -0.913526     -0.995112     -0.983185     -0.923527     -0.934724  ...   \n",
       "1     -0.960322     -0.998807     -0.974914     -0.957686     -0.943068  ...   \n",
       "2     -0.978944     -0.996520     -0.963668     -0.977469     -0.938692  ...   \n",
       "3     -0.990675     -0.997099     -0.982750     -0.989302     -0.938692  ...   \n",
       "4     -0.990482     -0.998321     -0.979672     -0.990441     -0.942469  ...   \n",
       "\n",
       "   fBodyBodyGyroJerkMagskewness  fBodyBodyGyroJerkMagkurtosis  \\\n",
       "0                     -0.298676                     -0.710304   \n",
       "1                     -0.595051                     -0.861499   \n",
       "2                     -0.390748                     -0.760104   \n",
       "3                     -0.117290                     -0.482845   \n",
       "4                     -0.351471                     -0.699205   \n",
       "\n",
       "   angletBodyAccMeangravity  angletBodyAccJerkMeangravityMean  \\\n",
       "0                 -0.112754                          0.030400   \n",
       "1                  0.053477                         -0.007435   \n",
       "2                 -0.118559                          0.177899   \n",
       "3                 -0.036788                         -0.012892   \n",
       "4                  0.123320                          0.122542   \n",
       "\n",
       "   angletBodyGyroMeangravityMean  angletBodyGyroJerkMeangravityMean  \\\n",
       "0                      -0.464761                          -0.018446   \n",
       "1                      -0.732626                           0.703511   \n",
       "2                       0.100699                           0.808529   \n",
       "3                       0.640011                          -0.485366   \n",
       "4                       0.693578                          -0.615971   \n",
       "\n",
       "   angleXgravityMean  angleYgravityMean  angleZgravityMean  Activity  \n",
       "0          -0.841247           0.179941          -0.058627         5  \n",
       "1          -0.844788           0.180289          -0.054317         5  \n",
       "2          -0.848933           0.180637          -0.049118         5  \n",
       "3          -0.848649           0.181935          -0.047663         5  \n",
       "4          -0.847865           0.185151          -0.043892         5  \n",
       "\n",
       "[5 rows x 562 columns]"
      ]
     },
     "execution_count": 5,
     "metadata": {},
     "output_type": "execute_result"
    }
   ],
   "source": [
    "df_numeric.head()"
   ]
  },
  {
   "cell_type": "markdown",
   "metadata": {},
   "source": [
    "## Dataset per model approaches"
   ]
  },
  {
   "cell_type": "code",
   "execution_count": 6,
   "metadata": {},
   "outputs": [],
   "source": [
    "X_train, X_test, y_train, y_test = train_test_split(X, y, test_size=0.3, random_state=42)"
   ]
  },
  {
   "cell_type": "markdown",
   "metadata": {},
   "source": [
    "# Visual Approach"
   ]
  },
  {
   "cell_type": "markdown",
   "metadata": {},
   "source": [
    "## Box Plot"
   ]
  },
  {
   "cell_type": "markdown",
   "metadata": {},
   "source": [
    "Si analizzano le variabili relative ai segnali dell'accelerometro"
   ]
  },
  {
   "cell_type": "raw",
   "metadata": {},
   "source": [
    "numeric_columns = []  # continous variables\n",
    "for column_name in df_numeric.columns:\n",
    "    if (\"Acc\" not in column_name):\n",
    "        numeric_columns.append(column_name)\n",
    "print(\"numeric_columns\", len(numeric_columns))"
   ]
  },
  {
   "cell_type": "raw",
   "metadata": {},
   "source": [
    "for column in df_numeric:\n",
    "    if column not in numeric_columns:\n",
    "        df_numeric = df_numeric.drop(column, axis = 1)\n",
    "        \n",
    "print(\"New df_column:\", df_numeric.shape)"
   ]
  },
  {
   "cell_type": "raw",
   "metadata": {},
   "source": [
    "n_rows = round(df_numeric.shape[1]/6)\n",
    "n_rows+=1\n",
    "n_rows"
   ]
  },
  {
   "cell_type": "raw",
   "metadata": {},
   "source": [
    "n = -6\n",
    "\n",
    "fig, ax = plt.subplots(37, 6, figsize = (8, 52))\n",
    "\n",
    "circles = dict(markerfacecolor='#743f0e', markeredgecolor = '#743f0e', marker='o')\n",
    "\n",
    "for i in range(n_rows):                         #i = row\n",
    "    \n",
    "    n+=6                                        #n = number of column (start of the range for every row)\n",
    "    \n",
    "    if i == 6:\n",
    "        plus = n+1\n",
    "    else:\n",
    "        plus = n+6                              #plus = number of column (end of the range for every row)\n",
    "    \n",
    "    for p, j in enumerate(range(n, plus)):      #p = progressive num for the boxplots [0-5]; j = num of column\n",
    "        idx = df_numeric.columns[j]            #name of feature\n",
    "        col = np.array(df_numeric[idx])        #transform the column in a numpy array\n",
    "        ax[i, p].boxplot(col, patch_artist=True, medianprops = {'color': 'white'}, flierprops = circles, boxprops= {'facecolor': 'brown'}, labels = [''])\n",
    "        ax[i, p].set_xlabel(idx, fontsize = 19)\n",
    "    \n",
    "    fig.subplots_adjust(hspace=0.30, right=3.5)\n",
    "    \n",
    "    if i == 6:\n",
    "        for s in range(1, 6):\n",
    "            fig.delaxes(ax[i, s])\n",
    "    \n",
    "plt.show()"
   ]
  },
  {
   "cell_type": "raw",
   "metadata": {},
   "source": [
    "idx0 = 2\n",
    "idx1 = 3\n",
    "\n",
    "sns.boxplot(data = train[])\n",
    "\n",
    "plt.show()"
   ]
  },
  {
   "cell_type": "markdown",
   "metadata": {},
   "source": [
    "# Proximity based approaches"
   ]
  },
  {
   "cell_type": "markdown",
   "metadata": {},
   "source": [
    "## Density based (DBSCAN - LOF)"
   ]
  },
  {
   "cell_type": "markdown",
   "metadata": {},
   "source": [
    "# DBSCAN"
   ]
  },
  {
   "cell_type": "code",
   "execution_count": 7,
   "metadata": {},
   "outputs": [],
   "source": [
    "from sklearn.cluster import DBSCAN\n",
    "from sklearn.preprocessing import StandardScaler"
   ]
  },
  {
   "cell_type": "code",
   "execution_count": 8,
   "metadata": {},
   "outputs": [],
   "source": [
    "scl = StandardScaler()\n",
    "scaled_df = scl.fit_transform(df_numeric)"
   ]
  },
  {
   "cell_type": "code",
   "execution_count": 9,
   "metadata": {},
   "outputs": [],
   "source": [
    "df_dbscan = pd.DataFrame(scaled_df, columns = df_numeric.columns)"
   ]
  },
  {
   "cell_type": "markdown",
   "metadata": {},
   "source": [
    "**Parametri iniziali randomici**"
   ]
  },
  {
   "cell_type": "raw",
   "metadata": {},
   "source": [
    "dbscan = DBSCAN(eps=9, min_samples=5) # 25 clusters --> 6789\n",
    "dbscan.fit(scaled_df) \n",
    "\n",
    "# 8 clusters: 9 eps, 10 min --> 7100\n",
    "# 2 clusters: 8 ,5 --> 7340"
   ]
  },
  {
   "cell_type": "raw",
   "metadata": {},
   "source": [
    "np.unique(dbscan.labels_, return_counts=True)"
   ]
  },
  {
   "cell_type": "raw",
   "metadata": {},
   "source": [
    "labels = dbscan.labels_\n",
    "\n",
    "# Number of clusters in labels, ignoring noise if present.\n",
    "n_clusters_ = len(set(labels)) - (1 if -1 in labels else 0)\n",
    "n_noise_ = list(labels).count(-1)\n",
    "\n",
    "print('Estimated number of clusters: %d' % n_clusters_)\n",
    "print('Estimated number of noise points: %d' % n_noise_)"
   ]
  },
  {
   "cell_type": "markdown",
   "metadata": {},
   "source": [
    "**Testo differenti min_samples e eps**"
   ]
  },
  {
   "cell_type": "code",
   "execution_count": 10,
   "metadata": {},
   "outputs": [
    {
     "name": "stdout",
     "output_type": "stream",
     "text": [
      "eps: [1, 2, 3, 4, 5, 6, 7, 8, 9]\n",
      "min_samples: [5, 10, 15, 20, 25, 30, 35, 40, 45]\n"
     ]
    }
   ],
   "source": [
    "eps_to_test = list(range(1, 10, 1))\n",
    "min_samples_to_test = list(range(5, 50, 5))\n",
    "\n",
    "print(\"eps:\", eps_to_test)\n",
    "print(\"min_samples:\", min_samples_to_test)"
   ]
  },
  {
   "cell_type": "code",
   "execution_count": 11,
   "metadata": {},
   "outputs": [],
   "source": [
    "def get_metrics(eps, min_samples, dataset, iter_):\n",
    "    \n",
    "    # Fitting ======================================================================\n",
    "    \n",
    "    dbscan = DBSCAN(eps = eps, min_samples = min_samples)\n",
    "    dbscan.fit(dataset)\n",
    "    \n",
    "    # Mean Noise Point Distance metric =============================================\n",
    "    noise_indices = dbscan.labels_ == -1\n",
    "    \n",
    "    if True in noise_indices:\n",
    "        neighboors = NearestNeighbors(n_neighbors = 6).fit(dataset)\n",
    "        distances, indices = neighboors.kneighbors(dataset)\n",
    "        noise_distances = distances[noise_indices, 1:]\n",
    "        noise_mean_distance = round(noise_distances.mean(), 3)\n",
    "    else:\n",
    "        noise_mean_distance = None\n",
    "        \n",
    "    # Number of found Clusters metric ==============================================\n",
    "    \n",
    "    number_of_clusters = len(set(dbscan.labels_[dbscan.labels_ >= 0]))\n",
    "    \n",
    "    # Log ==========================================================================\n",
    "    print(\"%3d | Tested with eps = %3s and min_samples = %3s | %5s %4s\" % (iter_, eps, min_samples, str(noise_mean_distance), number_of_clusters))\n",
    "    \n",
    "    #return(noise_mean_distance, number_of_clusters)"
   ]
  },
  {
   "cell_type": "code",
   "execution_count": 12,
   "metadata": {},
   "outputs": [],
   "source": [
    "# Dataframe per la metrica sulla distanza media dei noise points dai K punti più vicini\n",
    "results_noise = pd.DataFrame( \n",
    "    data = np.zeros((len(eps_to_test),len(min_samples_to_test))), # Empty dataframe\n",
    "    columns = min_samples_to_test, \n",
    "    index = eps_to_test)\n",
    "\n",
    "# Dataframe per la metrica sul numero di cluster\n",
    "results_clusters = pd.DataFrame( \n",
    "    data = np.zeros((len(eps_to_test),len(min_samples_to_test))), # Empty dataframe\n",
    "    columns = min_samples_to_test, \n",
    "    index = eps_to_test)"
   ]
  },
  {
   "cell_type": "raw",
   "metadata": {},
   "source": [
    "iter_ = 0\n",
    "\n",
    "print(\"ITER| INFO%s |  DIST    CLUS\" % (\" \"*39))\n",
    "print(\"-\"*65)\n",
    "\n",
    "for eps in eps_to_test:\n",
    "    for min_samples in min_samples_to_test:\n",
    "        \n",
    "        iter_ += 1\n",
    "        \n",
    "        # Calcolo le metriche\n",
    "        #noise_metric, cluster_metric = get_metrics(eps, min_samples, scaled_df, iter_)\n",
    "        get_metrics(eps, min_samples, scaled_df, iter_)\n",
    "        # Inserisco i risultati nei relativi dataframe\n",
    "        #results_noise.loc[eps, min_samples] = noise_metric\n",
    "        #results_clusters.loc[eps, min_samples] = cluster_metric"
   ]
  },
  {
   "cell_type": "raw",
   "metadata": {},
   "source": [
    "fig, (ax1, ax2) = plt.subplots(1, 2, figsize=(16,8) )\n",
    "\n",
    "sns.heatmap(results_noise, annot = True, ax = ax1, cbar = False).set_title(\"METRIC: Mean Noise Points Distance\")\n",
    "sns.heatmap(results_clusters, annot = True, ax = ax2, cbar = False).set_title(\"METRIC: Number of clusters\")\n",
    "\n",
    "ax1.set_xlabel(\"N\"); ax2.set_xlabel(\"N\")\n",
    "ax1.set_ylabel(\"EPSILON\"); ax2.set_ylabel(\"EPSILON\")\n",
    "\n",
    "plt.tight_layout(); plt.show()"
   ]
  },
  {
   "cell_type": "markdown",
   "metadata": {},
   "source": [
    "#### Best DBSCAN"
   ]
  },
  {
   "cell_type": "code",
   "execution_count": 13,
   "metadata": {},
   "outputs": [],
   "source": [
    "scaled_dbscan = pd.DataFrame(scaled_df, columns = df_numeric.columns)"
   ]
  },
  {
   "cell_type": "markdown",
   "metadata": {},
   "source": [
    "scaled_df = dataset scalato in valori; df_dbscan = scaled_df come dataframe"
   ]
  },
  {
   "cell_type": "code",
   "execution_count": 14,
   "metadata": {},
   "outputs": [
    {
     "data": {
      "text/plain": [
       "0      -1\n",
       "1      -1\n",
       "2      -1\n",
       "3      -1\n",
       "4      -1\n",
       "       ..\n",
       "7347   -1\n",
       "7348   -1\n",
       "7349   -1\n",
       "7350   -1\n",
       "7351   -1\n",
       "Name: LABEL, Length: 7352, dtype: int64"
      ]
     },
     "execution_count": 14,
     "metadata": {},
     "output_type": "execute_result"
    }
   ],
   "source": [
    "# Istantiating with eps = 9 and min_samples = 5 (best model) | 25 clusters --> 6789\n",
    "best_dbscan_model = DBSCAN(eps=8, min_samples=5)\n",
    "\n",
    "# Fitting\n",
    "best_dbscan_model.fit(df_dbscan)\n",
    "\n",
    "# Extracting labels\n",
    "df_dbscan[\"LABEL\"] = best_dbscan_model.labels_\n",
    "df_dbscan[\"LABEL\"]"
   ]
  },
  {
   "cell_type": "code",
   "execution_count": 15,
   "metadata": {},
   "outputs": [
    {
     "data": {
      "text/plain": [
       "(array([-1,  0,  1], dtype=int64), array([7340,    5,    7], dtype=int64))"
      ]
     },
     "execution_count": 15,
     "metadata": {},
     "output_type": "execute_result"
    }
   ],
   "source": [
    "np.unique(best_dbscan_model.labels_, return_counts=True)"
   ]
  },
  {
   "cell_type": "code",
   "execution_count": 16,
   "metadata": {},
   "outputs": [
    {
     "data": {
      "text/plain": [
       "[0,\n",
       " 1,\n",
       " 2,\n",
       " 3,\n",
       " 4,\n",
       " 5,\n",
       " 6,\n",
       " 7,\n",
       " 8,\n",
       " 9,\n",
       " 10,\n",
       " 11,\n",
       " 12,\n",
       " 13,\n",
       " 14,\n",
       " 15,\n",
       " 16,\n",
       " 17,\n",
       " 18,\n",
       " 19,\n",
       " 20,\n",
       " 21,\n",
       " 22,\n",
       " 23,\n",
       " 24,\n",
       " 25,\n",
       " 26,\n",
       " 27,\n",
       " 28,\n",
       " 29,\n",
       " 30,\n",
       " 31,\n",
       " 32,\n",
       " 33,\n",
       " 34,\n",
       " 35,\n",
       " 36,\n",
       " 37,\n",
       " 38,\n",
       " 39,\n",
       " 40,\n",
       " 41,\n",
       " 42,\n",
       " 43,\n",
       " 44,\n",
       " 45,\n",
       " 46,\n",
       " 47,\n",
       " 48,\n",
       " 49,\n",
       " 50,\n",
       " 51,\n",
       " 52,\n",
       " 53,\n",
       " 54,\n",
       " 55,\n",
       " 56,\n",
       " 57,\n",
       " 58,\n",
       " 59,\n",
       " 60,\n",
       " 61,\n",
       " 62,\n",
       " 63,\n",
       " 64,\n",
       " 65,\n",
       " 66,\n",
       " 67,\n",
       " 68,\n",
       " 69,\n",
       " 70,\n",
       " 71,\n",
       " 72,\n",
       " 73,\n",
       " 74,\n",
       " 75,\n",
       " 76,\n",
       " 77,\n",
       " 78,\n",
       " 79,\n",
       " 80,\n",
       " 81,\n",
       " 82,\n",
       " 83,\n",
       " 84,\n",
       " 85,\n",
       " 86,\n",
       " 87,\n",
       " 88,\n",
       " 89,\n",
       " 90,\n",
       " 91,\n",
       " 92,\n",
       " 93,\n",
       " 94,\n",
       " 95,\n",
       " 96,\n",
       " 97,\n",
       " 98,\n",
       " 99,\n",
       " 100,\n",
       " 101,\n",
       " 102,\n",
       " 103,\n",
       " 104,\n",
       " 105,\n",
       " 106,\n",
       " 107,\n",
       " 108,\n",
       " 109,\n",
       " 110,\n",
       " 111,\n",
       " 112,\n",
       " 113,\n",
       " 114,\n",
       " 115,\n",
       " 116,\n",
       " 117,\n",
       " 118,\n",
       " 119,\n",
       " 120,\n",
       " 121,\n",
       " 122,\n",
       " 123,\n",
       " 124,\n",
       " 125,\n",
       " 126,\n",
       " 127,\n",
       " 128,\n",
       " 129,\n",
       " 130,\n",
       " 131,\n",
       " 132,\n",
       " 133,\n",
       " 134,\n",
       " 135,\n",
       " 136,\n",
       " 137,\n",
       " 138,\n",
       " 139,\n",
       " 140,\n",
       " 141,\n",
       " 142,\n",
       " 143,\n",
       " 144,\n",
       " 145,\n",
       " 146,\n",
       " 147,\n",
       " 148,\n",
       " 149,\n",
       " 150,\n",
       " 151,\n",
       " 152,\n",
       " 153,\n",
       " 154,\n",
       " 155,\n",
       " 156,\n",
       " 157,\n",
       " 158,\n",
       " 159,\n",
       " 160,\n",
       " 161,\n",
       " 162,\n",
       " 163,\n",
       " 164,\n",
       " 165,\n",
       " 166,\n",
       " 167,\n",
       " 168,\n",
       " 169,\n",
       " 170,\n",
       " 171,\n",
       " 172,\n",
       " 173,\n",
       " 174,\n",
       " 175,\n",
       " 176,\n",
       " 177,\n",
       " 178,\n",
       " 179,\n",
       " 180,\n",
       " 181,\n",
       " 182,\n",
       " 183,\n",
       " 184,\n",
       " 185,\n",
       " 186,\n",
       " 187,\n",
       " 188,\n",
       " 189,\n",
       " 190,\n",
       " 191,\n",
       " 192,\n",
       " 193,\n",
       " 194,\n",
       " 195,\n",
       " 196,\n",
       " 197,\n",
       " 198,\n",
       " 199,\n",
       " 200,\n",
       " 201,\n",
       " 202,\n",
       " 203,\n",
       " 204,\n",
       " 205,\n",
       " 206,\n",
       " 207,\n",
       " 208,\n",
       " 209,\n",
       " 210,\n",
       " 211,\n",
       " 212,\n",
       " 213,\n",
       " 214,\n",
       " 215,\n",
       " 216,\n",
       " 217,\n",
       " 218,\n",
       " 219,\n",
       " 220,\n",
       " 221,\n",
       " 222,\n",
       " 223,\n",
       " 224,\n",
       " 225,\n",
       " 226,\n",
       " 227,\n",
       " 228,\n",
       " 229,\n",
       " 230,\n",
       " 231,\n",
       " 232,\n",
       " 233,\n",
       " 234,\n",
       " 235,\n",
       " 236,\n",
       " 237,\n",
       " 238,\n",
       " 239,\n",
       " 240,\n",
       " 241,\n",
       " 242,\n",
       " 243,\n",
       " 244,\n",
       " 245,\n",
       " 246,\n",
       " 247,\n",
       " 248,\n",
       " 249,\n",
       " 250,\n",
       " 251,\n",
       " 252,\n",
       " 253,\n",
       " 254,\n",
       " 255,\n",
       " 256,\n",
       " 257,\n",
       " 258,\n",
       " 259,\n",
       " 260,\n",
       " 261,\n",
       " 262,\n",
       " 263,\n",
       " 264,\n",
       " 265,\n",
       " 266,\n",
       " 267,\n",
       " 268,\n",
       " 269,\n",
       " 270,\n",
       " 271,\n",
       " 272,\n",
       " 273,\n",
       " 274,\n",
       " 275,\n",
       " 276,\n",
       " 277,\n",
       " 278,\n",
       " 279,\n",
       " 280,\n",
       " 281,\n",
       " 282,\n",
       " 283,\n",
       " 284,\n",
       " 285,\n",
       " 286,\n",
       " 287,\n",
       " 288,\n",
       " 289,\n",
       " 290,\n",
       " 291,\n",
       " 292,\n",
       " 293,\n",
       " 294,\n",
       " 295,\n",
       " 296,\n",
       " 297,\n",
       " 298,\n",
       " 299,\n",
       " 300,\n",
       " 301,\n",
       " 302,\n",
       " 303,\n",
       " 304,\n",
       " 305,\n",
       " 306,\n",
       " 307,\n",
       " 308,\n",
       " 309,\n",
       " 310,\n",
       " 311,\n",
       " 312,\n",
       " 313,\n",
       " 314,\n",
       " 315,\n",
       " 316,\n",
       " 317,\n",
       " 318,\n",
       " 319,\n",
       " 320,\n",
       " 321,\n",
       " 322,\n",
       " 323,\n",
       " 324,\n",
       " 325,\n",
       " 326,\n",
       " 327,\n",
       " 328,\n",
       " 329,\n",
       " 330,\n",
       " 331,\n",
       " 332,\n",
       " 333,\n",
       " 334,\n",
       " 335,\n",
       " 336,\n",
       " 337,\n",
       " 338,\n",
       " 339,\n",
       " 340,\n",
       " 341,\n",
       " 342,\n",
       " 343,\n",
       " 344,\n",
       " 345,\n",
       " 346,\n",
       " 347,\n",
       " 348,\n",
       " 349,\n",
       " 350,\n",
       " 351,\n",
       " 352,\n",
       " 353,\n",
       " 354,\n",
       " 355,\n",
       " 356,\n",
       " 357,\n",
       " 358,\n",
       " 359,\n",
       " 360,\n",
       " 361,\n",
       " 362,\n",
       " 363,\n",
       " 364,\n",
       " 365,\n",
       " 366,\n",
       " 367,\n",
       " 368,\n",
       " 369,\n",
       " 370,\n",
       " 371,\n",
       " 372,\n",
       " 373,\n",
       " 374,\n",
       " 375,\n",
       " 376,\n",
       " 377,\n",
       " 378,\n",
       " 379,\n",
       " 380,\n",
       " 381,\n",
       " 382,\n",
       " 383,\n",
       " 384,\n",
       " 385,\n",
       " 386,\n",
       " 387,\n",
       " 388,\n",
       " 389,\n",
       " 390,\n",
       " 391,\n",
       " 392,\n",
       " 393,\n",
       " 394,\n",
       " 395,\n",
       " 396,\n",
       " 397,\n",
       " 398,\n",
       " 399,\n",
       " 400,\n",
       " 401,\n",
       " 402,\n",
       " 403,\n",
       " 404,\n",
       " 405,\n",
       " 406,\n",
       " 407,\n",
       " 408,\n",
       " 409,\n",
       " 410,\n",
       " 411,\n",
       " 412,\n",
       " 413,\n",
       " 414,\n",
       " 415,\n",
       " 416,\n",
       " 417,\n",
       " 418,\n",
       " 419,\n",
       " 420,\n",
       " 421,\n",
       " 422,\n",
       " 423,\n",
       " 424,\n",
       " 425,\n",
       " 426,\n",
       " 427,\n",
       " 428,\n",
       " 429,\n",
       " 430,\n",
       " 431,\n",
       " 432,\n",
       " 433,\n",
       " 434,\n",
       " 435,\n",
       " 436,\n",
       " 437,\n",
       " 438,\n",
       " 439,\n",
       " 440,\n",
       " 441,\n",
       " 442,\n",
       " 443,\n",
       " 444,\n",
       " 445,\n",
       " 446,\n",
       " 447,\n",
       " 448,\n",
       " 449,\n",
       " 450,\n",
       " 451,\n",
       " 452,\n",
       " 453,\n",
       " 454,\n",
       " 455,\n",
       " 456,\n",
       " 457,\n",
       " 458,\n",
       " 459,\n",
       " 460,\n",
       " 461,\n",
       " 462,\n",
       " 463,\n",
       " 464,\n",
       " 465,\n",
       " 466,\n",
       " 467,\n",
       " 468,\n",
       " 469,\n",
       " 470,\n",
       " 471,\n",
       " 472,\n",
       " 473,\n",
       " 474,\n",
       " 475,\n",
       " 476,\n",
       " 477,\n",
       " 478,\n",
       " 479,\n",
       " 480,\n",
       " 481,\n",
       " 482,\n",
       " 483,\n",
       " 484,\n",
       " 485,\n",
       " 486,\n",
       " 487,\n",
       " 488,\n",
       " 489,\n",
       " 490,\n",
       " 491,\n",
       " 492,\n",
       " 493,\n",
       " 494,\n",
       " 495,\n",
       " 496,\n",
       " 497,\n",
       " 498,\n",
       " 499,\n",
       " 500,\n",
       " 501,\n",
       " 502,\n",
       " 503,\n",
       " 504,\n",
       " 505,\n",
       " 506,\n",
       " 507,\n",
       " 508,\n",
       " 509,\n",
       " 510,\n",
       " 511,\n",
       " 512,\n",
       " 513,\n",
       " 514,\n",
       " 515,\n",
       " 516,\n",
       " 517,\n",
       " 518,\n",
       " 519,\n",
       " 520,\n",
       " 521,\n",
       " 522,\n",
       " 523,\n",
       " 524,\n",
       " 525,\n",
       " 526,\n",
       " 527,\n",
       " 528,\n",
       " 529,\n",
       " 530,\n",
       " 531,\n",
       " 532,\n",
       " 533,\n",
       " 534,\n",
       " 535,\n",
       " 536,\n",
       " 537,\n",
       " 538,\n",
       " 539,\n",
       " 540,\n",
       " 541,\n",
       " 542,\n",
       " 543,\n",
       " 544,\n",
       " 545,\n",
       " 546,\n",
       " 547,\n",
       " 548,\n",
       " 549,\n",
       " 550,\n",
       " 551,\n",
       " 552,\n",
       " 553,\n",
       " 554,\n",
       " 555,\n",
       " 556,\n",
       " 557,\n",
       " 558,\n",
       " 559,\n",
       " 560,\n",
       " 561,\n",
       " 562,\n",
       " 563,\n",
       " 564,\n",
       " 565,\n",
       " 566,\n",
       " 567,\n",
       " 568,\n",
       " 569,\n",
       " 570,\n",
       " 571,\n",
       " 572,\n",
       " 573,\n",
       " 574,\n",
       " 575,\n",
       " 576,\n",
       " 577,\n",
       " 578,\n",
       " 579,\n",
       " 580,\n",
       " 581,\n",
       " 582,\n",
       " 583,\n",
       " 584,\n",
       " 585,\n",
       " 586,\n",
       " 587,\n",
       " 588,\n",
       " 589,\n",
       " 590,\n",
       " 591,\n",
       " 592,\n",
       " 593,\n",
       " 594,\n",
       " 595,\n",
       " 596,\n",
       " 597,\n",
       " 598,\n",
       " 599,\n",
       " 600,\n",
       " 601,\n",
       " 602,\n",
       " 603,\n",
       " 604,\n",
       " 605,\n",
       " 606,\n",
       " 607,\n",
       " 608,\n",
       " 609,\n",
       " 610,\n",
       " 611,\n",
       " 612,\n",
       " 613,\n",
       " 614,\n",
       " 615,\n",
       " 616,\n",
       " 617,\n",
       " 618,\n",
       " 619,\n",
       " 620,\n",
       " 621,\n",
       " 622,\n",
       " 623,\n",
       " 624,\n",
       " 625,\n",
       " 626,\n",
       " 627,\n",
       " 628,\n",
       " 629,\n",
       " 630,\n",
       " 631,\n",
       " 632,\n",
       " 633,\n",
       " 634,\n",
       " 635,\n",
       " 636,\n",
       " 637,\n",
       " 638,\n",
       " 639,\n",
       " 640,\n",
       " 641,\n",
       " 642,\n",
       " 643,\n",
       " 644,\n",
       " 645,\n",
       " 646,\n",
       " 647,\n",
       " 648,\n",
       " 649,\n",
       " 650,\n",
       " 651,\n",
       " 652,\n",
       " 653,\n",
       " 654,\n",
       " 655,\n",
       " 656,\n",
       " 657,\n",
       " 658,\n",
       " 659,\n",
       " 660,\n",
       " 661,\n",
       " 662,\n",
       " 663,\n",
       " 664,\n",
       " 665,\n",
       " 666,\n",
       " 667,\n",
       " 668,\n",
       " 669,\n",
       " 670,\n",
       " 671,\n",
       " 672,\n",
       " 673,\n",
       " 674,\n",
       " 675,\n",
       " 676,\n",
       " 677,\n",
       " 678,\n",
       " 679,\n",
       " 680,\n",
       " 681,\n",
       " 682,\n",
       " 683,\n",
       " 684,\n",
       " 685,\n",
       " 686,\n",
       " 687,\n",
       " 688,\n",
       " 689,\n",
       " 690,\n",
       " 691,\n",
       " 692,\n",
       " 693,\n",
       " 694,\n",
       " 695,\n",
       " 696,\n",
       " 697,\n",
       " 698,\n",
       " 699,\n",
       " 700,\n",
       " 701,\n",
       " 702,\n",
       " 703,\n",
       " 704,\n",
       " 705,\n",
       " 706,\n",
       " 707,\n",
       " 708,\n",
       " 709,\n",
       " 710,\n",
       " 711,\n",
       " 712,\n",
       " 713,\n",
       " 714,\n",
       " 715,\n",
       " 716,\n",
       " 717,\n",
       " 718,\n",
       " 719,\n",
       " 720,\n",
       " 721,\n",
       " 722,\n",
       " 723,\n",
       " 724,\n",
       " 725,\n",
       " 726,\n",
       " 727,\n",
       " 728,\n",
       " 729,\n",
       " 730,\n",
       " 731,\n",
       " 732,\n",
       " 733,\n",
       " 734,\n",
       " 735,\n",
       " 736,\n",
       " 737,\n",
       " 738,\n",
       " 739,\n",
       " 740,\n",
       " 741,\n",
       " 742,\n",
       " 743,\n",
       " 744,\n",
       " 745,\n",
       " 746,\n",
       " 747,\n",
       " 748,\n",
       " 749,\n",
       " 750,\n",
       " 751,\n",
       " 752,\n",
       " 753,\n",
       " 754,\n",
       " 755,\n",
       " 756,\n",
       " 757,\n",
       " 758,\n",
       " 759,\n",
       " 760,\n",
       " 761,\n",
       " 762,\n",
       " 763,\n",
       " 764,\n",
       " 765,\n",
       " 766,\n",
       " 767,\n",
       " 768,\n",
       " 769,\n",
       " 770,\n",
       " 771,\n",
       " 772,\n",
       " 773,\n",
       " 774,\n",
       " 775,\n",
       " 776,\n",
       " 777,\n",
       " 778,\n",
       " 779,\n",
       " 780,\n",
       " 781,\n",
       " 782,\n",
       " 783,\n",
       " 784,\n",
       " 785,\n",
       " 786,\n",
       " 787,\n",
       " 788,\n",
       " 789,\n",
       " 790,\n",
       " 791,\n",
       " 792,\n",
       " 793,\n",
       " 794,\n",
       " 795,\n",
       " 796,\n",
       " 797,\n",
       " 798,\n",
       " 799,\n",
       " 800,\n",
       " 801,\n",
       " 802,\n",
       " 803,\n",
       " 804,\n",
       " 805,\n",
       " 806,\n",
       " 807,\n",
       " 808,\n",
       " 809,\n",
       " 810,\n",
       " 811,\n",
       " 812,\n",
       " 813,\n",
       " 814,\n",
       " 815,\n",
       " 816,\n",
       " 817,\n",
       " 818,\n",
       " 819,\n",
       " 820,\n",
       " 821,\n",
       " 822,\n",
       " 823,\n",
       " 824,\n",
       " 825,\n",
       " 826,\n",
       " 827,\n",
       " 828,\n",
       " 829,\n",
       " 830,\n",
       " 831,\n",
       " 832,\n",
       " 833,\n",
       " 834,\n",
       " 835,\n",
       " 836,\n",
       " 837,\n",
       " 838,\n",
       " 839,\n",
       " 840,\n",
       " 841,\n",
       " 842,\n",
       " 843,\n",
       " 844,\n",
       " 845,\n",
       " 846,\n",
       " 847,\n",
       " 848,\n",
       " 849,\n",
       " 850,\n",
       " 851,\n",
       " 852,\n",
       " 853,\n",
       " 854,\n",
       " 855,\n",
       " 856,\n",
       " 857,\n",
       " 858,\n",
       " 859,\n",
       " 860,\n",
       " 861,\n",
       " 862,\n",
       " 863,\n",
       " 864,\n",
       " 865,\n",
       " 866,\n",
       " 867,\n",
       " 868,\n",
       " 869,\n",
       " 870,\n",
       " 871,\n",
       " 872,\n",
       " 873,\n",
       " 874,\n",
       " 875,\n",
       " 876,\n",
       " 877,\n",
       " 878,\n",
       " 879,\n",
       " 880,\n",
       " 881,\n",
       " 882,\n",
       " 883,\n",
       " 884,\n",
       " 885,\n",
       " 886,\n",
       " 887,\n",
       " 888,\n",
       " 889,\n",
       " 890,\n",
       " 891,\n",
       " 892,\n",
       " 893,\n",
       " 894,\n",
       " 895,\n",
       " 896,\n",
       " 897,\n",
       " 898,\n",
       " 899,\n",
       " 900,\n",
       " 901,\n",
       " 902,\n",
       " 903,\n",
       " 904,\n",
       " 905,\n",
       " 906,\n",
       " 907,\n",
       " 908,\n",
       " 909,\n",
       " 910,\n",
       " 911,\n",
       " 912,\n",
       " 913,\n",
       " 914,\n",
       " 915,\n",
       " 916,\n",
       " 917,\n",
       " 918,\n",
       " 919,\n",
       " 920,\n",
       " 921,\n",
       " 922,\n",
       " 923,\n",
       " 924,\n",
       " 925,\n",
       " 926,\n",
       " 927,\n",
       " 928,\n",
       " 929,\n",
       " 930,\n",
       " 931,\n",
       " 932,\n",
       " 933,\n",
       " 934,\n",
       " 935,\n",
       " 936,\n",
       " 937,\n",
       " 938,\n",
       " 939,\n",
       " 940,\n",
       " 941,\n",
       " 942,\n",
       " 943,\n",
       " 944,\n",
       " 945,\n",
       " 946,\n",
       " 947,\n",
       " 948,\n",
       " 949,\n",
       " 950,\n",
       " 951,\n",
       " 952,\n",
       " 953,\n",
       " 954,\n",
       " 955,\n",
       " 956,\n",
       " 957,\n",
       " 958,\n",
       " 959,\n",
       " 960,\n",
       " 961,\n",
       " 962,\n",
       " 963,\n",
       " 964,\n",
       " 965,\n",
       " 966,\n",
       " 967,\n",
       " 968,\n",
       " 969,\n",
       " 970,\n",
       " 971,\n",
       " 972,\n",
       " 973,\n",
       " 974,\n",
       " 975,\n",
       " 976,\n",
       " 977,\n",
       " 978,\n",
       " 979,\n",
       " 980,\n",
       " 981,\n",
       " 982,\n",
       " 983,\n",
       " 984,\n",
       " 985,\n",
       " 986,\n",
       " 987,\n",
       " 988,\n",
       " 989,\n",
       " 990,\n",
       " 991,\n",
       " 992,\n",
       " 993,\n",
       " 994,\n",
       " 995,\n",
       " 996,\n",
       " 997,\n",
       " 998,\n",
       " 999,\n",
       " ...]"
      ]
     },
     "execution_count": 16,
     "metadata": {},
     "output_type": "execute_result"
    }
   ],
   "source": [
    "dbscan_indexes = list(df_numeric.index)\n",
    "dbscan_indexes #indici di tutti i dati"
   ]
  },
  {
   "cell_type": "code",
   "execution_count": 17,
   "metadata": {},
   "outputs": [
    {
     "data": {
      "text/html": [
       "<div>\n",
       "<style scoped>\n",
       "    .dataframe tbody tr th:only-of-type {\n",
       "        vertical-align: middle;\n",
       "    }\n",
       "\n",
       "    .dataframe tbody tr th {\n",
       "        vertical-align: top;\n",
       "    }\n",
       "\n",
       "    .dataframe thead th {\n",
       "        text-align: right;\n",
       "    }\n",
       "</style>\n",
       "<table border=\"1\" class=\"dataframe\">\n",
       "  <thead>\n",
       "    <tr style=\"text-align: right;\">\n",
       "      <th></th>\n",
       "      <th>tBodyAccmeanX</th>\n",
       "      <th>tBodyAccmeanY</th>\n",
       "      <th>tBodyAccmeanZ</th>\n",
       "      <th>tBodyAccstdX</th>\n",
       "      <th>tBodyAccstdY</th>\n",
       "      <th>tBodyAccstdZ</th>\n",
       "      <th>tBodyAccmadX</th>\n",
       "      <th>tBodyAccmadY</th>\n",
       "      <th>tBodyAccmadZ</th>\n",
       "      <th>tBodyAccmaxX</th>\n",
       "      <th>...</th>\n",
       "      <th>fBodyBodyGyroJerkMagkurtosis</th>\n",
       "      <th>angletBodyAccMeangravity</th>\n",
       "      <th>angletBodyAccJerkMeangravityMean</th>\n",
       "      <th>angletBodyGyroMeangravityMean</th>\n",
       "      <th>angletBodyGyroJerkMeangravityMean</th>\n",
       "      <th>angleXgravityMean</th>\n",
       "      <th>angleYgravityMean</th>\n",
       "      <th>angleZgravityMean</th>\n",
       "      <th>Activity</th>\n",
       "      <th>LABEL</th>\n",
       "    </tr>\n",
       "  </thead>\n",
       "  <tbody>\n",
       "    <tr>\n",
       "      <th>0</th>\n",
       "      <td>0.200642</td>\n",
       "      <td>-0.063683</td>\n",
       "      <td>-0.419628</td>\n",
       "      <td>-0.868814</td>\n",
       "      <td>-0.939441</td>\n",
       "      <td>-0.737529</td>\n",
       "      <td>-0.859817</td>\n",
       "      <td>-0.939019</td>\n",
       "      <td>-0.766437</td>\n",
       "      <td>-0.856036</td>\n",
       "      <td>...</td>\n",
       "      <td>-0.276399</td>\n",
       "      <td>-0.360603</td>\n",
       "      <td>0.062940</td>\n",
       "      <td>-0.778427</td>\n",
       "      <td>-0.026080</td>\n",
       "      <td>-0.687219</td>\n",
       "      <td>0.407946</td>\n",
       "      <td>-0.007568</td>\n",
       "      <td>0.777584</td>\n",
       "      <td>-1</td>\n",
       "    </tr>\n",
       "    <tr>\n",
       "      <th>1</th>\n",
       "      <td>0.055948</td>\n",
       "      <td>0.031486</td>\n",
       "      <td>-0.253908</td>\n",
       "      <td>-0.875426</td>\n",
       "      <td>-0.923902</td>\n",
       "      <td>-0.849304</td>\n",
       "      <td>-0.868531</td>\n",
       "      <td>-0.921998</td>\n",
       "      <td>-0.848928</td>\n",
       "      <td>-0.871359</td>\n",
       "      <td>...</td>\n",
       "      <td>-0.767990</td>\n",
       "      <td>0.133011</td>\n",
       "      <td>-0.021461</td>\n",
       "      <td>-1.218805</td>\n",
       "      <td>1.484470</td>\n",
       "      <td>-0.694138</td>\n",
       "      <td>0.409117</td>\n",
       "      <td>0.007875</td>\n",
       "      <td>0.777584</td>\n",
       "      <td>-1</td>\n",
       "    </tr>\n",
       "    <tr>\n",
       "      <th>2</th>\n",
       "      <td>0.073515</td>\n",
       "      <td>-0.043416</td>\n",
       "      <td>-0.076295</td>\n",
       "      <td>-0.869039</td>\n",
       "      <td>-0.907760</td>\n",
       "      <td>-0.893785</td>\n",
       "      <td>-0.863137</td>\n",
       "      <td>-0.898854</td>\n",
       "      <td>-0.896701</td>\n",
       "      <td>-0.863323</td>\n",
       "      <td>...</td>\n",
       "      <td>-0.438316</td>\n",
       "      <td>-0.377840</td>\n",
       "      <td>0.391976</td>\n",
       "      <td>0.151207</td>\n",
       "      <td>1.704201</td>\n",
       "      <td>-0.702239</td>\n",
       "      <td>0.410288</td>\n",
       "      <td>0.026502</td>\n",
       "      <td>0.777584</td>\n",
       "      <td>-1</td>\n",
       "    </tr>\n",
       "    <tr>\n",
       "      <th>3</th>\n",
       "      <td>0.066696</td>\n",
       "      <td>-0.208422</td>\n",
       "      <td>-0.249712</td>\n",
       "      <td>-0.870626</td>\n",
       "      <td>-0.940022</td>\n",
       "      <td>-0.921805</td>\n",
       "      <td>-0.864503</td>\n",
       "      <td>-0.938124</td>\n",
       "      <td>-0.925279</td>\n",
       "      <td>-0.863323</td>\n",
       "      <td>...</td>\n",
       "      <td>0.463155</td>\n",
       "      <td>-0.135025</td>\n",
       "      <td>-0.033637</td>\n",
       "      <td>1.037851</td>\n",
       "      <td>-1.003019</td>\n",
       "      <td>-0.701684</td>\n",
       "      <td>0.414650</td>\n",
       "      <td>0.031714</td>\n",
       "      <td>0.777584</td>\n",
       "      <td>-1</td>\n",
       "    </tr>\n",
       "    <tr>\n",
       "      <th>4</th>\n",
       "      <td>0.030469</td>\n",
       "      <td>0.027587</td>\n",
       "      <td>-0.109848</td>\n",
       "      <td>-0.875188</td>\n",
       "      <td>-0.934878</td>\n",
       "      <td>-0.921343</td>\n",
       "      <td>-0.867384</td>\n",
       "      <td>-0.931789</td>\n",
       "      <td>-0.928028</td>\n",
       "      <td>-0.870260</td>\n",
       "      <td>...</td>\n",
       "      <td>-0.240313</td>\n",
       "      <td>0.340406</td>\n",
       "      <td>0.268486</td>\n",
       "      <td>1.125918</td>\n",
       "      <td>-1.276282</td>\n",
       "      <td>-0.700152</td>\n",
       "      <td>0.425463</td>\n",
       "      <td>0.045225</td>\n",
       "      <td>0.777584</td>\n",
       "      <td>-1</td>\n",
       "    </tr>\n",
       "    <tr>\n",
       "      <th>...</th>\n",
       "      <td>...</td>\n",
       "      <td>...</td>\n",
       "      <td>...</td>\n",
       "      <td>...</td>\n",
       "      <td>...</td>\n",
       "      <td>...</td>\n",
       "      <td>...</td>\n",
       "      <td>...</td>\n",
       "      <td>...</td>\n",
       "      <td>...</td>\n",
       "      <td>...</td>\n",
       "      <td>...</td>\n",
       "      <td>...</td>\n",
       "      <td>...</td>\n",
       "      <td>...</td>\n",
       "      <td>...</td>\n",
       "      <td>...</td>\n",
       "      <td>...</td>\n",
       "      <td>...</td>\n",
       "      <td>...</td>\n",
       "      <td>...</td>\n",
       "    </tr>\n",
       "    <tr>\n",
       "      <th>7347</th>\n",
       "      <td>0.358361</td>\n",
       "      <td>-0.967904</td>\n",
       "      <td>-1.273005</td>\n",
       "      <td>0.913859</td>\n",
       "      <td>1.095963</td>\n",
       "      <td>1.628612</td>\n",
       "      <td>0.821169</td>\n",
       "      <td>1.174137</td>\n",
       "      <td>1.609686</td>\n",
       "      <td>1.247727</td>\n",
       "      <td>...</td>\n",
       "      <td>-0.829197</td>\n",
       "      <td>-0.591277</td>\n",
       "      <td>1.846034</td>\n",
       "      <td>0.325923</td>\n",
       "      <td>-0.878008</td>\n",
       "      <td>-0.590763</td>\n",
       "      <td>0.605162</td>\n",
       "      <td>0.380984</td>\n",
       "      <td>-0.941926</td>\n",
       "      <td>-1</td>\n",
       "    </tr>\n",
       "    <tr>\n",
       "      <th>7348</th>\n",
       "      <td>-0.009044</td>\n",
       "      <td>0.243731</td>\n",
       "      <td>-0.676787</td>\n",
       "      <td>0.824887</td>\n",
       "      <td>1.026150</td>\n",
       "      <td>1.586100</td>\n",
       "      <td>0.726245</td>\n",
       "      <td>1.023755</td>\n",
       "      <td>1.658407</td>\n",
       "      <td>1.076279</td>\n",
       "      <td>...</td>\n",
       "      <td>-0.180290</td>\n",
       "      <td>0.166951</td>\n",
       "      <td>1.948561</td>\n",
       "      <td>-1.459501</td>\n",
       "      <td>0.849894</td>\n",
       "      <td>-0.551598</td>\n",
       "      <td>0.652468</td>\n",
       "      <td>0.381820</td>\n",
       "      <td>-0.941926</td>\n",
       "      <td>-1</td>\n",
       "    </tr>\n",
       "    <tr>\n",
       "      <th>7349</th>\n",
       "      <td>-0.015668</td>\n",
       "      <td>0.016781</td>\n",
       "      <td>1.132221</td>\n",
       "      <td>0.862975</td>\n",
       "      <td>0.810002</td>\n",
       "      <td>2.100249</td>\n",
       "      <td>0.768781</td>\n",
       "      <td>0.880813</td>\n",
       "      <td>2.266963</td>\n",
       "      <td>0.941403</td>\n",
       "      <td>...</td>\n",
       "      <td>1.044548</td>\n",
       "      <td>0.131018</td>\n",
       "      <td>-0.599877</td>\n",
       "      <td>1.406760</td>\n",
       "      <td>1.479571</td>\n",
       "      <td>-0.565848</td>\n",
       "      <td>0.640597</td>\n",
       "      <td>0.348709</td>\n",
       "      <td>-0.941926</td>\n",
       "      <td>-1</td>\n",
       "    </tr>\n",
       "    <tr>\n",
       "      <th>7350</th>\n",
       "      <td>0.215866</td>\n",
       "      <td>-0.028123</td>\n",
       "      <td>-0.867710</td>\n",
       "      <td>0.860922</td>\n",
       "      <td>0.794902</td>\n",
       "      <td>2.086778</td>\n",
       "      <td>0.754697</td>\n",
       "      <td>0.944019</td>\n",
       "      <td>2.235301</td>\n",
       "      <td>1.047375</td>\n",
       "      <td>...</td>\n",
       "      <td>0.913569</td>\n",
       "      <td>-0.326769</td>\n",
       "      <td>1.558312</td>\n",
       "      <td>1.525574</td>\n",
       "      <td>-1.220854</td>\n",
       "      <td>-0.577668</td>\n",
       "      <td>0.631478</td>\n",
       "      <td>0.293276</td>\n",
       "      <td>-0.941926</td>\n",
       "      <td>-1</td>\n",
       "    </tr>\n",
       "    <tr>\n",
       "      <th>7351</th>\n",
       "      <td>1.096202</td>\n",
       "      <td>0.129199</td>\n",
       "      <td>-1.672681</td>\n",
       "      <td>0.749198</td>\n",
       "      <td>0.843051</td>\n",
       "      <td>1.868249</td>\n",
       "      <td>0.596891</td>\n",
       "      <td>1.004776</td>\n",
       "      <td>2.017853</td>\n",
       "      <td>1.354644</td>\n",
       "      <td>...</td>\n",
       "      <td>-0.375352</td>\n",
       "      <td>-0.857491</td>\n",
       "      <td>-0.022141</td>\n",
       "      <td>-0.106555</td>\n",
       "      <td>-1.278345</td>\n",
       "      <td>-0.573927</td>\n",
       "      <td>0.632743</td>\n",
       "      <td>0.333961</td>\n",
       "      <td>-0.941926</td>\n",
       "      <td>-1</td>\n",
       "    </tr>\n",
       "  </tbody>\n",
       "</table>\n",
       "<p>7352 rows × 563 columns</p>\n",
       "</div>"
      ],
      "text/plain": [
       "      tBodyAccmeanX  tBodyAccmeanY  tBodyAccmeanZ  tBodyAccstdX  tBodyAccstdY  \\\n",
       "0          0.200642      -0.063683      -0.419628     -0.868814     -0.939441   \n",
       "1          0.055948       0.031486      -0.253908     -0.875426     -0.923902   \n",
       "2          0.073515      -0.043416      -0.076295     -0.869039     -0.907760   \n",
       "3          0.066696      -0.208422      -0.249712     -0.870626     -0.940022   \n",
       "4          0.030469       0.027587      -0.109848     -0.875188     -0.934878   \n",
       "...             ...            ...            ...           ...           ...   \n",
       "7347       0.358361      -0.967904      -1.273005      0.913859      1.095963   \n",
       "7348      -0.009044       0.243731      -0.676787      0.824887      1.026150   \n",
       "7349      -0.015668       0.016781       1.132221      0.862975      0.810002   \n",
       "7350       0.215866      -0.028123      -0.867710      0.860922      0.794902   \n",
       "7351       1.096202       0.129199      -1.672681      0.749198      0.843051   \n",
       "\n",
       "      tBodyAccstdZ  tBodyAccmadX  tBodyAccmadY  tBodyAccmadZ  tBodyAccmaxX  \\\n",
       "0        -0.737529     -0.859817     -0.939019     -0.766437     -0.856036   \n",
       "1        -0.849304     -0.868531     -0.921998     -0.848928     -0.871359   \n",
       "2        -0.893785     -0.863137     -0.898854     -0.896701     -0.863323   \n",
       "3        -0.921805     -0.864503     -0.938124     -0.925279     -0.863323   \n",
       "4        -0.921343     -0.867384     -0.931789     -0.928028     -0.870260   \n",
       "...            ...           ...           ...           ...           ...   \n",
       "7347      1.628612      0.821169      1.174137      1.609686      1.247727   \n",
       "7348      1.586100      0.726245      1.023755      1.658407      1.076279   \n",
       "7349      2.100249      0.768781      0.880813      2.266963      0.941403   \n",
       "7350      2.086778      0.754697      0.944019      2.235301      1.047375   \n",
       "7351      1.868249      0.596891      1.004776      2.017853      1.354644   \n",
       "\n",
       "      ...  fBodyBodyGyroJerkMagkurtosis  angletBodyAccMeangravity  \\\n",
       "0     ...                     -0.276399                 -0.360603   \n",
       "1     ...                     -0.767990                  0.133011   \n",
       "2     ...                     -0.438316                 -0.377840   \n",
       "3     ...                      0.463155                 -0.135025   \n",
       "4     ...                     -0.240313                  0.340406   \n",
       "...   ...                           ...                       ...   \n",
       "7347  ...                     -0.829197                 -0.591277   \n",
       "7348  ...                     -0.180290                  0.166951   \n",
       "7349  ...                      1.044548                  0.131018   \n",
       "7350  ...                      0.913569                 -0.326769   \n",
       "7351  ...                     -0.375352                 -0.857491   \n",
       "\n",
       "      angletBodyAccJerkMeangravityMean  angletBodyGyroMeangravityMean  \\\n",
       "0                             0.062940                      -0.778427   \n",
       "1                            -0.021461                      -1.218805   \n",
       "2                             0.391976                       0.151207   \n",
       "3                            -0.033637                       1.037851   \n",
       "4                             0.268486                       1.125918   \n",
       "...                                ...                            ...   \n",
       "7347                          1.846034                       0.325923   \n",
       "7348                          1.948561                      -1.459501   \n",
       "7349                         -0.599877                       1.406760   \n",
       "7350                          1.558312                       1.525574   \n",
       "7351                         -0.022141                      -0.106555   \n",
       "\n",
       "      angletBodyGyroJerkMeangravityMean  angleXgravityMean  angleYgravityMean  \\\n",
       "0                             -0.026080          -0.687219           0.407946   \n",
       "1                              1.484470          -0.694138           0.409117   \n",
       "2                              1.704201          -0.702239           0.410288   \n",
       "3                             -1.003019          -0.701684           0.414650   \n",
       "4                             -1.276282          -0.700152           0.425463   \n",
       "...                                 ...                ...                ...   \n",
       "7347                          -0.878008          -0.590763           0.605162   \n",
       "7348                           0.849894          -0.551598           0.652468   \n",
       "7349                           1.479571          -0.565848           0.640597   \n",
       "7350                          -1.220854          -0.577668           0.631478   \n",
       "7351                          -1.278345          -0.573927           0.632743   \n",
       "\n",
       "      angleZgravityMean  Activity  LABEL  \n",
       "0             -0.007568  0.777584     -1  \n",
       "1              0.007875  0.777584     -1  \n",
       "2              0.026502  0.777584     -1  \n",
       "3              0.031714  0.777584     -1  \n",
       "4              0.045225  0.777584     -1  \n",
       "...                 ...       ...    ...  \n",
       "7347           0.380984 -0.941926     -1  \n",
       "7348           0.381820 -0.941926     -1  \n",
       "7349           0.348709 -0.941926     -1  \n",
       "7350           0.293276 -0.941926     -1  \n",
       "7351           0.333961 -0.941926     -1  \n",
       "\n",
       "[7352 rows x 563 columns]"
      ]
     },
     "execution_count": 17,
     "metadata": {},
     "output_type": "execute_result"
    }
   ],
   "source": [
    "scaled_dbscan_id = df_dbscan.copy()\n",
    "scaled_dbscan_id"
   ]
  },
  {
   "cell_type": "code",
   "execution_count": 18,
   "metadata": {},
   "outputs": [
    {
     "data": {
      "text/html": [
       "<div>\n",
       "<style scoped>\n",
       "    .dataframe tbody tr th:only-of-type {\n",
       "        vertical-align: middle;\n",
       "    }\n",
       "\n",
       "    .dataframe tbody tr th {\n",
       "        vertical-align: top;\n",
       "    }\n",
       "\n",
       "    .dataframe thead th {\n",
       "        text-align: right;\n",
       "    }\n",
       "</style>\n",
       "<table border=\"1\" class=\"dataframe\">\n",
       "  <thead>\n",
       "    <tr style=\"text-align: right;\">\n",
       "      <th></th>\n",
       "      <th>tBodyAccmeanX</th>\n",
       "      <th>tBodyAccmeanY</th>\n",
       "      <th>tBodyAccmeanZ</th>\n",
       "      <th>tBodyAccstdX</th>\n",
       "      <th>tBodyAccstdY</th>\n",
       "      <th>tBodyAccstdZ</th>\n",
       "      <th>tBodyAccmadX</th>\n",
       "      <th>tBodyAccmadY</th>\n",
       "      <th>tBodyAccmadZ</th>\n",
       "      <th>tBodyAccmaxX</th>\n",
       "      <th>...</th>\n",
       "      <th>angletBodyAccMeangravity</th>\n",
       "      <th>angletBodyAccJerkMeangravityMean</th>\n",
       "      <th>angletBodyGyroMeangravityMean</th>\n",
       "      <th>angletBodyGyroJerkMeangravityMean</th>\n",
       "      <th>angleXgravityMean</th>\n",
       "      <th>angleYgravityMean</th>\n",
       "      <th>angleZgravityMean</th>\n",
       "      <th>Activity</th>\n",
       "      <th>LABEL</th>\n",
       "      <th>id</th>\n",
       "    </tr>\n",
       "  </thead>\n",
       "  <tbody>\n",
       "    <tr>\n",
       "      <th>0</th>\n",
       "      <td>0.200642</td>\n",
       "      <td>-0.063683</td>\n",
       "      <td>-0.419628</td>\n",
       "      <td>-0.868814</td>\n",
       "      <td>-0.939441</td>\n",
       "      <td>-0.737529</td>\n",
       "      <td>-0.859817</td>\n",
       "      <td>-0.939019</td>\n",
       "      <td>-0.766437</td>\n",
       "      <td>-0.856036</td>\n",
       "      <td>...</td>\n",
       "      <td>-0.360603</td>\n",
       "      <td>0.062940</td>\n",
       "      <td>-0.778427</td>\n",
       "      <td>-0.026080</td>\n",
       "      <td>-0.687219</td>\n",
       "      <td>0.407946</td>\n",
       "      <td>-0.007568</td>\n",
       "      <td>0.777584</td>\n",
       "      <td>-1</td>\n",
       "      <td>0</td>\n",
       "    </tr>\n",
       "    <tr>\n",
       "      <th>1</th>\n",
       "      <td>0.055948</td>\n",
       "      <td>0.031486</td>\n",
       "      <td>-0.253908</td>\n",
       "      <td>-0.875426</td>\n",
       "      <td>-0.923902</td>\n",
       "      <td>-0.849304</td>\n",
       "      <td>-0.868531</td>\n",
       "      <td>-0.921998</td>\n",
       "      <td>-0.848928</td>\n",
       "      <td>-0.871359</td>\n",
       "      <td>...</td>\n",
       "      <td>0.133011</td>\n",
       "      <td>-0.021461</td>\n",
       "      <td>-1.218805</td>\n",
       "      <td>1.484470</td>\n",
       "      <td>-0.694138</td>\n",
       "      <td>0.409117</td>\n",
       "      <td>0.007875</td>\n",
       "      <td>0.777584</td>\n",
       "      <td>-1</td>\n",
       "      <td>1</td>\n",
       "    </tr>\n",
       "    <tr>\n",
       "      <th>2</th>\n",
       "      <td>0.073515</td>\n",
       "      <td>-0.043416</td>\n",
       "      <td>-0.076295</td>\n",
       "      <td>-0.869039</td>\n",
       "      <td>-0.907760</td>\n",
       "      <td>-0.893785</td>\n",
       "      <td>-0.863137</td>\n",
       "      <td>-0.898854</td>\n",
       "      <td>-0.896701</td>\n",
       "      <td>-0.863323</td>\n",
       "      <td>...</td>\n",
       "      <td>-0.377840</td>\n",
       "      <td>0.391976</td>\n",
       "      <td>0.151207</td>\n",
       "      <td>1.704201</td>\n",
       "      <td>-0.702239</td>\n",
       "      <td>0.410288</td>\n",
       "      <td>0.026502</td>\n",
       "      <td>0.777584</td>\n",
       "      <td>-1</td>\n",
       "      <td>2</td>\n",
       "    </tr>\n",
       "    <tr>\n",
       "      <th>3</th>\n",
       "      <td>0.066696</td>\n",
       "      <td>-0.208422</td>\n",
       "      <td>-0.249712</td>\n",
       "      <td>-0.870626</td>\n",
       "      <td>-0.940022</td>\n",
       "      <td>-0.921805</td>\n",
       "      <td>-0.864503</td>\n",
       "      <td>-0.938124</td>\n",
       "      <td>-0.925279</td>\n",
       "      <td>-0.863323</td>\n",
       "      <td>...</td>\n",
       "      <td>-0.135025</td>\n",
       "      <td>-0.033637</td>\n",
       "      <td>1.037851</td>\n",
       "      <td>-1.003019</td>\n",
       "      <td>-0.701684</td>\n",
       "      <td>0.414650</td>\n",
       "      <td>0.031714</td>\n",
       "      <td>0.777584</td>\n",
       "      <td>-1</td>\n",
       "      <td>3</td>\n",
       "    </tr>\n",
       "    <tr>\n",
       "      <th>4</th>\n",
       "      <td>0.030469</td>\n",
       "      <td>0.027587</td>\n",
       "      <td>-0.109848</td>\n",
       "      <td>-0.875188</td>\n",
       "      <td>-0.934878</td>\n",
       "      <td>-0.921343</td>\n",
       "      <td>-0.867384</td>\n",
       "      <td>-0.931789</td>\n",
       "      <td>-0.928028</td>\n",
       "      <td>-0.870260</td>\n",
       "      <td>...</td>\n",
       "      <td>0.340406</td>\n",
       "      <td>0.268486</td>\n",
       "      <td>1.125918</td>\n",
       "      <td>-1.276282</td>\n",
       "      <td>-0.700152</td>\n",
       "      <td>0.425463</td>\n",
       "      <td>0.045225</td>\n",
       "      <td>0.777584</td>\n",
       "      <td>-1</td>\n",
       "      <td>4</td>\n",
       "    </tr>\n",
       "    <tr>\n",
       "      <th>...</th>\n",
       "      <td>...</td>\n",
       "      <td>...</td>\n",
       "      <td>...</td>\n",
       "      <td>...</td>\n",
       "      <td>...</td>\n",
       "      <td>...</td>\n",
       "      <td>...</td>\n",
       "      <td>...</td>\n",
       "      <td>...</td>\n",
       "      <td>...</td>\n",
       "      <td>...</td>\n",
       "      <td>...</td>\n",
       "      <td>...</td>\n",
       "      <td>...</td>\n",
       "      <td>...</td>\n",
       "      <td>...</td>\n",
       "      <td>...</td>\n",
       "      <td>...</td>\n",
       "      <td>...</td>\n",
       "      <td>...</td>\n",
       "      <td>...</td>\n",
       "    </tr>\n",
       "    <tr>\n",
       "      <th>7347</th>\n",
       "      <td>0.358361</td>\n",
       "      <td>-0.967904</td>\n",
       "      <td>-1.273005</td>\n",
       "      <td>0.913859</td>\n",
       "      <td>1.095963</td>\n",
       "      <td>1.628612</td>\n",
       "      <td>0.821169</td>\n",
       "      <td>1.174137</td>\n",
       "      <td>1.609686</td>\n",
       "      <td>1.247727</td>\n",
       "      <td>...</td>\n",
       "      <td>-0.591277</td>\n",
       "      <td>1.846034</td>\n",
       "      <td>0.325923</td>\n",
       "      <td>-0.878008</td>\n",
       "      <td>-0.590763</td>\n",
       "      <td>0.605162</td>\n",
       "      <td>0.380984</td>\n",
       "      <td>-0.941926</td>\n",
       "      <td>-1</td>\n",
       "      <td>7347</td>\n",
       "    </tr>\n",
       "    <tr>\n",
       "      <th>7348</th>\n",
       "      <td>-0.009044</td>\n",
       "      <td>0.243731</td>\n",
       "      <td>-0.676787</td>\n",
       "      <td>0.824887</td>\n",
       "      <td>1.026150</td>\n",
       "      <td>1.586100</td>\n",
       "      <td>0.726245</td>\n",
       "      <td>1.023755</td>\n",
       "      <td>1.658407</td>\n",
       "      <td>1.076279</td>\n",
       "      <td>...</td>\n",
       "      <td>0.166951</td>\n",
       "      <td>1.948561</td>\n",
       "      <td>-1.459501</td>\n",
       "      <td>0.849894</td>\n",
       "      <td>-0.551598</td>\n",
       "      <td>0.652468</td>\n",
       "      <td>0.381820</td>\n",
       "      <td>-0.941926</td>\n",
       "      <td>-1</td>\n",
       "      <td>7348</td>\n",
       "    </tr>\n",
       "    <tr>\n",
       "      <th>7349</th>\n",
       "      <td>-0.015668</td>\n",
       "      <td>0.016781</td>\n",
       "      <td>1.132221</td>\n",
       "      <td>0.862975</td>\n",
       "      <td>0.810002</td>\n",
       "      <td>2.100249</td>\n",
       "      <td>0.768781</td>\n",
       "      <td>0.880813</td>\n",
       "      <td>2.266963</td>\n",
       "      <td>0.941403</td>\n",
       "      <td>...</td>\n",
       "      <td>0.131018</td>\n",
       "      <td>-0.599877</td>\n",
       "      <td>1.406760</td>\n",
       "      <td>1.479571</td>\n",
       "      <td>-0.565848</td>\n",
       "      <td>0.640597</td>\n",
       "      <td>0.348709</td>\n",
       "      <td>-0.941926</td>\n",
       "      <td>-1</td>\n",
       "      <td>7349</td>\n",
       "    </tr>\n",
       "    <tr>\n",
       "      <th>7350</th>\n",
       "      <td>0.215866</td>\n",
       "      <td>-0.028123</td>\n",
       "      <td>-0.867710</td>\n",
       "      <td>0.860922</td>\n",
       "      <td>0.794902</td>\n",
       "      <td>2.086778</td>\n",
       "      <td>0.754697</td>\n",
       "      <td>0.944019</td>\n",
       "      <td>2.235301</td>\n",
       "      <td>1.047375</td>\n",
       "      <td>...</td>\n",
       "      <td>-0.326769</td>\n",
       "      <td>1.558312</td>\n",
       "      <td>1.525574</td>\n",
       "      <td>-1.220854</td>\n",
       "      <td>-0.577668</td>\n",
       "      <td>0.631478</td>\n",
       "      <td>0.293276</td>\n",
       "      <td>-0.941926</td>\n",
       "      <td>-1</td>\n",
       "      <td>7350</td>\n",
       "    </tr>\n",
       "    <tr>\n",
       "      <th>7351</th>\n",
       "      <td>1.096202</td>\n",
       "      <td>0.129199</td>\n",
       "      <td>-1.672681</td>\n",
       "      <td>0.749198</td>\n",
       "      <td>0.843051</td>\n",
       "      <td>1.868249</td>\n",
       "      <td>0.596891</td>\n",
       "      <td>1.004776</td>\n",
       "      <td>2.017853</td>\n",
       "      <td>1.354644</td>\n",
       "      <td>...</td>\n",
       "      <td>-0.857491</td>\n",
       "      <td>-0.022141</td>\n",
       "      <td>-0.106555</td>\n",
       "      <td>-1.278345</td>\n",
       "      <td>-0.573927</td>\n",
       "      <td>0.632743</td>\n",
       "      <td>0.333961</td>\n",
       "      <td>-0.941926</td>\n",
       "      <td>-1</td>\n",
       "      <td>7351</td>\n",
       "    </tr>\n",
       "  </tbody>\n",
       "</table>\n",
       "<p>7352 rows × 564 columns</p>\n",
       "</div>"
      ],
      "text/plain": [
       "      tBodyAccmeanX  tBodyAccmeanY  tBodyAccmeanZ  tBodyAccstdX  tBodyAccstdY  \\\n",
       "0          0.200642      -0.063683      -0.419628     -0.868814     -0.939441   \n",
       "1          0.055948       0.031486      -0.253908     -0.875426     -0.923902   \n",
       "2          0.073515      -0.043416      -0.076295     -0.869039     -0.907760   \n",
       "3          0.066696      -0.208422      -0.249712     -0.870626     -0.940022   \n",
       "4          0.030469       0.027587      -0.109848     -0.875188     -0.934878   \n",
       "...             ...            ...            ...           ...           ...   \n",
       "7347       0.358361      -0.967904      -1.273005      0.913859      1.095963   \n",
       "7348      -0.009044       0.243731      -0.676787      0.824887      1.026150   \n",
       "7349      -0.015668       0.016781       1.132221      0.862975      0.810002   \n",
       "7350       0.215866      -0.028123      -0.867710      0.860922      0.794902   \n",
       "7351       1.096202       0.129199      -1.672681      0.749198      0.843051   \n",
       "\n",
       "      tBodyAccstdZ  tBodyAccmadX  tBodyAccmadY  tBodyAccmadZ  tBodyAccmaxX  \\\n",
       "0        -0.737529     -0.859817     -0.939019     -0.766437     -0.856036   \n",
       "1        -0.849304     -0.868531     -0.921998     -0.848928     -0.871359   \n",
       "2        -0.893785     -0.863137     -0.898854     -0.896701     -0.863323   \n",
       "3        -0.921805     -0.864503     -0.938124     -0.925279     -0.863323   \n",
       "4        -0.921343     -0.867384     -0.931789     -0.928028     -0.870260   \n",
       "...            ...           ...           ...           ...           ...   \n",
       "7347      1.628612      0.821169      1.174137      1.609686      1.247727   \n",
       "7348      1.586100      0.726245      1.023755      1.658407      1.076279   \n",
       "7349      2.100249      0.768781      0.880813      2.266963      0.941403   \n",
       "7350      2.086778      0.754697      0.944019      2.235301      1.047375   \n",
       "7351      1.868249      0.596891      1.004776      2.017853      1.354644   \n",
       "\n",
       "      ...  angletBodyAccMeangravity  angletBodyAccJerkMeangravityMean  \\\n",
       "0     ...                 -0.360603                          0.062940   \n",
       "1     ...                  0.133011                         -0.021461   \n",
       "2     ...                 -0.377840                          0.391976   \n",
       "3     ...                 -0.135025                         -0.033637   \n",
       "4     ...                  0.340406                          0.268486   \n",
       "...   ...                       ...                               ...   \n",
       "7347  ...                 -0.591277                          1.846034   \n",
       "7348  ...                  0.166951                          1.948561   \n",
       "7349  ...                  0.131018                         -0.599877   \n",
       "7350  ...                 -0.326769                          1.558312   \n",
       "7351  ...                 -0.857491                         -0.022141   \n",
       "\n",
       "      angletBodyGyroMeangravityMean  angletBodyGyroJerkMeangravityMean  \\\n",
       "0                         -0.778427                          -0.026080   \n",
       "1                         -1.218805                           1.484470   \n",
       "2                          0.151207                           1.704201   \n",
       "3                          1.037851                          -1.003019   \n",
       "4                          1.125918                          -1.276282   \n",
       "...                             ...                                ...   \n",
       "7347                       0.325923                          -0.878008   \n",
       "7348                      -1.459501                           0.849894   \n",
       "7349                       1.406760                           1.479571   \n",
       "7350                       1.525574                          -1.220854   \n",
       "7351                      -0.106555                          -1.278345   \n",
       "\n",
       "      angleXgravityMean  angleYgravityMean  angleZgravityMean  Activity  \\\n",
       "0             -0.687219           0.407946          -0.007568  0.777584   \n",
       "1             -0.694138           0.409117           0.007875  0.777584   \n",
       "2             -0.702239           0.410288           0.026502  0.777584   \n",
       "3             -0.701684           0.414650           0.031714  0.777584   \n",
       "4             -0.700152           0.425463           0.045225  0.777584   \n",
       "...                 ...                ...                ...       ...   \n",
       "7347          -0.590763           0.605162           0.380984 -0.941926   \n",
       "7348          -0.551598           0.652468           0.381820 -0.941926   \n",
       "7349          -0.565848           0.640597           0.348709 -0.941926   \n",
       "7350          -0.577668           0.631478           0.293276 -0.941926   \n",
       "7351          -0.573927           0.632743           0.333961 -0.941926   \n",
       "\n",
       "      LABEL    id  \n",
       "0        -1     0  \n",
       "1        -1     1  \n",
       "2        -1     2  \n",
       "3        -1     3  \n",
       "4        -1     4  \n",
       "...     ...   ...  \n",
       "7347     -1  7347  \n",
       "7348     -1  7348  \n",
       "7349     -1  7349  \n",
       "7350     -1  7350  \n",
       "7351     -1  7351  \n",
       "\n",
       "[7352 rows x 564 columns]"
      ]
     },
     "execution_count": 18,
     "metadata": {},
     "output_type": "execute_result"
    }
   ],
   "source": [
    "scaled_dbscan_id['id'] = dbscan_indexes #inserisco id come colonna nel df\n",
    "scaled_dbscan_id"
   ]
  },
  {
   "cell_type": "code",
   "execution_count": 19,
   "metadata": {},
   "outputs": [
    {
     "data": {
      "text/html": [
       "<div>\n",
       "<style scoped>\n",
       "    .dataframe tbody tr th:only-of-type {\n",
       "        vertical-align: middle;\n",
       "    }\n",
       "\n",
       "    .dataframe tbody tr th {\n",
       "        vertical-align: top;\n",
       "    }\n",
       "\n",
       "    .dataframe thead th {\n",
       "        text-align: right;\n",
       "    }\n",
       "</style>\n",
       "<table border=\"1\" class=\"dataframe\">\n",
       "  <thead>\n",
       "    <tr style=\"text-align: right;\">\n",
       "      <th></th>\n",
       "      <th>tBodyAccmeanX</th>\n",
       "      <th>tBodyAccmeanY</th>\n",
       "      <th>tBodyAccmeanZ</th>\n",
       "      <th>tBodyAccstdX</th>\n",
       "      <th>tBodyAccstdY</th>\n",
       "      <th>tBodyAccstdZ</th>\n",
       "      <th>tBodyAccmadX</th>\n",
       "      <th>tBodyAccmadY</th>\n",
       "      <th>tBodyAccmadZ</th>\n",
       "      <th>tBodyAccmaxX</th>\n",
       "      <th>...</th>\n",
       "      <th>fBodyBodyGyroJerkMagkurtosis</th>\n",
       "      <th>angletBodyAccMeangravity</th>\n",
       "      <th>angletBodyAccJerkMeangravityMean</th>\n",
       "      <th>angletBodyGyroMeangravityMean</th>\n",
       "      <th>angletBodyGyroJerkMeangravityMean</th>\n",
       "      <th>angleXgravityMean</th>\n",
       "      <th>angleYgravityMean</th>\n",
       "      <th>angleZgravityMean</th>\n",
       "      <th>Activity</th>\n",
       "      <th>LABEL</th>\n",
       "    </tr>\n",
       "    <tr>\n",
       "      <th>id</th>\n",
       "      <th></th>\n",
       "      <th></th>\n",
       "      <th></th>\n",
       "      <th></th>\n",
       "      <th></th>\n",
       "      <th></th>\n",
       "      <th></th>\n",
       "      <th></th>\n",
       "      <th></th>\n",
       "      <th></th>\n",
       "      <th></th>\n",
       "      <th></th>\n",
       "      <th></th>\n",
       "      <th></th>\n",
       "      <th></th>\n",
       "      <th></th>\n",
       "      <th></th>\n",
       "      <th></th>\n",
       "      <th></th>\n",
       "      <th></th>\n",
       "      <th></th>\n",
       "    </tr>\n",
       "  </thead>\n",
       "  <tbody>\n",
       "    <tr>\n",
       "      <th>0</th>\n",
       "      <td>0.200642</td>\n",
       "      <td>-0.063683</td>\n",
       "      <td>-0.419628</td>\n",
       "      <td>-0.868814</td>\n",
       "      <td>-0.939441</td>\n",
       "      <td>-0.737529</td>\n",
       "      <td>-0.859817</td>\n",
       "      <td>-0.939019</td>\n",
       "      <td>-0.766437</td>\n",
       "      <td>-0.856036</td>\n",
       "      <td>...</td>\n",
       "      <td>-0.276399</td>\n",
       "      <td>-0.360603</td>\n",
       "      <td>0.062940</td>\n",
       "      <td>-0.778427</td>\n",
       "      <td>-0.026080</td>\n",
       "      <td>-0.687219</td>\n",
       "      <td>0.407946</td>\n",
       "      <td>-0.007568</td>\n",
       "      <td>0.777584</td>\n",
       "      <td>-1</td>\n",
       "    </tr>\n",
       "    <tr>\n",
       "      <th>1</th>\n",
       "      <td>0.055948</td>\n",
       "      <td>0.031486</td>\n",
       "      <td>-0.253908</td>\n",
       "      <td>-0.875426</td>\n",
       "      <td>-0.923902</td>\n",
       "      <td>-0.849304</td>\n",
       "      <td>-0.868531</td>\n",
       "      <td>-0.921998</td>\n",
       "      <td>-0.848928</td>\n",
       "      <td>-0.871359</td>\n",
       "      <td>...</td>\n",
       "      <td>-0.767990</td>\n",
       "      <td>0.133011</td>\n",
       "      <td>-0.021461</td>\n",
       "      <td>-1.218805</td>\n",
       "      <td>1.484470</td>\n",
       "      <td>-0.694138</td>\n",
       "      <td>0.409117</td>\n",
       "      <td>0.007875</td>\n",
       "      <td>0.777584</td>\n",
       "      <td>-1</td>\n",
       "    </tr>\n",
       "    <tr>\n",
       "      <th>2</th>\n",
       "      <td>0.073515</td>\n",
       "      <td>-0.043416</td>\n",
       "      <td>-0.076295</td>\n",
       "      <td>-0.869039</td>\n",
       "      <td>-0.907760</td>\n",
       "      <td>-0.893785</td>\n",
       "      <td>-0.863137</td>\n",
       "      <td>-0.898854</td>\n",
       "      <td>-0.896701</td>\n",
       "      <td>-0.863323</td>\n",
       "      <td>...</td>\n",
       "      <td>-0.438316</td>\n",
       "      <td>-0.377840</td>\n",
       "      <td>0.391976</td>\n",
       "      <td>0.151207</td>\n",
       "      <td>1.704201</td>\n",
       "      <td>-0.702239</td>\n",
       "      <td>0.410288</td>\n",
       "      <td>0.026502</td>\n",
       "      <td>0.777584</td>\n",
       "      <td>-1</td>\n",
       "    </tr>\n",
       "    <tr>\n",
       "      <th>3</th>\n",
       "      <td>0.066696</td>\n",
       "      <td>-0.208422</td>\n",
       "      <td>-0.249712</td>\n",
       "      <td>-0.870626</td>\n",
       "      <td>-0.940022</td>\n",
       "      <td>-0.921805</td>\n",
       "      <td>-0.864503</td>\n",
       "      <td>-0.938124</td>\n",
       "      <td>-0.925279</td>\n",
       "      <td>-0.863323</td>\n",
       "      <td>...</td>\n",
       "      <td>0.463155</td>\n",
       "      <td>-0.135025</td>\n",
       "      <td>-0.033637</td>\n",
       "      <td>1.037851</td>\n",
       "      <td>-1.003019</td>\n",
       "      <td>-0.701684</td>\n",
       "      <td>0.414650</td>\n",
       "      <td>0.031714</td>\n",
       "      <td>0.777584</td>\n",
       "      <td>-1</td>\n",
       "    </tr>\n",
       "    <tr>\n",
       "      <th>4</th>\n",
       "      <td>0.030469</td>\n",
       "      <td>0.027587</td>\n",
       "      <td>-0.109848</td>\n",
       "      <td>-0.875188</td>\n",
       "      <td>-0.934878</td>\n",
       "      <td>-0.921343</td>\n",
       "      <td>-0.867384</td>\n",
       "      <td>-0.931789</td>\n",
       "      <td>-0.928028</td>\n",
       "      <td>-0.870260</td>\n",
       "      <td>...</td>\n",
       "      <td>-0.240313</td>\n",
       "      <td>0.340406</td>\n",
       "      <td>0.268486</td>\n",
       "      <td>1.125918</td>\n",
       "      <td>-1.276282</td>\n",
       "      <td>-0.700152</td>\n",
       "      <td>0.425463</td>\n",
       "      <td>0.045225</td>\n",
       "      <td>0.777584</td>\n",
       "      <td>-1</td>\n",
       "    </tr>\n",
       "    <tr>\n",
       "      <th>...</th>\n",
       "      <td>...</td>\n",
       "      <td>...</td>\n",
       "      <td>...</td>\n",
       "      <td>...</td>\n",
       "      <td>...</td>\n",
       "      <td>...</td>\n",
       "      <td>...</td>\n",
       "      <td>...</td>\n",
       "      <td>...</td>\n",
       "      <td>...</td>\n",
       "      <td>...</td>\n",
       "      <td>...</td>\n",
       "      <td>...</td>\n",
       "      <td>...</td>\n",
       "      <td>...</td>\n",
       "      <td>...</td>\n",
       "      <td>...</td>\n",
       "      <td>...</td>\n",
       "      <td>...</td>\n",
       "      <td>...</td>\n",
       "      <td>...</td>\n",
       "    </tr>\n",
       "    <tr>\n",
       "      <th>7347</th>\n",
       "      <td>0.358361</td>\n",
       "      <td>-0.967904</td>\n",
       "      <td>-1.273005</td>\n",
       "      <td>0.913859</td>\n",
       "      <td>1.095963</td>\n",
       "      <td>1.628612</td>\n",
       "      <td>0.821169</td>\n",
       "      <td>1.174137</td>\n",
       "      <td>1.609686</td>\n",
       "      <td>1.247727</td>\n",
       "      <td>...</td>\n",
       "      <td>-0.829197</td>\n",
       "      <td>-0.591277</td>\n",
       "      <td>1.846034</td>\n",
       "      <td>0.325923</td>\n",
       "      <td>-0.878008</td>\n",
       "      <td>-0.590763</td>\n",
       "      <td>0.605162</td>\n",
       "      <td>0.380984</td>\n",
       "      <td>-0.941926</td>\n",
       "      <td>-1</td>\n",
       "    </tr>\n",
       "    <tr>\n",
       "      <th>7348</th>\n",
       "      <td>-0.009044</td>\n",
       "      <td>0.243731</td>\n",
       "      <td>-0.676787</td>\n",
       "      <td>0.824887</td>\n",
       "      <td>1.026150</td>\n",
       "      <td>1.586100</td>\n",
       "      <td>0.726245</td>\n",
       "      <td>1.023755</td>\n",
       "      <td>1.658407</td>\n",
       "      <td>1.076279</td>\n",
       "      <td>...</td>\n",
       "      <td>-0.180290</td>\n",
       "      <td>0.166951</td>\n",
       "      <td>1.948561</td>\n",
       "      <td>-1.459501</td>\n",
       "      <td>0.849894</td>\n",
       "      <td>-0.551598</td>\n",
       "      <td>0.652468</td>\n",
       "      <td>0.381820</td>\n",
       "      <td>-0.941926</td>\n",
       "      <td>-1</td>\n",
       "    </tr>\n",
       "    <tr>\n",
       "      <th>7349</th>\n",
       "      <td>-0.015668</td>\n",
       "      <td>0.016781</td>\n",
       "      <td>1.132221</td>\n",
       "      <td>0.862975</td>\n",
       "      <td>0.810002</td>\n",
       "      <td>2.100249</td>\n",
       "      <td>0.768781</td>\n",
       "      <td>0.880813</td>\n",
       "      <td>2.266963</td>\n",
       "      <td>0.941403</td>\n",
       "      <td>...</td>\n",
       "      <td>1.044548</td>\n",
       "      <td>0.131018</td>\n",
       "      <td>-0.599877</td>\n",
       "      <td>1.406760</td>\n",
       "      <td>1.479571</td>\n",
       "      <td>-0.565848</td>\n",
       "      <td>0.640597</td>\n",
       "      <td>0.348709</td>\n",
       "      <td>-0.941926</td>\n",
       "      <td>-1</td>\n",
       "    </tr>\n",
       "    <tr>\n",
       "      <th>7350</th>\n",
       "      <td>0.215866</td>\n",
       "      <td>-0.028123</td>\n",
       "      <td>-0.867710</td>\n",
       "      <td>0.860922</td>\n",
       "      <td>0.794902</td>\n",
       "      <td>2.086778</td>\n",
       "      <td>0.754697</td>\n",
       "      <td>0.944019</td>\n",
       "      <td>2.235301</td>\n",
       "      <td>1.047375</td>\n",
       "      <td>...</td>\n",
       "      <td>0.913569</td>\n",
       "      <td>-0.326769</td>\n",
       "      <td>1.558312</td>\n",
       "      <td>1.525574</td>\n",
       "      <td>-1.220854</td>\n",
       "      <td>-0.577668</td>\n",
       "      <td>0.631478</td>\n",
       "      <td>0.293276</td>\n",
       "      <td>-0.941926</td>\n",
       "      <td>-1</td>\n",
       "    </tr>\n",
       "    <tr>\n",
       "      <th>7351</th>\n",
       "      <td>1.096202</td>\n",
       "      <td>0.129199</td>\n",
       "      <td>-1.672681</td>\n",
       "      <td>0.749198</td>\n",
       "      <td>0.843051</td>\n",
       "      <td>1.868249</td>\n",
       "      <td>0.596891</td>\n",
       "      <td>1.004776</td>\n",
       "      <td>2.017853</td>\n",
       "      <td>1.354644</td>\n",
       "      <td>...</td>\n",
       "      <td>-0.375352</td>\n",
       "      <td>-0.857491</td>\n",
       "      <td>-0.022141</td>\n",
       "      <td>-0.106555</td>\n",
       "      <td>-1.278345</td>\n",
       "      <td>-0.573927</td>\n",
       "      <td>0.632743</td>\n",
       "      <td>0.333961</td>\n",
       "      <td>-0.941926</td>\n",
       "      <td>-1</td>\n",
       "    </tr>\n",
       "  </tbody>\n",
       "</table>\n",
       "<p>7352 rows × 563 columns</p>\n",
       "</div>"
      ],
      "text/plain": [
       "      tBodyAccmeanX  tBodyAccmeanY  tBodyAccmeanZ  tBodyAccstdX  tBodyAccstdY  \\\n",
       "id                                                                              \n",
       "0          0.200642      -0.063683      -0.419628     -0.868814     -0.939441   \n",
       "1          0.055948       0.031486      -0.253908     -0.875426     -0.923902   \n",
       "2          0.073515      -0.043416      -0.076295     -0.869039     -0.907760   \n",
       "3          0.066696      -0.208422      -0.249712     -0.870626     -0.940022   \n",
       "4          0.030469       0.027587      -0.109848     -0.875188     -0.934878   \n",
       "...             ...            ...            ...           ...           ...   \n",
       "7347       0.358361      -0.967904      -1.273005      0.913859      1.095963   \n",
       "7348      -0.009044       0.243731      -0.676787      0.824887      1.026150   \n",
       "7349      -0.015668       0.016781       1.132221      0.862975      0.810002   \n",
       "7350       0.215866      -0.028123      -0.867710      0.860922      0.794902   \n",
       "7351       1.096202       0.129199      -1.672681      0.749198      0.843051   \n",
       "\n",
       "      tBodyAccstdZ  tBodyAccmadX  tBodyAccmadY  tBodyAccmadZ  tBodyAccmaxX  \\\n",
       "id                                                                           \n",
       "0        -0.737529     -0.859817     -0.939019     -0.766437     -0.856036   \n",
       "1        -0.849304     -0.868531     -0.921998     -0.848928     -0.871359   \n",
       "2        -0.893785     -0.863137     -0.898854     -0.896701     -0.863323   \n",
       "3        -0.921805     -0.864503     -0.938124     -0.925279     -0.863323   \n",
       "4        -0.921343     -0.867384     -0.931789     -0.928028     -0.870260   \n",
       "...            ...           ...           ...           ...           ...   \n",
       "7347      1.628612      0.821169      1.174137      1.609686      1.247727   \n",
       "7348      1.586100      0.726245      1.023755      1.658407      1.076279   \n",
       "7349      2.100249      0.768781      0.880813      2.266963      0.941403   \n",
       "7350      2.086778      0.754697      0.944019      2.235301      1.047375   \n",
       "7351      1.868249      0.596891      1.004776      2.017853      1.354644   \n",
       "\n",
       "      ...  fBodyBodyGyroJerkMagkurtosis  angletBodyAccMeangravity  \\\n",
       "id    ...                                                           \n",
       "0     ...                     -0.276399                 -0.360603   \n",
       "1     ...                     -0.767990                  0.133011   \n",
       "2     ...                     -0.438316                 -0.377840   \n",
       "3     ...                      0.463155                 -0.135025   \n",
       "4     ...                     -0.240313                  0.340406   \n",
       "...   ...                           ...                       ...   \n",
       "7347  ...                     -0.829197                 -0.591277   \n",
       "7348  ...                     -0.180290                  0.166951   \n",
       "7349  ...                      1.044548                  0.131018   \n",
       "7350  ...                      0.913569                 -0.326769   \n",
       "7351  ...                     -0.375352                 -0.857491   \n",
       "\n",
       "      angletBodyAccJerkMeangravityMean  angletBodyGyroMeangravityMean  \\\n",
       "id                                                                      \n",
       "0                             0.062940                      -0.778427   \n",
       "1                            -0.021461                      -1.218805   \n",
       "2                             0.391976                       0.151207   \n",
       "3                            -0.033637                       1.037851   \n",
       "4                             0.268486                       1.125918   \n",
       "...                                ...                            ...   \n",
       "7347                          1.846034                       0.325923   \n",
       "7348                          1.948561                      -1.459501   \n",
       "7349                         -0.599877                       1.406760   \n",
       "7350                          1.558312                       1.525574   \n",
       "7351                         -0.022141                      -0.106555   \n",
       "\n",
       "      angletBodyGyroJerkMeangravityMean  angleXgravityMean  angleYgravityMean  \\\n",
       "id                                                                              \n",
       "0                             -0.026080          -0.687219           0.407946   \n",
       "1                              1.484470          -0.694138           0.409117   \n",
       "2                              1.704201          -0.702239           0.410288   \n",
       "3                             -1.003019          -0.701684           0.414650   \n",
       "4                             -1.276282          -0.700152           0.425463   \n",
       "...                                 ...                ...                ...   \n",
       "7347                          -0.878008          -0.590763           0.605162   \n",
       "7348                           0.849894          -0.551598           0.652468   \n",
       "7349                           1.479571          -0.565848           0.640597   \n",
       "7350                          -1.220854          -0.577668           0.631478   \n",
       "7351                          -1.278345          -0.573927           0.632743   \n",
       "\n",
       "      angleZgravityMean  Activity  LABEL  \n",
       "id                                        \n",
       "0             -0.007568  0.777584     -1  \n",
       "1              0.007875  0.777584     -1  \n",
       "2              0.026502  0.777584     -1  \n",
       "3              0.031714  0.777584     -1  \n",
       "4              0.045225  0.777584     -1  \n",
       "...                 ...       ...    ...  \n",
       "7347           0.380984 -0.941926     -1  \n",
       "7348           0.381820 -0.941926     -1  \n",
       "7349           0.348709 -0.941926     -1  \n",
       "7350           0.293276 -0.941926     -1  \n",
       "7351           0.333961 -0.941926     -1  \n",
       "\n",
       "[7352 rows x 563 columns]"
      ]
     },
     "execution_count": 19,
     "metadata": {},
     "output_type": "execute_result"
    }
   ],
   "source": [
    "scaled_dbscan_id = scaled_dbscan_id.set_index('id') #inserisco id\n",
    "scaled_dbscan_id"
   ]
  },
  {
   "cell_type": "markdown",
   "metadata": {},
   "source": [
    "Ottengo variabile con id degli outliers (NO PUNTEGGI)"
   ]
  },
  {
   "cell_type": "code",
   "execution_count": 20,
   "metadata": {},
   "outputs": [
    {
     "data": {
      "text/plain": [
       "[0, 1, 2, 3, 4, 5, 6, 7, 8, 9]"
      ]
     },
     "execution_count": 20,
     "metadata": {},
     "output_type": "execute_result"
    }
   ],
   "source": [
    "#retrieve id of outliers ---------------------------\n",
    "outliers_dbscan = list(df_dbscan[df_dbscan['LABEL'] == -1].index)\n",
    "outliers_dbscan[:10]"
   ]
  },
  {
   "cell_type": "code",
   "execution_count": 21,
   "metadata": {},
   "outputs": [
    {
     "data": {
      "text/plain": [
       "7340"
      ]
     },
     "execution_count": 21,
     "metadata": {},
     "output_type": "execute_result"
    }
   ],
   "source": [
    "len(outliers_dbscan)"
   ]
  },
  {
   "cell_type": "code",
   "execution_count": 22,
   "metadata": {},
   "outputs": [
    {
     "data": {
      "text/html": [
       "<div>\n",
       "<style scoped>\n",
       "    .dataframe tbody tr th:only-of-type {\n",
       "        vertical-align: middle;\n",
       "    }\n",
       "\n",
       "    .dataframe tbody tr th {\n",
       "        vertical-align: top;\n",
       "    }\n",
       "\n",
       "    .dataframe thead th {\n",
       "        text-align: right;\n",
       "    }\n",
       "</style>\n",
       "<table border=\"1\" class=\"dataframe\">\n",
       "  <thead>\n",
       "    <tr style=\"text-align: right;\">\n",
       "      <th></th>\n",
       "      <th>tBodyAccmeanX</th>\n",
       "      <th>tBodyAccmeanY</th>\n",
       "      <th>tBodyAccmeanZ</th>\n",
       "      <th>tBodyAccstdX</th>\n",
       "      <th>tBodyAccstdY</th>\n",
       "      <th>tBodyAccstdZ</th>\n",
       "      <th>tBodyAccmadX</th>\n",
       "      <th>tBodyAccmadY</th>\n",
       "      <th>tBodyAccmadZ</th>\n",
       "      <th>tBodyAccmaxX</th>\n",
       "      <th>...</th>\n",
       "      <th>angletBodyAccMeangravity</th>\n",
       "      <th>angletBodyAccJerkMeangravityMean</th>\n",
       "      <th>angletBodyGyroMeangravityMean</th>\n",
       "      <th>angletBodyGyroJerkMeangravityMean</th>\n",
       "      <th>angleXgravityMean</th>\n",
       "      <th>angleYgravityMean</th>\n",
       "      <th>angleZgravityMean</th>\n",
       "      <th>subject</th>\n",
       "      <th>Activity</th>\n",
       "      <th>ActivityName</th>\n",
       "    </tr>\n",
       "  </thead>\n",
       "  <tbody>\n",
       "    <tr>\n",
       "      <th>0</th>\n",
       "      <td>0.288585</td>\n",
       "      <td>-0.020294</td>\n",
       "      <td>-0.132905</td>\n",
       "      <td>-0.995279</td>\n",
       "      <td>-0.983111</td>\n",
       "      <td>-0.913526</td>\n",
       "      <td>-0.995112</td>\n",
       "      <td>-0.983185</td>\n",
       "      <td>-0.923527</td>\n",
       "      <td>-0.934724</td>\n",
       "      <td>...</td>\n",
       "      <td>-0.112754</td>\n",
       "      <td>0.030400</td>\n",
       "      <td>-0.464761</td>\n",
       "      <td>-0.018446</td>\n",
       "      <td>-0.841247</td>\n",
       "      <td>0.179941</td>\n",
       "      <td>-0.058627</td>\n",
       "      <td>1</td>\n",
       "      <td>5</td>\n",
       "      <td>STANDING</td>\n",
       "    </tr>\n",
       "    <tr>\n",
       "      <th>1</th>\n",
       "      <td>0.278419</td>\n",
       "      <td>-0.016411</td>\n",
       "      <td>-0.123520</td>\n",
       "      <td>-0.998245</td>\n",
       "      <td>-0.975300</td>\n",
       "      <td>-0.960322</td>\n",
       "      <td>-0.998807</td>\n",
       "      <td>-0.974914</td>\n",
       "      <td>-0.957686</td>\n",
       "      <td>-0.943068</td>\n",
       "      <td>...</td>\n",
       "      <td>0.053477</td>\n",
       "      <td>-0.007435</td>\n",
       "      <td>-0.732626</td>\n",
       "      <td>0.703511</td>\n",
       "      <td>-0.844788</td>\n",
       "      <td>0.180289</td>\n",
       "      <td>-0.054317</td>\n",
       "      <td>1</td>\n",
       "      <td>5</td>\n",
       "      <td>STANDING</td>\n",
       "    </tr>\n",
       "    <tr>\n",
       "      <th>2</th>\n",
       "      <td>0.279653</td>\n",
       "      <td>-0.019467</td>\n",
       "      <td>-0.113462</td>\n",
       "      <td>-0.995380</td>\n",
       "      <td>-0.967187</td>\n",
       "      <td>-0.978944</td>\n",
       "      <td>-0.996520</td>\n",
       "      <td>-0.963668</td>\n",
       "      <td>-0.977469</td>\n",
       "      <td>-0.938692</td>\n",
       "      <td>...</td>\n",
       "      <td>-0.118559</td>\n",
       "      <td>0.177899</td>\n",
       "      <td>0.100699</td>\n",
       "      <td>0.808529</td>\n",
       "      <td>-0.848933</td>\n",
       "      <td>0.180637</td>\n",
       "      <td>-0.049118</td>\n",
       "      <td>1</td>\n",
       "      <td>5</td>\n",
       "      <td>STANDING</td>\n",
       "    </tr>\n",
       "    <tr>\n",
       "      <th>3</th>\n",
       "      <td>0.279174</td>\n",
       "      <td>-0.026201</td>\n",
       "      <td>-0.123283</td>\n",
       "      <td>-0.996091</td>\n",
       "      <td>-0.983403</td>\n",
       "      <td>-0.990675</td>\n",
       "      <td>-0.997099</td>\n",
       "      <td>-0.982750</td>\n",
       "      <td>-0.989302</td>\n",
       "      <td>-0.938692</td>\n",
       "      <td>...</td>\n",
       "      <td>-0.036788</td>\n",
       "      <td>-0.012892</td>\n",
       "      <td>0.640011</td>\n",
       "      <td>-0.485366</td>\n",
       "      <td>-0.848649</td>\n",
       "      <td>0.181935</td>\n",
       "      <td>-0.047663</td>\n",
       "      <td>1</td>\n",
       "      <td>5</td>\n",
       "      <td>STANDING</td>\n",
       "    </tr>\n",
       "    <tr>\n",
       "      <th>4</th>\n",
       "      <td>0.276629</td>\n",
       "      <td>-0.016570</td>\n",
       "      <td>-0.115362</td>\n",
       "      <td>-0.998139</td>\n",
       "      <td>-0.980817</td>\n",
       "      <td>-0.990482</td>\n",
       "      <td>-0.998321</td>\n",
       "      <td>-0.979672</td>\n",
       "      <td>-0.990441</td>\n",
       "      <td>-0.942469</td>\n",
       "      <td>...</td>\n",
       "      <td>0.123320</td>\n",
       "      <td>0.122542</td>\n",
       "      <td>0.693578</td>\n",
       "      <td>-0.615971</td>\n",
       "      <td>-0.847865</td>\n",
       "      <td>0.185151</td>\n",
       "      <td>-0.043892</td>\n",
       "      <td>1</td>\n",
       "      <td>5</td>\n",
       "      <td>STANDING</td>\n",
       "    </tr>\n",
       "    <tr>\n",
       "      <th>...</th>\n",
       "      <td>...</td>\n",
       "      <td>...</td>\n",
       "      <td>...</td>\n",
       "      <td>...</td>\n",
       "      <td>...</td>\n",
       "      <td>...</td>\n",
       "      <td>...</td>\n",
       "      <td>...</td>\n",
       "      <td>...</td>\n",
       "      <td>...</td>\n",
       "      <td>...</td>\n",
       "      <td>...</td>\n",
       "      <td>...</td>\n",
       "      <td>...</td>\n",
       "      <td>...</td>\n",
       "      <td>...</td>\n",
       "      <td>...</td>\n",
       "      <td>...</td>\n",
       "      <td>...</td>\n",
       "      <td>...</td>\n",
       "      <td>...</td>\n",
       "    </tr>\n",
       "    <tr>\n",
       "      <th>7347</th>\n",
       "      <td>0.299665</td>\n",
       "      <td>-0.057193</td>\n",
       "      <td>-0.181233</td>\n",
       "      <td>-0.195387</td>\n",
       "      <td>0.039905</td>\n",
       "      <td>0.077078</td>\n",
       "      <td>-0.282301</td>\n",
       "      <td>0.043616</td>\n",
       "      <td>0.060410</td>\n",
       "      <td>0.210795</td>\n",
       "      <td>...</td>\n",
       "      <td>-0.190437</td>\n",
       "      <td>0.829718</td>\n",
       "      <td>0.206972</td>\n",
       "      <td>-0.425619</td>\n",
       "      <td>-0.791883</td>\n",
       "      <td>0.238604</td>\n",
       "      <td>0.049819</td>\n",
       "      <td>30</td>\n",
       "      <td>2</td>\n",
       "      <td>WALKING_UPSTAIRS</td>\n",
       "    </tr>\n",
       "    <tr>\n",
       "      <th>7348</th>\n",
       "      <td>0.273853</td>\n",
       "      <td>-0.007749</td>\n",
       "      <td>-0.147468</td>\n",
       "      <td>-0.235309</td>\n",
       "      <td>0.004816</td>\n",
       "      <td>0.059280</td>\n",
       "      <td>-0.322552</td>\n",
       "      <td>-0.029456</td>\n",
       "      <td>0.080585</td>\n",
       "      <td>0.117440</td>\n",
       "      <td>...</td>\n",
       "      <td>0.064907</td>\n",
       "      <td>0.875679</td>\n",
       "      <td>-0.879033</td>\n",
       "      <td>0.400219</td>\n",
       "      <td>-0.771840</td>\n",
       "      <td>0.252676</td>\n",
       "      <td>0.050053</td>\n",
       "      <td>30</td>\n",
       "      <td>2</td>\n",
       "      <td>WALKING_UPSTAIRS</td>\n",
       "    </tr>\n",
       "    <tr>\n",
       "      <th>7349</th>\n",
       "      <td>0.273387</td>\n",
       "      <td>-0.017011</td>\n",
       "      <td>-0.045022</td>\n",
       "      <td>-0.218218</td>\n",
       "      <td>-0.103822</td>\n",
       "      <td>0.274533</td>\n",
       "      <td>-0.304515</td>\n",
       "      <td>-0.098913</td>\n",
       "      <td>0.332584</td>\n",
       "      <td>0.043999</td>\n",
       "      <td>...</td>\n",
       "      <td>0.052806</td>\n",
       "      <td>-0.266724</td>\n",
       "      <td>0.864404</td>\n",
       "      <td>0.701169</td>\n",
       "      <td>-0.779133</td>\n",
       "      <td>0.249145</td>\n",
       "      <td>0.040811</td>\n",
       "      <td>30</td>\n",
       "      <td>2</td>\n",
       "      <td>WALKING_UPSTAIRS</td>\n",
       "    </tr>\n",
       "    <tr>\n",
       "      <th>7350</th>\n",
       "      <td>0.289654</td>\n",
       "      <td>-0.018843</td>\n",
       "      <td>-0.158281</td>\n",
       "      <td>-0.219139</td>\n",
       "      <td>-0.111412</td>\n",
       "      <td>0.268893</td>\n",
       "      <td>-0.310487</td>\n",
       "      <td>-0.068200</td>\n",
       "      <td>0.319473</td>\n",
       "      <td>0.101702</td>\n",
       "      <td>...</td>\n",
       "      <td>-0.101360</td>\n",
       "      <td>0.700740</td>\n",
       "      <td>0.936674</td>\n",
       "      <td>-0.589479</td>\n",
       "      <td>-0.785181</td>\n",
       "      <td>0.246432</td>\n",
       "      <td>0.025339</td>\n",
       "      <td>30</td>\n",
       "      <td>2</td>\n",
       "      <td>WALKING_UPSTAIRS</td>\n",
       "    </tr>\n",
       "    <tr>\n",
       "      <th>7351</th>\n",
       "      <td>0.351503</td>\n",
       "      <td>-0.012423</td>\n",
       "      <td>-0.203867</td>\n",
       "      <td>-0.269270</td>\n",
       "      <td>-0.087212</td>\n",
       "      <td>0.177404</td>\n",
       "      <td>-0.377404</td>\n",
       "      <td>-0.038678</td>\n",
       "      <td>0.229430</td>\n",
       "      <td>0.269013</td>\n",
       "      <td>...</td>\n",
       "      <td>-0.280088</td>\n",
       "      <td>-0.007739</td>\n",
       "      <td>-0.056088</td>\n",
       "      <td>-0.616956</td>\n",
       "      <td>-0.783267</td>\n",
       "      <td>0.246809</td>\n",
       "      <td>0.036695</td>\n",
       "      <td>30</td>\n",
       "      <td>2</td>\n",
       "      <td>WALKING_UPSTAIRS</td>\n",
       "    </tr>\n",
       "  </tbody>\n",
       "</table>\n",
       "<p>7340 rows × 564 columns</p>\n",
       "</div>"
      ],
      "text/plain": [
       "      tBodyAccmeanX  tBodyAccmeanY  tBodyAccmeanZ  tBodyAccstdX  tBodyAccstdY  \\\n",
       "0          0.288585      -0.020294      -0.132905     -0.995279     -0.983111   \n",
       "1          0.278419      -0.016411      -0.123520     -0.998245     -0.975300   \n",
       "2          0.279653      -0.019467      -0.113462     -0.995380     -0.967187   \n",
       "3          0.279174      -0.026201      -0.123283     -0.996091     -0.983403   \n",
       "4          0.276629      -0.016570      -0.115362     -0.998139     -0.980817   \n",
       "...             ...            ...            ...           ...           ...   \n",
       "7347       0.299665      -0.057193      -0.181233     -0.195387      0.039905   \n",
       "7348       0.273853      -0.007749      -0.147468     -0.235309      0.004816   \n",
       "7349       0.273387      -0.017011      -0.045022     -0.218218     -0.103822   \n",
       "7350       0.289654      -0.018843      -0.158281     -0.219139     -0.111412   \n",
       "7351       0.351503      -0.012423      -0.203867     -0.269270     -0.087212   \n",
       "\n",
       "      tBodyAccstdZ  tBodyAccmadX  tBodyAccmadY  tBodyAccmadZ  tBodyAccmaxX  \\\n",
       "0        -0.913526     -0.995112     -0.983185     -0.923527     -0.934724   \n",
       "1        -0.960322     -0.998807     -0.974914     -0.957686     -0.943068   \n",
       "2        -0.978944     -0.996520     -0.963668     -0.977469     -0.938692   \n",
       "3        -0.990675     -0.997099     -0.982750     -0.989302     -0.938692   \n",
       "4        -0.990482     -0.998321     -0.979672     -0.990441     -0.942469   \n",
       "...            ...           ...           ...           ...           ...   \n",
       "7347      0.077078     -0.282301      0.043616      0.060410      0.210795   \n",
       "7348      0.059280     -0.322552     -0.029456      0.080585      0.117440   \n",
       "7349      0.274533     -0.304515     -0.098913      0.332584      0.043999   \n",
       "7350      0.268893     -0.310487     -0.068200      0.319473      0.101702   \n",
       "7351      0.177404     -0.377404     -0.038678      0.229430      0.269013   \n",
       "\n",
       "      ...  angletBodyAccMeangravity  angletBodyAccJerkMeangravityMean  \\\n",
       "0     ...                 -0.112754                          0.030400   \n",
       "1     ...                  0.053477                         -0.007435   \n",
       "2     ...                 -0.118559                          0.177899   \n",
       "3     ...                 -0.036788                         -0.012892   \n",
       "4     ...                  0.123320                          0.122542   \n",
       "...   ...                       ...                               ...   \n",
       "7347  ...                 -0.190437                          0.829718   \n",
       "7348  ...                  0.064907                          0.875679   \n",
       "7349  ...                  0.052806                         -0.266724   \n",
       "7350  ...                 -0.101360                          0.700740   \n",
       "7351  ...                 -0.280088                         -0.007739   \n",
       "\n",
       "      angletBodyGyroMeangravityMean  angletBodyGyroJerkMeangravityMean  \\\n",
       "0                         -0.464761                          -0.018446   \n",
       "1                         -0.732626                           0.703511   \n",
       "2                          0.100699                           0.808529   \n",
       "3                          0.640011                          -0.485366   \n",
       "4                          0.693578                          -0.615971   \n",
       "...                             ...                                ...   \n",
       "7347                       0.206972                          -0.425619   \n",
       "7348                      -0.879033                           0.400219   \n",
       "7349                       0.864404                           0.701169   \n",
       "7350                       0.936674                          -0.589479   \n",
       "7351                      -0.056088                          -0.616956   \n",
       "\n",
       "      angleXgravityMean  angleYgravityMean  angleZgravityMean  subject  \\\n",
       "0             -0.841247           0.179941          -0.058627        1   \n",
       "1             -0.844788           0.180289          -0.054317        1   \n",
       "2             -0.848933           0.180637          -0.049118        1   \n",
       "3             -0.848649           0.181935          -0.047663        1   \n",
       "4             -0.847865           0.185151          -0.043892        1   \n",
       "...                 ...                ...                ...      ...   \n",
       "7347          -0.791883           0.238604           0.049819       30   \n",
       "7348          -0.771840           0.252676           0.050053       30   \n",
       "7349          -0.779133           0.249145           0.040811       30   \n",
       "7350          -0.785181           0.246432           0.025339       30   \n",
       "7351          -0.783267           0.246809           0.036695       30   \n",
       "\n",
       "      Activity      ActivityName  \n",
       "0            5          STANDING  \n",
       "1            5          STANDING  \n",
       "2            5          STANDING  \n",
       "3            5          STANDING  \n",
       "4            5          STANDING  \n",
       "...        ...               ...  \n",
       "7347         2  WALKING_UPSTAIRS  \n",
       "7348         2  WALKING_UPSTAIRS  \n",
       "7349         2  WALKING_UPSTAIRS  \n",
       "7350         2  WALKING_UPSTAIRS  \n",
       "7351         2  WALKING_UPSTAIRS  \n",
       "\n",
       "[7340 rows x 564 columns]"
      ]
     },
     "execution_count": 22,
     "metadata": {},
     "output_type": "execute_result"
    }
   ],
   "source": [
    "df.loc[np.where(best_dbscan_model.labels_==-1)]"
   ]
  },
  {
   "cell_type": "markdown",
   "metadata": {},
   "source": [
    "## LOF"
   ]
  },
  {
   "cell_type": "markdown",
   "metadata": {},
   "source": [
    "The anomaly score of each sample is called the Local Outlier Factor. It measures the local deviation of the density of a given sample with respect to its neighbors. It is local in that the anomaly score depends on how isolated the object is with respect to the surrounding neighborhood.\n",
    "\n",
    "- il numerod di neighbors non rende\n",
    "- Probabilmente il problema è il dataset conn differenti densità: vedesi risultati DBSCAN e LOF"
   ]
  },
  {
   "cell_type": "markdown",
   "metadata": {},
   "source": [
    "#### Test"
   ]
  },
  {
   "cell_type": "code",
   "execution_count": 23,
   "metadata": {},
   "outputs": [
    {
     "name": "stdout",
     "output_type": "stream",
     "text": [
      "per 5 vicini: 6\n",
      "per 10 vicini: 7\n",
      "per 15 vicini: 9\n"
     ]
    }
   ],
   "source": [
    "n_neighbors_test = list(range(5, 20, 5))\n",
    "\n",
    "for n_neighbor in n_neighbors_test:\n",
    "\n",
    "    clf_LOF = LocalOutlierFactor(n_neighbors=n_neighbor) # prof 2\n",
    "    outliers = clf_LOF.fit_predict(X) # si ottengono direttamente gli outlier\n",
    "    outlier_indexes = np.where(outliers==-1)[0]\n",
    "    print(\"per\", n_neighbor ,\"vicini:\", len(outlier_indexes))"
   ]
  },
  {
   "cell_type": "markdown",
   "metadata": {},
   "source": [
    "#### Best LOF"
   ]
  },
  {
   "cell_type": "code",
   "execution_count": 24,
   "metadata": {},
   "outputs": [],
   "source": [
    "# Miglior LOF\n",
    "clf_LOF = LocalOutlierFactor(n_neighbors=20) \n",
    "outliers = clf_LOF.fit_predict(X) # si ottengono direttamente gli outlier"
   ]
  },
  {
   "cell_type": "code",
   "execution_count": 25,
   "metadata": {},
   "outputs": [
    {
     "data": {
      "text/plain": [
       "7352"
      ]
     },
     "execution_count": 25,
     "metadata": {},
     "output_type": "execute_result"
    }
   ],
   "source": [
    "len(outliers) #tutti i valori"
   ]
  },
  {
   "cell_type": "code",
   "execution_count": 26,
   "metadata": {},
   "outputs": [
    {
     "data": {
      "text/plain": [
       "array([-1.51250875, -1.04592516, -1.02306275, ..., -1.02502088,\n",
       "       -1.02111953, -1.00732075])"
      ]
     },
     "execution_count": 26,
     "metadata": {},
     "output_type": "execute_result"
    }
   ],
   "source": [
    "clf_LOF.negative_outlier_factor_ # si ottiene il LOF score, maggiore il valore più i dati sono inliers"
   ]
  },
  {
   "cell_type": "code",
   "execution_count": 27,
   "metadata": {},
   "outputs": [
    {
     "data": {
      "text/plain": [
       "(array([-1,  1]), array([   9, 7343], dtype=int64))"
      ]
     },
     "execution_count": 27,
     "metadata": {},
     "output_type": "execute_result"
    }
   ],
   "source": [
    "np.unique(outliers, return_counts=True)"
   ]
  },
  {
   "cell_type": "markdown",
   "metadata": {},
   "source": [
    "**Abbiamo 9 outliers**"
   ]
  },
  {
   "cell_type": "code",
   "execution_count": 28,
   "metadata": {},
   "outputs": [
    {
     "data": {
      "text/plain": [
       "(array([   0,   70,   71,  564, 1904, 2532, 4729, 4730, 5066], dtype=int64),)"
      ]
     },
     "execution_count": 28,
     "metadata": {},
     "output_type": "execute_result"
    }
   ],
   "source": [
    "np.where(outliers==-1)"
   ]
  },
  {
   "cell_type": "code",
   "execution_count": 29,
   "metadata": {},
   "outputs": [
    {
     "data": {
      "text/plain": [
       "array([-1.51250875, -1.76979158, -1.75632535, -1.50302003, -1.74529324,\n",
       "       -1.5282831 , -1.5520981 , -1.73463948, -1.67653791])"
      ]
     },
     "execution_count": 29,
     "metadata": {},
     "output_type": "execute_result"
    }
   ],
   "source": [
    "clf_LOF.negative_outlier_factor_[np.where(outliers==-1)] # i valori non sono molto negativi"
   ]
  },
  {
   "cell_type": "markdown",
   "metadata": {},
   "source": [
    "Si ottengono gli indici e i punteggi degli outliers"
   ]
  },
  {
   "cell_type": "code",
   "execution_count": 30,
   "metadata": {},
   "outputs": [
    {
     "name": "stdout",
     "output_type": "stream",
     "text": [
      "9\n",
      "9\n"
     ]
    }
   ],
   "source": [
    "## ottenere gli indici degli outliers e i loro punteggi\n",
    "outlier_indexes = np.where(outliers==-1)[0] #indici\n",
    "print(len(outlier_indexes))\n",
    "\n",
    "outlier_scores = clf_LOF.negative_outlier_factor_[outlier_indexes]\n",
    "print(len(outlier_scores)) #punteggi"
   ]
  },
  {
   "cell_type": "code",
   "execution_count": 31,
   "metadata": {},
   "outputs": [
    {
     "data": {
      "text/plain": [
       "array([   0,   70,   71,  564, 1904, 2532, 4729, 4730, 5066], dtype=int64)"
      ]
     },
     "execution_count": 31,
     "metadata": {},
     "output_type": "execute_result"
    }
   ],
   "source": [
    "outlier_indexes"
   ]
  },
  {
   "cell_type": "code",
   "execution_count": 32,
   "metadata": {},
   "outputs": [
    {
     "data": {
      "text/plain": [
       "array([-1.51250875, -1.76979158, -1.75632535, -1.50302003, -1.74529324,\n",
       "       -1.5282831 , -1.5520981 , -1.73463948, -1.67653791])"
      ]
     },
     "execution_count": 32,
     "metadata": {},
     "output_type": "execute_result"
    }
   ],
   "source": [
    "outlier_scores"
   ]
  },
  {
   "cell_type": "code",
   "execution_count": 33,
   "metadata": {},
   "outputs": [
    {
     "data": {
      "text/plain": [
       "-1.5030200287611248"
      ]
     },
     "execution_count": 33,
     "metadata": {},
     "output_type": "execute_result"
    }
   ],
   "source": [
    "max_val = np.max(clf_LOF.negative_outlier_factor_[np.where(outliers==-1)])\n",
    "max_val"
   ]
  },
  {
   "cell_type": "code",
   "execution_count": 34,
   "metadata": {},
   "outputs": [
    {
     "data": {
      "text/plain": [
       "-1.769791579297301"
      ]
     },
     "execution_count": 34,
     "metadata": {},
     "output_type": "execute_result"
    }
   ],
   "source": [
    "np.min(clf_LOF.negative_outlier_factor_[np.where(outliers==-1)])"
   ]
  },
  {
   "cell_type": "code",
   "execution_count": 35,
   "metadata": {},
   "outputs": [
    {
     "data": {
      "image/png": "[encoded data removed]",
      "text/plain": [
       "<Figure size 432x288 with 1 Axes>"
      ]
     },
     "metadata": {
      "needs_background": "light"
     },
     "output_type": "display_data"
    }
   ],
   "source": [
    "plt.hist(clf_LOF.negative_outlier_factor_, bins=10)\n",
    "plt.axvline(max_val, c='r')\n",
    "plt.text(max_val, 250, 'outliers')\n",
    "plt.title(\"Negative outlier factor histogram - LOF\")\n",
    "\n",
    "plt.show()\n",
    "# distribuzione del LOF score, con barra per il minor outlier; "
   ]
  },
  {
   "cell_type": "markdown",
   "metadata": {},
   "source": [
    "**Si filtrano gli outliers dal dataset**"
   ]
  },
  {
   "cell_type": "code",
   "execution_count": 36,
   "metadata": {},
   "outputs": [
    {
     "data": {
      "text/plain": [
       "array([[ 0.28858451, -0.02029417, -0.13290514, ..., -0.84124676,\n",
       "         0.17994061, -0.05862692],\n",
       "       [-0.36120533, -0.26812111,  0.17689637, ...,  0.50873322,\n",
       "        -0.49613177, -0.50619728],\n",
       "       [-0.27706634, -0.68409659,  0.34665772, ...,  0.66828427,\n",
       "        -0.3366412 , -0.67268482],\n",
       "       ...,\n",
       "       [ 0.27479126, -0.01441455, -0.11025319, ..., -0.70860966,\n",
       "        -0.04803844, -0.128695  ],\n",
       "       [ 0.27791534, -0.01619541, -0.11841212, ..., -0.70882895,\n",
       "        -0.04898741, -0.12745808],\n",
       "       [ 0.30485751, -0.02015167, -0.10662702, ..., -0.66422331,\n",
       "         0.19773067, -0.19956916]])"
      ]
     },
     "execution_count": 36,
     "metadata": {},
     "output_type": "execute_result"
    }
   ],
   "source": [
    "# filter outlier values\n",
    "X[outlier_indexes]"
   ]
  },
  {
   "cell_type": "code",
   "execution_count": 37,
   "metadata": {},
   "outputs": [
    {
     "data": {
      "text/plain": [
       "array([[ 0.28858451, -0.02029417, -0.13290514, ..., -0.84124676,\n",
       "         0.17994061, -0.05862692],\n",
       "       [-0.36120533, -0.26812111,  0.17689637, ...,  0.50873322,\n",
       "        -0.49613177, -0.50619728],\n",
       "       [-0.27706634, -0.68409659,  0.34665772, ...,  0.66828427,\n",
       "        -0.3366412 , -0.67268482],\n",
       "       ...,\n",
       "       [ 0.27479126, -0.01441455, -0.11025319, ..., -0.70860966,\n",
       "        -0.04803844, -0.128695  ],\n",
       "       [ 0.27791534, -0.01619541, -0.11841212, ..., -0.70882895,\n",
       "        -0.04898741, -0.12745808],\n",
       "       [ 0.30485751, -0.02015167, -0.10662702, ..., -0.66422331,\n",
       "         0.19773067, -0.19956916]])"
      ]
     },
     "execution_count": 37,
     "metadata": {},
     "output_type": "execute_result"
    }
   ],
   "source": [
    "X[outliers==-1]"
   ]
  },
  {
   "cell_type": "code",
   "execution_count": 38,
   "metadata": {},
   "outputs": [
    {
     "data": {
      "text/plain": [
       "9"
      ]
     },
     "execution_count": 38,
     "metadata": {},
     "output_type": "execute_result"
    }
   ],
   "source": [
    "y_outliers  = X[outliers==-1]\n",
    "len(y_outliers)"
   ]
  },
  {
   "cell_type": "code",
   "execution_count": 39,
   "metadata": {},
   "outputs": [
    {
     "data": {
      "text/plain": [
       "array([[ 0.28858451, -0.02029417, -0.13290514, ..., -0.84124676,\n",
       "         0.17994061, -0.05862692],\n",
       "       [-0.36120533, -0.26812111,  0.17689637, ...,  0.50873322,\n",
       "        -0.49613177, -0.50619728],\n",
       "       [-0.27706634, -0.68409659,  0.34665772, ...,  0.66828427,\n",
       "        -0.3366412 , -0.67268482],\n",
       "       ...,\n",
       "       [ 0.27479126, -0.01441455, -0.11025319, ..., -0.70860966,\n",
       "        -0.04803844, -0.128695  ],\n",
       "       [ 0.27791534, -0.01619541, -0.11841212, ..., -0.70882895,\n",
       "        -0.04898741, -0.12745808],\n",
       "       [ 0.30485751, -0.02015167, -0.10662702, ..., -0.66422331,\n",
       "         0.19773067, -0.19956916]])"
      ]
     },
     "execution_count": 39,
     "metadata": {},
     "output_type": "execute_result"
    }
   ],
   "source": [
    "y_outliers"
   ]
  },
  {
   "cell_type": "raw",
   "metadata": {},
   "source": [
    "fig = plt.figure(figsize=(10,8))\n",
    "ax = fig.add_subplot(111, projection=\"3d\")\n",
    "\n",
    "x_vals = X[:, 50]\n",
    "y_vals = X[:, 49]\n",
    "z_vals = X[:, 48]\n",
    "\n",
    "ax.scatter(x_vals, y_vals, z_vals, c='b', alpha = 0.01)\n",
    "\n",
    "x_vals = outliers_LOF[:, 50]\n",
    "y_vals = outliers_LOF[:, 49]\n",
    "z_vals = outliers_LOF[:, 48]\n",
    "ax.scatter(x_vals, y_vals, z_vals, c = 'r')\n",
    "\n",
    "ax.set_xlabel('track_listens'.capitalize().replace(\"_\", \" \"), fontsize =12, labelpad=15)\n",
    "ax.set_ylabel('track_duration'.capitalize().replace(\"_\", \" \"), fontsize =12, labelpad=15)\n",
    "ax.set_zlabel('track_bit_rate'.capitalize().replace(\"_\", \" \"), fontsize =12, labelpad=15) \n",
    "\n",
    "ax.view_init(20, 30)\n",
    "plt.show()"
   ]
  },
  {
   "cell_type": "raw",
   "metadata": {},
   "source": [
    "#Scatterplot di Track listens e Track duration\n",
    "a = plt.scatter(X[:, 49], X[:, 50], c='b', edgecolor='k', s=10)\n",
    "b = plt.scatter(outliers_LOF[:, 49], outliers_LOF[:, 50], c='red', edgecolor='k', s=20)\n",
    "\n",
    "plt.xlabel('track_duration'.capitalize().replace(\"_\", \" \"), fontsize =12)\n",
    "plt.ylabel('track_listens'.capitalize().replace(\"_\", \" \"), fontsize =12)\n",
    "\n",
    "plt.title(\"Scatterplot of Track listens and Track duration - LOF\")\n",
    "plt.show()"
   ]
  },
  {
   "cell_type": "raw",
   "metadata": {},
   "source": [
    "plt.scatter(X[:, 49], X[:, 50], s=20, c = clf_LOF.negative_outlier_factor_, cmap='OrRd')\n",
    "\n",
    "plt.xlabel('track_duration'.capitalize().replace(\"_\", \" \"), fontsize =12)\n",
    "plt.ylabel('track_listens'.capitalize().replace(\"_\", \" \"), fontsize =12)\n",
    "\n",
    "plt.title(\"Scatterplot of Track listens and Track duration - LOF\")\n",
    "\n",
    "plt.colorbar()\n",
    "plt.show()"
   ]
  },
  {
   "cell_type": "raw",
   "metadata": {},
   "source": [
    "#Scatterplot di Track bit rate e Track duration\n",
    "a = plt.scatter(X[:, 49], X[:, 48], c='b', edgecolor='k', s=10)\n",
    "b = plt.scatter(outliers_LOF[:, 49], outliers_LOF[:, 48], c='red', edgecolor='k', s=20)\n",
    "\n",
    "plt.xlabel('track_duration'.capitalize().replace(\"_\", \" \"), fontsize =12)\n",
    "plt.ylabel('track_bit_rate'.capitalize().replace(\"_\", \" \"), fontsize =12)\n",
    "\n",
    "plt.title(\"Scatterplot of Track bit rate and Track duration - LOF\")\n",
    "\n",
    "plt.show()"
   ]
  },
  {
   "cell_type": "raw",
   "metadata": {},
   "source": [
    "\n",
    "plt.scatter(X[:, 49], X[:, 48], s=20, c= clf_LOF.negative_outlier_factor_, cmap='OrRd')\n",
    "\n",
    "plt.xlabel('track_duration'.capitalize().replace(\"_\", \" \"), fontsize =12)\n",
    "plt.ylabel('track_bit_rate'.capitalize().replace(\"_\", \" \"), fontsize =12)\n",
    "\n",
    "plt.title(\"Scatterplot of Track bit rate and Track duration - LOF\")\n",
    "plt.colorbar()\n",
    "plt.show()"
   ]
  },
  {
   "cell_type": "raw",
   "metadata": {},
   "source": [
    "#Scatterplot di Track bit rate e Track listens\n",
    "a = plt.scatter(X[:, 50], X[:, 48], c='b', edgecolor='k', s=10)\n",
    "b = plt.scatter(outliers_LOF[:, 50], outliers_LOF[:, 48], c='red', edgecolor='k', s=20)\n",
    "\n",
    "plt.xlabel('track_listens'.capitalize().replace(\"_\", \" \"), fontsize =12)\n",
    "plt.ylabel('track_bit_rate'.capitalize().replace(\"_\", \" \"), fontsize =12)\n",
    "\n",
    "plt.title(\"Scatterplot of Track bit rate and Track listens - LOF\")\n",
    "plt.show()"
   ]
  },
  {
   "cell_type": "raw",
   "metadata": {},
   "source": [
    "plt.scatter(X[:, 50], X[:, 48], s=20, c = clf_LOF.negative_outlier_factor_, cmap='OrRd')\n",
    "\n",
    "plt.xlabel('track_listens'.capitalize().replace(\"_\", \" \"), fontsize =12)\n",
    "plt.ylabel('track_bit_rate'.capitalize().replace(\"_\", \" \"), fontsize =12)\n",
    "\n",
    "plt.title(\"Scatterplot of Track bit rate and Track listens - LOF\")\n",
    "plt.colorbar()\n",
    "plt.show()"
   ]
  },
  {
   "cell_type": "markdown",
   "metadata": {},
   "source": [
    "**negative_outlier_factor_**\n",
    "\n",
    "**The opposite LOF of the training samples.** The higher, the more normal.\n",
    "- Inliers tend to have a **LOF score close to 1 (negative_outlier_factor_ close to -1)**\n",
    "- Outliers tend to have a **larger LOF score**.\n",
    "\n",
    "The local outlier factor (LOF) of a sample captures its supposed ‘degree of abnormality’. It is the average of the ratio of the local reachability density of a sample and those of its k-nearest neighbors."
   ]
  },
  {
   "cell_type": "markdown",
   "metadata": {},
   "source": [
    "### Top 1% outliers"
   ]
  },
  {
   "cell_type": "code",
   "execution_count": 40,
   "metadata": {},
   "outputs": [],
   "source": [
    "import math"
   ]
  },
  {
   "cell_type": "code",
   "execution_count": 41,
   "metadata": {},
   "outputs": [
    {
     "data": {
      "text/plain": [
       "7352"
      ]
     },
     "execution_count": 41,
     "metadata": {},
     "output_type": "execute_result"
    }
   ],
   "source": [
    "len(clf_LOF.negative_outlier_factor_)"
   ]
  },
  {
   "cell_type": "code",
   "execution_count": 42,
   "metadata": {},
   "outputs": [
    {
     "data": {
      "text/plain": [
       "7352"
      ]
     },
     "execution_count": 42,
     "metadata": {},
     "output_type": "execute_result"
    }
   ],
   "source": [
    "len(X)"
   ]
  },
  {
   "cell_type": "code",
   "execution_count": 43,
   "metadata": {},
   "outputs": [
    {
     "data": {
      "text/plain": [
       "1"
      ]
     },
     "execution_count": 43,
     "metadata": {},
     "output_type": "execute_result"
    }
   ],
   "source": [
    "top1perc = int(math.ceil(len(y_outliers)*0.01))\n",
    "top1perc"
   ]
  },
  {
   "cell_type": "code",
   "execution_count": 44,
   "metadata": {},
   "outputs": [
    {
     "data": {
      "text/plain": [
       "array([-1.51250875, -1.04592516, -1.02306275, ..., -1.02502088,\n",
       "       -1.02111953, -1.00732075])"
      ]
     },
     "execution_count": 44,
     "metadata": {},
     "output_type": "execute_result"
    }
   ],
   "source": [
    "clf_LOF.negative_outlier_factor_"
   ]
  },
  {
   "cell_type": "markdown",
   "metadata": {},
   "source": [
    "Lista avete indice e score per outliers **np.where(y_pred ==-1)**"
   ]
  },
  {
   "cell_type": "code",
   "execution_count": 45,
   "metadata": {},
   "outputs": [
    {
     "data": {
      "text/plain": [
       "[(0, -1.5125087450247827),\n",
       " (70, -1.769791579297301),\n",
       " (71, -1.7563253500681557),\n",
       " (564, -1.5030200287611248),\n",
       " (1904, -1.7452932413212472),\n",
       " (2532, -1.5282831036784479),\n",
       " (4729, -1.5520980998534741),\n",
       " (4730, -1.734639479878998),\n",
       " (5066, -1.6765379099568674)]"
      ]
     },
     "execution_count": 45,
     "metadata": {},
     "output_type": "execute_result"
    }
   ],
   "source": [
    "outlier_factor_list = []\n",
    "\n",
    "for i in range(0,len(outlier_scores)):\n",
    "    outlier_factor_list.append((outlier_indexes[i], outlier_scores[i]))\n",
    "    \n",
    "outlier_factor_list[:10]"
   ]
  },
  {
   "cell_type": "code",
   "execution_count": 46,
   "metadata": {},
   "outputs": [],
   "source": [
    "def outlier_score(elem):\n",
    "    return elem[1]\n",
    "\n",
    "#We sort in ascending order with respect to LOF factor\n",
    "outlier_factor_list = sorted(outlier_factor_list, key=outlier_score)"
   ]
  },
  {
   "cell_type": "code",
   "execution_count": 47,
   "metadata": {},
   "outputs": [
    {
     "data": {
      "text/plain": [
       "9"
      ]
     },
     "execution_count": 47,
     "metadata": {},
     "output_type": "execute_result"
    }
   ],
   "source": [
    "len(outlier_factor_list)"
   ]
  },
  {
   "cell_type": "code",
   "execution_count": 48,
   "metadata": {},
   "outputs": [
    {
     "data": {
      "text/plain": [
       "[(70, -1.769791579297301),\n",
       " (71, -1.7563253500681557),\n",
       " (1904, -1.7452932413212472),\n",
       " (4730, -1.734639479878998),\n",
       " (5066, -1.6765379099568674),\n",
       " (4729, -1.5520980998534741),\n",
       " (2532, -1.5282831036784479),\n",
       " (0, -1.5125087450247827),\n",
       " (564, -1.5030200287611248)]"
      ]
     },
     "execution_count": 48,
     "metadata": {},
     "output_type": "execute_result"
    }
   ],
   "source": [
    "outlier_factor_list[:23]"
   ]
  },
  {
   "cell_type": "code",
   "execution_count": 49,
   "metadata": {},
   "outputs": [
    {
     "data": {
      "text/plain": [
       "-1.769791579297301"
      ]
     },
     "execution_count": 49,
     "metadata": {},
     "output_type": "execute_result"
    }
   ],
   "source": [
    "min([i[1] for i in outlier_factor_list])"
   ]
  },
  {
   "cell_type": "code",
   "execution_count": 50,
   "metadata": {},
   "outputs": [
    {
     "data": {
      "text/plain": [
       "-1.5030200287611248"
      ]
     },
     "execution_count": 50,
     "metadata": {},
     "output_type": "execute_result"
    }
   ],
   "source": [
    "max([i[1] for i in outlier_factor_list])"
   ]
  },
  {
   "cell_type": "markdown",
   "metadata": {},
   "source": [
    "#### TOP 1% outliers"
   ]
  },
  {
   "cell_type": "code",
   "execution_count": 51,
   "metadata": {},
   "outputs": [
    {
     "data": {
      "text/plain": [
       "1"
      ]
     },
     "execution_count": 51,
     "metadata": {},
     "output_type": "execute_result"
    }
   ],
   "source": [
    "top_outliers_LOF = outlier_factor_list[:top1perc]\n",
    "len(top_outliers_LOF)"
   ]
  },
  {
   "cell_type": "code",
   "execution_count": 52,
   "metadata": {},
   "outputs": [
    {
     "data": {
      "text/plain": [
       "[(70, -1.769791579297301)]"
      ]
     },
     "execution_count": 52,
     "metadata": {},
     "output_type": "execute_result"
    }
   ],
   "source": [
    "top_outliers_LOF[:10]"
   ]
  },
  {
   "cell_type": "code",
   "execution_count": 53,
   "metadata": {},
   "outputs": [
    {
     "data": {
      "text/plain": [
       "-1.769791579297301"
      ]
     },
     "execution_count": 53,
     "metadata": {},
     "output_type": "execute_result"
    }
   ],
   "source": [
    "min([i[1] for i in top_outliers_LOF])"
   ]
  },
  {
   "cell_type": "code",
   "execution_count": 54,
   "metadata": {},
   "outputs": [
    {
     "data": {
      "text/plain": [
       "[70]"
      ]
     },
     "execution_count": 54,
     "metadata": {},
     "output_type": "execute_result"
    }
   ],
   "source": [
    "indexes_list = [i[0] for i in top_outliers_LOF] #retrieve indexes of outliers\n",
    "indexes_list"
   ]
  },
  {
   "cell_type": "code",
   "execution_count": 55,
   "metadata": {},
   "outputs": [],
   "source": [
    "df_LOF_outliers = df.iloc[indexes_list]"
   ]
  },
  {
   "cell_type": "code",
   "execution_count": 56,
   "metadata": {},
   "outputs": [
    {
     "data": {
      "text/html": [
       "<div>\n",
       "<style scoped>\n",
       "    .dataframe tbody tr th:only-of-type {\n",
       "        vertical-align: middle;\n",
       "    }\n",
       "\n",
       "    .dataframe tbody tr th {\n",
       "        vertical-align: top;\n",
       "    }\n",
       "\n",
       "    .dataframe thead th {\n",
       "        text-align: right;\n",
       "    }\n",
       "</style>\n",
       "<table border=\"1\" class=\"dataframe\">\n",
       "  <thead>\n",
       "    <tr style=\"text-align: right;\">\n",
       "      <th></th>\n",
       "      <th>tBodyAccmeanX</th>\n",
       "      <th>tBodyAccmeanY</th>\n",
       "      <th>tBodyAccmeanZ</th>\n",
       "      <th>tBodyAccstdX</th>\n",
       "      <th>tBodyAccstdY</th>\n",
       "      <th>tBodyAccstdZ</th>\n",
       "      <th>tBodyAccmadX</th>\n",
       "      <th>tBodyAccmadY</th>\n",
       "      <th>tBodyAccmadZ</th>\n",
       "      <th>tBodyAccmaxX</th>\n",
       "      <th>...</th>\n",
       "      <th>angletBodyAccMeangravity</th>\n",
       "      <th>angletBodyAccJerkMeangravityMean</th>\n",
       "      <th>angletBodyGyroMeangravityMean</th>\n",
       "      <th>angletBodyGyroJerkMeangravityMean</th>\n",
       "      <th>angleXgravityMean</th>\n",
       "      <th>angleYgravityMean</th>\n",
       "      <th>angleZgravityMean</th>\n",
       "      <th>subject</th>\n",
       "      <th>Activity</th>\n",
       "      <th>ActivityName</th>\n",
       "    </tr>\n",
       "  </thead>\n",
       "  <tbody>\n",
       "    <tr>\n",
       "      <th>70</th>\n",
       "      <td>-0.361205</td>\n",
       "      <td>-0.268121</td>\n",
       "      <td>0.176896</td>\n",
       "      <td>-0.599392</td>\n",
       "      <td>0.532506</td>\n",
       "      <td>0.004324</td>\n",
       "      <td>-0.664108</td>\n",
       "      <td>0.50226</td>\n",
       "      <td>0.048472</td>\n",
       "      <td>-0.717081</td>\n",
       "      <td>...</td>\n",
       "      <td>0.15283</td>\n",
       "      <td>0.149602</td>\n",
       "      <td>0.127245</td>\n",
       "      <td>0.192852</td>\n",
       "      <td>0.508733</td>\n",
       "      <td>-0.496132</td>\n",
       "      <td>-0.506197</td>\n",
       "      <td>1</td>\n",
       "      <td>6</td>\n",
       "      <td>LAYING</td>\n",
       "    </tr>\n",
       "  </tbody>\n",
       "</table>\n",
       "<p>1 rows × 564 columns</p>\n",
       "</div>"
      ],
      "text/plain": [
       "    tBodyAccmeanX  tBodyAccmeanY  tBodyAccmeanZ  tBodyAccstdX  tBodyAccstdY  \\\n",
       "70      -0.361205      -0.268121       0.176896     -0.599392      0.532506   \n",
       "\n",
       "    tBodyAccstdZ  tBodyAccmadX  tBodyAccmadY  tBodyAccmadZ  tBodyAccmaxX  ...  \\\n",
       "70      0.004324     -0.664108       0.50226      0.048472     -0.717081  ...   \n",
       "\n",
       "    angletBodyAccMeangravity  angletBodyAccJerkMeangravityMean  \\\n",
       "70                   0.15283                          0.149602   \n",
       "\n",
       "    angletBodyGyroMeangravityMean  angletBodyGyroJerkMeangravityMean  \\\n",
       "70                       0.127245                           0.192852   \n",
       "\n",
       "    angleXgravityMean  angleYgravityMean  angleZgravityMean  subject  \\\n",
       "70           0.508733          -0.496132          -0.506197        1   \n",
       "\n",
       "    Activity  ActivityName  \n",
       "70         6        LAYING  \n",
       "\n",
       "[1 rows x 564 columns]"
      ]
     },
     "execution_count": 56,
     "metadata": {},
     "output_type": "execute_result"
    }
   ],
   "source": [
    "df_LOF_outliers"
   ]
  },
  {
   "cell_type": "code",
   "execution_count": 57,
   "metadata": {},
   "outputs": [
    {
     "data": {
      "text/plain": [
       "[70]"
      ]
     },
     "execution_count": 57,
     "metadata": {},
     "output_type": "execute_result"
    }
   ],
   "source": [
    "#retrieve id of outliers\n",
    "outliers_id = list(df_LOF_outliers.index)\n",
    "outliers_id[:10]"
   ]
  },
  {
   "cell_type": "code",
   "execution_count": 58,
   "metadata": {},
   "outputs": [
    {
     "data": {
      "text/plain": [
       "1"
      ]
     },
     "execution_count": 58,
     "metadata": {},
     "output_type": "execute_result"
    }
   ],
   "source": [
    "len(outliers_id)"
   ]
  },
  {
   "cell_type": "code",
   "execution_count": 59,
   "metadata": {},
   "outputs": [
    {
     "data": {
      "text/plain": [
       "[(70, -1.769791579297301)]"
      ]
     },
     "execution_count": 59,
     "metadata": {},
     "output_type": "execute_result"
    }
   ],
   "source": [
    "top_outliers_LOF[:5]"
   ]
  },
  {
   "cell_type": "code",
   "execution_count": 60,
   "metadata": {},
   "outputs": [
    {
     "name": "stdout",
     "output_type": "stream",
     "text": [
      "Id with LOF score of outlierness\n"
     ]
    },
    {
     "data": {
      "text/plain": [
       "[(70, -1.769791579297301)]"
      ]
     },
     "execution_count": 60,
     "metadata": {},
     "output_type": "execute_result"
    }
   ],
   "source": [
    "top_outliers_lof_id = []\n",
    "\n",
    "for i, val in top_outliers_LOF:\n",
    "    top_outliers_lof_id.append((df.iloc[i].name, val))\n",
    "\n",
    "print(\"Id with LOF score of outlierness\")\n",
    "top_outliers_lof_id[:10]\n"
   ]
  },
  {
   "cell_type": "markdown",
   "metadata": {},
   "source": [
    "# Model based approaches"
   ]
  },
  {
   "cell_type": "markdown",
   "metadata": {},
   "source": [
    "# Isolation Forest"
   ]
  },
  {
   "cell_type": "code",
   "execution_count": 61,
   "metadata": {},
   "outputs": [],
   "source": [
    "from sklearn.ensemble import IsolationForest\n",
    "from sklearn.metrics import make_scorer, f1_score\n",
    "from sklearn import model_selection\n",
    "from sklearn.datasets import make_classification"
   ]
  },
  {
   "cell_type": "code",
   "execution_count": 62,
   "metadata": {},
   "outputs": [
    {
     "data": {
      "text/plain": [
       "IsolationForest(random_state=0)"
      ]
     },
     "execution_count": 62,
     "metadata": {},
     "output_type": "execute_result"
    }
   ],
   "source": [
    "clf_if = IsolationForest(random_state=0)\n",
    "clf_if.fit(X)"
   ]
  },
  {
   "cell_type": "markdown",
   "metadata": {},
   "source": [
    "#### Decision function"
   ]
  },
  {
   "cell_type": "code",
   "execution_count": 63,
   "metadata": {},
   "outputs": [
    {
     "data": {
      "text/plain": [
       "7352"
      ]
     },
     "execution_count": 63,
     "metadata": {},
     "output_type": "execute_result"
    }
   ],
   "source": [
    "anomlay_score_if = clf_if.decision_function(X)\n",
    "len(anomlay_score_if)"
   ]
  },
  {
   "cell_type": "code",
   "execution_count": 64,
   "metadata": {},
   "outputs": [
    {
     "data": {
      "text/plain": [
       "array([0.08474725, 0.12963195, 0.13374194, ..., 0.06507785, 0.05999005,\n",
       "       0.05983157])"
      ]
     },
     "execution_count": 64,
     "metadata": {},
     "output_type": "execute_result"
    }
   ],
   "source": [
    "anomlay_score_if"
   ]
  },
  {
   "cell_type": "markdown",
   "metadata": {},
   "source": [
    "### Predict"
   ]
  },
  {
   "cell_type": "raw",
   "metadata": {},
   "source": [
    "outliers_if_train = clf_if.predict(X_train) #-1 indica che è un outlier\n",
    "np.unique(outliers_if_train, return_counts=True)\n",
    "\n",
    "outliers_if_test = clf_if.predict(X_test) #-1 indica che è un outlier\n",
    "np.unique(outliers_if_test, return_counts=True) # si pososno testare i vari parametri disponibili, come il max_features\n",
    "\n",
    "# test ----\n",
    "print(\"Accuracy:\", list(outliers_if_test).count(1)/outliers_if_test.shape[0])\n",
    "# Accuracy: 0.92\n",
    "# train ----\n",
    "print(\"Accuracy:\", list(outliers_if_train).count(-1)/outliers_if_train.shape[0])\n",
    "# Accuracy: 0.075\n",
    "\n",
    "outlier_indexes_if = np.concatenate((np.where(outliers_if_train == -1)[0], np.where(outliers_if_test == -1)[0]), axis=0)\n",
    "np.sort(outlier_indexes_if)"
   ]
  },
  {
   "cell_type": "code",
   "execution_count": 65,
   "metadata": {},
   "outputs": [
    {
     "data": {
      "text/plain": [
       "(array([-1,  1]), array([ 552, 6800], dtype=int64))"
      ]
     },
     "execution_count": 65,
     "metadata": {},
     "output_type": "execute_result"
    }
   ],
   "source": [
    "outliers_if = clf_if.predict(X)\n",
    "np.unique(outliers_if, return_counts=True)"
   ]
  },
  {
   "cell_type": "code",
   "execution_count": 66,
   "metadata": {},
   "outputs": [
    {
     "data": {
      "text/plain": [
       "array([1, 1, 1, ..., 1, 1, 1])"
      ]
     },
     "execution_count": 66,
     "metadata": {},
     "output_type": "execute_result"
    }
   ],
   "source": [
    "outliers_if"
   ]
  },
  {
   "cell_type": "code",
   "execution_count": 67,
   "metadata": {},
   "outputs": [
    {
     "data": {
      "text/plain": [
       "array([  64,   66,   67,   69,   70,   71,   72,  134,  136,  137,  138,\n",
       "        140,  144,  237,  238,  289,  293,  299,  340,  344,  346,  378,\n",
       "        481,  482,  486,  487,  688,  797,  817,  818,  819,  950,  954,\n",
       "        955,  957,  962,  964, 1062, 1109, 1110, 1111, 1112, 1114, 1115,\n",
       "       1117, 1118, 1119, 1122, 1126, 1209, 1211, 1223, 1240, 1241, 1242,\n",
       "       1243, 1257, 1258, 1260, 1262, 1263, 1264, 1265, 1266, 1267, 1268,\n",
       "       1269, 1270, 1271, 1272, 1273, 1274, 1275, 1276, 1277, 1278, 1279,\n",
       "       1280, 1281, 1282, 1283, 1284, 1285, 1286, 1287, 1288, 1289, 1304,\n",
       "       1305, 1308, 1309, 1311, 1312, 1343, 1355, 1369, 1383, 1401, 1402,\n",
       "       1403, 1408, 1415, 1420, 1421, 1422, 1423, 1424, 1442, 1445, 1446,\n",
       "       1447, 1448, 1449, 1513, 1523, 1550, 1551, 1552, 1555, 1556, 1557,\n",
       "       1558, 1559, 1566, 1567, 1568, 1569, 1570, 1571, 1572, 1573, 1575,\n",
       "       1594, 1597, 1645, 1718, 1721, 1723, 1724, 1725, 1726, 1727, 1728,\n",
       "       1729, 1730, 1731, 1732, 1733, 1734, 1735, 1754, 1755, 1757, 1773,\n",
       "       1813, 1816, 1826, 1844, 1845, 1846, 1847, 1849, 1850, 1851, 1855,\n",
       "       1860, 1861, 1862, 1866, 1867, 1868, 1869, 1870, 1871, 1872, 1873,\n",
       "       1874, 1875, 1876, 1877, 1878, 1879, 1880, 1881, 1882, 1883, 1892,\n",
       "       1893, 1894, 1896, 1897, 2111, 2276, 2333, 2334, 2340, 2341, 2342,\n",
       "       2343, 2344, 2348, 2349, 2350, 2351, 2352, 2353, 2354, 2360, 2362,\n",
       "       2364, 2365, 2366, 2368, 2371, 2373, 2374, 2375, 2376, 2377, 2379,\n",
       "       2380, 2412, 2440, 2451, 2496, 2497, 2498, 2499, 2500, 2501, 2502,\n",
       "       2503, 2504, 2505, 2506, 2507, 2508, 2509, 2510, 2511, 2512, 2513,\n",
       "       2514, 2515, 2516, 2517, 2518, 2519, 2520, 2521, 2522, 2523, 2524,\n",
       "       2526, 2527, 2528, 2529, 2530, 2531, 2532, 2533, 2534, 2535, 2536,\n",
       "       2537, 2539, 2540, 2541, 2542, 2570, 2664, 2826, 2827, 2829, 2830,\n",
       "       2831, 2832, 2836, 2837, 2838, 2839, 2841, 2843, 2845, 2846, 2907,\n",
       "       2937, 3195, 3196, 3199, 3204, 3493, 3725, 3726, 3727, 3729, 3732,\n",
       "       3733, 3739, 3741, 3744, 3745, 3747, 3748, 3749, 3750, 3751, 3752,\n",
       "       3753, 3758, 3759, 3760, 3761, 3762, 3763, 3764, 3779, 3780, 3781,\n",
       "       3782, 3783, 3784, 3785, 3904, 3905, 3906, 3907, 3908, 3909, 3910,\n",
       "       3911, 3912, 3913, 3914, 3915, 3916, 3917, 3918, 3919, 3920, 3921,\n",
       "       3922, 3923, 3924, 3925, 3926, 3927, 3928, 3929, 3930, 3931, 3932,\n",
       "       3933, 3934, 3935, 3936, 3937, 3938, 3939, 3946, 3947, 3948, 3949,\n",
       "       3953, 3954, 3955, 3956, 3957, 3958, 3959, 3960, 3961, 3962, 3964,\n",
       "       4057, 4076, 4128, 4132, 4133, 4337, 4340, 4341, 4342, 4363, 4364,\n",
       "       4365, 4450, 4472, 4473, 4481, 4482, 4484, 4485, 4486, 4487, 4488,\n",
       "       4491, 4492, 4505, 4597, 4617, 4618, 4635, 4638, 4648, 4654, 4655,\n",
       "       4658, 4660, 4661, 4662, 4664, 4676, 4679, 4681, 4798, 4800, 4801,\n",
       "       4802, 4803, 4806, 4807, 4810, 4811, 4812, 4813, 4814, 4815, 4816,\n",
       "       4817, 4818, 4820, 4821, 4822, 4823, 4824, 4825, 4826, 4827, 4828,\n",
       "       4829, 4830, 4831, 4832, 4833, 4834, 4835, 4836, 4846, 4847, 4848,\n",
       "       4849, 4850, 4851, 4852, 4853, 4854, 4863, 4864, 4865, 4866, 4867,\n",
       "       4868, 4869, 4870, 4871, 4987, 4988, 4989, 4990, 4991, 4992, 4994,\n",
       "       4996, 4997, 4998, 4999, 5000, 5001, 5002, 5003, 5004, 5005, 5006,\n",
       "       5013, 5015, 5016, 5017, 5018, 5019, 5020, 5021, 5022, 5023, 5025,\n",
       "       5026, 5028, 5029, 5030, 5031, 5032, 5033, 5034, 5035, 5036, 5037,\n",
       "       5038, 5039, 5137, 5138, 5139, 5141, 5142, 5143, 5147, 5148, 5149,\n",
       "       5150, 5154, 5347, 5348, 5360, 5369, 5370, 5515, 5516, 5557, 5574,\n",
       "       5742, 5761, 5854, 5957, 6015, 6016, 6017, 6205, 6206, 6535, 6587,\n",
       "       6593, 6594, 6596, 6597, 6598, 6599, 6600, 6601, 6766, 6939, 7000,\n",
       "       7189, 7314], dtype=int64)"
      ]
     },
     "execution_count": 67,
     "metadata": {},
     "output_type": "execute_result"
    }
   ],
   "source": [
    "outlier_indexes_if = np.where(outliers_if == -1)[0]\n",
    "outlier_indexes_if"
   ]
  },
  {
   "cell_type": "code",
   "execution_count": 68,
   "metadata": {},
   "outputs": [
    {
     "data": {
      "text/plain": [
       "552"
      ]
     },
     "execution_count": 68,
     "metadata": {},
     "output_type": "execute_result"
    }
   ],
   "source": [
    "len(outlier_indexes_if)"
   ]
  },
  {
   "cell_type": "code",
   "execution_count": 69,
   "metadata": {},
   "outputs": [
    {
     "data": {
      "text/plain": [
       "552"
      ]
     },
     "execution_count": 69,
     "metadata": {},
     "output_type": "execute_result"
    }
   ],
   "source": [
    "outlier_scores_if = anomlay_score_if[np.where(outliers_if==-1)]\n",
    "len(outlier_scores_if)"
   ]
  },
  {
   "cell_type": "code",
   "execution_count": 70,
   "metadata": {},
   "outputs": [
    {
     "data": {
      "text/plain": [
       "[64,\n",
       " 66,\n",
       " 67,\n",
       " 69,\n",
       " 70,\n",
       " 71,\n",
       " 72,\n",
       " 134,\n",
       " 136,\n",
       " 137,\n",
       " 138,\n",
       " 140,\n",
       " 144,\n",
       " 237,\n",
       " 238,\n",
       " 289,\n",
       " 293,\n",
       " 299,\n",
       " 340,\n",
       " 344,\n",
       " 346,\n",
       " 378,\n",
       " 481,\n",
       " 482,\n",
       " 486,\n",
       " 487,\n",
       " 688,\n",
       " 797,\n",
       " 817,\n",
       " 818,\n",
       " 819,\n",
       " 950,\n",
       " 954,\n",
       " 955,\n",
       " 957,\n",
       " 962,\n",
       " 964,\n",
       " 1062,\n",
       " 1109,\n",
       " 1110,\n",
       " 1111,\n",
       " 1112,\n",
       " 1114,\n",
       " 1115,\n",
       " 1117,\n",
       " 1118,\n",
       " 1119,\n",
       " 1122,\n",
       " 1126,\n",
       " 1209,\n",
       " 1211,\n",
       " 1223,\n",
       " 1240,\n",
       " 1241,\n",
       " 1242,\n",
       " 1243,\n",
       " 1257,\n",
       " 1258,\n",
       " 1260,\n",
       " 1262,\n",
       " 1263,\n",
       " 1264,\n",
       " 1265,\n",
       " 1266,\n",
       " 1267,\n",
       " 1268,\n",
       " 1269,\n",
       " 1270,\n",
       " 1271,\n",
       " 1272,\n",
       " 1273,\n",
       " 1274,\n",
       " 1275,\n",
       " 1276,\n",
       " 1277,\n",
       " 1278,\n",
       " 1279,\n",
       " 1280,\n",
       " 1281,\n",
       " 1282,\n",
       " 1283,\n",
       " 1284,\n",
       " 1285,\n",
       " 1286,\n",
       " 1287,\n",
       " 1288,\n",
       " 1289,\n",
       " 1304,\n",
       " 1305,\n",
       " 1308,\n",
       " 1309,\n",
       " 1311,\n",
       " 1312,\n",
       " 1343,\n",
       " 1355,\n",
       " 1369,\n",
       " 1383,\n",
       " 1401,\n",
       " 1402,\n",
       " 1403,\n",
       " 1408,\n",
       " 1415,\n",
       " 1420,\n",
       " 1421,\n",
       " 1422,\n",
       " 1423,\n",
       " 1424,\n",
       " 1442,\n",
       " 1445,\n",
       " 1446,\n",
       " 1447,\n",
       " 1448,\n",
       " 1449,\n",
       " 1513,\n",
       " 1523,\n",
       " 1550,\n",
       " 1551,\n",
       " 1552,\n",
       " 1555,\n",
       " 1556,\n",
       " 1557,\n",
       " 1558,\n",
       " 1559,\n",
       " 1566,\n",
       " 1567,\n",
       " 1568,\n",
       " 1569,\n",
       " 1570,\n",
       " 1571,\n",
       " 1572,\n",
       " 1573,\n",
       " 1575,\n",
       " 1594,\n",
       " 1597,\n",
       " 1645,\n",
       " 1718,\n",
       " 1721,\n",
       " 1723,\n",
       " 1724,\n",
       " 1725,\n",
       " 1726,\n",
       " 1727,\n",
       " 1728,\n",
       " 1729,\n",
       " 1730,\n",
       " 1731,\n",
       " 1732,\n",
       " 1733,\n",
       " 1734,\n",
       " 1735,\n",
       " 1754,\n",
       " 1755,\n",
       " 1757,\n",
       " 1773,\n",
       " 1813,\n",
       " 1816,\n",
       " 1826,\n",
       " 1844,\n",
       " 1845,\n",
       " 1846,\n",
       " 1847,\n",
       " 1849,\n",
       " 1850,\n",
       " 1851,\n",
       " 1855,\n",
       " 1860,\n",
       " 1861,\n",
       " 1862,\n",
       " 1866,\n",
       " 1867,\n",
       " 1868,\n",
       " 1869,\n",
       " 1870,\n",
       " 1871,\n",
       " 1872,\n",
       " 1873,\n",
       " 1874,\n",
       " 1875,\n",
       " 1876,\n",
       " 1877,\n",
       " 1878,\n",
       " 1879,\n",
       " 1880,\n",
       " 1881,\n",
       " 1882,\n",
       " 1883,\n",
       " 1892,\n",
       " 1893,\n",
       " 1894,\n",
       " 1896,\n",
       " 1897,\n",
       " 2111,\n",
       " 2276,\n",
       " 2333,\n",
       " 2334,\n",
       " 2340,\n",
       " 2341,\n",
       " 2342,\n",
       " 2343,\n",
       " 2344,\n",
       " 2348,\n",
       " 2349,\n",
       " 2350,\n",
       " 2351,\n",
       " 2352,\n",
       " 2353,\n",
       " 2354,\n",
       " 2360,\n",
       " 2362,\n",
       " 2364,\n",
       " 2365,\n",
       " 2366,\n",
       " 2368,\n",
       " 2371,\n",
       " 2373,\n",
       " 2374,\n",
       " 2375,\n",
       " 2376,\n",
       " 2377,\n",
       " 2379,\n",
       " 2380,\n",
       " 2412,\n",
       " 2440,\n",
       " 2451,\n",
       " 2496,\n",
       " 2497,\n",
       " 2498,\n",
       " 2499,\n",
       " 2500,\n",
       " 2501,\n",
       " 2502,\n",
       " 2503,\n",
       " 2504,\n",
       " 2505,\n",
       " 2506,\n",
       " 2507,\n",
       " 2508,\n",
       " 2509,\n",
       " 2510,\n",
       " 2511,\n",
       " 2512,\n",
       " 2513,\n",
       " 2514,\n",
       " 2515,\n",
       " 2516,\n",
       " 2517,\n",
       " 2518,\n",
       " 2519,\n",
       " 2520,\n",
       " 2521,\n",
       " 2522,\n",
       " 2523,\n",
       " 2524,\n",
       " 2526,\n",
       " 2527,\n",
       " 2528,\n",
       " 2529,\n",
       " 2530,\n",
       " 2531,\n",
       " 2532,\n",
       " 2533,\n",
       " 2534,\n",
       " 2535,\n",
       " 2536,\n",
       " 2537,\n",
       " 2539,\n",
       " 2540,\n",
       " 2541,\n",
       " 2542,\n",
       " 2570,\n",
       " 2664,\n",
       " 2826,\n",
       " 2827,\n",
       " 2829,\n",
       " 2830,\n",
       " 2831,\n",
       " 2832,\n",
       " 2836,\n",
       " 2837,\n",
       " 2838,\n",
       " 2839,\n",
       " 2841,\n",
       " 2843,\n",
       " 2845,\n",
       " 2846,\n",
       " 2907,\n",
       " 2937,\n",
       " 3195,\n",
       " 3196,\n",
       " 3199,\n",
       " 3204,\n",
       " 3493,\n",
       " 3725,\n",
       " 3726,\n",
       " 3727,\n",
       " 3729,\n",
       " 3732,\n",
       " 3733,\n",
       " 3739,\n",
       " 3741,\n",
       " 3744,\n",
       " 3745,\n",
       " 3747,\n",
       " 3748,\n",
       " 3749,\n",
       " 3750,\n",
       " 3751,\n",
       " 3752,\n",
       " 3753,\n",
       " 3758,\n",
       " 3759,\n",
       " 3760,\n",
       " 3761,\n",
       " 3762,\n",
       " 3763,\n",
       " 3764,\n",
       " 3779,\n",
       " 3780,\n",
       " 3781,\n",
       " 3782,\n",
       " 3783,\n",
       " 3784,\n",
       " 3785,\n",
       " 3904,\n",
       " 3905,\n",
       " 3906,\n",
       " 3907,\n",
       " 3908,\n",
       " 3909,\n",
       " 3910,\n",
       " 3911,\n",
       " 3912,\n",
       " 3913,\n",
       " 3914,\n",
       " 3915,\n",
       " 3916,\n",
       " 3917,\n",
       " 3918,\n",
       " 3919,\n",
       " 3920,\n",
       " 3921,\n",
       " 3922,\n",
       " 3923,\n",
       " 3924,\n",
       " 3925,\n",
       " 3926,\n",
       " 3927,\n",
       " 3928,\n",
       " 3929,\n",
       " 3930,\n",
       " 3931,\n",
       " 3932,\n",
       " 3933,\n",
       " 3934,\n",
       " 3935,\n",
       " 3936,\n",
       " 3937,\n",
       " 3938,\n",
       " 3939,\n",
       " 3946,\n",
       " 3947,\n",
       " 3948,\n",
       " 3949,\n",
       " 3953,\n",
       " 3954,\n",
       " 3955,\n",
       " 3956,\n",
       " 3957,\n",
       " 3958,\n",
       " 3959,\n",
       " 3960,\n",
       " 3961,\n",
       " 3962,\n",
       " 3964,\n",
       " 4057,\n",
       " 4076,\n",
       " 4128,\n",
       " 4132,\n",
       " 4133,\n",
       " 4337,\n",
       " 4340,\n",
       " 4341,\n",
       " 4342,\n",
       " 4363,\n",
       " 4364,\n",
       " 4365,\n",
       " 4450,\n",
       " 4472,\n",
       " 4473,\n",
       " 4481,\n",
       " 4482,\n",
       " 4484,\n",
       " 4485,\n",
       " 4486,\n",
       " 4487,\n",
       " 4488,\n",
       " 4491,\n",
       " 4492,\n",
       " 4505,\n",
       " 4597,\n",
       " 4617,\n",
       " 4618,\n",
       " 4635,\n",
       " 4638,\n",
       " 4648,\n",
       " 4654,\n",
       " 4655,\n",
       " 4658,\n",
       " 4660,\n",
       " 4661,\n",
       " 4662,\n",
       " 4664,\n",
       " 4676,\n",
       " 4679,\n",
       " 4681,\n",
       " 4798,\n",
       " 4800,\n",
       " 4801,\n",
       " 4802,\n",
       " 4803,\n",
       " 4806,\n",
       " 4807,\n",
       " 4810,\n",
       " 4811,\n",
       " 4812,\n",
       " 4813,\n",
       " 4814,\n",
       " 4815,\n",
       " 4816,\n",
       " 4817,\n",
       " 4818,\n",
       " 4820,\n",
       " 4821,\n",
       " 4822,\n",
       " 4823,\n",
       " 4824,\n",
       " 4825,\n",
       " 4826,\n",
       " 4827,\n",
       " 4828,\n",
       " 4829,\n",
       " 4830,\n",
       " 4831,\n",
       " 4832,\n",
       " 4833,\n",
       " 4834,\n",
       " 4835,\n",
       " 4836,\n",
       " 4846,\n",
       " 4847,\n",
       " 4848,\n",
       " 4849,\n",
       " 4850,\n",
       " 4851,\n",
       " 4852,\n",
       " 4853,\n",
       " 4854,\n",
       " 4863,\n",
       " 4864,\n",
       " 4865,\n",
       " 4866,\n",
       " 4867,\n",
       " 4868,\n",
       " 4869,\n",
       " 4870,\n",
       " 4871,\n",
       " 4987,\n",
       " 4988,\n",
       " 4989,\n",
       " 4990,\n",
       " 4991,\n",
       " 4992,\n",
       " 4994,\n",
       " 4996,\n",
       " 4997,\n",
       " 4998,\n",
       " 4999,\n",
       " 5000,\n",
       " 5001,\n",
       " 5002,\n",
       " 5003,\n",
       " 5004,\n",
       " 5005,\n",
       " 5006,\n",
       " 5013,\n",
       " 5015,\n",
       " 5016,\n",
       " 5017,\n",
       " 5018,\n",
       " 5019,\n",
       " 5020,\n",
       " 5021,\n",
       " 5022,\n",
       " 5023,\n",
       " 5025,\n",
       " 5026,\n",
       " 5028,\n",
       " 5029,\n",
       " 5030,\n",
       " 5031,\n",
       " 5032,\n",
       " 5033,\n",
       " 5034,\n",
       " 5035,\n",
       " 5036,\n",
       " 5037,\n",
       " 5038,\n",
       " 5039,\n",
       " 5137,\n",
       " 5138,\n",
       " 5139,\n",
       " 5141,\n",
       " 5142,\n",
       " 5143,\n",
       " 5147,\n",
       " 5148,\n",
       " 5149,\n",
       " 5150,\n",
       " 5154,\n",
       " 5347,\n",
       " 5348,\n",
       " 5360,\n",
       " 5369,\n",
       " 5370,\n",
       " 5515,\n",
       " 5516,\n",
       " 5557,\n",
       " 5574,\n",
       " 5742,\n",
       " 5761,\n",
       " 5854,\n",
       " 5957,\n",
       " 6015,\n",
       " 6016,\n",
       " 6017,\n",
       " 6205,\n",
       " 6206,\n",
       " 6535,\n",
       " 6587,\n",
       " 6593,\n",
       " 6594,\n",
       " 6596,\n",
       " 6597,\n",
       " 6598,\n",
       " 6599,\n",
       " 6600,\n",
       " 6601,\n",
       " 6766,\n",
       " 6939,\n",
       " 7000,\n",
       " 7189,\n",
       " 7314]"
      ]
     },
     "execution_count": 70,
     "metadata": {},
     "output_type": "execute_result"
    }
   ],
   "source": [
    "indexes_list_if = list(outlier_indexes_if)  #retrieve index of outliers\n",
    "indexes_list_if"
   ]
  },
  {
   "cell_type": "code",
   "execution_count": 71,
   "metadata": {},
   "outputs": [
    {
     "data": {
      "text/plain": [
       "552"
      ]
     },
     "execution_count": 71,
     "metadata": {},
     "output_type": "execute_result"
    }
   ],
   "source": [
    "len(outlier_indexes_if)"
   ]
  },
  {
   "cell_type": "code",
   "execution_count": 72,
   "metadata": {},
   "outputs": [
    {
     "data": {
      "text/plain": [
       "-0.23013951676527722"
      ]
     },
     "execution_count": 72,
     "metadata": {},
     "output_type": "execute_result"
    }
   ],
   "source": [
    "np.min(outlier_scores_if)"
   ]
  },
  {
   "cell_type": "code",
   "execution_count": 73,
   "metadata": {},
   "outputs": [
    {
     "data": {
      "text/plain": [
       "-2.5011554443121753e-06"
      ]
     },
     "execution_count": 73,
     "metadata": {},
     "output_type": "execute_result"
    }
   ],
   "source": [
    "np.max(outlier_scores_if)"
   ]
  },
  {
   "cell_type": "code",
   "execution_count": 74,
   "metadata": {},
   "outputs": [
    {
     "data": {
      "image/png": "[encoded data removed]",
      "text/plain": [
       "<Figure size 432x288 with 1 Axes>"
      ]
     },
     "metadata": {
      "needs_background": "light"
     },
     "output_type": "display_data"
    }
   ],
   "source": [
    "plt.hist(anomlay_score_if, bins=20)\n",
    "plt.axvline(np.min(outlier_scores_if), c='r')\n",
    "\n",
    "plt.title(\"Isolation Forest histogram\")\n",
    "plt.show()"
   ]
  },
  {
   "cell_type": "markdown",
   "metadata": {},
   "source": [
    "### Top 1% outliers"
   ]
  },
  {
   "cell_type": "code",
   "execution_count": 75,
   "metadata": {},
   "outputs": [
    {
     "data": {
      "text/plain": [
       "552"
      ]
     },
     "execution_count": 75,
     "metadata": {},
     "output_type": "execute_result"
    }
   ],
   "source": [
    "len(outlier_scores_if)"
   ]
  },
  {
   "cell_type": "code",
   "execution_count": 76,
   "metadata": {},
   "outputs": [
    {
     "data": {
      "text/plain": [
       "[(64, -0.017231914143871707),\n",
       " (66, -0.023061347115383324),\n",
       " (67, -0.02104883651104439),\n",
       " (69, -0.03215969469022295),\n",
       " (70, -0.018152108463892258),\n",
       " (71, -0.05632194282688341),\n",
       " (72, -0.01960409311691491),\n",
       " (134, -0.06442670787515947),\n",
       " (136, -0.029988662696601498),\n",
       " (137, -0.012077694086607194),\n",
       " (138, -0.011551723820761972),\n",
       " (140, -0.01630644786510882),\n",
       " (144, -0.0015010905043564282),\n",
       " (237, -0.01029369329906904),\n",
       " (238, -0.02316833996335199),\n",
       " (289, -0.02240237097814013),\n",
       " (293, -0.007855118483056978),\n",
       " (299, -0.031227457798754577),\n",
       " (340, -0.007176490380161882),\n",
       " (344, -0.039126486480835054),\n",
       " (346, -0.008303295210554062),\n",
       " (378, -0.0020383398451927492),\n",
       " (481, -0.049033287707683115),\n",
       " (482, -0.014443355538681257),\n",
       " (486, -0.03575378943856222),\n",
       " (487, -0.07762410814798637),\n",
       " (688, -0.0067645974787526875),\n",
       " (797, -0.00040107595604810253),\n",
       " (817, -0.00035771295382935886),\n",
       " (818, -0.02161106751037778),\n",
       " (819, -0.023735531318772374),\n",
       " (950, -0.012604172144760839),\n",
       " (954, -0.014206077585935839),\n",
       " (955, -0.0036779217115225915),\n",
       " (957, -0.008882541843669323),\n",
       " (962, -0.01893196327156277),\n",
       " (964, -0.005732136925955977),\n",
       " (1062, -0.03477778874277848),\n",
       " (1109, -0.021312601492313177),\n",
       " (1110, -0.058711949877073843),\n",
       " (1111, -0.06813181226537657),\n",
       " (1112, -0.012854373232886962),\n",
       " (1114, -0.03679678078600146),\n",
       " (1115, -0.040660564534437116),\n",
       " (1117, -0.006250560682405704),\n",
       " (1118, -0.02276956215857473),\n",
       " (1119, -0.0409333001278267),\n",
       " (1122, -0.017415890073592344),\n",
       " (1126, -0.010391053945735584),\n",
       " (1209, -0.038517499792022125),\n",
       " (1211, -0.0013385308474510582),\n",
       " (1223, -0.006933924832306704),\n",
       " (1240, -0.004090153301803512),\n",
       " (1241, -0.0022433023986344613),\n",
       " (1242, -0.0398983042946891),\n",
       " (1243, -0.048026258312185655),\n",
       " (1257, -0.016177013773715165),\n",
       " (1258, -0.0038277665270546324),\n",
       " (1260, -0.008493560700271074),\n",
       " (1262, -0.002513899283622445),\n",
       " (1263, -0.018239501624085275),\n",
       " (1264, -0.010681080405794297),\n",
       " (1265, -0.00846634538169011),\n",
       " (1266, -0.11806808467999852),\n",
       " (1267, -0.0932346974914563),\n",
       " (1268, -0.10742023142425572),\n",
       " (1269, -0.08689223254515954),\n",
       " (1270, -0.12041185636693708),\n",
       " (1271, -0.14556827231322844),\n",
       " (1272, -0.12122256133787557),\n",
       " (1273, -0.09948198722860602),\n",
       " (1274, -0.16074823536855098),\n",
       " (1275, -0.11822072952046381),\n",
       " (1276, -0.09561125791662406),\n",
       " (1277, -0.0960548169805886),\n",
       " (1278, -0.06230465017372633),\n",
       " (1279, -0.09435692122764938),\n",
       " (1280, -0.0730407271172211),\n",
       " (1281, -0.0483684280751292),\n",
       " (1282, -0.051507970570359496),\n",
       " (1283, -0.0539007233156642),\n",
       " (1284, -0.051992447931616614),\n",
       " (1285, -0.03938965920062776),\n",
       " (1286, -0.11002074506061355),\n",
       " (1287, -0.11136225101583797),\n",
       " (1288, -0.06898274903774793),\n",
       " (1289, -0.09696164779515826),\n",
       " (1304, -0.02407357331812443),\n",
       " (1305, -0.023529384393656927),\n",
       " (1308, -0.03938444802598673),\n",
       " (1309, -0.025839730407026917),\n",
       " (1311, -0.025107348671927654),\n",
       " (1312, -0.04868058225712424),\n",
       " (1343, -0.006264467715844435),\n",
       " (1355, -0.02404170180626053),\n",
       " (1369, -0.033326402834487734),\n",
       " (1383, -0.010122651682682782),\n",
       " (1401, -0.004647517247538202),\n",
       " (1402, -0.004127880296990627),\n",
       " (1403, -0.00014533749862322143),\n",
       " (1408, -0.0003665192335392531),\n",
       " (1415, -0.0007305379782707178),\n",
       " (1420, -0.00428226266383247),\n",
       " (1421, -0.023433351730642538),\n",
       " (1422, -0.024584659067705683),\n",
       " (1423, -0.012892432087485806),\n",
       " (1424, -0.01911066472877354),\n",
       " (1442, -0.005675963535731521),\n",
       " (1445, -0.002281527619276247),\n",
       " (1446, -0.021280015810505648),\n",
       " (1447, -0.049454229562590934),\n",
       " (1448, -0.044698973486726246),\n",
       " (1449, -0.06315747542111316),\n",
       " (1513, -0.03099231597876262),\n",
       " (1523, -0.042351969202899076),\n",
       " (1550, -0.027197017104774956),\n",
       " (1551, -0.0366441674323944),\n",
       " (1552, -0.024238028637156073),\n",
       " (1555, -0.02492199169781617),\n",
       " (1556, -0.032206865195311685),\n",
       " (1557, -0.01880709653204804),\n",
       " (1558, -0.017323064466809535),\n",
       " (1559, -0.0032639707519387384),\n",
       " (1566, -0.025921272490048164),\n",
       " (1567, -0.03236047368246753),\n",
       " (1568, -0.04886284759862902),\n",
       " (1569, -0.016928181413474186),\n",
       " (1570, -0.011738663171833363),\n",
       " (1571, -0.037264823922157575),\n",
       " (1572, -0.026126311172656624),\n",
       " (1573, -0.020190072407730186),\n",
       " (1575, -2.5011554443121753e-06),\n",
       " (1594, -0.014529978643373354),\n",
       " (1597, -0.010433589927668518),\n",
       " (1645, -0.022288282202922116),\n",
       " (1718, -0.010313879571303364),\n",
       " (1721, -7.425582580355972e-05),\n",
       " (1723, -0.08889756476429889),\n",
       " (1724, -0.11567868332585196),\n",
       " (1725, -0.1099301775227206),\n",
       " (1726, -0.025240095814348718),\n",
       " (1727, -0.07919705175535474),\n",
       " (1728, -0.05930132955412337),\n",
       " (1729, -0.05165078534712886),\n",
       " (1730, -0.026697054229617656),\n",
       " (1731, -0.0358812706045033),\n",
       " (1732, -0.11389986714787759),\n",
       " (1733, -0.08574640513021359),\n",
       " (1734, -0.033092300728075785),\n",
       " (1735, -0.024550802905765945),\n",
       " (1754, -0.001270438062208834),\n",
       " (1755, -0.008871853108655015),\n",
       " (1757, -0.0005096020953228031),\n",
       " (1773, -0.02794043490594611),\n",
       " (1813, -0.046568440028966096),\n",
       " (1816, -0.0004202406492870292),\n",
       " (1826, -0.056517748738549645),\n",
       " (1844, -0.03018920327871688),\n",
       " (1845, -0.017541871054871816),\n",
       " (1846, -0.017399364970872577),\n",
       " (1847, -0.004299645964718213),\n",
       " (1849, -0.024281817222487234),\n",
       " (1850, -0.018390563870421928),\n",
       " (1851, -0.007762974350152274),\n",
       " (1855, -0.012652544842829738),\n",
       " (1860, -0.022502820697900328),\n",
       " (1861, -0.023878935037384363),\n",
       " (1862, -0.015694860385159548),\n",
       " (1866, -0.07874618061903416),\n",
       " (1867, -0.10291845804472732),\n",
       " (1868, -0.15367257793387112),\n",
       " (1869, -0.10188948408588128),\n",
       " (1870, -0.13430931008915015),\n",
       " (1871, -0.06506813746359563),\n",
       " (1872, -0.039101501127280947),\n",
       " (1873, -0.005637231268832754),\n",
       " (1874, -0.06376362873351282),\n",
       " (1875, -0.041494262016918526),\n",
       " (1876, -0.046514879572953194),\n",
       " (1877, -0.05957624343215295),\n",
       " (1878, -0.06458836134263224),\n",
       " (1879, -0.09064601502202041),\n",
       " (1880, -0.07181282244692422),\n",
       " (1881, -0.09611583950649039),\n",
       " (1882, -0.06128819842157762),\n",
       " (1883, -0.021290963622451864),\n",
       " (1892, -0.018938636693181965),\n",
       " (1893, -0.06765655200221043),\n",
       " (1894, -0.025882986064460045),\n",
       " (1896, -0.01024587903411367),\n",
       " (1897, -0.036469373520204074),\n",
       " (2111, -0.005787789336795246),\n",
       " (2276, -0.014532900932013648),\n",
       " (2333, -0.06180160964361947),\n",
       " (2334, -0.0319748412344012),\n",
       " (2340, -0.039636843328390126),\n",
       " (2341, -0.06570934286065466),\n",
       " (2342, -0.04583864657077941),\n",
       " (2343, -0.05083391728820075),\n",
       " (2344, -0.05903175145512052),\n",
       " (2348, -0.014793378568415227),\n",
       " (2349, -0.09102855136905763),\n",
       " (2350, -0.08106131629649815),\n",
       " (2351, -0.011701810778110056),\n",
       " (2352, -0.07285209272185811),\n",
       " (2353, -0.0629272423355639),\n",
       " (2354, -0.03105482783363711),\n",
       " (2360, -0.0035802917820901836),\n",
       " (2362, -0.00550402029979602),\n",
       " (2364, -0.0057524069485248575),\n",
       " (2365, -0.008076184694499),\n",
       " (2366, -0.014567831965759725),\n",
       " (2368, -0.006112974548388772),\n",
       " (2371, -0.013230557107130947),\n",
       " (2373, -0.005717398117845884),\n",
       " (2374, -0.03441640459388717),\n",
       " (2375, -0.02708215498315092),\n",
       " (2376, -0.023045292605656242),\n",
       " (2377, -0.016790848082365417),\n",
       " (2379, -0.004382074937315683),\n",
       " (2380, -0.034856672644157594),\n",
       " (2412, -0.013604163732530594),\n",
       " (2440, -0.04765303995677217),\n",
       " (2451, -0.07885996653412797),\n",
       " (2496, -0.0741665564831846),\n",
       " (2497, -0.08906723318036092),\n",
       " (2498, -0.08709048676268527),\n",
       " (2499, -0.11019986519160074),\n",
       " (2500, -0.0960433372973678),\n",
       " (2501, -0.02233184399389765),\n",
       " (2502, -0.0016482190633027027),\n",
       " (2503, -0.05215162080891522),\n",
       " (2504, -0.13560916617062913),\n",
       " (2505, -0.12425550574950983),\n",
       " (2506, -0.10602328533864869),\n",
       " (2507, -0.07247632343904098),\n",
       " (2508, -0.05038028339373979),\n",
       " (2509, -0.09213953751241921),\n",
       " (2510, -0.13319593312985578),\n",
       " (2511, -0.16103347308798988),\n",
       " (2512, -0.11270516271518594),\n",
       " (2513, -0.14530571560650396),\n",
       " (2514, -0.1396692544384699),\n",
       " (2515, -0.09154173893859996),\n",
       " (2516, -0.017953927742708653),\n",
       " (2517, -0.037924284111916506),\n",
       " (2518, -0.03670293212104836),\n",
       " (2519, -0.03320392602303379),\n",
       " (2520, -0.024376792629150268),\n",
       " (2521, -0.017454303144823213),\n",
       " (2522, -0.020559086757297673),\n",
       " (2523, -0.02061604914009174),\n",
       " (2524, -0.0009408165649188449),\n",
       " (2526, -0.02364069234766286),\n",
       " (2527, -0.040780380581528664),\n",
       " (2528, -0.04289384073125335),\n",
       " (2529, -0.02463194339289987),\n",
       " (2530, -0.01740990587692781),\n",
       " (2531, -0.07708583891234766),\n",
       " (2532, -0.08851775792035088),\n",
       " (2533, -0.052977190191149326),\n",
       " (2534, -0.00558215851029531),\n",
       " (2535, -0.06474579948121029),\n",
       " (2536, -0.04020464957242231),\n",
       " (2537, -0.02540630785221054),\n",
       " (2539, -0.005092798374224827),\n",
       " (2540, -0.0036807455778374853),\n",
       " (2541, -0.01153759782236452),\n",
       " (2542, -0.013377482383885586),\n",
       " (2570, -0.009831510050566816),\n",
       " (2664, -0.00966662389598727),\n",
       " (2826, -0.02923298030288235),\n",
       " (2827, -0.009573987859573974),\n",
       " (2829, -0.008444187737139286),\n",
       " (2830, -0.02649442716535888),\n",
       " (2831, -0.06838809290588288),\n",
       " (2832, -0.04083843048680802),\n",
       " (2836, -0.0024581121058090405),\n",
       " (2837, -0.03864782778256137),\n",
       " (2838, -0.06822952189266762),\n",
       " (2839, -0.0010501361778818552),\n",
       " (2841, -0.011883919444188651),\n",
       " (2843, -0.010495976476275537),\n",
       " (2845, -0.05616854209223576),\n",
       " (2846, -0.025827365341477004),\n",
       " (2907, -0.014443316312031884),\n",
       " (2937, -0.00772725915540895),\n",
       " (3195, -0.0002000678793555588),\n",
       " (3196, -0.011077469499727877),\n",
       " (3199, -0.02176203378916408),\n",
       " (3204, -0.005274176630118088),\n",
       " (3493, -0.02706565111779624),\n",
       " (3725, -0.023847248640554985),\n",
       " (3726, -0.02232301156602723),\n",
       " (3727, -0.008327898872694028),\n",
       " (3729, -0.017781104262470815),\n",
       " (3732, -0.02522342915336806),\n",
       " (3733, -0.022457832447361437),\n",
       " (3739, -0.014093704058733891),\n",
       " (3741, -0.0027479635904565924),\n",
       " (3744, -0.0027022867723922595),\n",
       " (3745, -0.013107127073713865),\n",
       " (3747, -0.016410145942374332),\n",
       " (3748, -0.04602188045426725),\n",
       " (3749, -0.03799114771357237),\n",
       " (3750, -0.03952801328538702),\n",
       " (3751, -0.06374477338357531),\n",
       " (3752, -0.059193734373779616),\n",
       " (3753, -0.031790642868242514),\n",
       " (3758, -0.06039564094528893),\n",
       " (3759, -0.06202067617437601),\n",
       " (3760, -0.12105585248339568),\n",
       " (3761, -0.09548834007161633),\n",
       " (3762, -0.07187820511075094),\n",
       " (3763, -0.13233460300148925),\n",
       " (3764, -0.14959565020077248),\n",
       " (3779, -0.025649538877590028),\n",
       " (3780, -0.09259342011523697),\n",
       " (3781, -0.0987819618685607),\n",
       " (3782, -0.09653456773002067),\n",
       " (3783, -0.09779445973315248),\n",
       " (3784, -0.0772701179963946),\n",
       " (3785, -0.0695625790875638),\n",
       " (3904, -0.04336949980070426),\n",
       " (3905, -0.057482633403724614),\n",
       " (3906, -0.048205483603229515),\n",
       " (3907, -0.08526131002127091),\n",
       " (3908, -0.10077087256229711),\n",
       " (3909, -0.06319800513730545),\n",
       " (3910, -0.09217495055887415),\n",
       " (3911, -0.09513362804735592),\n",
       " (3912, -0.051703444524563325),\n",
       " (3913, -0.020920746303125348),\n",
       " (3914, -0.05855122643653554),\n",
       " (3915, -0.12903249555166185),\n",
       " (3916, -0.001311549058400141),\n",
       " (3917, -0.06902567820231331),\n",
       " (3918, -0.022804223961613745),\n",
       " (3919, -0.03646553756973492),\n",
       " (3920, -0.05979588037074557),\n",
       " (3921, -0.03987633008135405),\n",
       " (3922, -0.07740829321420628),\n",
       " (3923, -0.08135360475956788),\n",
       " (3924, -0.05837204757526271),\n",
       " (3925, -0.07042519779450873),\n",
       " (3926, -0.09154700838688146),\n",
       " (3927, -0.060722181889207194),\n",
       " (3928, -0.1806748755662957),\n",
       " (3929, -0.18881724735516203),\n",
       " (3930, -0.19076081021661262),\n",
       " (3931, -0.1442485151620101),\n",
       " (3932, -0.19603394097729554),\n",
       " (3933, -0.16361755431304892),\n",
       " (3934, -0.2195157671465553),\n",
       " (3935, -0.2271847226444157),\n",
       " (3936, -0.18443129619890108),\n",
       " (3937, -0.1628775332736907),\n",
       " (3938, -0.19060276035765067),\n",
       " (3939, -0.23013951676527722),\n",
       " (3946, -0.006965303678595491),\n",
       " (3947, -0.017762628993722607),\n",
       " (3948, -0.07895717799754465),\n",
       " (3949, -0.032041712606243444),\n",
       " (3953, -0.14523862202318072),\n",
       " (3954, -0.1796065701417131),\n",
       " (3955, -0.19158480387048815),\n",
       " (3956, -0.15675579594644606),\n",
       " (3957, -0.17977076695252436),\n",
       " (3958, -0.16602233437823732),\n",
       " (3959, -0.028529857170532247),\n",
       " (3960, -0.053050175357642004),\n",
       " (3961, -0.05023335151570363),\n",
       " (3962, -0.016469620465592638),\n",
       " (3964, -0.007509278427426658),\n",
       " (4057, -0.014728618857669074),\n",
       " (4076, -0.020245837720159088),\n",
       " (4128, -0.040943677034490644),\n",
       " (4132, -0.0014658116394962173),\n",
       " (4133, -0.01730198592614207),\n",
       " (4337, -0.0028035200066272026),\n",
       " (4340, -0.02282075109962234),\n",
       " (4341, -0.03334541749736597),\n",
       " (4342, -0.020859682551385372),\n",
       " (4363, -0.0033535912432045567),\n",
       " (4364, -0.0029347702139163045),\n",
       " (4365, -0.00901247064324373),\n",
       " (4450, -0.0035739010378527114),\n",
       " (4472, -0.02666411498771093),\n",
       " (4473, -0.03828215631169263),\n",
       " (4481, -0.011924825806354677),\n",
       " (4482, -0.010417205119863993),\n",
       " (4484, -0.021194211698265852),\n",
       " (4485, -0.030736583616077673),\n",
       " (4486, -0.02276757069969826),\n",
       " (4487, -0.015839447128896178),\n",
       " (4488, -0.0334880960483388),\n",
       " (4491, -0.0007871224184350378),\n",
       " (4492, -0.013420151826516902),\n",
       " (4505, -0.0076071805789690305),\n",
       " (4597, -0.042796463509140126),\n",
       " (4617, -0.01056143003078669),\n",
       " (4618, -0.016891644270490946),\n",
       " (4635, -0.009047311300858007),\n",
       " (4638, -0.013021667029585848),\n",
       " (4648, -0.022431587954669596),\n",
       " (4654, -0.004278768482937623),\n",
       " (4655, -0.02221930749910861),\n",
       " (4658, -0.0023276234681613994),\n",
       " (4660, -0.016823474967132324),\n",
       " (4661, -0.023717277782543733),\n",
       " (4662, -0.002393416996050557),\n",
       " (4664, -0.013668434993676426),\n",
       " (4676, -0.005266222255512765),\n",
       " (4679, -0.007355426968879031),\n",
       " (4681, -0.007915137010520934),\n",
       " (4798, -0.0009678168525352193),\n",
       " (4800, -0.024470421568643208),\n",
       " (4801, -0.054575465999344486),\n",
       " (4802, -0.07591353771198073),\n",
       " (4803, -0.024779859715640118),\n",
       " (4806, -0.007958810808765593),\n",
       " (4807, -0.0048818017133897),\n",
       " (4810, -0.02016178153656334),\n",
       " (4811, -0.02472164752055539),\n",
       " (4812, -0.05407087404666577),\n",
       " (4813, -0.0007997072651296788),\n",
       " (4814, -0.03139424559248205),\n",
       " (4815, -0.02732364597145709),\n",
       " (4816, -0.027707792158233935),\n",
       " (4817, -0.0608715634056487),\n",
       " (4818, -0.04066740724984519),\n",
       " (4820, -0.008574749934069037),\n",
       " (4821, -0.045808102618082325),\n",
       " (4822, -0.042586450153007216),\n",
       " (4823, -0.07006458855497688),\n",
       " (4824, -0.06202640829782369),\n",
       " (4825, -0.05852276574690751),\n",
       " (4826, -0.03848355240433954),\n",
       " (4827, -0.05833131049176554),\n",
       " (4828, -0.12398041345451216),\n",
       " (4829, -0.08906090159283864),\n",
       " (4830, -0.027929122635974024),\n",
       " (4831, -0.012873809210215081),\n",
       " (4832, -0.0031265320633174776),\n",
       " (4833, -0.0045800424140156615),\n",
       " (4834, -0.0106810604627684),\n",
       " (4835, -0.06795181271244921),\n",
       " (4836, -0.10886494451902462),\n",
       " (4846, -0.02809534576796291),\n",
       " (4847, -0.06968347440038902),\n",
       " (4848, -0.04528239920208699),\n",
       " (4849, -0.00032647494675053235),\n",
       " (4850, -0.06955433227283903),\n",
       " (4851, -0.060401722167932825),\n",
       " (4852, -0.04736737207066177),\n",
       " (4853, -0.05773612036302711),\n",
       " (4854, -0.031591516811177),\n",
       " (4863, -0.10077448087532015),\n",
       " (4864, -0.013532067900520195),\n",
       " (4865, -3.0074404101299024e-05),\n",
       " (4866, -0.03072666217365605),\n",
       " (4867, -0.062335845749198815),\n",
       " (4868, -0.020370253201461352),\n",
       " (4869, -0.11756178957860985),\n",
       " (4870, -0.10538159128755575),\n",
       " (4871, -0.09765200772630356),\n",
       " (4987, -0.0011841195129393967),\n",
       " (4988, -0.005305321132515695),\n",
       " (4989, -0.01147964519578537),\n",
       " (4990, -0.07294041334462076),\n",
       " (4991, -0.06493910759052623),\n",
       " (4992, -0.04629181729488907),\n",
       " (4994, -0.01134162830137131),\n",
       " (4996, -0.03962391452072822),\n",
       " (4997, -0.0818972807201539),\n",
       " (4998, -0.1003574633827744),\n",
       " (4999, -0.02315967459337953),\n",
       " (5000, -0.08459878511895924),\n",
       " (5001, -0.08476162079966076),\n",
       " (5002, -0.07778705348005555),\n",
       " (5003, -0.03975397380331103),\n",
       " (5004, -0.05943757615486156),\n",
       " (5005, -0.059408563866449104),\n",
       " (5006, -0.010259619139291076),\n",
       " (5013, -0.02875278237657508),\n",
       " (5015, -0.09473422664637132),\n",
       " (5016, -0.12643677110871876),\n",
       " (5017, -0.11519522678455718),\n",
       " (5018, -0.09549676748323066),\n",
       " (5019, -0.10607938150297824),\n",
       " (5020, -0.1298687162383031),\n",
       " (5021, -0.09115717641132981),\n",
       " (5022, -0.12039365190221407),\n",
       " (5023, -0.08861370312978223),\n",
       " (5025, -0.053477394275852186),\n",
       " (5026, -0.06680264354187149),\n",
       " (5028, -0.055305880768732996),\n",
       " (5029, -0.1297683633172444),\n",
       " (5030, -0.13595211319228562),\n",
       " (5031, -0.15996777324164968),\n",
       " (5032, -0.06354563288635562),\n",
       " (5033, -0.05577848366579097),\n",
       " (5034, -0.08775438311822026),\n",
       " (5035, -0.10563578766521187),\n",
       " (5036, -0.05595798192188273),\n",
       " (5037, -0.002704269293293926),\n",
       " (5038, -0.0151079669548696),\n",
       " (5039, -0.027183238131500254),\n",
       " (5137, -0.036925984664049394),\n",
       " (5138, -0.04357370536608285),\n",
       " (5139, -0.01132214393873432),\n",
       " (5141, -0.03394975081966645),\n",
       " (5142, -0.04173243703437424),\n",
       " (5143, -0.05302329125326677),\n",
       " (5147, -0.000160873648055615),\n",
       " (5148, -0.016661800372345437),\n",
       " (5149, -0.04270605437593322),\n",
       " (5150, -0.03607461408735091),\n",
       " (5154, -0.01721740782911274),\n",
       " (5347, -0.010277361567262111),\n",
       " (5348, -0.0015768372463658142),\n",
       " (5360, -0.016211841258616744),\n",
       " (5369, -0.020756517753423465),\n",
       " (5370, -0.012650178721158145),\n",
       " (5515, -0.003989662495790136),\n",
       " (5516, -0.013979193588959271),\n",
       " (5557, -0.009695752718720585),\n",
       " (5574, -0.0013465322406688296),\n",
       " (5742, -0.009990621497661056),\n",
       " (5761, -0.007674660564702562),\n",
       " (5854, -0.004613847806218763),\n",
       " (5957, -0.0008457743703054188),\n",
       " (6015, -0.0009820606155425127),\n",
       " (6016, -0.03862995928784707),\n",
       " (6017, -0.0028426954229787693),\n",
       " (6205, -0.022919275980368692),\n",
       " (6206, -0.03081839918380036),\n",
       " (6535, -0.03531920280317746),\n",
       " (6587, -0.00809825084553284),\n",
       " (6593, -0.015767142280515345),\n",
       " (6594, -0.02175598947630375),\n",
       " (6596, -0.016128369538509824),\n",
       " (6597, -0.010308667831073426),\n",
       " (6598, -0.034297414006361104),\n",
       " (6599, -0.05122910511106182),\n",
       " (6600, -0.023810536602870358),\n",
       " (6601, -0.06777098737395015),\n",
       " (6766, -0.00024378590797891064),\n",
       " (6939, -0.004275749798073103),\n",
       " (7000, -0.0022476730741948225),\n",
       " (7189, -0.00048596028788205903),\n",
       " (7314, -0.005894435107958951)]"
      ]
     },
     "execution_count": 76,
     "metadata": {},
     "output_type": "execute_result"
    }
   ],
   "source": [
    "outlier_if_list = []\n",
    "\n",
    "for i in range(0,len(outlier_scores_if)):\n",
    "    outlier_if_list.append((outlier_indexes_if[i], outlier_scores_if[i]))\n",
    "    \n",
    "outlier_if_list"
   ]
  },
  {
   "cell_type": "code",
   "execution_count": null,
   "metadata": {},
   "outputs": [],
   "source": []
  },
  {
   "cell_type": "code",
   "execution_count": 77,
   "metadata": {},
   "outputs": [],
   "source": [
    "def outlier_score(elem):\n",
    "    return elem[1]\n",
    "outlier_if_list = sorted(outlier_if_list, key=outlier_score, reverse = True)"
   ]
  },
  {
   "cell_type": "code",
   "execution_count": 78,
   "metadata": {},
   "outputs": [
    {
     "data": {
      "text/plain": [
       "[(1575, -2.5011554443121753e-06),\n",
       " (4865, -3.0074404101299024e-05),\n",
       " (1721, -7.425582580355972e-05),\n",
       " (1403, -0.00014533749862322143),\n",
       " (5147, -0.000160873648055615),\n",
       " (3195, -0.0002000678793555588),\n",
       " (6766, -0.00024378590797891064),\n",
       " (4849, -0.00032647494675053235),\n",
       " (817, -0.00035771295382935886),\n",
       " (1408, -0.0003665192335392531)]"
      ]
     },
     "execution_count": 78,
     "metadata": {},
     "output_type": "execute_result"
    }
   ],
   "source": [
    "outlier_if_list[:10]"
   ]
  },
  {
   "cell_type": "code",
   "execution_count": 79,
   "metadata": {},
   "outputs": [
    {
     "data": {
      "text/plain": [
       "5"
      ]
     },
     "execution_count": 79,
     "metadata": {},
     "output_type": "execute_result"
    }
   ],
   "source": [
    "top1perc = int(math.ceil(len(outlier_indexes_if))*0.01)\n",
    "top1perc"
   ]
  },
  {
   "cell_type": "code",
   "execution_count": 80,
   "metadata": {},
   "outputs": [
    {
     "data": {
      "text/plain": [
       "[(1575, -2.5011554443121753e-06),\n",
       " (4865, -3.0074404101299024e-05),\n",
       " (1721, -7.425582580355972e-05),\n",
       " (1403, -0.00014533749862322143),\n",
       " (5147, -0.000160873648055615)]"
      ]
     },
     "execution_count": 80,
     "metadata": {},
     "output_type": "execute_result"
    }
   ],
   "source": [
    "top_outliers_if = outlier_if_list[:top1perc]\n",
    "top_outliers_if"
   ]
  },
  {
   "cell_type": "code",
   "execution_count": 81,
   "metadata": {},
   "outputs": [
    {
     "data": {
      "text/plain": [
       "[1575, 4865, 1721, 1403, 5147]"
      ]
     },
     "execution_count": 81,
     "metadata": {},
     "output_type": "execute_result"
    }
   ],
   "source": [
    "indexes_list_if = [i[0] for i in top_outliers_if] #retrieve index of outliers\n",
    "indexes_list_if"
   ]
  },
  {
   "cell_type": "code",
   "execution_count": 82,
   "metadata": {},
   "outputs": [
    {
     "data": {
      "text/html": [
       "<div>\n",
       "<style scoped>\n",
       "    .dataframe tbody tr th:only-of-type {\n",
       "        vertical-align: middle;\n",
       "    }\n",
       "\n",
       "    .dataframe tbody tr th {\n",
       "        vertical-align: top;\n",
       "    }\n",
       "\n",
       "    .dataframe thead th {\n",
       "        text-align: right;\n",
       "    }\n",
       "</style>\n",
       "<table border=\"1\" class=\"dataframe\">\n",
       "  <thead>\n",
       "    <tr style=\"text-align: right;\">\n",
       "      <th></th>\n",
       "      <th>tBodyAccmeanX</th>\n",
       "      <th>tBodyAccmeanY</th>\n",
       "      <th>tBodyAccmeanZ</th>\n",
       "      <th>tBodyAccstdX</th>\n",
       "      <th>tBodyAccstdY</th>\n",
       "      <th>tBodyAccstdZ</th>\n",
       "      <th>tBodyAccmadX</th>\n",
       "      <th>tBodyAccmadY</th>\n",
       "      <th>tBodyAccmadZ</th>\n",
       "      <th>tBodyAccmaxX</th>\n",
       "      <th>...</th>\n",
       "      <th>angletBodyAccMeangravity</th>\n",
       "      <th>angletBodyAccJerkMeangravityMean</th>\n",
       "      <th>angletBodyGyroMeangravityMean</th>\n",
       "      <th>angletBodyGyroJerkMeangravityMean</th>\n",
       "      <th>angleXgravityMean</th>\n",
       "      <th>angleYgravityMean</th>\n",
       "      <th>angleZgravityMean</th>\n",
       "      <th>subject</th>\n",
       "      <th>Activity</th>\n",
       "      <th>ActivityName</th>\n",
       "    </tr>\n",
       "  </thead>\n",
       "  <tbody>\n",
       "    <tr>\n",
       "      <th>1575</th>\n",
       "      <td>0.354038</td>\n",
       "      <td>-0.032713</td>\n",
       "      <td>-0.130041</td>\n",
       "      <td>-0.262424</td>\n",
       "      <td>0.213368</td>\n",
       "      <td>0.103241</td>\n",
       "      <td>-0.292688</td>\n",
       "      <td>0.114425</td>\n",
       "      <td>0.122945</td>\n",
       "      <td>0.090419</td>\n",
       "      <td>...</td>\n",
       "      <td>-0.692530</td>\n",
       "      <td>0.539061</td>\n",
       "      <td>0.083129</td>\n",
       "      <td>0.122397</td>\n",
       "      <td>-0.829735</td>\n",
       "      <td>0.215729</td>\n",
       "      <td>0.023493</td>\n",
       "      <td>7</td>\n",
       "      <td>1</td>\n",
       "      <td>WALKING</td>\n",
       "    </tr>\n",
       "    <tr>\n",
       "      <th>4865</th>\n",
       "      <td>0.389902</td>\n",
       "      <td>-0.010244</td>\n",
       "      <td>-0.133775</td>\n",
       "      <td>-0.013861</td>\n",
       "      <td>0.024266</td>\n",
       "      <td>0.225583</td>\n",
       "      <td>-0.117851</td>\n",
       "      <td>-0.009950</td>\n",
       "      <td>0.133203</td>\n",
       "      <td>0.577752</td>\n",
       "      <td>...</td>\n",
       "      <td>-0.819668</td>\n",
       "      <td>-0.833862</td>\n",
       "      <td>0.932973</td>\n",
       "      <td>-0.614232</td>\n",
       "      <td>-0.804107</td>\n",
       "      <td>0.153091</td>\n",
       "      <td>0.147427</td>\n",
       "      <td>23</td>\n",
       "      <td>3</td>\n",
       "      <td>WALKING_DOWNSTAIRS</td>\n",
       "    </tr>\n",
       "    <tr>\n",
       "      <th>1721</th>\n",
       "      <td>0.182742</td>\n",
       "      <td>-0.039118</td>\n",
       "      <td>-0.117717</td>\n",
       "      <td>-0.137577</td>\n",
       "      <td>0.383998</td>\n",
       "      <td>-0.118934</td>\n",
       "      <td>-0.259374</td>\n",
       "      <td>0.200017</td>\n",
       "      <td>-0.148388</td>\n",
       "      <td>0.258835</td>\n",
       "      <td>...</td>\n",
       "      <td>0.523299</td>\n",
       "      <td>-0.202218</td>\n",
       "      <td>-0.635850</td>\n",
       "      <td>-0.375724</td>\n",
       "      <td>-0.779382</td>\n",
       "      <td>0.250410</td>\n",
       "      <td>0.025955</td>\n",
       "      <td>8</td>\n",
       "      <td>3</td>\n",
       "      <td>WALKING_DOWNSTAIRS</td>\n",
       "    </tr>\n",
       "    <tr>\n",
       "      <th>1403</th>\n",
       "      <td>0.304776</td>\n",
       "      <td>-0.028572</td>\n",
       "      <td>-0.164907</td>\n",
       "      <td>-0.402016</td>\n",
       "      <td>-0.367272</td>\n",
       "      <td>0.220965</td>\n",
       "      <td>-0.420010</td>\n",
       "      <td>-0.420662</td>\n",
       "      <td>0.260617</td>\n",
       "      <td>-0.164418</td>\n",
       "      <td>...</td>\n",
       "      <td>-0.389525</td>\n",
       "      <td>0.296859</td>\n",
       "      <td>0.807310</td>\n",
       "      <td>-0.418017</td>\n",
       "      <td>-0.658561</td>\n",
       "      <td>0.173569</td>\n",
       "      <td>0.250530</td>\n",
       "      <td>7</td>\n",
       "      <td>1</td>\n",
       "      <td>WALKING</td>\n",
       "    </tr>\n",
       "    <tr>\n",
       "      <th>5147</th>\n",
       "      <td>0.256538</td>\n",
       "      <td>-0.029896</td>\n",
       "      <td>-0.089302</td>\n",
       "      <td>-0.704687</td>\n",
       "      <td>-0.900645</td>\n",
       "      <td>0.272512</td>\n",
       "      <td>-0.710488</td>\n",
       "      <td>-0.899687</td>\n",
       "      <td>0.393032</td>\n",
       "      <td>-0.825005</td>\n",
       "      <td>...</td>\n",
       "      <td>0.519732</td>\n",
       "      <td>0.122249</td>\n",
       "      <td>0.070962</td>\n",
       "      <td>-0.124897</td>\n",
       "      <td>0.490132</td>\n",
       "      <td>-0.931187</td>\n",
       "      <td>0.040132</td>\n",
       "      <td>25</td>\n",
       "      <td>6</td>\n",
       "      <td>LAYING</td>\n",
       "    </tr>\n",
       "  </tbody>\n",
       "</table>\n",
       "<p>5 rows × 564 columns</p>\n",
       "</div>"
      ],
      "text/plain": [
       "      tBodyAccmeanX  tBodyAccmeanY  tBodyAccmeanZ  tBodyAccstdX  tBodyAccstdY  \\\n",
       "1575       0.354038      -0.032713      -0.130041     -0.262424      0.213368   \n",
       "4865       0.389902      -0.010244      -0.133775     -0.013861      0.024266   \n",
       "1721       0.182742      -0.039118      -0.117717     -0.137577      0.383998   \n",
       "1403       0.304776      -0.028572      -0.164907     -0.402016     -0.367272   \n",
       "5147       0.256538      -0.029896      -0.089302     -0.704687     -0.900645   \n",
       "\n",
       "      tBodyAccstdZ  tBodyAccmadX  tBodyAccmadY  tBodyAccmadZ  tBodyAccmaxX  \\\n",
       "1575      0.103241     -0.292688      0.114425      0.122945      0.090419   \n",
       "4865      0.225583     -0.117851     -0.009950      0.133203      0.577752   \n",
       "1721     -0.118934     -0.259374      0.200017     -0.148388      0.258835   \n",
       "1403      0.220965     -0.420010     -0.420662      0.260617     -0.164418   \n",
       "5147      0.272512     -0.710488     -0.899687      0.393032     -0.825005   \n",
       "\n",
       "      ...  angletBodyAccMeangravity  angletBodyAccJerkMeangravityMean  \\\n",
       "1575  ...                 -0.692530                          0.539061   \n",
       "4865  ...                 -0.819668                         -0.833862   \n",
       "1721  ...                  0.523299                         -0.202218   \n",
       "1403  ...                 -0.389525                          0.296859   \n",
       "5147  ...                  0.519732                          0.122249   \n",
       "\n",
       "      angletBodyGyroMeangravityMean  angletBodyGyroJerkMeangravityMean  \\\n",
       "1575                       0.083129                           0.122397   \n",
       "4865                       0.932973                          -0.614232   \n",
       "1721                      -0.635850                          -0.375724   \n",
       "1403                       0.807310                          -0.418017   \n",
       "5147                       0.070962                          -0.124897   \n",
       "\n",
       "      angleXgravityMean  angleYgravityMean  angleZgravityMean  subject  \\\n",
       "1575          -0.829735           0.215729           0.023493        7   \n",
       "4865          -0.804107           0.153091           0.147427       23   \n",
       "1721          -0.779382           0.250410           0.025955        8   \n",
       "1403          -0.658561           0.173569           0.250530        7   \n",
       "5147           0.490132          -0.931187           0.040132       25   \n",
       "\n",
       "      Activity        ActivityName  \n",
       "1575         1             WALKING  \n",
       "4865         3  WALKING_DOWNSTAIRS  \n",
       "1721         3  WALKING_DOWNSTAIRS  \n",
       "1403         1             WALKING  \n",
       "5147         6              LAYING  \n",
       "\n",
       "[5 rows x 564 columns]"
      ]
     },
     "execution_count": 82,
     "metadata": {},
     "output_type": "execute_result"
    }
   ],
   "source": [
    "df_if_outliers = df.iloc[indexes_list_if]\n",
    "df_if_outliers"
   ]
  },
  {
   "cell_type": "code",
   "execution_count": 83,
   "metadata": {},
   "outputs": [
    {
     "data": {
      "text/plain": [
       "[1575, 4865, 1721, 1403, 5147]"
      ]
     },
     "execution_count": 83,
     "metadata": {},
     "output_type": "execute_result"
    }
   ],
   "source": [
    "#retrieve id of outliers\n",
    "outliers_id_if = list(df_if_outliers.index)\n",
    "outliers_id_if[:10]"
   ]
  },
  {
   "cell_type": "code",
   "execution_count": 84,
   "metadata": {},
   "outputs": [
    {
     "data": {
      "text/plain": [
       "5"
      ]
     },
     "execution_count": 84,
     "metadata": {},
     "output_type": "execute_result"
    }
   ],
   "source": [
    "len(outliers_id_if)"
   ]
  },
  {
   "cell_type": "code",
   "execution_count": 85,
   "metadata": {},
   "outputs": [
    {
     "data": {
      "text/plain": [
       "[(1575, -2.5011554443121753e-06),\n",
       " (4865, -3.0074404101299024e-05),\n",
       " (1721, -7.425582580355972e-05),\n",
       " (1403, -0.00014533749862322143),\n",
       " (5147, -0.000160873648055615)]"
      ]
     },
     "execution_count": 85,
     "metadata": {},
     "output_type": "execute_result"
    }
   ],
   "source": [
    "top_outliers_if[:5]"
   ]
  },
  {
   "cell_type": "code",
   "execution_count": 86,
   "metadata": {},
   "outputs": [
    {
     "name": "stdout",
     "output_type": "stream",
     "text": [
      "Iid with if score of outlierness\n"
     ]
    },
    {
     "data": {
      "text/plain": [
       "[(1575, -2.5011554443121753e-06),\n",
       " (4865, -3.0074404101299024e-05),\n",
       " (1721, -7.425582580355972e-05),\n",
       " (1403, -0.00014533749862322143),\n",
       " (5147, -0.000160873648055615)]"
      ]
     },
     "execution_count": 86,
     "metadata": {},
     "output_type": "execute_result"
    }
   ],
   "source": [
    "top_outliers_if_id = []\n",
    "\n",
    "for i, val in top_outliers_if:\n",
    "    top_outliers_if_id.append((df.iloc[i].name, val))\n",
    "\n",
    "print(\"Iid with if score of outlierness\")\n",
    "top_outliers_if_id[:10]"
   ]
  },
  {
   "cell_type": "code",
   "execution_count": 87,
   "metadata": {},
   "outputs": [
    {
     "data": {
      "text/plain": [
       "5"
      ]
     },
     "execution_count": 87,
     "metadata": {},
     "output_type": "execute_result"
    }
   ],
   "source": [
    "len(top_outliers_if_id)"
   ]
  },
  {
   "cell_type": "markdown",
   "metadata": {},
   "source": [
    "#### Grid search IF"
   ]
  },
  {
   "cell_type": "raw",
   "metadata": {},
   "source": [
    "#X_train, y_train = make_classification(n_samples=500, n_classes=2)\n",
    "\n",
    "clf_if2 = IsolationForest(random_state=47, behaviour='new')\n",
    "\n",
    "param_grid = {'n_estimators': list(range(100, 800, 5)), \n",
    "              'max_samples': list(range(100, 500, 5)), \n",
    "              'contamination': [0.1, 0.2, 0.3, 0.4, 0.5], \n",
    "              'max_features': [5,10,15], \n",
    "              'bootstrap': [True, False], \n",
    "              'n_jobs': [5, 10, 20, 30]}\n",
    "\n",
    "f1sc = make_scorer(f1_score, average='micro')\n",
    "def scorer_f(estimator, X):   #your own scorer\n",
    "      return np.mean(estimator.score_samples(X))\n",
    "\n",
    "grid_dt_estimator = model_selection.GridSearchCV(clf_if2, \n",
    "                                                 param_grid,\n",
    "                                                 scoring=scorer_f, \n",
    "                                                 refit=True,\n",
    "                                                 cv=10, \n",
    "                                                 return_train_score=True)\n",
    "grid_dt_estimator.fit(X_train, y_train)"
   ]
  },
  {
   "cell_type": "markdown",
   "metadata": {},
   "source": [
    "# Angle-based approach"
   ]
  },
  {
   "cell_type": "markdown",
   "metadata": {},
   "source": [
    "## ABOD (n neighbors = 10)"
   ]
  },
  {
   "cell_type": "code",
   "execution_count": 88,
   "metadata": {},
   "outputs": [
    {
     "data": {
      "text/plain": [
       "ABOD(contamination=0.1, method='fast', n_neighbors=10)"
      ]
     },
     "execution_count": 88,
     "metadata": {},
     "output_type": "execute_result"
    }
   ],
   "source": [
    "clf_ABOD = ABOD(n_neighbors = 10 )\n",
    "clf_ABOD.fit(X)"
   ]
  },
  {
   "cell_type": "markdown",
   "metadata": {},
   "source": [
    "**Decision_scores_**\n",
    "**The outlier scores of the training data.** The higher, the more abnormal.\n",
    "- Outliers tend to have higher scores. This value is available once the detector is fitted"
   ]
  },
  {
   "cell_type": "code",
   "execution_count": 89,
   "metadata": {},
   "outputs": [
    {
     "data": {
      "text/plain": [
       "array([-1.45509112e-05, -1.33620636e-04, -1.62675660e-04, ...,\n",
       "       -1.09184931e-04, -9.68393782e-05, -9.08567355e-05])"
      ]
     },
     "execution_count": 89,
     "metadata": {},
     "output_type": "execute_result"
    }
   ],
   "source": [
    "clf_ABOD.decision_scores_"
   ]
  },
  {
   "cell_type": "code",
   "execution_count": 90,
   "metadata": {},
   "outputs": [
    {
     "data": {
      "text/plain": [
       "(array([0, 1]), array([6614,  738], dtype=int64))"
      ]
     },
     "execution_count": 90,
     "metadata": {},
     "output_type": "execute_result"
    }
   ],
   "source": [
    "outliers_ABOD = clf_ABOD.predict(X)\n",
    "np.unique(outliers_ABOD, return_counts=True)"
   ]
  },
  {
   "cell_type": "code",
   "execution_count": 91,
   "metadata": {},
   "outputs": [
    {
     "data": {
      "text/plain": [
       "(array([   0,   51,   64,   66,   67,   68,   69,   70,   71,   72,   78,\n",
       "          86,  111,  131,  134,  135,  136,  137,  138,  140,  141,  144,\n",
       "         145,  155,  225,  237,  238,  271,  297,  298,  299,  302,  333,\n",
       "         335,  345,  346,  347,  348,  363,  378,  384,  387,  388,  458,\n",
       "         460,  471,  475,  478,  481,  482,  483,  485,  486,  487,  500,\n",
       "         522,  523,  536,  537,  541,  564,  565,  577,  578,  579,  594,\n",
       "         598,  609,  620,  640,  642,  643,  655,  657,  688,  703,  716,\n",
       "         727,  738,  753,  778,  799,  802,  803,  805,  814,  815,  816,\n",
       "         817,  818,  819,  821,  822,  827,  831,  847,  854,  870,  875,\n",
       "         886,  896,  920,  934,  946,  947,  953,  954,  955,  956,  959,\n",
       "         961,  962,  963,  984,  989, 1020, 1022, 1026, 1039, 1041, 1050,\n",
       "        1052, 1062, 1085, 1107, 1109, 1110, 1111, 1112, 1116, 1118, 1119,\n",
       "        1122, 1123, 1126, 1128, 1141, 1143, 1155, 1156, 1157, 1170, 1182,\n",
       "        1183, 1195, 1209, 1210, 1211, 1241, 1243, 1250, 1251, 1252, 1257,\n",
       "        1258, 1265, 1266, 1267, 1268, 1269, 1270, 1271, 1272, 1273, 1274,\n",
       "        1275, 1276, 1277, 1278, 1279, 1280, 1281, 1282, 1283, 1284, 1286,\n",
       "        1287, 1288, 1289, 1290, 1297, 1299, 1307, 1308, 1309, 1310, 1311,\n",
       "        1312, 1343, 1344, 1355, 1369, 1370, 1382, 1383, 1403, 1415, 1422,\n",
       "        1425, 1442, 1501, 1506, 1513, 1523, 1536, 1557, 1575, 1576, 1578,\n",
       "        1581, 1582, 1583, 1585, 1586, 1587, 1589, 1592, 1594, 1597, 1636,\n",
       "        1645, 1646, 1680, 1694, 1704, 1716, 1718, 1719, 1720, 1723, 1724,\n",
       "        1725, 1727, 1728, 1729, 1731, 1732, 1733, 1735, 1738, 1748, 1752,\n",
       "        1754, 1755, 1773, 1788, 1800, 1813, 1817, 1826, 1827, 1854, 1861,\n",
       "        1862, 1866, 1867, 1868, 1869, 1870, 1871, 1873, 1875, 1876, 1877,\n",
       "        1878, 1879, 1880, 1881, 1882, 1883, 1889, 1893, 1895, 1897, 1898,\n",
       "        1900, 1902, 1903, 1904, 1925, 1939, 1950, 1951, 1965, 1980, 2018,\n",
       "        2031, 2058, 2072, 2093, 2099, 2111, 2112, 2123, 2125, 2126, 2188,\n",
       "        2237, 2250, 2276, 2333, 2336, 2343, 2344, 2346, 2348, 2349, 2350,\n",
       "        2352, 2353, 2354, 2412, 2413, 2440, 2451, 2496, 2497, 2498, 2499,\n",
       "        2500, 2503, 2504, 2506, 2507, 2509, 2511, 2513, 2514, 2515, 2518,\n",
       "        2528, 2532, 2533, 2534, 2535, 2541, 2543, 2570, 2609, 2612, 2613,\n",
       "        2620, 2660, 2664, 2667, 2732, 2745, 2778, 2826, 2827, 2831, 2832,\n",
       "        2834, 2838, 2841, 2845, 2846, 2871, 2891, 2907, 2911, 2912, 2922,\n",
       "        2937, 2955, 2972, 3005, 3012, 3014, 3021, 3074, 3084, 3086, 3091,\n",
       "        3092, 3114, 3129, 3196, 3198, 3199, 3210, 3237, 3280, 3296, 3299,\n",
       "        3314, 3326, 3376, 3398, 3427, 3462, 3477, 3478, 3563, 3575, 3589,\n",
       "        3594, 3625, 3646, 3665, 3683, 3726, 3749, 3750, 3751, 3752, 3758,\n",
       "        3759, 3760, 3761, 3762, 3763, 3764, 3779, 3780, 3781, 3782, 3783,\n",
       "        3784, 3785, 3792, 3810, 3840, 3860, 3861, 3886, 3905, 3907, 3908,\n",
       "        3909, 3910, 3911, 3914, 3915, 3917, 3918, 3920, 3922, 3923, 3924,\n",
       "        3926, 3927, 3928, 3929, 3930, 3931, 3932, 3933, 3934, 3935, 3936,\n",
       "        3937, 3938, 3939, 3940, 3946, 3948, 3951, 3953, 3954, 3955, 3956,\n",
       "        3957, 3958, 3960, 3961, 3962, 3963, 3964, 3965, 3966, 3967, 3988,\n",
       "        4010, 4033, 4034, 4057, 4076, 4128, 4132, 4166, 4176, 4238, 4258,\n",
       "        4281, 4307, 4333, 4335, 4336, 4337, 4340, 4341, 4342, 4343, 4362,\n",
       "        4365, 4373, 4388, 4435, 4450, 4473, 4481, 4485, 4491, 4493, 4496,\n",
       "        4499, 4506, 4521, 4531, 4537, 4539, 4544, 4552, 4563, 4567, 4580,\n",
       "        4581, 4597, 4598, 4599, 4613, 4614, 4635, 4638, 4640, 4655, 4656,\n",
       "        4659, 4660, 4661, 4664, 4666, 4667, 4679, 4684, 4689, 4726, 4728,\n",
       "        4730, 4745, 4764, 4765, 4802, 4805, 4812, 4817, 4818, 4823, 4824,\n",
       "        4827, 4828, 4831, 4832, 4833, 4834, 4836, 4846, 4847, 4850, 4851,\n",
       "        4852, 4853, 4854, 4863, 4864, 4866, 4867, 4868, 4869, 4870, 4871,\n",
       "        4875, 4928, 4929, 4938, 4939, 4945, 4968, 4991, 4998, 4999, 5001,\n",
       "        5002, 5013, 5016, 5017, 5018, 5019, 5020, 5021, 5022, 5024, 5025,\n",
       "        5026, 5028, 5029, 5030, 5031, 5033, 5034, 5035, 5036, 5039, 5055,\n",
       "        5056, 5066, 5119, 5137, 5138, 5139, 5140, 5141, 5142, 5143, 5147,\n",
       "        5148, 5149, 5150, 5151, 5153, 5256, 5271, 5289, 5308, 5323, 5339,\n",
       "        5350, 5351, 5353, 5360, 5363, 5368, 5369, 5370, 5475, 5476, 5484,\n",
       "        5499, 5516, 5557, 5574, 5622, 5623, 5633, 5634, 5644, 5724, 5742,\n",
       "        5761, 5783, 5820, 5830, 5844, 5854, 5957, 6004, 6007, 6009, 6016,\n",
       "        6017, 6020, 6023, 6025, 6195, 6197, 6198, 6199, 6201, 6202, 6204,\n",
       "        6205, 6206, 6264, 6276, 6306, 6336, 6347, 6349, 6417, 6422, 6423,\n",
       "        6424, 6426, 6431, 6457, 6516, 6535, 6553, 6580, 6581, 6586, 6587,\n",
       "        6591, 6592, 6593, 6594, 6596, 6597, 6598, 6599, 6611, 6671, 6684,\n",
       "        6766, 6792, 6849, 6865, 6910, 6928, 6957, 6959, 6977, 6978, 7014,\n",
       "        7031, 7064, 7114, 7151, 7152, 7154, 7156, 7170, 7188, 7189, 7190,\n",
       "        7191, 7240, 7304, 7309, 7310, 7312, 7313, 7314, 7317, 7318, 7320,\n",
       "        7321], dtype=int64),)"
      ]
     },
     "execution_count": 91,
     "metadata": {},
     "output_type": "execute_result"
    }
   ],
   "source": [
    "np.where(outliers_ABOD==1)"
   ]
  },
  {
   "cell_type": "code",
   "execution_count": 92,
   "metadata": {},
   "outputs": [
    {
     "data": {
      "text/plain": [
       "738"
      ]
     },
     "execution_count": 92,
     "metadata": {},
     "output_type": "execute_result"
    }
   ],
   "source": [
    "outlier_indexes_abod = np.where(outliers_ABOD==1)[0]\n",
    "len(outlier_indexes_abod)"
   ]
  },
  {
   "cell_type": "code",
   "execution_count": 93,
   "metadata": {},
   "outputs": [
    {
     "data": {
      "text/plain": [
       "array([   0,   51,   64,   66,   67,   68,   69,   70,   71,   72,   78,\n",
       "         86,  111,  131,  134,  135,  136,  137,  138,  140,  141,  144,\n",
       "        145,  155,  225,  237,  238,  271,  297,  298,  299,  302,  333,\n",
       "        335,  345,  346,  347,  348,  363,  378,  384,  387,  388,  458,\n",
       "        460,  471,  475,  478,  481,  482,  483,  485,  486,  487,  500,\n",
       "        522,  523,  536,  537,  541,  564,  565,  577,  578,  579,  594,\n",
       "        598,  609,  620,  640,  642,  643,  655,  657,  688,  703,  716,\n",
       "        727,  738,  753,  778,  799,  802,  803,  805,  814,  815,  816,\n",
       "        817,  818,  819,  821,  822,  827,  831,  847,  854,  870,  875,\n",
       "        886,  896,  920,  934,  946,  947,  953,  954,  955,  956,  959,\n",
       "        961,  962,  963,  984,  989, 1020, 1022, 1026, 1039, 1041, 1050,\n",
       "       1052, 1062, 1085, 1107, 1109, 1110, 1111, 1112, 1116, 1118, 1119,\n",
       "       1122, 1123, 1126, 1128, 1141, 1143, 1155, 1156, 1157, 1170, 1182,\n",
       "       1183, 1195, 1209, 1210, 1211, 1241, 1243, 1250, 1251, 1252, 1257,\n",
       "       1258, 1265, 1266, 1267, 1268, 1269, 1270, 1271, 1272, 1273, 1274,\n",
       "       1275, 1276, 1277, 1278, 1279, 1280, 1281, 1282, 1283, 1284, 1286,\n",
       "       1287, 1288, 1289, 1290, 1297, 1299, 1307, 1308, 1309, 1310, 1311,\n",
       "       1312, 1343, 1344, 1355, 1369, 1370, 1382, 1383, 1403, 1415, 1422,\n",
       "       1425, 1442, 1501, 1506, 1513, 1523, 1536, 1557, 1575, 1576, 1578,\n",
       "       1581, 1582, 1583, 1585, 1586, 1587, 1589, 1592, 1594, 1597, 1636,\n",
       "       1645, 1646, 1680, 1694, 1704, 1716, 1718, 1719, 1720, 1723, 1724,\n",
       "       1725, 1727, 1728, 1729, 1731, 1732, 1733, 1735, 1738, 1748, 1752,\n",
       "       1754, 1755, 1773, 1788, 1800, 1813, 1817, 1826, 1827, 1854, 1861,\n",
       "       1862, 1866, 1867, 1868, 1869, 1870, 1871, 1873, 1875, 1876, 1877,\n",
       "       1878, 1879, 1880, 1881, 1882, 1883, 1889, 1893, 1895, 1897, 1898,\n",
       "       1900, 1902, 1903, 1904, 1925, 1939, 1950, 1951, 1965, 1980, 2018,\n",
       "       2031, 2058, 2072, 2093, 2099, 2111, 2112, 2123, 2125, 2126, 2188,\n",
       "       2237, 2250, 2276, 2333, 2336, 2343, 2344, 2346, 2348, 2349, 2350,\n",
       "       2352, 2353, 2354, 2412, 2413, 2440, 2451, 2496, 2497, 2498, 2499,\n",
       "       2500, 2503, 2504, 2506, 2507, 2509, 2511, 2513, 2514, 2515, 2518,\n",
       "       2528, 2532, 2533, 2534, 2535, 2541, 2543, 2570, 2609, 2612, 2613,\n",
       "       2620, 2660, 2664, 2667, 2732, 2745, 2778, 2826, 2827, 2831, 2832,\n",
       "       2834, 2838, 2841, 2845, 2846, 2871, 2891, 2907, 2911, 2912, 2922,\n",
       "       2937, 2955, 2972, 3005, 3012, 3014, 3021, 3074, 3084, 3086, 3091,\n",
       "       3092, 3114, 3129, 3196, 3198, 3199, 3210, 3237, 3280, 3296, 3299,\n",
       "       3314, 3326, 3376, 3398, 3427, 3462, 3477, 3478, 3563, 3575, 3589,\n",
       "       3594, 3625, 3646, 3665, 3683, 3726, 3749, 3750, 3751, 3752, 3758,\n",
       "       3759, 3760, 3761, 3762, 3763, 3764, 3779, 3780, 3781, 3782, 3783,\n",
       "       3784, 3785, 3792, 3810, 3840, 3860, 3861, 3886, 3905, 3907, 3908,\n",
       "       3909, 3910, 3911, 3914, 3915, 3917, 3918, 3920, 3922, 3923, 3924,\n",
       "       3926, 3927, 3928, 3929, 3930, 3931, 3932, 3933, 3934, 3935, 3936,\n",
       "       3937, 3938, 3939, 3940, 3946, 3948, 3951, 3953, 3954, 3955, 3956,\n",
       "       3957, 3958, 3960, 3961, 3962, 3963, 3964, 3965, 3966, 3967, 3988,\n",
       "       4010, 4033, 4034, 4057, 4076, 4128, 4132, 4166, 4176, 4238, 4258,\n",
       "       4281, 4307, 4333, 4335, 4336, 4337, 4340, 4341, 4342, 4343, 4362,\n",
       "       4365, 4373, 4388, 4435, 4450, 4473, 4481, 4485, 4491, 4493, 4496,\n",
       "       4499, 4506, 4521, 4531, 4537, 4539, 4544, 4552, 4563, 4567, 4580,\n",
       "       4581, 4597, 4598, 4599, 4613, 4614, 4635, 4638, 4640, 4655, 4656,\n",
       "       4659, 4660, 4661, 4664, 4666, 4667, 4679, 4684, 4689, 4726, 4728,\n",
       "       4730, 4745, 4764, 4765, 4802, 4805, 4812, 4817, 4818, 4823, 4824,\n",
       "       4827, 4828, 4831, 4832, 4833, 4834, 4836, 4846, 4847, 4850, 4851,\n",
       "       4852, 4853, 4854, 4863, 4864, 4866, 4867, 4868, 4869, 4870, 4871,\n",
       "       4875, 4928, 4929, 4938, 4939, 4945, 4968, 4991, 4998, 4999, 5001,\n",
       "       5002, 5013, 5016, 5017, 5018, 5019, 5020, 5021, 5022, 5024, 5025,\n",
       "       5026, 5028, 5029, 5030, 5031, 5033, 5034, 5035, 5036, 5039, 5055,\n",
       "       5056, 5066, 5119, 5137, 5138, 5139, 5140, 5141, 5142, 5143, 5147,\n",
       "       5148, 5149, 5150, 5151, 5153, 5256, 5271, 5289, 5308, 5323, 5339,\n",
       "       5350, 5351, 5353, 5360, 5363, 5368, 5369, 5370, 5475, 5476, 5484,\n",
       "       5499, 5516, 5557, 5574, 5622, 5623, 5633, 5634, 5644, 5724, 5742,\n",
       "       5761, 5783, 5820, 5830, 5844, 5854, 5957, 6004, 6007, 6009, 6016,\n",
       "       6017, 6020, 6023, 6025, 6195, 6197, 6198, 6199, 6201, 6202, 6204,\n",
       "       6205, 6206, 6264, 6276, 6306, 6336, 6347, 6349, 6417, 6422, 6423,\n",
       "       6424, 6426, 6431, 6457, 6516, 6535, 6553, 6580, 6581, 6586, 6587,\n",
       "       6591, 6592, 6593, 6594, 6596, 6597, 6598, 6599, 6611, 6671, 6684,\n",
       "       6766, 6792, 6849, 6865, 6910, 6928, 6957, 6959, 6977, 6978, 7014,\n",
       "       7031, 7064, 7114, 7151, 7152, 7154, 7156, 7170, 7188, 7189, 7190,\n",
       "       7191, 7240, 7304, 7309, 7310, 7312, 7313, 7314, 7317, 7318, 7320,\n",
       "       7321], dtype=int64)"
      ]
     },
     "execution_count": 93,
     "metadata": {},
     "output_type": "execute_result"
    }
   ],
   "source": [
    "outlier_indexes_abod"
   ]
  },
  {
   "cell_type": "code",
   "execution_count": 94,
   "metadata": {},
   "outputs": [
    {
     "data": {
      "text/plain": [
       "738"
      ]
     },
     "execution_count": 94,
     "metadata": {},
     "output_type": "execute_result"
    }
   ],
   "source": [
    "outlier_scores_abod = clf_ABOD.decision_scores_[outlier_indexes_abod]\n",
    "len(outlier_scores_abod)"
   ]
  },
  {
   "cell_type": "code",
   "execution_count": 95,
   "metadata": {},
   "outputs": [
    {
     "data": {
      "text/plain": [
       "-0.00011938437293548177"
      ]
     },
     "execution_count": 95,
     "metadata": {},
     "output_type": "execute_result"
    }
   ],
   "source": [
    "np.min(outlier_scores_abod)"
   ]
  },
  {
   "cell_type": "code",
   "execution_count": 96,
   "metadata": {},
   "outputs": [
    {
     "data": {
      "text/plain": [
       "-9.367456198726246e-07"
      ]
     },
     "execution_count": 96,
     "metadata": {},
     "output_type": "execute_result"
    }
   ],
   "source": [
    "np.max(outlier_scores_abod)"
   ]
  },
  {
   "cell_type": "code",
   "execution_count": 97,
   "metadata": {},
   "outputs": [
    {
     "data": {
      "image/png": "[encoded data removed]",
      "text/plain": [
       "<Figure size 432x288 with 1 Axes>"
      ]
     },
     "metadata": {
      "needs_background": "light"
     },
     "output_type": "display_data"
    }
   ],
   "source": [
    "plt.hist(clf_ABOD.decision_scores_, bins=20)\n",
    "plt.axvline(np.min(clf_ABOD.decision_scores_[np.where(outliers_ABOD==1)]), c='r')\n",
    "plt.title(\"ABOD histogram\")\n",
    "plt.show()"
   ]
  },
  {
   "cell_type": "markdown",
   "metadata": {},
   "source": [
    "**Outliers ABOD**"
   ]
  },
  {
   "cell_type": "code",
   "execution_count": 98,
   "metadata": {},
   "outputs": [
    {
     "data": {
      "text/plain": [
       "array([[ 0.28858451, -0.02029417, -0.13290514, ..., -0.84124676,\n",
       "         0.17994061, -0.05862692],\n",
       "       [ 0.40347433, -0.0150744 , -0.11816739, ...,  0.43247853,\n",
       "        -0.55335148, -0.43287564],\n",
       "       [ 0.01901615, -0.00703736, -0.02833336, ...,  0.20575936,\n",
       "        -0.53610387, -0.36073577],\n",
       "       ...,\n",
       "       [ 0.11234856,  0.01256934, -0.11162457, ..., -0.87771161,\n",
       "         0.16534253, -0.03606022],\n",
       "       [ 0.44452109, -0.03103301, -0.04111992, ..., -0.88192001,\n",
       "         0.13978489, -0.05622144],\n",
       "       [ 0.32421585, -0.04424116, -0.18456373, ..., -0.89318645,\n",
       "         0.12404852, -0.05541601]])"
      ]
     },
     "execution_count": 98,
     "metadata": {},
     "output_type": "execute_result"
    }
   ],
   "source": [
    "y_outliers_ABOD = X[outliers_ABOD==1]\n",
    "y_outliers_ABOD"
   ]
  },
  {
   "cell_type": "code",
   "execution_count": 99,
   "metadata": {},
   "outputs": [
    {
     "data": {
      "text/plain": [
       "738"
      ]
     },
     "execution_count": 99,
     "metadata": {},
     "output_type": "execute_result"
    }
   ],
   "source": [
    "len(y_outliers_ABOD)"
   ]
  },
  {
   "cell_type": "markdown",
   "metadata": {},
   "source": [
    "### Top 1% outliers"
   ]
  },
  {
   "cell_type": "code",
   "execution_count": 100,
   "metadata": {},
   "outputs": [
    {
     "data": {
      "text/plain": [
       "[(0, -1.4550911216057932e-05),\n",
       " (51, -4.3235063203808474e-05),\n",
       " (64, -2.674150908562184e-05),\n",
       " (66, -2.073017221592004e-05),\n",
       " (67, -1.8680721403996023e-05),\n",
       " (68, -3.276110708288269e-05),\n",
       " (69, -1.0298287630212076e-05),\n",
       " (70, -1.6911017960607798e-05),\n",
       " (71, -4.473819342238009e-06),\n",
       " (72, -2.073630834917936e-05),\n",
       " (78, -2.5715891883491865e-05),\n",
       " (86, -0.00011938437293548177),\n",
       " (111, -1.8379440586952902e-05),\n",
       " (131, -6.529073101083698e-05),\n",
       " (134, -1.0981040110813568e-05),\n",
       " (135, -3.4046534617851764e-05),\n",
       " (136, -2.0267100353229284e-05),\n",
       " (137, -1.561565134661832e-05),\n",
       " (138, -1.1259078654309094e-05),\n",
       " (140, -2.1361279682572885e-05),\n",
       " (141, -4.91906379179079e-05),\n",
       " (144, -2.017088941578228e-05),\n",
       " (145, -3.3112200405725364e-05),\n",
       " (155, -3.435530764488863e-05),\n",
       " (225, -3.852574695263523e-05),\n",
       " (237, -1.6106452685209747e-05),\n",
       " (238, -5.975479393305786e-06),\n",
       " (271, -3.394524121327065e-05),\n",
       " (297, -5.8029826504103536e-05),\n",
       " (298, -3.1783884504117705e-05),\n",
       " (299, -3.225893637985338e-05),\n",
       " (302, -5.2792641283372107e-05),\n",
       " (333, -1.56429450508354e-05),\n",
       " (335, -5.889723201358075e-05),\n",
       " (345, -2.974730202435146e-05),\n",
       " (346, -2.8314866175310568e-05),\n",
       " (347, -2.877247989702453e-05),\n",
       " (348, -2.112041030236849e-05),\n",
       " (363, -3.348021661002989e-05),\n",
       " (378, -3.3775921833684406e-05),\n",
       " (384, -3.458097354339147e-05),\n",
       " (387, -3.1304098518614555e-05),\n",
       " (388, -2.7690988684786016e-05),\n",
       " (458, -1.8096414097283476e-05),\n",
       " (460, -4.373805715557207e-05),\n",
       " (471, -4.6918605932072455e-05),\n",
       " (475, -3.6766452537536503e-05),\n",
       " (478, -2.729340816053549e-05),\n",
       " (481, -1.4310641138268337e-05),\n",
       " (482, -2.333999586381665e-05),\n",
       " (483, -2.5060722333587462e-05),\n",
       " (485, -3.491090794862005e-05),\n",
       " (486, -3.933902474926582e-05),\n",
       " (487, -2.4059844822129982e-05),\n",
       " (500, -3.376562135380841e-05),\n",
       " (522, -2.2642652669766795e-05),\n",
       " (523, -2.9397036364602617e-05),\n",
       " (536, -2.627873795613844e-05),\n",
       " (537, -2.903636473626055e-05),\n",
       " (541, -3.6436222369467676e-05),\n",
       " (564, -4.6571752329859176e-06),\n",
       " (565, -1.034045847455788e-05),\n",
       " (577, -3.0346175407405073e-05),\n",
       " (578, -2.990317705384299e-05),\n",
       " (579, -3.354402092009793e-05),\n",
       " (594, -9.62021568934156e-06),\n",
       " (598, -2.6120555672054377e-05),\n",
       " (609, -3.262056780072379e-05),\n",
       " (620, -4.924760532536823e-05),\n",
       " (640, -3.418562541820153e-05),\n",
       " (642, -3.8564381418935205e-05),\n",
       " (643, -2.6441305745434422e-05),\n",
       " (655, -4.0752875051611146e-05),\n",
       " (657, -2.2704585401730815e-05),\n",
       " (688, -2.0339870854523605e-05),\n",
       " (703, -1.7847016173378457e-05),\n",
       " (716, -4.0132892942843705e-05),\n",
       " (727, -3.9399920608270585e-05),\n",
       " (738, -3.8546569373126493e-05),\n",
       " (753, -2.290968345486153e-05),\n",
       " (778, -3.680224258691902e-05),\n",
       " (799, -3.9017545740037e-05),\n",
       " (802, -2.980613182731265e-05),\n",
       " (803, -3.6789051389090774e-05),\n",
       " (805, -2.835505857459051e-05),\n",
       " (814, -4.689626595717154e-05),\n",
       " (815, -3.728846506640767e-05),\n",
       " (816, -3.414868201253118e-05),\n",
       " (817, -2.8594507425279794e-05),\n",
       " (818, -3.2801181050481146e-05),\n",
       " (819, -2.324287552332052e-05),\n",
       " (821, -3.680534396595952e-05),\n",
       " (822, -3.401248180089795e-05),\n",
       " (827, -3.78638948299668e-05),\n",
       " (831, -3.657831961765381e-05),\n",
       " (847, -1.3253261203930311e-05),\n",
       " (854, -3.375480945075397e-05),\n",
       " (870, -3.0495644804749666e-05),\n",
       " (875, -3.0562111165861946e-05),\n",
       " (886, -2.0972666694439193e-05),\n",
       " (896, -4.6319672683185e-05),\n",
       " (920, -4.0402592021090575e-05),\n",
       " (934, -2.1879407355291305e-05),\n",
       " (946, -3.108390764685334e-05),\n",
       " (947, -2.498090296246672e-05),\n",
       " (953, -2.1601451260473154e-05),\n",
       " (954, -2.849406254435526e-05),\n",
       " (955, -1.395825042109667e-05),\n",
       " (956, -3.011026235565843e-05),\n",
       " (959, -3.7639759586705576e-05),\n",
       " (961, -3.6776263239820744e-05),\n",
       " (962, -2.1532904224590396e-05),\n",
       " (963, -3.161871257435722e-05),\n",
       " (984, -4.0888570420316835e-05),\n",
       " (989, -2.785927071410329e-05),\n",
       " (1020, -1.6504855582404583e-05),\n",
       " (1022, -3.897836989757745e-05),\n",
       " (1026, -3.9640399413514226e-05),\n",
       " (1039, -3.650668595956016e-05),\n",
       " (1041, -3.0318487216108312e-05),\n",
       " (1050, -2.4269937333802692e-05),\n",
       " (1052, -3.261048743431992e-05),\n",
       " (1062, -1.8287845818301337e-05),\n",
       " (1085, -2.520051291076675e-05),\n",
       " (1107, -2.9868556670119745e-05),\n",
       " (1109, -2.2438462395125123e-05),\n",
       " (1110, -1.3412355097157478e-05),\n",
       " (1111, -1.1352094683267383e-05),\n",
       " (1112, -2.6793720483764892e-05),\n",
       " (1116, -2.2525760227415554e-05),\n",
       " (1118, -3.687929211328934e-05),\n",
       " (1119, -1.0511582042950557e-05),\n",
       " (1122, -3.0120746263312996e-05),\n",
       " (1123, -3.56945018562094e-05),\n",
       " (1126, -2.9997187781727787e-05),\n",
       " (1128, -3.415430996866174e-05),\n",
       " (1141, -4.937886840526407e-05),\n",
       " (1143, -2.690142756339207e-05),\n",
       " (1155, -2.5178322027666586e-05),\n",
       " (1156, -2.220723414957896e-05),\n",
       " (1157, -5.625624233103136e-05),\n",
       " (1170, -3.3235084521009206e-05),\n",
       " (1182, -1.846921834138358e-05),\n",
       " (1183, -2.6990451402633606e-05),\n",
       " (1195, -3.1984049970324954e-05),\n",
       " (1209, -1.0026571413948124e-05),\n",
       " (1210, -2.5079037916872894e-05),\n",
       " (1211, -4.102313507378805e-05),\n",
       " (1241, -2.6165437264936405e-05),\n",
       " (1243, -1.7745450343201865e-05),\n",
       " (1250, -3.951704925093968e-05),\n",
       " (1251, -3.1663843348561875e-05),\n",
       " (1252, -7.899185926516449e-05),\n",
       " (1257, -1.9059113820234923e-05),\n",
       " (1258, -3.802392791797184e-05),\n",
       " (1265, -3.896852056657003e-05),\n",
       " (1266, -1.0879095208907085e-05),\n",
       " (1267, -1.7982374639053394e-05),\n",
       " (1268, -2.0542977391727934e-05),\n",
       " (1269, -2.2400455423402443e-05),\n",
       " (1270, -1.8666584048919756e-05),\n",
       " (1271, -2.621530853595749e-06),\n",
       " (1272, -1.017934097726182e-05),\n",
       " (1273, -1.5695897806932393e-05),\n",
       " (1274, -4.074211457007061e-06),\n",
       " (1275, -3.0806097615729535e-05),\n",
       " (1276, -1.1006497464705238e-05),\n",
       " (1277, -2.4253517633048004e-05),\n",
       " (1278, -1.0467354081229946e-05),\n",
       " (1279, -1.663906913159693e-05),\n",
       " (1280, -1.576490292139142e-05),\n",
       " (1281, -2.6266500314044922e-05),\n",
       " (1282, -2.1008104324590914e-05),\n",
       " (1283, -1.4139346328373828e-05),\n",
       " (1284, -1.5901864929924668e-05),\n",
       " (1286, -6.527583437640223e-06),\n",
       " (1287, -2.3063041143562023e-05),\n",
       " (1288, -2.4450356961713065e-05),\n",
       " (1289, -1.44620794856657e-05),\n",
       " (1290, -2.2521485243096697e-05),\n",
       " (1297, -4.6952030858586e-05),\n",
       " (1299, -3.373507056415043e-05),\n",
       " (1307, -3.676511979690631e-05),\n",
       " (1308, -1.4747209384690424e-05),\n",
       " (1309, -3.472856996920537e-05),\n",
       " (1310, -3.8295010219295176e-05),\n",
       " (1311, -3.194325163660883e-05),\n",
       " (1312, -1.5640472368741564e-05),\n",
       " (1343, -1.2182937887564066e-05),\n",
       " (1344, -3.423294094603301e-05),\n",
       " (1355, -1.647875793914751e-05),\n",
       " (1369, -1.3675159749111284e-05),\n",
       " (1370, -1.2392485757117472e-05),\n",
       " (1382, -3.1237183423826684e-05),\n",
       " (1383, -1.7361402839294595e-05),\n",
       " (1403, -2.727992197180956e-05),\n",
       " (1415, -6.787215582940278e-05),\n",
       " (1422, -3.9454944372378365e-05),\n",
       " (1425, -1.9859609306158334e-05),\n",
       " (1442, -2.638439627781072e-05),\n",
       " (1501, -3.0223526195292957e-05),\n",
       " (1506, -3.395389222874742e-05),\n",
       " (1513, -1.1103547644097456e-05),\n",
       " (1523, -1.722411652645093e-05),\n",
       " (1536, -3.133135711888678e-05),\n",
       " (1557, -4.306211557952954e-05),\n",
       " (1575, -4.112454220631408e-05),\n",
       " (1576, -2.983873328341717e-05),\n",
       " (1578, -2.645061418373849e-05),\n",
       " (1581, -2.963526096079273e-05),\n",
       " (1582, -1.3002869068056613e-05),\n",
       " (1583, -1.8602407913650685e-05),\n",
       " (1585, -2.4090987850088193e-05),\n",
       " (1586, -2.6877242793837268e-05),\n",
       " (1587, -2.0032402046067612e-05),\n",
       " (1589, -4.6092881559448926e-05),\n",
       " (1592, -4.017648995357913e-05),\n",
       " (1594, -3.393360773891822e-05),\n",
       " (1597, -2.2215988438264895e-05),\n",
       " (1636, -2.819414441711854e-05),\n",
       " (1645, -1.7760584033632135e-05),\n",
       " (1646, -3.770133567399148e-05),\n",
       " (1680, -1.5966647606822968e-05),\n",
       " (1694, -3.97514028561037e-05),\n",
       " (1704, -4.5057490474450265e-05),\n",
       " (1716, -3.0003962831033883e-05),\n",
       " (1718, -2.0123884396535515e-05),\n",
       " (1719, -3.329265101564386e-05),\n",
       " (1720, -3.279325257932686e-05),\n",
       " (1723, -9.662418614749129e-06),\n",
       " (1724, -3.5548737984906083e-06),\n",
       " (1725, -1.944646878039928e-05),\n",
       " (1727, -1.8395628916848642e-05),\n",
       " (1728, -2.9308072892300033e-05),\n",
       " (1729, -3.152367813710568e-05),\n",
       " (1731, -1.4284704100142103e-05),\n",
       " (1732, -1.0375426950912345e-05),\n",
       " (1733, -9.16392530167584e-06),\n",
       " (1735, -4.6820659756047357e-05),\n",
       " (1738, -2.2839571747845062e-05),\n",
       " (1748, -3.82236307723673e-05),\n",
       " (1752, -3.746738471561654e-05),\n",
       " (1754, -2.229800569673214e-05),\n",
       " (1755, -1.787810195202814e-05),\n",
       " (1773, -2.592629458426443e-05),\n",
       " (1788, -2.8812043794216678e-05),\n",
       " (1800, -2.042710657619695e-05),\n",
       " (1813, -7.243547359035251e-06),\n",
       " (1817, -2.8376128043033015e-05),\n",
       " (1826, -7.14214883162191e-06),\n",
       " (1827, -3.324808110310601e-05),\n",
       " (1854, -3.5542581061294674e-05),\n",
       " (1861, -3.326971730756404e-05),\n",
       " (1862, -1.4098729930893062e-05),\n",
       " (1866, -1.4020666934279028e-05),\n",
       " (1867, -1.8517588847318534e-05),\n",
       " (1868, -2.310909702473165e-06),\n",
       " (1869, -2.1922371600217805e-05),\n",
       " (1870, -1.3239327402225698e-05),\n",
       " (1871, -2.176849601294186e-05),\n",
       " (1873, -3.248728087356908e-05),\n",
       " (1875, -2.7344229928054936e-05),\n",
       " (1876, -3.7462053857041725e-05),\n",
       " (1877, -2.2199678278303693e-05),\n",
       " (1878, -1.2479841721365617e-05),\n",
       " (1879, -3.191677043799558e-05),\n",
       " (1880, -3.227229327325216e-05),\n",
       " (1881, -2.8024732867975536e-05),\n",
       " (1882, -3.550803275272464e-05),\n",
       " (1883, -4.481728723935627e-05),\n",
       " (1889, -3.4931297966238923e-05),\n",
       " (1893, -2.0170196577436825e-05),\n",
       " (1895, -3.1568714934936244e-05),\n",
       " (1897, -1.64429655841304e-05),\n",
       " (1898, -3.436020745200766e-05),\n",
       " (1900, -5.7568850759247774e-05),\n",
       " (1902, -2.3528615808587885e-05),\n",
       " (1903, -3.207935999059503e-05),\n",
       " (1904, -1.425753470351352e-05),\n",
       " (1925, -3.407135865023696e-05),\n",
       " (1939, -1.5013472862355915e-05),\n",
       " (1950, -3.054030129664435e-05),\n",
       " (1951, -3.683919081958835e-05),\n",
       " (1965, -2.085800047709028e-05),\n",
       " (1980, -3.246873411354047e-05),\n",
       " (2018, -4.070578283244298e-05),\n",
       " (2031, -1.6519137030289102e-05),\n",
       " (2058, -3.450290577999198e-05),\n",
       " (2072, -2.851915800393723e-05),\n",
       " (2093, -4.6600522590389786e-05),\n",
       " (2099, -1.2850192532654703e-05),\n",
       " (2111, -2.276004689741389e-05),\n",
       " (2112, -2.588033104911463e-05),\n",
       " (2123, -3.0131698691489136e-05),\n",
       " (2125, -2.239861582284117e-05),\n",
       " (2126, -3.0889135626469035e-05),\n",
       " (2188, -3.885395118090021e-05),\n",
       " (2237, -3.615916086093556e-05),\n",
       " (2250, -2.8219098021209766e-05),\n",
       " (2276, -3.076214285309753e-05),\n",
       " (2333, -3.0745140143103724e-05),\n",
       " (2336, -3.146634995682215e-05),\n",
       " (2343, -1.5167199950590497e-05),\n",
       " (2344, -2.0581658082905015e-05),\n",
       " (2346, -3.275918934457081e-05),\n",
       " (2348, -2.709106503554547e-05),\n",
       " (2349, -2.0244268760011955e-05),\n",
       " (2350, -1.1945247938128746e-05),\n",
       " (2352, -8.40388596068464e-06),\n",
       " (2353, -2.0094276566919114e-05),\n",
       " (2354, -3.964219362973265e-05),\n",
       " (2412, -2.247120835026561e-05),\n",
       " (2413, -1.2116140435853094e-05),\n",
       " (2440, -8.315077292608434e-06),\n",
       " (2451, -2.492792342781064e-06),\n",
       " (2496, -1.4843157431952511e-05),\n",
       " (2497, -2.2112356598664877e-05),\n",
       " (2498, -1.5492709881191665e-05),\n",
       " (2499, -2.3616069126569715e-05),\n",
       " (2500, -3.46529549168993e-05),\n",
       " (2503, -3.5651844491602795e-05),\n",
       " (2504, -1.9094779824060666e-05),\n",
       " (2506, -1.7117681535848728e-05),\n",
       " (2507, -3.454027627554891e-05),\n",
       " (2509, -3.292495655963594e-05),\n",
       " (2511, -6.234344506554875e-06),\n",
       " (2513, -1.3762855663266439e-05),\n",
       " (2514, -1.858839410558391e-05),\n",
       " (2515, -2.533519108298195e-05),\n",
       " (2518, -1.8509568027586703e-05),\n",
       " (2528, -3.768606551614602e-05),\n",
       " (2532, -3.7071571835492412e-06),\n",
       " (2533, -3.2402547313989044e-05),\n",
       " (2534, -2.077240100450143e-05),\n",
       " (2535, -1.3208195494894444e-05),\n",
       " (2541, -2.9541490244521994e-05),\n",
       " (2543, -2.3946390904602403e-05),\n",
       " (2570, -2.4215729102443646e-05),\n",
       " (2609, -3.527311077222196e-05),\n",
       " (2612, -3.288268736924918e-05),\n",
       " (2613, -3.503690008210798e-05),\n",
       " (2620, -1.6401651997298745e-05),\n",
       " (2660, -2.7156400007828603e-05),\n",
       " (2664, -3.434659848763439e-05),\n",
       " (2667, -2.2450939011028744e-05),\n",
       " (2732, -4.288898590479625e-05),\n",
       " (2745, -2.9519812179114618e-05),\n",
       " (2778, -2.2022050164409702e-05),\n",
       " (2826, -2.683747032067528e-05),\n",
       " (2827, -3.2771932960468173e-05),\n",
       " (2831, -1.8989128532742444e-05),\n",
       " (2832, -3.187990501944173e-05),\n",
       " (2834, -3.7072174252079346e-05),\n",
       " (2838, -1.8501487154962286e-05),\n",
       " (2841, -3.4789710573154457e-05),\n",
       " (2845, -3.329902003627391e-05),\n",
       " (2846, -4.4757773082208884e-05),\n",
       " (2871, -2.269222807261671e-05),\n",
       " (2891, -1.512249463927113e-05),\n",
       " (2907, -3.631569306974841e-05),\n",
       " (2911, -2.3163993943071198e-05),\n",
       " (2912, -3.352865593615419e-05),\n",
       " (2922, -3.558862304398361e-05),\n",
       " (2937, -3.8013357815044903e-06),\n",
       " (2955, -2.0207423457035677e-05),\n",
       " (2972, -5.2810212219848436e-05),\n",
       " (3005, -3.066274618308431e-05),\n",
       " (3012, -3.339964867256957e-05),\n",
       " (3014, -3.8854273756950103e-05),\n",
       " (3021, -3.290365939401475e-05),\n",
       " (3074, -3.168644558730473e-05),\n",
       " (3084, -4.024283858702393e-05),\n",
       " (3086, -3.5205041593497485e-05),\n",
       " (3091, -3.207009508059221e-05),\n",
       " (3092, -4.248006285767145e-05),\n",
       " (3114, -4.066577798630928e-05),\n",
       " (3129, -1.9333407315487436e-05),\n",
       " (3196, -3.3267366839007926e-05),\n",
       " (3198, -3.4037125736216665e-05),\n",
       " (3199, -1.933494629042602e-05),\n",
       " (3210, -3.7034071948881895e-05),\n",
       " (3237, -4.050131493713695e-05),\n",
       " (3280, -2.261004206829111e-05),\n",
       " (3296, -1.537708556688273e-05),\n",
       " (3299, -2.9350822173510993e-05),\n",
       " (3314, -2.6705764328888906e-05),\n",
       " (3326, -4.5622010314271645e-05),\n",
       " (3376, -3.1849079784323624e-05),\n",
       " (3398, -3.3132811932148794e-05),\n",
       " (3427, -1.466345093960157e-05),\n",
       " (3462, -3.239750917474868e-05),\n",
       " (3477, -3.2018582847313535e-05),\n",
       " (3478, -2.395150292717221e-05),\n",
       " (3563, -4.272328082563017e-05),\n",
       " (3575, -2.5236885425721576e-05),\n",
       " (3589, -3.581966802739988e-05),\n",
       " (3594, -4.0431947592966814e-05),\n",
       " (3625, -1.4784885178890262e-05),\n",
       " (3646, -1.9812789375013904e-05),\n",
       " (3665, -3.227052055869154e-05),\n",
       " (3683, -9.858211598716231e-06),\n",
       " (3726, -2.5662233090405476e-05),\n",
       " (3749, -3.4659466629442166e-05),\n",
       " (3750, -1.0246161789031247e-05),\n",
       " (3751, -2.105145341660428e-05),\n",
       " (3752, -2.7878063114736896e-05),\n",
       " (3758, -8.332808248881771e-06),\n",
       " (3759, -1.976441040528019e-05),\n",
       " (3760, -1.496368060971317e-05),\n",
       " (3761, -2.4836807657318623e-05),\n",
       " (3762, -2.70305084000654e-05),\n",
       " (3763, -7.5291134521405886e-06),\n",
       " (3764, -1.684551784234346e-05),\n",
       " (3779, -2.1989839267519995e-05),\n",
       " (3780, -2.1605403217195226e-05),\n",
       " (3781, -2.0984337578026484e-05),\n",
       " (3782, -3.124079315057559e-05),\n",
       " (3783, -1.764963209414888e-05),\n",
       " (3784, -1.0302991746033992e-05),\n",
       " (3785, -4.9421209147721365e-06),\n",
       " (3792, -2.683091174038298e-05),\n",
       " (3810, -1.8085110700471922e-05),\n",
       " (3840, -1.5259143296385423e-05),\n",
       " (3860, -2.780933006361338e-05),\n",
       " (3861, -1.8776418529220962e-05),\n",
       " (3886, -3.237123440268086e-05),\n",
       " (3905, -2.3919834843316472e-05),\n",
       " (3907, -3.294616584583625e-05),\n",
       " (3908, -1.7511769957079653e-05),\n",
       " (3909, -2.897197757018095e-05),\n",
       " (3910, -1.809087031703434e-05),\n",
       " (3911, -1.467244711868873e-05),\n",
       " (3914, -2.4141502936498998e-05),\n",
       " (3915, -1.0692674462131109e-05),\n",
       " (3917, -1.939245050863298e-05),\n",
       " (3918, -3.088706282485375e-05),\n",
       " (3920, -2.254429931217354e-05),\n",
       " (3922, -2.822778566649213e-05),\n",
       " (3923, -2.5891446269336765e-05),\n",
       " (3924, -2.5088371476323227e-05),\n",
       " (3926, -1.4072322832761702e-05),\n",
       " (3927, -3.136172224102489e-05),\n",
       " (3928, -7.28490074370509e-06),\n",
       " (3929, -1.2584875973980569e-05),\n",
       " (3930, -5.942249358537467e-06),\n",
       " (3931, -1.2631396495094578e-05),\n",
       " (3932, -1.7047611430732794e-05),\n",
       " (3933, -1.9347190625836886e-05),\n",
       " (3934, -9.367456198726246e-07),\n",
       " (3935, -4.909530895434897e-06),\n",
       " (3936, -6.0571290371324355e-06),\n",
       " (3937, -1.4583304429514626e-05),\n",
       " (3938, -9.994671469858392e-06),\n",
       " (3939, -1.4467973200193825e-06),\n",
       " (3940, -4.761228903902223e-05),\n",
       " (3946, -3.0193034610630148e-05),\n",
       " (3948, -1.5752003940732883e-05),\n",
       " (3951, -4.818731722197122e-05),\n",
       " (3953, -2.0969401876753042e-05),\n",
       " (3954, -9.671812750453541e-06),\n",
       " (3955, -8.170130961054926e-06),\n",
       " (3956, -1.443796799911319e-05),\n",
       " (3957, -1.1885206833868464e-05),\n",
       " (3958, -6.728577344301925e-06),\n",
       " (3960, -2.1624180169563156e-05),\n",
       " (3961, -2.3549113057307786e-05),\n",
       " (3962, -3.172113563833465e-05),\n",
       " (3963, -3.8804506091848865e-05),\n",
       " (3964, -3.215046426726235e-05),\n",
       " (3965, -2.585047277528812e-05),\n",
       " (3966, -2.7880461700566224e-05),\n",
       " (3967, -4.537829870131914e-05),\n",
       " (3988, -3.524147372691041e-05),\n",
       " (4010, -2.666118604713481e-05),\n",
       " (4033, -2.2942922788494233e-05),\n",
       " (4034, -3.2333754855331186e-05),\n",
       " (4057, -1.0186482329748468e-05),\n",
       " (4076, -1.9457239507689703e-05),\n",
       " (4128, -3.98046910573324e-05),\n",
       " (4132, -4.929650589402972e-05),\n",
       " (4166, -2.7145497856781014e-05),\n",
       " (4176, -2.837403409161233e-05),\n",
       " (4238, -2.1101665300379255e-05),\n",
       " (4258, -2.8304074132370726e-05),\n",
       " (4281, -8.81956329888326e-06),\n",
       " (4307, -3.2945245105386485e-05),\n",
       " (4333, -2.6104461042979608e-05),\n",
       " (4335, -3.5632481392413074e-05),\n",
       " (4336, -3.7970041518011824e-05),\n",
       " (4337, -2.992725994784394e-05),\n",
       " (4340, -2.563669882744003e-05),\n",
       " (4341, -2.2842441585740765e-05),\n",
       " (4342, -2.5479800048892334e-05),\n",
       " (4343, -2.6383587714827283e-05),\n",
       " (4362, -3.720183925370743e-05),\n",
       " (4365, -3.412000101216348e-05),\n",
       " (4373, -3.643436169251095e-05),\n",
       " (4388, -3.7460984309924526e-05),\n",
       " (4435, -3.1021690589970795e-05),\n",
       " (4450, -2.9734313275377245e-05),\n",
       " (4473, -2.7888588377090818e-05),\n",
       " (4481, -3.688567535297997e-05),\n",
       " (4485, -4.1911945019541054e-05),\n",
       " (4491, -1.997885494053371e-05),\n",
       " (4493, -3.7687115052971924e-05),\n",
       " (4496, -2.9094440306108044e-05),\n",
       " (4499, -3.823756875403701e-05),\n",
       " (4506, -3.520387276733582e-05),\n",
       " (4521, -3.478173105315589e-05),\n",
       " (4531, -4.288325608505165e-05),\n",
       " (4537, -2.464955011229565e-05),\n",
       " (4539, -2.433226752504096e-05),\n",
       " (4544, -3.218154719044894e-05),\n",
       " (4552, -3.523807679039942e-05),\n",
       " (4563, -3.8548103483286885e-05),\n",
       " (4567, -3.445990135689052e-05),\n",
       " (4580, -1.2985709171205067e-05),\n",
       " (4581, -2.63060172294887e-05),\n",
       " (4597, -1.4306334901976116e-05),\n",
       " (4598, -3.3221621868737704e-05),\n",
       " (4599, -2.9950015059202105e-05),\n",
       " (4613, -1.5872453852247654e-05),\n",
       " (4614, -3.441790414063233e-05),\n",
       " (4635, -3.884799972010882e-05),\n",
       " (4638, -1.5784767459572625e-05),\n",
       " (4640, -3.203283518445419e-05),\n",
       " (4655, -1.5172633564882898e-05),\n",
       " (4656, -3.373290486361943e-05),\n",
       " (4659, -3.450126587145471e-05),\n",
       " (4660, -3.1752806834127474e-05),\n",
       " (4661, -3.468255343230205e-05),\n",
       " (4664, -3.235080765543189e-05),\n",
       " (4666, -3.866530346058616e-05),\n",
       " (4667, -3.598802084260335e-05),\n",
       " (4679, -3.226326102642392e-05),\n",
       " (4684, -3.060570461055002e-05),\n",
       " (4689, -3.5403535805548e-05),\n",
       " (4726, -1.9473289466663504e-05),\n",
       " (4728, -2.9358774666315818e-05),\n",
       " (4730, -1.573272849678048e-05),\n",
       " (4745, -3.538381634693564e-05),\n",
       " (4764, -3.288113032518245e-05),\n",
       " (4765, -1.5520523170076878e-05),\n",
       " (4802, -8.759127394257405e-06),\n",
       " (4805, -3.887014820308784e-05),\n",
       " (4812, -4.049643639774209e-05),\n",
       " (4817, -3.4021631078744226e-05),\n",
       " (4818, -2.13394302222593e-05),\n",
       " (4823, -2.478855806249233e-05),\n",
       " (4824, -2.2042994290213704e-05),\n",
       " (4827, -1.419724512402641e-05),\n",
       " (4828, -3.906863929591603e-06),\n",
       " (4831, -2.0902674376951997e-05),\n",
       " (4832, -3.691927608966292e-05),\n",
       " (4833, -2.9770554368247072e-05),\n",
       " (4834, -3.9095264627590393e-05),\n",
       " (4836, -1.1284888451717477e-05),\n",
       " (4846, -3.2590300223223924e-05),\n",
       " (4847, -3.26784501264449e-05),\n",
       " (4850, -3.2820405621569835e-05),\n",
       " (4851, -2.4057107441473704e-05),\n",
       " (4852, -3.50162898849482e-05),\n",
       " (4853, -2.0921882863483514e-05),\n",
       " (4854, -1.602569162739213e-05),\n",
       " (4863, -8.506224851763876e-06),\n",
       " (4864, -3.131313250508729e-05),\n",
       " (4866, -2.7997427404268224e-05),\n",
       " (4867, -1.1321584104524648e-05),\n",
       " (4868, -4.376666565599756e-05),\n",
       " (4869, -1.5417875285469407e-05),\n",
       " (4870, -3.492157048678325e-05),\n",
       " (4871, -1.9585166430069843e-05),\n",
       " (4875, -3.249869876365011e-05),\n",
       " (4928, -3.364102322824623e-05),\n",
       " (4929, -1.8121190587285172e-05),\n",
       " (4938, -2.94815387733829e-05),\n",
       " (4939, -1.581710347052117e-05),\n",
       " (4945, -2.1248378703644263e-05),\n",
       " (4968, -2.4806960542217904e-05),\n",
       " (4991, -1.4766582756803204e-05),\n",
       " (4998, -2.623781511918778e-05),\n",
       " (4999, -3.8958778686724634e-05),\n",
       " (5001, -2.7738095589326833e-05),\n",
       " (5002, -1.4780867370493479e-05),\n",
       " (5013, -2.5799658403995276e-05),\n",
       " (5016, -9.89888580836513e-06),\n",
       " (5017, -3.480741887925833e-05),\n",
       " (5018, -1.2989775814432222e-05),\n",
       " (5019, -1.431102562796678e-05),\n",
       " (5020, -4.888125795228939e-06),\n",
       " (5021, -2.2931968126412724e-05),\n",
       " (5022, -7.651135041692758e-06),\n",
       " (5024, -2.144974723098905e-05),\n",
       " (5025, -4.047256751021228e-05),\n",
       " (5026, -2.396074510021279e-05),\n",
       " (5028, -1.7079026945681313e-05),\n",
       " (5029, -1.1582263311156918e-05),\n",
       " (5030, -1.085095972537096e-05),\n",
       " (5031, -4.758686348878722e-06),\n",
       " (5033, -1.2488470913810936e-05),\n",
       " (5034, -2.5667445695393976e-05),\n",
       " (5035, -1.2621253229104649e-05),\n",
       " (5036, -1.9462300503058002e-05),\n",
       " (5039, -2.8413026807102027e-05),\n",
       " (5055, -4.257542066732159e-05),\n",
       " (5056, -1.8492481930904064e-05),\n",
       " (5066, -1.1093523071541234e-05),\n",
       " (5119, -3.750345415727613e-05),\n",
       " (5137, -5.373576756302842e-06),\n",
       " (5138, -3.302473561058909e-05),\n",
       " (5139, -2.3196573834371377e-05),\n",
       " (5140, -2.6005475139836793e-05),\n",
       " (5141, -1.1294313907609537e-05),\n",
       " (5142, -1.369942160414757e-05),\n",
       " (5143, -6.81413231432569e-06),\n",
       " (5147, -8.700851200749506e-06),\n",
       " (5148, -1.803887567367102e-05),\n",
       " (5149, -9.395261339939075e-06),\n",
       " (5150, -3.2747745410631505e-05),\n",
       " (5151, -3.467343667762348e-05),\n",
       " (5153, -2.918222000639607e-05),\n",
       " (5256, -5.071575868350502e-05),\n",
       " (5271, -3.453158950256303e-05),\n",
       " (5289, -2.986590535939199e-05),\n",
       " (5308, -2.8284581511033546e-05),\n",
       " (5323, -3.2958828178618103e-05),\n",
       " (5339, -2.8425136723202038e-05),\n",
       " (5350, -2.8187574142440238e-05),\n",
       " (5351, -2.7787421325451985e-05),\n",
       " (5353, -3.3451081098665356e-05),\n",
       " (5360, -3.6507453124375696e-05),\n",
       " (5363, -6.793576253422029e-05),\n",
       " (5368, -2.2410652942413208e-05),\n",
       " (5369, -2.146800896686129e-05),\n",
       " (5370, -2.0140942239939352e-05),\n",
       " (5475, -2.9019767832569534e-05),\n",
       " (5476, -3.6681349303524544e-05),\n",
       " (5484, -2.4883646864051438e-05),\n",
       " (5499, -3.265839035442363e-05),\n",
       " (5516, -2.6949241446652384e-05),\n",
       " (5557, -3.34312932385323e-05),\n",
       " (5574, -2.060411517978603e-05),\n",
       " (5622, -1.8703427097148182e-05),\n",
       " (5623, -3.3583766405088996e-05),\n",
       " (5633, -3.985239284969572e-05),\n",
       " (5634, -3.7054473304013144e-05),\n",
       " (5644, -3.6245251291353756e-05),\n",
       " (5724, -2.645784174240642e-05),\n",
       " (5742, -1.4092411278180776e-05),\n",
       " (5761, -3.2668011473646665e-05),\n",
       " (5783, -3.623613047764818e-05),\n",
       " (5820, -2.7506958658020006e-05),\n",
       " (5830, -3.332948366876712e-05),\n",
       " (5844, -3.440889387988191e-05),\n",
       " (5854, -3.777309666755641e-05),\n",
       " (5957, -2.4371190408048e-05),\n",
       " (6004, -2.4738491718270443e-05),\n",
       " (6007, -4.1966638923160335e-05),\n",
       " (6009, -2.476590733737276e-05),\n",
       " (6016, -2.7594846975524808e-05),\n",
       " (6017, -3.523754898054682e-05),\n",
       " (6020, -3.0459117424003017e-05),\n",
       " (6023, -3.779754414671444e-05),\n",
       " (6025, -2.8343819126356994e-05),\n",
       " (6195, -3.808268803954034e-05),\n",
       " (6197, -3.0707401665072346e-05),\n",
       " (6198, -2.7959541088447642e-05),\n",
       " (6199, -2.9093200248064947e-05),\n",
       " (6201, -2.1420861905149447e-05),\n",
       " (6202, -2.5025764300163084e-05),\n",
       " (6204, -4.037659421028888e-05),\n",
       " (6205, -2.8609511187717732e-05),\n",
       " (6206, -2.9153383779140144e-05),\n",
       " (6264, -2.5593563114088464e-05),\n",
       " (6276, -3.65173224424351e-05),\n",
       " (6306, -3.9065499587212304e-05),\n",
       " (6336, -3.726339248655185e-05),\n",
       " (6347, -2.8863102624841413e-05),\n",
       " (6349, -3.797266077765206e-05),\n",
       " (6417, -3.691518833573355e-05),\n",
       " (6422, -3.9586815263425044e-05),\n",
       " (6423, -2.9756298551263018e-05),\n",
       " (6424, -1.9070378855204636e-05),\n",
       " (6426, -2.5917546835445262e-05),\n",
       " (6431, -2.4701911476852043e-05),\n",
       " (6457, -5.039002778383361e-05),\n",
       " (6516, -3.361630072954553e-05),\n",
       " (6535, -1.7564787093334082e-05),\n",
       " (6553, -3.94985198484491e-05),\n",
       " (6580, -2.1334721508261417e-05),\n",
       " (6581, -3.278785159736881e-05),\n",
       " (6586, -1.95970369404463e-05),\n",
       " (6587, -3.409672891405031e-05),\n",
       " (6591, -3.25596492108914e-05),\n",
       " (6592, -4.310712860117493e-05),\n",
       " (6593, -1.8504795326615412e-05),\n",
       " (6594, -1.628607340716963e-05),\n",
       " (6596, -4.3630731102342546e-05),\n",
       " (6597, -2.9648604218863014e-05),\n",
       " (6598, -3.357226082823071e-05),\n",
       " (6599, -3.1245261968384644e-05),\n",
       " (6611, -2.961297369055377e-05),\n",
       " (6671, -2.5019641966427353e-05),\n",
       " (6684, -3.3437257430408796e-05),\n",
       " (6766, -2.0475560585168034e-05),\n",
       " (6792, -3.567414872696748e-05),\n",
       " (6849, -3.432305546817068e-05),\n",
       " (6865, -3.546229074723727e-05),\n",
       " (6910, -3.583733081336658e-05),\n",
       " (6928, -4.105883504865436e-05),\n",
       " (6957, -3.663428753762171e-05),\n",
       " (6959, -2.8933065224407935e-05),\n",
       " (6977, -3.6411473311452315e-05),\n",
       " (6978, -2.7154169387790237e-05),\n",
       " (7014, -3.7214026603507096e-05),\n",
       " (7031, -3.353168433774412e-05),\n",
       " (7064, -4.911633799003641e-05),\n",
       " (7114, -3.134252907494916e-05),\n",
       " (7151, -3.896792942325312e-05),\n",
       " (7152, -2.422901842312233e-05),\n",
       " (7154, -3.823660105225692e-05),\n",
       " (7156, -4.731424933256666e-05),\n",
       " (7170, -2.3502008794090754e-05),\n",
       " (7188, -3.5810963054698154e-05),\n",
       " (7189, -2.6394785017953235e-05),\n",
       " (7190, -1.906813120955229e-05),\n",
       " (7191, -3.237100979047053e-05),\n",
       " (7240, -3.836490237351649e-05),\n",
       " (7304, -3.3198480153092514e-05),\n",
       " (7309, -3.828579727028495e-05),\n",
       " (7310, -2.228552300757668e-05),\n",
       " (7312, -2.22888863795001e-05),\n",
       " (7313, -3.486065271743912e-05),\n",
       " (7314, -3.831367411935153e-05),\n",
       " (7317, -2.967393980394755e-05),\n",
       " (7318, -3.574367571051226e-05),\n",
       " (7320, -3.0189514642141208e-05),\n",
       " (7321, -1.9367589989087858e-05)]"
      ]
     },
     "execution_count": 100,
     "metadata": {},
     "output_type": "execute_result"
    }
   ],
   "source": [
    "outlier_abod_list = []\n",
    "\n",
    "for i in range(0,len(outlier_scores_abod)):\n",
    "    outlier_abod_list.append((outlier_indexes_abod[i], outlier_scores_abod[i]))\n",
    "    \n",
    "outlier_abod_list"
   ]
  },
  {
   "cell_type": "code",
   "execution_count": 101,
   "metadata": {},
   "outputs": [],
   "source": [
    "def outlier_score(elem):\n",
    "    return elem[1]\n",
    "outlier_abod_list = sorted(outlier_abod_list, key=outlier_score, reverse = True)"
   ]
  },
  {
   "cell_type": "code",
   "execution_count": 102,
   "metadata": {},
   "outputs": [
    {
     "data": {
      "text/plain": [
       "-0.00011938437293548177"
      ]
     },
     "execution_count": 102,
     "metadata": {},
     "output_type": "execute_result"
    }
   ],
   "source": [
    "np.min(clf_ABOD.decision_scores_[np.where(outliers_ABOD==1)])"
   ]
  },
  {
   "cell_type": "code",
   "execution_count": 103,
   "metadata": {},
   "outputs": [
    {
     "data": {
      "text/plain": [
       "-9.367456198726246e-07"
      ]
     },
     "execution_count": 103,
     "metadata": {},
     "output_type": "execute_result"
    }
   ],
   "source": [
    "np.max(clf_ABOD.decision_scores_[np.where(outliers_ABOD==1)])"
   ]
  },
  {
   "cell_type": "code",
   "execution_count": 104,
   "metadata": {},
   "outputs": [
    {
     "data": {
      "text/plain": [
       "[(3934, -9.367456198726246e-07),\n",
       " (3939, -1.4467973200193825e-06),\n",
       " (1868, -2.310909702473165e-06),\n",
       " (2451, -2.492792342781064e-06),\n",
       " (1271, -2.621530853595749e-06),\n",
       " (1724, -3.5548737984906083e-06),\n",
       " (2532, -3.7071571835492412e-06),\n",
       " (2937, -3.8013357815044903e-06),\n",
       " (4828, -3.906863929591603e-06),\n",
       " (1274, -4.074211457007061e-06)]"
      ]
     },
     "execution_count": 104,
     "metadata": {},
     "output_type": "execute_result"
    }
   ],
   "source": [
    "outlier_abod_list[:10]"
   ]
  },
  {
   "cell_type": "code",
   "execution_count": 105,
   "metadata": {},
   "outputs": [
    {
     "data": {
      "text/plain": [
       "-0.00011938437293548177"
      ]
     },
     "execution_count": 105,
     "metadata": {},
     "output_type": "execute_result"
    }
   ],
   "source": [
    "min([i[1] for i in outlier_abod_list])"
   ]
  },
  {
   "cell_type": "code",
   "execution_count": 106,
   "metadata": {},
   "outputs": [
    {
     "data": {
      "text/plain": [
       "-9.367456198726246e-07"
      ]
     },
     "execution_count": 106,
     "metadata": {},
     "output_type": "execute_result"
    }
   ],
   "source": [
    "max([i[1] for i in outlier_abod_list])"
   ]
  },
  {
   "cell_type": "markdown",
   "metadata": {},
   "source": [
    "**Top 1%**"
   ]
  },
  {
   "cell_type": "code",
   "execution_count": 107,
   "metadata": {},
   "outputs": [
    {
     "data": {
      "text/plain": [
       "7"
      ]
     },
     "execution_count": 107,
     "metadata": {},
     "output_type": "execute_result"
    }
   ],
   "source": [
    "top1perc = int(math.ceil(len(y_outliers_ABOD))*0.01)\n",
    "\n",
    "top_outliers_ABOD = outlier_abod_list[:top1perc]\n",
    "len(top_outliers_ABOD)"
   ]
  },
  {
   "cell_type": "code",
   "execution_count": 108,
   "metadata": {},
   "outputs": [
    {
     "data": {
      "text/plain": [
       "[(3934, -9.367456198726246e-07),\n",
       " (3939, -1.4467973200193825e-06),\n",
       " (1868, -2.310909702473165e-06),\n",
       " (2451, -2.492792342781064e-06),\n",
       " (1271, -2.621530853595749e-06),\n",
       " (1724, -3.5548737984906083e-06),\n",
       " (2532, -3.7071571835492412e-06)]"
      ]
     },
     "execution_count": 108,
     "metadata": {},
     "output_type": "execute_result"
    }
   ],
   "source": [
    "top_outliers_ABOD"
   ]
  },
  {
   "cell_type": "code",
   "execution_count": 109,
   "metadata": {},
   "outputs": [
    {
     "data": {
      "text/plain": [
       "[3934, 3939, 1868, 2451, 1271, 1724, 2532]"
      ]
     },
     "execution_count": 109,
     "metadata": {},
     "output_type": "execute_result"
    }
   ],
   "source": [
    "indexes_list_ABOD = [i[0] for i in top_outliers_ABOD] #retrieve index of outliers\n",
    "indexes_list_ABOD"
   ]
  },
  {
   "cell_type": "code",
   "execution_count": 110,
   "metadata": {},
   "outputs": [],
   "source": [
    "df_ABOD_outliers = df.iloc[indexes_list_ABOD]"
   ]
  },
  {
   "cell_type": "code",
   "execution_count": 111,
   "metadata": {
    "scrolled": true
   },
   "outputs": [
    {
     "data": {
      "text/html": [
       "<div>\n",
       "<style scoped>\n",
       "    .dataframe tbody tr th:only-of-type {\n",
       "        vertical-align: middle;\n",
       "    }\n",
       "\n",
       "    .dataframe tbody tr th {\n",
       "        vertical-align: top;\n",
       "    }\n",
       "\n",
       "    .dataframe thead th {\n",
       "        text-align: right;\n",
       "    }\n",
       "</style>\n",
       "<table border=\"1\" class=\"dataframe\">\n",
       "  <thead>\n",
       "    <tr style=\"text-align: right;\">\n",
       "      <th></th>\n",
       "      <th>tBodyAccmeanX</th>\n",
       "      <th>tBodyAccmeanY</th>\n",
       "      <th>tBodyAccmeanZ</th>\n",
       "      <th>tBodyAccstdX</th>\n",
       "      <th>tBodyAccstdY</th>\n",
       "      <th>tBodyAccstdZ</th>\n",
       "      <th>tBodyAccmadX</th>\n",
       "      <th>tBodyAccmadY</th>\n",
       "      <th>tBodyAccmadZ</th>\n",
       "      <th>tBodyAccmaxX</th>\n",
       "      <th>...</th>\n",
       "      <th>angletBodyAccMeangravity</th>\n",
       "      <th>angletBodyAccJerkMeangravityMean</th>\n",
       "      <th>angletBodyGyroMeangravityMean</th>\n",
       "      <th>angletBodyGyroJerkMeangravityMean</th>\n",
       "      <th>angleXgravityMean</th>\n",
       "      <th>angleYgravityMean</th>\n",
       "      <th>angleZgravityMean</th>\n",
       "      <th>subject</th>\n",
       "      <th>Activity</th>\n",
       "      <th>ActivityName</th>\n",
       "    </tr>\n",
       "  </thead>\n",
       "  <tbody>\n",
       "    <tr>\n",
       "      <th>3934</th>\n",
       "      <td>0.028502</td>\n",
       "      <td>-0.012144</td>\n",
       "      <td>-0.097018</td>\n",
       "      <td>0.793422</td>\n",
       "      <td>0.916238</td>\n",
       "      <td>0.730133</td>\n",
       "      <td>0.761451</td>\n",
       "      <td>0.865956</td>\n",
       "      <td>0.681404</td>\n",
       "      <td>0.683437</td>\n",
       "      <td>...</td>\n",
       "      <td>0.893470</td>\n",
       "      <td>0.536252</td>\n",
       "      <td>0.812812</td>\n",
       "      <td>0.067803</td>\n",
       "      <td>-0.723711</td>\n",
       "      <td>0.228629</td>\n",
       "      <td>0.161748</td>\n",
       "      <td>19</td>\n",
       "      <td>3</td>\n",
       "      <td>WALKING_DOWNSTAIRS</td>\n",
       "    </tr>\n",
       "    <tr>\n",
       "      <th>3939</th>\n",
       "      <td>0.114180</td>\n",
       "      <td>-0.042243</td>\n",
       "      <td>-0.118167</td>\n",
       "      <td>1.000000</td>\n",
       "      <td>0.753928</td>\n",
       "      <td>0.217305</td>\n",
       "      <td>1.000000</td>\n",
       "      <td>0.722617</td>\n",
       "      <td>0.179957</td>\n",
       "      <td>1.000000</td>\n",
       "      <td>...</td>\n",
       "      <td>0.586616</td>\n",
       "      <td>0.818511</td>\n",
       "      <td>-0.863211</td>\n",
       "      <td>-0.255721</td>\n",
       "      <td>-0.668652</td>\n",
       "      <td>0.228409</td>\n",
       "      <td>0.212093</td>\n",
       "      <td>19</td>\n",
       "      <td>3</td>\n",
       "      <td>WALKING_DOWNSTAIRS</td>\n",
       "    </tr>\n",
       "    <tr>\n",
       "      <th>1868</th>\n",
       "      <td>0.178108</td>\n",
       "      <td>-0.047744</td>\n",
       "      <td>-0.166051</td>\n",
       "      <td>0.061817</td>\n",
       "      <td>0.403292</td>\n",
       "      <td>0.461668</td>\n",
       "      <td>-0.058324</td>\n",
       "      <td>0.368466</td>\n",
       "      <td>0.236215</td>\n",
       "      <td>0.492840</td>\n",
       "      <td>...</td>\n",
       "      <td>0.269094</td>\n",
       "      <td>-0.769676</td>\n",
       "      <td>0.949738</td>\n",
       "      <td>0.027506</td>\n",
       "      <td>-0.708379</td>\n",
       "      <td>0.172319</td>\n",
       "      <td>0.213071</td>\n",
       "      <td>8</td>\n",
       "      <td>3</td>\n",
       "      <td>WALKING_DOWNSTAIRS</td>\n",
       "    </tr>\n",
       "    <tr>\n",
       "      <th>2451</th>\n",
       "      <td>-1.000000</td>\n",
       "      <td>0.177522</td>\n",
       "      <td>0.543939</td>\n",
       "      <td>-0.100786</td>\n",
       "      <td>-0.126211</td>\n",
       "      <td>0.359538</td>\n",
       "      <td>-0.092218</td>\n",
       "      <td>-0.149869</td>\n",
       "      <td>0.530467</td>\n",
       "      <td>-0.821282</td>\n",
       "      <td>...</td>\n",
       "      <td>-0.061649</td>\n",
       "      <td>0.129772</td>\n",
       "      <td>-0.296755</td>\n",
       "      <td>-0.087100</td>\n",
       "      <td>-0.043034</td>\n",
       "      <td>-0.220034</td>\n",
       "      <td>-0.530436</td>\n",
       "      <td>14</td>\n",
       "      <td>6</td>\n",
       "      <td>LAYING</td>\n",
       "    </tr>\n",
       "    <tr>\n",
       "      <th>1271</th>\n",
       "      <td>0.432575</td>\n",
       "      <td>-0.055122</td>\n",
       "      <td>-0.112329</td>\n",
       "      <td>0.427010</td>\n",
       "      <td>0.643319</td>\n",
       "      <td>-0.132942</td>\n",
       "      <td>0.362040</td>\n",
       "      <td>0.585983</td>\n",
       "      <td>-0.145362</td>\n",
       "      <td>0.663032</td>\n",
       "      <td>...</td>\n",
       "      <td>-0.758140</td>\n",
       "      <td>-0.611979</td>\n",
       "      <td>0.049916</td>\n",
       "      <td>-0.946622</td>\n",
       "      <td>-0.816344</td>\n",
       "      <td>0.224268</td>\n",
       "      <td>0.002807</td>\n",
       "      <td>6</td>\n",
       "      <td>3</td>\n",
       "      <td>WALKING_DOWNSTAIRS</td>\n",
       "    </tr>\n",
       "    <tr>\n",
       "      <th>1724</th>\n",
       "      <td>0.263968</td>\n",
       "      <td>-0.002606</td>\n",
       "      <td>-0.226908</td>\n",
       "      <td>0.148883</td>\n",
       "      <td>0.708942</td>\n",
       "      <td>0.191623</td>\n",
       "      <td>0.055415</td>\n",
       "      <td>0.621585</td>\n",
       "      <td>0.155250</td>\n",
       "      <td>0.408465</td>\n",
       "      <td>...</td>\n",
       "      <td>0.078442</td>\n",
       "      <td>-0.489302</td>\n",
       "      <td>0.969253</td>\n",
       "      <td>-0.571147</td>\n",
       "      <td>-0.794670</td>\n",
       "      <td>0.240019</td>\n",
       "      <td>0.014224</td>\n",
       "      <td>8</td>\n",
       "      <td>3</td>\n",
       "      <td>WALKING_DOWNSTAIRS</td>\n",
       "    </tr>\n",
       "    <tr>\n",
       "      <th>2532</th>\n",
       "      <td>0.176658</td>\n",
       "      <td>-0.038535</td>\n",
       "      <td>-0.042979</td>\n",
       "      <td>-0.320417</td>\n",
       "      <td>0.517275</td>\n",
       "      <td>1.000000</td>\n",
       "      <td>-0.381541</td>\n",
       "      <td>0.530447</td>\n",
       "      <td>1.000000</td>\n",
       "      <td>-0.369909</td>\n",
       "      <td>...</td>\n",
       "      <td>0.579724</td>\n",
       "      <td>-0.628818</td>\n",
       "      <td>0.888889</td>\n",
       "      <td>0.450867</td>\n",
       "      <td>-0.261964</td>\n",
       "      <td>0.311073</td>\n",
       "      <td>0.481737</td>\n",
       "      <td>14</td>\n",
       "      <td>2</td>\n",
       "      <td>WALKING_UPSTAIRS</td>\n",
       "    </tr>\n",
       "  </tbody>\n",
       "</table>\n",
       "<p>7 rows × 564 columns</p>\n",
       "</div>"
      ],
      "text/plain": [
       "      tBodyAccmeanX  tBodyAccmeanY  tBodyAccmeanZ  tBodyAccstdX  tBodyAccstdY  \\\n",
       "3934       0.028502      -0.012144      -0.097018      0.793422      0.916238   \n",
       "3939       0.114180      -0.042243      -0.118167      1.000000      0.753928   \n",
       "1868       0.178108      -0.047744      -0.166051      0.061817      0.403292   \n",
       "2451      -1.000000       0.177522       0.543939     -0.100786     -0.126211   \n",
       "1271       0.432575      -0.055122      -0.112329      0.427010      0.643319   \n",
       "1724       0.263968      -0.002606      -0.226908      0.148883      0.708942   \n",
       "2532       0.176658      -0.038535      -0.042979     -0.320417      0.517275   \n",
       "\n",
       "      tBodyAccstdZ  tBodyAccmadX  tBodyAccmadY  tBodyAccmadZ  tBodyAccmaxX  \\\n",
       "3934      0.730133      0.761451      0.865956      0.681404      0.683437   \n",
       "3939      0.217305      1.000000      0.722617      0.179957      1.000000   \n",
       "1868      0.461668     -0.058324      0.368466      0.236215      0.492840   \n",
       "2451      0.359538     -0.092218     -0.149869      0.530467     -0.821282   \n",
       "1271     -0.132942      0.362040      0.585983     -0.145362      0.663032   \n",
       "1724      0.191623      0.055415      0.621585      0.155250      0.408465   \n",
       "2532      1.000000     -0.381541      0.530447      1.000000     -0.369909   \n",
       "\n",
       "      ...  angletBodyAccMeangravity  angletBodyAccJerkMeangravityMean  \\\n",
       "3934  ...                  0.893470                          0.536252   \n",
       "3939  ...                  0.586616                          0.818511   \n",
       "1868  ...                  0.269094                         -0.769676   \n",
       "2451  ...                 -0.061649                          0.129772   \n",
       "1271  ...                 -0.758140                         -0.611979   \n",
       "1724  ...                  0.078442                         -0.489302   \n",
       "2532  ...                  0.579724                         -0.628818   \n",
       "\n",
       "      angletBodyGyroMeangravityMean  angletBodyGyroJerkMeangravityMean  \\\n",
       "3934                       0.812812                           0.067803   \n",
       "3939                      -0.863211                          -0.255721   \n",
       "1868                       0.949738                           0.027506   \n",
       "2451                      -0.296755                          -0.087100   \n",
       "1271                       0.049916                          -0.946622   \n",
       "1724                       0.969253                          -0.571147   \n",
       "2532                       0.888889                           0.450867   \n",
       "\n",
       "      angleXgravityMean  angleYgravityMean  angleZgravityMean  subject  \\\n",
       "3934          -0.723711           0.228629           0.161748       19   \n",
       "3939          -0.668652           0.228409           0.212093       19   \n",
       "1868          -0.708379           0.172319           0.213071        8   \n",
       "2451          -0.043034          -0.220034          -0.530436       14   \n",
       "1271          -0.816344           0.224268           0.002807        6   \n",
       "1724          -0.794670           0.240019           0.014224        8   \n",
       "2532          -0.261964           0.311073           0.481737       14   \n",
       "\n",
       "      Activity        ActivityName  \n",
       "3934         3  WALKING_DOWNSTAIRS  \n",
       "3939         3  WALKING_DOWNSTAIRS  \n",
       "1868         3  WALKING_DOWNSTAIRS  \n",
       "2451         6              LAYING  \n",
       "1271         3  WALKING_DOWNSTAIRS  \n",
       "1724         3  WALKING_DOWNSTAIRS  \n",
       "2532         2    WALKING_UPSTAIRS  \n",
       "\n",
       "[7 rows x 564 columns]"
      ]
     },
     "execution_count": 111,
     "metadata": {},
     "output_type": "execute_result"
    }
   ],
   "source": [
    "df_ABOD_outliers"
   ]
  },
  {
   "cell_type": "code",
   "execution_count": 112,
   "metadata": {},
   "outputs": [
    {
     "data": {
      "text/plain": [
       "[3934, 3939, 1868, 2451, 1271, 1724, 2532]"
      ]
     },
     "execution_count": 112,
     "metadata": {},
     "output_type": "execute_result"
    }
   ],
   "source": [
    "#retrieve id of outliers\n",
    "outliers_id_abod = list(df_ABOD_outliers.index)\n",
    "outliers_id_abod[:10]"
   ]
  },
  {
   "cell_type": "code",
   "execution_count": 113,
   "metadata": {},
   "outputs": [
    {
     "data": {
      "text/plain": [
       "7"
      ]
     },
     "execution_count": 113,
     "metadata": {},
     "output_type": "execute_result"
    }
   ],
   "source": [
    "len(outliers_id_abod)"
   ]
  },
  {
   "cell_type": "code",
   "execution_count": 114,
   "metadata": {},
   "outputs": [
    {
     "data": {
      "text/plain": [
       "[(3934, -9.367456198726246e-07),\n",
       " (3939, -1.4467973200193825e-06),\n",
       " (1868, -2.310909702473165e-06),\n",
       " (2451, -2.492792342781064e-06),\n",
       " (1271, -2.621530853595749e-06)]"
      ]
     },
     "execution_count": 114,
     "metadata": {},
     "output_type": "execute_result"
    }
   ],
   "source": [
    "top_outliers_ABOD[:5]"
   ]
  },
  {
   "cell_type": "code",
   "execution_count": 115,
   "metadata": {},
   "outputs": [
    {
     "name": "stdout",
     "output_type": "stream",
     "text": [
      "id with ABOD score of outlierness\n"
     ]
    },
    {
     "data": {
      "text/plain": [
       "[(3934, -9.367456198726246e-07),\n",
       " (3939, -1.4467973200193825e-06),\n",
       " (1868, -2.310909702473165e-06),\n",
       " (2451, -2.492792342781064e-06),\n",
       " (1271, -2.621530853595749e-06),\n",
       " (1724, -3.5548737984906083e-06),\n",
       " (2532, -3.7071571835492412e-06)]"
      ]
     },
     "execution_count": 115,
     "metadata": {},
     "output_type": "execute_result"
    }
   ],
   "source": [
    "top_outliers_ABOD_id = []\n",
    "\n",
    "for i, val in top_outliers_ABOD:\n",
    "    top_outliers_ABOD_id.append((df.iloc[i].name, val))\n",
    "\n",
    "print(\"id with ABOD score of outlierness\")\n",
    "top_outliers_ABOD_id[:10]"
   ]
  },
  {
   "cell_type": "code",
   "execution_count": 116,
   "metadata": {
    "scrolled": true
   },
   "outputs": [
    {
     "data": {
      "text/plain": [
       "7"
      ]
     },
     "execution_count": 116,
     "metadata": {},
     "output_type": "execute_result"
    }
   ],
   "source": [
    "len(top_outliers_ABOD_id)"
   ]
  },
  {
   "cell_type": "markdown",
   "metadata": {},
   "source": [
    "## ABOD n_neighbors = 5"
   ]
  },
  {
   "cell_type": "code",
   "execution_count": 117,
   "metadata": {},
   "outputs": [
    {
     "data": {
      "text/plain": [
       "ABOD(contamination=0.1, method='fast', n_neighbors=5)"
      ]
     },
     "execution_count": 117,
     "metadata": {},
     "output_type": "execute_result"
    }
   ],
   "source": [
    "clf_ABOD_2 = ABOD(n_neighbors=5)\n",
    "clf_ABOD_2.fit(X)"
   ]
  },
  {
   "cell_type": "markdown",
   "metadata": {},
   "source": [
    "**Decision_scores_**\n",
    "**The outlier scores of the training data.** The higher, the more abnormal.\n",
    "- Outliers tend to have higher scores. This value is available once the detector is fitted"
   ]
  },
  {
   "cell_type": "code",
   "execution_count": 118,
   "metadata": {},
   "outputs": [
    {
     "data": {
      "text/plain": [
       "array([-1.72927883e-05, -1.59284556e-04, -2.67999582e-04, ...,\n",
       "       -1.75294243e-04, -1.03815217e-04, -5.41070915e-05])"
      ]
     },
     "execution_count": 118,
     "metadata": {},
     "output_type": "execute_result"
    }
   ],
   "source": [
    "clf_ABOD_2.decision_scores_"
   ]
  },
  {
   "cell_type": "code",
   "execution_count": 119,
   "metadata": {},
   "outputs": [
    {
     "data": {
      "text/plain": [
       "(array([0, 1]), array([6263, 1089], dtype=int64))"
      ]
     },
     "execution_count": 119,
     "metadata": {},
     "output_type": "execute_result"
    }
   ],
   "source": [
    "outliers_ABOD_2 = clf_ABOD_2.predict(X)\n",
    "np.unique(outliers_ABOD_2, return_counts=True)"
   ]
  },
  {
   "cell_type": "code",
   "execution_count": 120,
   "metadata": {},
   "outputs": [
    {
     "data": {
      "text/plain": [
       "(array([   0,   53,   60, ..., 7321, 7326, 7336], dtype=int64),)"
      ]
     },
     "execution_count": 120,
     "metadata": {},
     "output_type": "execute_result"
    }
   ],
   "source": [
    "np.where(outliers_ABOD_2==1)"
   ]
  },
  {
   "cell_type": "code",
   "execution_count": 121,
   "metadata": {},
   "outputs": [
    {
     "data": {
      "text/plain": [
       "1089"
      ]
     },
     "execution_count": 121,
     "metadata": {},
     "output_type": "execute_result"
    }
   ],
   "source": [
    "outlier_indexes_abod_2 = np.where(outliers_ABOD_2==1)[0]\n",
    "len(outlier_indexes_abod_2)"
   ]
  },
  {
   "cell_type": "code",
   "execution_count": 122,
   "metadata": {},
   "outputs": [
    {
     "data": {
      "text/plain": [
       "1089"
      ]
     },
     "execution_count": 122,
     "metadata": {},
     "output_type": "execute_result"
    }
   ],
   "source": [
    "outlier_scores_abod_2 = clf_ABOD_2.decision_scores_[outlier_indexes_abod_2]\n",
    "len(outlier_scores_abod_2)"
   ]
  },
  {
   "cell_type": "code",
   "execution_count": 123,
   "metadata": {},
   "outputs": [
    {
     "data": {
      "text/plain": [
       "-0.0003925204543515618"
      ]
     },
     "execution_count": 123,
     "metadata": {},
     "output_type": "execute_result"
    }
   ],
   "source": [
    "np.min(outlier_scores_abod_2)"
   ]
  },
  {
   "cell_type": "code",
   "execution_count": 124,
   "metadata": {},
   "outputs": [
    {
     "data": {
      "text/plain": [
       "-4.445102603358903e-07"
      ]
     },
     "execution_count": 124,
     "metadata": {},
     "output_type": "execute_result"
    }
   ],
   "source": [
    "np.max(outlier_scores_abod_2)"
   ]
  },
  {
   "cell_type": "code",
   "execution_count": 125,
   "metadata": {},
   "outputs": [
    {
     "data": {
      "image/png": "[encoded data removed]",
      "text/plain": [
       "<Figure size 432x288 with 1 Axes>"
      ]
     },
     "metadata": {
      "needs_background": "light"
     },
     "output_type": "display_data"
    }
   ],
   "source": [
    "plt.hist(clf_ABOD_2.decision_scores_, bins=20)\n",
    "plt.axvline(np.min(clf_ABOD_2.decision_scores_[np.where(outliers_ABOD_2==1)]), c='r')\n",
    "plt.title(\"ABOD histogram\")\n",
    "plt.show()"
   ]
  },
  {
   "cell_type": "markdown",
   "metadata": {},
   "source": [
    "**Outliers ABOD**"
   ]
  },
  {
   "cell_type": "code",
   "execution_count": 126,
   "metadata": {},
   "outputs": [
    {
     "data": {
      "text/plain": [
       "1089"
      ]
     },
     "execution_count": 126,
     "metadata": {},
     "output_type": "execute_result"
    }
   ],
   "source": [
    "y_outliers_ABOD_2 = X[outliers_ABOD_2==1]\n",
    "len(y_outliers_ABOD_2)"
   ]
  },
  {
   "cell_type": "markdown",
   "metadata": {},
   "source": [
    "### Top 1% outliers"
   ]
  },
  {
   "cell_type": "code",
   "execution_count": 127,
   "metadata": {},
   "outputs": [
    {
     "data": {
      "text/plain": [
       "[(0, -1.7292788289940003e-05),\n",
       " (53, -0.0001738379807176514),\n",
       " (60, -7.52978620781864e-05),\n",
       " (66, -1.52105469980136e-05),\n",
       " (67, -7.708781205078809e-06),\n",
       " (68, -3.01708540763466e-05),\n",
       " (69, -1.0972388973532253e-05),\n",
       " (70, -2.1726614900959074e-05),\n",
       " (71, -6.249255877852022e-06),\n",
       " (72, -1.7308457200729096e-05),\n",
       " (80, -2.5899472606599543e-05),\n",
       " (83, -2.5188726643225215e-05),\n",
       " (100, -2.0428308058903427e-05),\n",
       " (101, -4.753773381177674e-05),\n",
       " (107, -3.929750357352479e-05),\n",
       " (111, -2.3989230815617406e-05),\n",
       " (117, -0.0001666229081620897),\n",
       " (130, -3.337323682645205e-05),\n",
       " (131, -2.417649896026508e-05),\n",
       " (134, -9.176262934678165e-06),\n",
       " (136, -1.1752346318565427e-05),\n",
       " (137, -1.4213164042804423e-05),\n",
       " (138, -1.5978903870817695e-05),\n",
       " (139, -1.9055833468741994e-05),\n",
       " (140, -2.4238509599953192e-05),\n",
       " (143, -7.875634355652964e-05),\n",
       " (144, -9.882357385189328e-06),\n",
       " (174, -6.0039553251316585e-05),\n",
       " (175, -8.495404678903708e-05),\n",
       " (217, -4.8175274136357635e-05),\n",
       " (225, -2.1364282260587984e-05),\n",
       " (231, -2.62080757977275e-05),\n",
       " (236, -3.4064446123238724e-05),\n",
       " (237, -3.371791731045161e-05),\n",
       " (238, -3.269157121472147e-06),\n",
       " (246, -3.7089011904251236e-05),\n",
       " (252, -4.994263982578672e-05),\n",
       " (271, -1.863802584116743e-05),\n",
       " (273, -5.191975878820306e-05),\n",
       " (292, -4.346137317043533e-05),\n",
       " (297, -4.590827412533965e-05),\n",
       " (298, -1.855116720752062e-05),\n",
       " (299, -4.350615653024424e-05),\n",
       " (309, -3.294202886191988e-05),\n",
       " (311, -9.849674305922624e-05),\n",
       " (332, -4.725807786776973e-05),\n",
       " (333, -2.4177934031243096e-05),\n",
       " (335, -8.414799284920935e-06),\n",
       " (345, -2.4701095218427553e-05),\n",
       " (346, -1.3574311504038729e-05),\n",
       " (347, -1.2073330835324613e-05),\n",
       " (348, -2.0829139855072246e-05),\n",
       " (351, -9.320393223413561e-05),\n",
       " (363, -3.388470987834774e-05),\n",
       " (379, -5.406689575053977e-05),\n",
       " (387, -2.5956311404193027e-05),\n",
       " (388, -2.591809359752357e-05),\n",
       " (412, -3.3538081546989914e-05),\n",
       " (421, -8.321584568636858e-05),\n",
       " (426, -1.922936007571844e-05),\n",
       " (436, -0.00024173830651756455),\n",
       " (448, -3.7155348281274174e-05),\n",
       " (458, -1.910771641279352e-05),\n",
       " (460, -3.2385024880615765e-05),\n",
       " (465, -1.3809724744896767e-05),\n",
       " (466, -6.607549123438362e-05),\n",
       " (469, -2.831538165415255e-05),\n",
       " (473, -5.203900509921252e-05),\n",
       " (475, -1.2736148113357072e-05),\n",
       " (478, -1.3409960869063147e-05),\n",
       " (481, -9.836531635796897e-06),\n",
       " (483, -2.2837974781304257e-05),\n",
       " (485, -2.5407687037896422e-05),\n",
       " (486, -2.0614723755978336e-05),\n",
       " (491, -4.6896510993796863e-05),\n",
       " (494, -8.837337703631237e-05),\n",
       " (498, -1.9647105900787004e-05),\n",
       " (500, -2.403174087845408e-05),\n",
       " (501, -6.816183438379995e-05),\n",
       " (511, -9.560924628765189e-05),\n",
       " (513, -2.1614676449706393e-05),\n",
       " (515, -3.157143187478908e-05),\n",
       " (521, -1.5462132636436802e-05),\n",
       " (522, -1.4197827077106912e-05),\n",
       " (530, -9.355381645063407e-05),\n",
       " (536, -9.575861426669589e-06),\n",
       " (540, -4.35120606921186e-05),\n",
       " (541, -4.124786282786257e-05),\n",
       " (553, -3.553139898453025e-05),\n",
       " (564, -3.336838746257836e-06),\n",
       " (565, -7.216905232341309e-06),\n",
       " (566, -2.5879417705957335e-05),\n",
       " (577, -5.611928653208095e-06),\n",
       " (578, -7.014642395552657e-05),\n",
       " (580, -9.449430442075134e-05),\n",
       " (594, -6.1242665505404315e-06),\n",
       " (598, -2.5856712627025242e-05),\n",
       " (609, -2.5959945549361255e-05),\n",
       " (612, -2.4952427418479944e-05),\n",
       " (613, -0.0002573803572550425),\n",
       " (620, -6.189852156806105e-05),\n",
       " (631, -5.0932047583489855e-05),\n",
       " (639, -2.656732699113845e-05),\n",
       " (640, -3.060369990334055e-05),\n",
       " (643, -1.839072291770579e-05),\n",
       " (645, -5.1447302126078926e-05),\n",
       " (651, -7.060555088589134e-05),\n",
       " (652, -6.964031962839362e-05),\n",
       " (655, -4.393086554270311e-05),\n",
       " (674, -3.5721978958443354e-05),\n",
       " (688, -1.2239126463161573e-05),\n",
       " (689, -4.5637033775285354e-05),\n",
       " (703, -1.3499065132850565e-05),\n",
       " (705, -0.00013800621177601302),\n",
       " (709, -0.00017603710632947914),\n",
       " (716, -2.6858934249127044e-05),\n",
       " (722, -1.7198353306229837e-05),\n",
       " (724, -3.121450618171104e-05),\n",
       " (726, -2.203792746070341e-05),\n",
       " (727, -4.869601314551298e-05),\n",
       " (729, -3.131274575040101e-05),\n",
       " (731, -2.3772324992471247e-05),\n",
       " (738, -2.78613777615037e-05),\n",
       " (741, -3.379515278333244e-05),\n",
       " (742, -6.897725121156613e-05),\n",
       " (753, -2.2468602944807623e-05),\n",
       " (765, -5.209483814849865e-05),\n",
       " (778, -3.369712036862008e-05),\n",
       " (794, -4.91926243855131e-05),\n",
       " (799, -2.9930825821493298e-05),\n",
       " (800, -2.5269429658561498e-05),\n",
       " (801, -3.293220061766789e-05),\n",
       " (805, -7.65276802869483e-06),\n",
       " (810, -2.9104299585524104e-05),\n",
       " (811, -4.403363131286783e-05),\n",
       " (813, -2.1776776680374992e-05),\n",
       " (814, -5.008157103330486e-05),\n",
       " (815, -3.287663344269436e-05),\n",
       " (816, -4.3555839172509556e-05),\n",
       " (817, -2.9938833407879326e-05),\n",
       " (819, -1.991267503258778e-05),\n",
       " (826, -5.052328612726634e-05),\n",
       " (829, -5.2770838422905136e-05),\n",
       " (842, -7.354319486638918e-05),\n",
       " (847, -1.9181272939690676e-05),\n",
       " (848, -1.9257005158328926e-05),\n",
       " (854, -5.530472204147381e-05),\n",
       " (870, -2.915026468304449e-05),\n",
       " (873, -3.129757378394553e-05),\n",
       " (875, -2.2893145071416405e-06),\n",
       " (878, -4.715722123213071e-05),\n",
       " (879, -1.666874718690106e-05),\n",
       " (886, -1.1199682166332562e-05),\n",
       " (890, -8.268118122561953e-06),\n",
       " (912, -2.5637808475190524e-05),\n",
       " (933, -3.992763432526038e-05),\n",
       " (935, -4.1768291009874866e-05),\n",
       " (946, -3.224828624595183e-05),\n",
       " (947, -2.5188945546127974e-05),\n",
       " (952, -4.933818969333948e-05),\n",
       " (953, -2.427519006894561e-05),\n",
       " (954, -2.2462287659894825e-05),\n",
       " (955, -9.080016004397312e-06),\n",
       " (956, -3.061668489869561e-05),\n",
       " (959, -2.2361088706486057e-05),\n",
       " (960, -3.191394319863956e-05),\n",
       " (963, -3.13954184202553e-05),\n",
       " (968, -3.663188090288927e-05),\n",
       " (988, -2.929648090967513e-05),\n",
       " (989, -3.332751153315996e-05),\n",
       " (997, -0.00023004524526484596),\n",
       " (1011, -3.759816888801981e-05),\n",
       " (1014, -7.373146731211543e-05),\n",
       " (1020, -1.4435976358436318e-05),\n",
       " (1023, -7.907036660857473e-05),\n",
       " (1026, -2.313126585422121e-05),\n",
       " (1036, -3.775113880876749e-05),\n",
       " (1041, -2.0447130247945746e-05),\n",
       " (1052, -1.3536115771770833e-05),\n",
       " (1060, -3.2133301604144605e-05),\n",
       " (1062, -1.6870185338980802e-05),\n",
       " (1073, -3.8909300119861976e-05),\n",
       " (1107, -2.7076149101033125e-05),\n",
       " (1108, -2.879723697180808e-05),\n",
       " (1109, -2.7770218581837085e-05),\n",
       " (1110, -1.56596211081306e-05),\n",
       " (1111, -9.101546384000413e-06),\n",
       " (1112, -1.81433893005933e-05),\n",
       " (1116, -2.0232073423251652e-05),\n",
       " (1118, -5.211961563431316e-05),\n",
       " (1119, -2.172154772964724e-05),\n",
       " (1122, -1.9462280322765425e-05),\n",
       " (1124, -2.649152815480069e-05),\n",
       " (1126, -2.259894215396261e-05),\n",
       " (1138, -2.4464465155257555e-05),\n",
       " (1143, -2.844448331541628e-05),\n",
       " (1155, -1.244765889411066e-05),\n",
       " (1156, -1.818603970451809e-05),\n",
       " (1157, -2.1695157584958142e-05),\n",
       " (1170, -2.215802234784117e-05),\n",
       " (1182, -1.4837163698251891e-05),\n",
       " (1192, -5.6931493083648254e-05),\n",
       " (1209, -7.796889524389307e-06),\n",
       " (1210, -4.762383124190971e-05),\n",
       " (1211, -2.4688695867564026e-05),\n",
       " (1223, -6.540132161864645e-05),\n",
       " (1238, -2.079387271206953e-05),\n",
       " (1240, -9.524807878098928e-05),\n",
       " (1243, -1.7493273367180302e-05),\n",
       " (1245, -6.545829383137175e-05),\n",
       " (1250, -4.603162892822133e-05),\n",
       " (1251, -5.803737526448571e-06),\n",
       " (1252, -4.873487410302473e-05),\n",
       " (1255, -8.55467385587609e-06),\n",
       " (1257, -2.2501816514574337e-05),\n",
       " (1258, -2.5985748228929535e-05),\n",
       " (1265, -3.3732975336646064e-05),\n",
       " (1266, -2.0677945592436745e-05),\n",
       " (1267, -7.710656142686381e-06),\n",
       " (1268, -6.478706242011727e-06),\n",
       " (1269, -1.815010182837516e-05),\n",
       " (1271, -3.6455379342487865e-06),\n",
       " (1272, -6.103711506172124e-06),\n",
       " (1274, -5.16784591740973e-06),\n",
       " (1275, -3.500156060664718e-05),\n",
       " (1276, -1.6319614511371233e-05),\n",
       " (1277, -2.1404637938074687e-05),\n",
       " (1278, -1.7150415753222926e-05),\n",
       " (1280, -1.478369793075426e-05),\n",
       " (1282, -1.6877760816589204e-05),\n",
       " (1283, -5.602160793203212e-06),\n",
       " (1284, -1.2924671453334367e-05),\n",
       " (1286, -7.354327117570901e-06),\n",
       " (1287, -2.412482596067733e-05),\n",
       " (1288, -3.681947285364766e-05),\n",
       " (1289, -1.1712844228280124e-05),\n",
       " (1290, -2.754483390499317e-05),\n",
       " (1292, -1.5315946608157858e-05),\n",
       " (1293, -2.2201705473971802e-05),\n",
       " (1295, -2.631144011747055e-05),\n",
       " (1300, -4.5759805695747525e-05),\n",
       " (1301, -4.163442393842179e-05),\n",
       " (1302, -1.5468133674826476e-05),\n",
       " (1305, -2.821084730628289e-05),\n",
       " (1308, -1.7647978495201113e-05),\n",
       " (1313, -3.483881945677155e-05),\n",
       " (1316, -6.639331421282206e-05),\n",
       " (1328, -0.0001243765891332719),\n",
       " (1343, -1.8467408827899975e-05),\n",
       " (1344, -4.373568055464937e-05),\n",
       " (1355, -1.9862154385015108e-05),\n",
       " (1369, -1.813377214100536e-05),\n",
       " (1370, -1.9906300614023697e-05),\n",
       " (1372, -2.518209352533787e-05),\n",
       " (1376, -9.45891867846181e-05),\n",
       " (1377, -7.663228176877516e-05),\n",
       " (1383, -1.752634520246915e-05),\n",
       " (1403, -2.1964744973305706e-05),\n",
       " (1413, -1.4256295808250333e-05),\n",
       " (1415, -1.577557175311734e-05),\n",
       " (1422, -3.245888428134553e-05),\n",
       " (1425, -1.5487372663605225e-05),\n",
       " (1430, -6.53894413930376e-05),\n",
       " (1441, -7.958858514408107e-05),\n",
       " (1442, -1.8959120090663223e-05),\n",
       " (1443, -1.5010594415179394e-05),\n",
       " (1444, -5.574949248761438e-05),\n",
       " (1447, -4.603070912742815e-05),\n",
       " (1459, -2.7469615228761444e-05),\n",
       " (1460, -5.03688634666192e-05),\n",
       " (1464, -5.756120106018032e-05),\n",
       " (1506, -2.045104383916248e-05),\n",
       " (1513, -1.8422579855764954e-05),\n",
       " (1515, -3.937944993963872e-05),\n",
       " (1516, -8.510394126675077e-05),\n",
       " (1520, -5.073021322956454e-05),\n",
       " (1523, -1.0782572444935884e-05),\n",
       " (1549, -0.00010426856430444138),\n",
       " (1557, -2.2204205383902772e-05),\n",
       " (1568, -1.79374100777935e-05),\n",
       " (1575, -2.1252753761039004e-05),\n",
       " (1576, -2.5327001787124637e-05),\n",
       " (1578, -2.8699367051173104e-05),\n",
       " (1580, -3.014582173034681e-05),\n",
       " (1582, -1.3874151309899499e-05),\n",
       " (1583, -1.1216850528572555e-05),\n",
       " (1584, -7.639173349011737e-05),\n",
       " (1585, -1.8907162493584435e-05),\n",
       " (1587, -1.5476573797282867e-05),\n",
       " (1589, -2.569253311399383e-05),\n",
       " (1594, -9.556597438880909e-06),\n",
       " (1597, -1.936127822599891e-05),\n",
       " (1645, -1.6209718711429397e-05),\n",
       " (1646, -5.010006974195003e-05),\n",
       " (1663, -0.00019415091929109957),\n",
       " (1667, -3.283839954856928e-05),\n",
       " (1673, -9.691293716533386e-05),\n",
       " (1679, -3.276126825282797e-05),\n",
       " (1680, -1.5515992010223725e-05),\n",
       " (1692, -3.458665365435868e-05),\n",
       " (1695, -1.1455897969569438e-05),\n",
       " (1704, -4.6579577228700164e-05),\n",
       " (1705, -3.800391063843811e-05),\n",
       " (1715, -5.018324671355959e-06),\n",
       " (1718, -1.632431147219913e-05),\n",
       " (1719, -4.2415155552156516e-05),\n",
       " (1720, -2.6917736369131653e-05),\n",
       " (1722, -2.9688066420615265e-05),\n",
       " (1723, -9.197529210114948e-06),\n",
       " (1724, -7.540081660213577e-06),\n",
       " (1725, -2.6623008747002287e-05),\n",
       " (1727, -1.71956009092184e-05),\n",
       " (1728, -6.88577659315461e-05),\n",
       " (1731, -1.211793680720521e-05),\n",
       " (1732, -6.8744096995555015e-06),\n",
       " (1733, -8.852577849170566e-06),\n",
       " (1735, -4.0515623144914766e-05),\n",
       " (1741, -2.5903452165419696e-05),\n",
       " (1746, -4.184702716627141e-05),\n",
       " (1753, -1.9850923319413095e-05),\n",
       " (1756, -8.038442746499379e-05),\n",
       " (1761, -3.001491326817254e-05),\n",
       " (1773, -2.4019234011590455e-05),\n",
       " (1787, -6.122929220890497e-05),\n",
       " (1799, -8.436197971014058e-05),\n",
       " (1800, -1.8825655295307953e-05),\n",
       " (1801, -5.843956835330144e-05),\n",
       " (1813, -3.422536437805932e-06),\n",
       " (1826, -4.862744274848044e-06),\n",
       " (1827, -3.9207200647709215e-05),\n",
       " (1847, -3.4853561382616825e-05),\n",
       " (1848, -1.634438393468761e-05),\n",
       " (1849, -3.829556407041058e-05),\n",
       " (1853, -2.0627865782057325e-05),\n",
       " (1854, -3.393030153668074e-05),\n",
       " (1859, -3.653679443977993e-05),\n",
       " (1860, -3.4322613925225e-05),\n",
       " (1862, -7.044624290322189e-06),\n",
       " (1866, -1.1730231466362713e-05),\n",
       " (1867, -8.615634529332553e-06),\n",
       " (1868, -5.556112948148513e-06),\n",
       " (1870, -1.3626986833590961e-05),\n",
       " (1873, -4.964073583967638e-05),\n",
       " (1874, -5.9198954985866175e-05),\n",
       " (1875, -1.170532884292169e-05),\n",
       " (1876, -2.5033971758037806e-05),\n",
       " (1877, -2.3609195267247715e-05),\n",
       " (1880, -2.5492264205855323e-05),\n",
       " (1882, -4.9081242863865676e-05),\n",
       " (1885, -2.7129235265010284e-05),\n",
       " (1887, -4.644333337658383e-05),\n",
       " (1893, -1.9690038828143076e-05),\n",
       " (1895, -2.7739461542607162e-05),\n",
       " (1897, -1.8220908422777297e-05),\n",
       " (1898, -2.8157848795194495e-05),\n",
       " (1899, -6.398200591096436e-05),\n",
       " (1900, -4.5674108246808927e-05),\n",
       " (1903, -4.063209327610788e-05),\n",
       " (1904, -4.445102603358903e-07),\n",
       " (1925, -3.947872398869995e-05),\n",
       " (1939, -1.9668641916458162e-05),\n",
       " (1949, -8.835873951097444e-05),\n",
       " (1950, -3.338923976193372e-05),\n",
       " (1951, -1.034029692199196e-05),\n",
       " (1965, -7.912177356070171e-06),\n",
       " (2011, -5.499660804975796e-05),\n",
       " (2012, -3.966605221535162e-05),\n",
       " (2014, -2.1579019050811677e-05),\n",
       " (2017, -5.4198165027423535e-05),\n",
       " (2018, -1.7463686525060933e-05),\n",
       " (2028, -1.986789977641474e-05),\n",
       " (2031, -1.9136856439275324e-05),\n",
       " (2048, -2.6418052241993514e-05),\n",
       " (2058, -3.315215463753858e-05),\n",
       " (2072, -9.67545349551655e-06),\n",
       " (2074, -4.933720811931716e-05),\n",
       " (2083, -2.2534112739485368e-05),\n",
       " (2097, -0.00010781223210616963),\n",
       " (2099, -2.0684483373326673e-05),\n",
       " (2111, -2.9866623531333582e-05),\n",
       " (2112, -1.9288239937152404e-05),\n",
       " (2125, -1.6663721711453796e-05),\n",
       " (2126, -8.792007171265694e-06),\n",
       " (2148, -5.158283744448203e-05),\n",
       " (2171, -2.5571382949845323e-05),\n",
       " (2176, -4.517798300559953e-05),\n",
       " (2177, -1.3807211279955411e-05),\n",
       " (2179, -6.171672317525906e-05),\n",
       " (2188, -1.880997256370453e-05),\n",
       " (2189, -3.1169596646692135e-05),\n",
       " (2199, -1.7597274254878476e-05),\n",
       " (2250, -2.8332717734306483e-05),\n",
       " (2257, -0.0003925204543515618),\n",
       " (2262, -2.6812129180951967e-05),\n",
       " (2310, -3.908938095322408e-05),\n",
       " (2331, -0.0001237545572269363),\n",
       " (2333, -1.7256349221025587e-05),\n",
       " (2334, -1.904613704745276e-05),\n",
       " (2336, -3.0529233807181425e-05),\n",
       " (2339, -4.846841275399845e-05),\n",
       " (2341, -5.028728352643552e-05),\n",
       " (2343, -1.3311232889102371e-05),\n",
       " (2344, -2.3833094299871616e-05),\n",
       " (2348, -2.919748907691156e-05),\n",
       " (2350, -5.638542442992332e-06),\n",
       " (2352, -2.3078085450367775e-06),\n",
       " (2354, -1.2424149678873433e-05),\n",
       " (2356, -2.251118949361688e-05),\n",
       " (2368, -2.8435782359710377e-05),\n",
       " (2377, -3.0256150808714664e-05),\n",
       " (2385, -2.2995888228622044e-05),\n",
       " (2397, -7.301493925259305e-05),\n",
       " (2412, -3.122778844850883e-05),\n",
       " (2413, -1.8019307039712484e-05),\n",
       " (2439, -7.398207654417418e-05),\n",
       " (2440, -1.2436927812371546e-05),\n",
       " (2451, -2.9260712911303854e-06),\n",
       " (2496, -2.140691277393844e-05),\n",
       " (2497, -3.3364514197074345e-05),\n",
       " (2498, -9.01458092153472e-06),\n",
       " (2499, -5.349924154865342e-06),\n",
       " (2502, -2.9782281267732372e-05),\n",
       " (2506, -2.7266227474292115e-05),\n",
       " (2507, -5.692492806315821e-05),\n",
       " (2509, -2.469962434262054e-05),\n",
       " (2511, -1.3663323929663206e-05),\n",
       " (2513, -1.767077292569763e-05),\n",
       " (2514, -1.0311381785122695e-05),\n",
       " (2515, -1.228800808237971e-05),\n",
       " (2518, -1.9047296159216633e-05),\n",
       " (2523, -4.286031898160856e-05),\n",
       " (2525, -2.2969854482564915e-05),\n",
       " (2530, -5.571104501494444e-05),\n",
       " (2532, -7.762057919520677e-06),\n",
       " (2533, -4.5536767963254864e-05),\n",
       " (2534, -2.273231787476538e-05),\n",
       " (2535, -9.774632649193746e-06),\n",
       " (2537, -3.167217636846071e-05),\n",
       " (2542, -9.546992458669455e-05),\n",
       " (2543, -1.949687928459335e-05),\n",
       " (2561, -4.299298719260182e-05),\n",
       " (2565, -4.1787082639995004e-05),\n",
       " (2570, -2.334931396111372e-05),\n",
       " (2573, -4.7184805365408614e-05),\n",
       " (2579, -0.00018619804677446906),\n",
       " (2610, -3.148539559171089e-05),\n",
       " (2614, -4.774949384595157e-05),\n",
       " (2620, -8.352148365618001e-06),\n",
       " (2649, -4.039237405092835e-05),\n",
       " (2660, -1.1721730461948773e-05),\n",
       " (2662, -4.1087036893835705e-05),\n",
       " (2664, -1.4580223126061189e-05),\n",
       " (2666, -2.506670478581967e-05),\n",
       " (2667, -2.7341053775465405e-05),\n",
       " (2669, -3.999352121643953e-05),\n",
       " (2670, -1.9337297299152027e-05),\n",
       " (2673, -2.7869341374134575e-05),\n",
       " (2715, -3.0235838556820943e-05),\n",
       " (2719, -1.4281857537873838e-05),\n",
       " (2721, -2.112861256859412e-05),\n",
       " (2733, -4.3653535794870185e-05),\n",
       " (2745, -2.5096841369718367e-05),\n",
       " (2782, -8.778591835810096e-05),\n",
       " (2826, -1.942790300554204e-05),\n",
       " (2832, -1.8966204169073996e-05),\n",
       " (2833, -2.5338664825849548e-05),\n",
       " (2834, -3.6452817395239076e-05),\n",
       " (2838, -2.317330253935679e-05),\n",
       " (2839, -3.157363428293934e-05),\n",
       " (2841, -2.0550182223202285e-05),\n",
       " (2842, -4.115253902435897e-05),\n",
       " (2844, -4.697831455053489e-05),\n",
       " (2845, -1.0115622635882308e-05),\n",
       " (2846, -3.420153273390294e-05),\n",
       " (2863, -8.807275890391828e-05),\n",
       " (2866, -5.6540268469706926e-05),\n",
       " (2871, -1.2270002222433615e-05),\n",
       " (2874, -0.0003349821335428385),\n",
       " (2877, -9.075095580894844e-05),\n",
       " (2891, -2.4994674869555806e-05),\n",
       " (2903, -8.412685622060864e-05),\n",
       " (2937, -3.0572955368894374e-06),\n",
       " (2938, -1.7625350235480786e-05),\n",
       " (2963, -6.477771269166181e-05),\n",
       " (2966, -0.00013753187571480106),\n",
       " (3001, -6.619630575475238e-05),\n",
       " (3005, -2.0629084645297253e-05),\n",
       " (3019, -4.957884207377304e-05),\n",
       " (3021, -1.3354511912409041e-05),\n",
       " (3022, -6.666710938952962e-05),\n",
       " (3038, -6.936011235203569e-05),\n",
       " (3046, -0.00014730685913457334),\n",
       " (3053, -4.595231527895444e-05),\n",
       " (3060, -9.166131355874779e-05),\n",
       " (3066, -2.35896664423251e-05),\n",
       " (3074, -2.138102382614574e-05),\n",
       " (3084, -4.484878350772443e-05),\n",
       " (3091, -9.374015210362652e-06),\n",
       " (3092, -1.902024162733321e-05),\n",
       " (3101, -8.339116736097752e-05),\n",
       " (3114, -1.0602113430517984e-05),\n",
       " (3122, -0.00012225445609309845),\n",
       " (3129, -8.968553621233339e-06),\n",
       " (3130, -4.2864075044545585e-05),\n",
       " (3149, -5.300676297368307e-05),\n",
       " (3160, -5.321898084031892e-05),\n",
       " (3163, -6.338645515098277e-05),\n",
       " (3165, -6.502694594095919e-05),\n",
       " (3190, -3.576802005038682e-05),\n",
       " (3192, -1.7232643373093557e-05),\n",
       " (3193, -5.686546802674388e-05),\n",
       " (3194, -1.3534973240203082e-05),\n",
       " (3196, -1.5316093947649628e-05),\n",
       " (3197, -0.00015735480922422475),\n",
       " (3199, -1.5761211716133446e-05),\n",
       " (3200, -8.722474207442469e-06),\n",
       " (3203, -7.22685174030118e-05),\n",
       " (3206, -4.541841285033656e-05),\n",
       " (3207, -4.293130445673693e-05),\n",
       " (3208, -7.33379181830939e-05),\n",
       " (3209, -8.85296481291948e-05),\n",
       " (3210, -5.292094306860224e-05),\n",
       " (3213, -2.3766590368764077e-05),\n",
       " (3231, -0.00031144137178745144),\n",
       " (3237, -4.615658000793678e-05),\n",
       " (3255, -9.829240466573285e-05),\n",
       " (3280, -2.7671240045755103e-05),\n",
       " (3296, -1.1959250974052144e-05),\n",
       " (3314, -1.3039089357457965e-05),\n",
       " (3324, -4.3614993336931826e-05),\n",
       " (3326, -2.1022163586000848e-05),\n",
       " (3329, -6.534938543450126e-05),\n",
       " (3357, -0.00010421310583542415),\n",
       " (3376, -1.5569522358713423e-05),\n",
       " (3382, -3.020366417348122e-05),\n",
       " (3395, -7.035606594828186e-05),\n",
       " (3397, -2.1852011696828666e-05),\n",
       " (3413, -5.248688079851939e-05),\n",
       " (3415, -5.4589279138905114e-05),\n",
       " (3416, -2.6755968797247886e-05),\n",
       " (3420, -1.7388781986557793e-05),\n",
       " (3426, -1.1523237465211104e-05),\n",
       " (3427, -1.5975309487853407e-05),\n",
       " (3429, -6.880490142804183e-05),\n",
       " (3444, -0.00011994831574190106),\n",
       " (3462, -2.7965851499236122e-05),\n",
       " (3465, -0.00011522434356646043),\n",
       " (3472, -9.643192232994206e-05),\n",
       " (3477, -1.2090409638383414e-05),\n",
       " (3478, -2.5175644494686605e-05),\n",
       " (3485, -0.00011869420112989984),\n",
       " (3493, -3.716106424716003e-06),\n",
       " (3512, -2.6146231598475556e-05),\n",
       " (3573, -2.8771569244444977e-05),\n",
       " (3587, -3.6774201122315034e-05),\n",
       " (3590, -7.581503694161099e-05),\n",
       " (3594, -2.449024028206717e-05),\n",
       " (3599, -2.138090786195466e-05),\n",
       " (3625, -1.3684749674842942e-05),\n",
       " (3628, -4.255389819927819e-05),\n",
       " (3634, -0.00011999781959709951),\n",
       " (3636, -0.0002414078231226092),\n",
       " (3646, -2.2849438077148532e-05),\n",
       " (3665, -2.1897291740450974e-05),\n",
       " (3683, -1.2894716125469731e-05),\n",
       " (3684, -5.550158446028862e-05),\n",
       " (3704, -3.48050580736351e-05),\n",
       " (3729, -0.00011480614074258077),\n",
       " (3736, -4.258456767250106e-05),\n",
       " (3741, -0.0001208400896831557),\n",
       " (3747, -0.0001294826876921782),\n",
       " (3748, -4.338115310583797e-05),\n",
       " (3750, -1.2614839983469037e-05),\n",
       " (3758, -9.470583475521067e-06),\n",
       " (3759, -2.9177594145494372e-05),\n",
       " (3760, -1.074034412587327e-05),\n",
       " (3761, -1.931593159702837e-05),\n",
       " (3762, -1.06455459409018e-05),\n",
       " (3763, -9.502729380845899e-06),\n",
       " (3764, -6.8738108402030335e-06),\n",
       " (3766, -2.9978429671471847e-05),\n",
       " (3772, -8.045435085992718e-06),\n",
       " (3774, -5.14240271456278e-05),\n",
       " (3779, -2.1764700908205096e-05),\n",
       " (3780, -1.0953468108303293e-05),\n",
       " (3781, -2.01964554371161e-05),\n",
       " (3782, -2.1987968583823184e-05),\n",
       " (3783, -1.493332061827362e-05),\n",
       " (3784, -7.88128943531901e-06),\n",
       " (3785, -4.122145381638144e-06),\n",
       " (3803, -7.097420385343668e-05),\n",
       " (3804, -6.491607279716118e-05),\n",
       " (3807, -3.236151227102718e-05),\n",
       " (3810, -7.224787712897179e-06),\n",
       " (3815, -2.139316254776058e-05),\n",
       " (3816, -3.164215812380095e-05),\n",
       " (3818, -3.6255329157699386e-05),\n",
       " (3823, -4.9080652870351596e-05),\n",
       " (3824, -2.5394477018687643e-05),\n",
       " (3825, -6.733982134148112e-05),\n",
       " (3840, -1.4371353835973547e-05),\n",
       " (3861, -8.292728621521612e-06),\n",
       " (3862, -4.246027491029919e-05),\n",
       " (3886, -2.3522888558850606e-05),\n",
       " (3894, -3.102372129866609e-05),\n",
       " (3898, -1.5513251554014176e-05),\n",
       " (3903, -4.0745458774305536e-05),\n",
       " (3904, -2.9342033884785573e-05),\n",
       " (3905, -2.3205296288256136e-05),\n",
       " (3906, -7.94284619571018e-05),\n",
       " (3907, -1.2302146111684719e-05),\n",
       " (3908, -3.270413017110957e-05),\n",
       " (3909, -3.336553056241977e-05),\n",
       " (3910, -1.1079949167798854e-05),\n",
       " (3911, -8.259578435399188e-06),\n",
       " (3913, -8.817404501006447e-05),\n",
       " (3914, -1.5183611026303012e-05),\n",
       " (3915, -2.860853666252518e-06),\n",
       " (3917, -1.568640282928165e-05),\n",
       " (3918, -3.328216294306021e-05),\n",
       " (3920, -1.9003065525966632e-05),\n",
       " (3928, -6.377839103899422e-06),\n",
       " (3929, -1.8398039095010526e-05),\n",
       " (3930, -5.5410293676837685e-06),\n",
       " (3931, -1.4117000765457503e-05),\n",
       " (3932, -1.8788467013325354e-05),\n",
       " (3933, -8.188615219547415e-06),\n",
       " (3934, -1.3113351349534404e-06),\n",
       " (3935, -1.0406356931625256e-05),\n",
       " (3936, -3.5531267144980935e-06),\n",
       " (3937, -1.3817440191655038e-05),\n",
       " (3938, -2.097327764785458e-06),\n",
       " (3939, -7.170425773733254e-07),\n",
       " (3944, -1.4998890871153475e-05),\n",
       " (3946, -3.191630826663429e-05),\n",
       " (3948, -8.580036128926916e-06),\n",
       " (3951, -3.322773933272623e-05),\n",
       " (3952, -3.772102701387916e-05),\n",
       " (3953, -1.4485801808136192e-05),\n",
       " (3954, -1.2863439131094662e-05),\n",
       " (3955, -1.2175079630170897e-05),\n",
       " (3956, -1.538026052507087e-05),\n",
       " (3957, -1.4507041083035535e-05),\n",
       " (3958, -6.74708891131948e-06),\n",
       " (3961, -1.0603328935170775e-05),\n",
       " (3963, -6.24125034022706e-05),\n",
       " (3965, -2.353292950389665e-05),\n",
       " (3966, -3.0069748620475218e-05),\n",
       " (3967, -1.0512045154994897e-05),\n",
       " (3988, -3.725082373401885e-05),\n",
       " (4007, -0.00010245133756489521),\n",
       " (4010, -1.8293722270180367e-05),\n",
       " (4033, -3.242999612650583e-05),\n",
       " (4034, -1.4245336015085385e-05),\n",
       " (4057, -1.0062877846778812e-05),\n",
       " (4076, -1.968749875003633e-05),\n",
       " (4085, -9.770501929157302e-05),\n",
       " (4090, -5.639874167364245e-06),\n",
       " (4101, -4.072611228135458e-05),\n",
       " (4130, -4.313272897147624e-05),\n",
       " (4134, -3.480702759502602e-05),\n",
       " (4139, -3.0225272276515722e-05),\n",
       " (4164, -4.200415174045257e-05),\n",
       " (4172, -3.161462441992539e-05),\n",
       " (4176, -2.9883000973054094e-05),\n",
       " (4178, -3.380504261547526e-05),\n",
       " (4185, -4.0206007974097695e-05),\n",
       " (4238, -1.4822599210540974e-05),\n",
       " (4258, -8.408927951954321e-06),\n",
       " (4281, -1.4235178671429524e-05),\n",
       " (4282, -2.3658005097425767e-05),\n",
       " (4289, -9.35159531520069e-05),\n",
       " (4309, -4.896263288313432e-05),\n",
       " (4331, -3.596035644212586e-05),\n",
       " (4333, -2.7789826320554107e-05),\n",
       " (4334, -2.8791783302022934e-05),\n",
       " (4335, -5.49669356244445e-05),\n",
       " (4336, -2.1762463085821103e-05),\n",
       " (4337, -2.000162933387053e-05),\n",
       " (4339, -3.508043372258539e-05),\n",
       " (4341, -3.881265722214558e-05),\n",
       " (4342, -1.9192937470353582e-05),\n",
       " (4343, -1.821203476569629e-05),\n",
       " (4346, -2.9006799557795426e-05),\n",
       " (4352, -7.958206176162693e-05),\n",
       " (4354, -1.6188520068188687e-05),\n",
       " (4364, -3.096578469200787e-05),\n",
       " (4365, -2.259789481780691e-05),\n",
       " (4368, -1.1330222012496039e-05),\n",
       " (4369, -4.519779990983231e-05),\n",
       " (4374, -5.5334014852691196e-05),\n",
       " (4388, -2.4727840030738785e-05),\n",
       " (4389, -7.12396155430893e-05),\n",
       " (4394, -0.0002596848940723235),\n",
       " (4397, -4.6986663623087594e-05),\n",
       " (4402, -2.2200018905480552e-05),\n",
       " (4419, -8.307904663906504e-05),\n",
       " (4435, -2.8642769528393933e-05),\n",
       " (4444, -0.0002344479332925835),\n",
       " (4448, -4.660493997659533e-05),\n",
       " (4450, -2.4833472649220805e-05),\n",
       " (4455, -7.878202641135426e-05),\n",
       " (4473, -2.4952837307357208e-05),\n",
       " (4481, -2.9899149663538378e-05),\n",
       " (4490, -0.0002529907932028479),\n",
       " (4496, -3.96565338842944e-05),\n",
       " (4497, -1.477772354663789e-05),\n",
       " (4499, -2.6031962259186214e-05),\n",
       " (4501, -2.153325136805783e-05),\n",
       " (4513, -6.747620344949557e-05),\n",
       " (4518, -3.743265342461988e-05),\n",
       " (4522, -4.88536135896585e-05),\n",
       " (4523, -3.4116841266822924e-05),\n",
       " (4528, -6.865803968857356e-05),\n",
       " (4531, -4.883688088882787e-05),\n",
       " (4539, -3.5170477694543444e-05),\n",
       " (4540, -2.6462731565713886e-05),\n",
       " (4544, -2.978034494836328e-05),\n",
       " (4566, -2.8020273209882102e-05),\n",
       " (4568, -2.4039413641231827e-05),\n",
       " (4570, -0.00013018245277539626),\n",
       " (4572, -7.29183188712193e-05),\n",
       " (4574, -2.859100798405384e-05),\n",
       " (4580, -1.6926386217349392e-05),\n",
       " (4581, -2.662226985564267e-05),\n",
       " (4582, -4.823308384128408e-05),\n",
       " (4586, -9.588684443615574e-05),\n",
       " (4587, -2.8165361379555982e-05),\n",
       " (4591, -2.4123291867652977e-05),\n",
       " (4597, -9.724425048882713e-06),\n",
       " (4598, -2.3575274073861927e-05),\n",
       " (4599, -1.986674872051444e-05),\n",
       " (4613, -1.671970971556452e-05),\n",
       " (4614, -2.469756530371154e-05),\n",
       " (4615, -5.0998425471658714e-05),\n",
       " (4623, -4.736201101846424e-05),\n",
       " (4633, -6.59323540131766e-05),\n",
       " (4635, -2.188010066016703e-05),\n",
       " (4638, -2.1502764616043974e-05),\n",
       " (4639, -1.58527820180008e-05),\n",
       " (4640, -3.75191482977365e-05),\n",
       " (4642, -3.283682387666175e-05),\n",
       " (4649, -0.00011769401969400457),\n",
       " (4654, -4.096774453664168e-05),\n",
       " (4655, -2.3992143783401828e-05),\n",
       " (4656, -2.4114066064277014e-05),\n",
       " (4658, -4.0784679781486324e-05),\n",
       " (4660, -2.3427486354734976e-05),\n",
       " (4661, -4.741312572574577e-05),\n",
       " (4665, -2.888746060396423e-05),\n",
       " (4666, -5.9613496924359456e-05),\n",
       " (4667, -4.491266712085703e-05),\n",
       " (4668, -3.1350073155362874e-05),\n",
       " (4669, -4.817537125785196e-05),\n",
       " (4672, -4.4152087391122e-05),\n",
       " (4679, -2.64177870969946e-05),\n",
       " (4686, -6.487814220947371e-05),\n",
       " (4689, -2.4903482404664675e-05),\n",
       " (4691, -4.124525823273707e-05),\n",
       " (4711, -4.376810325738127e-05),\n",
       " (4723, -8.374522080853921e-05),\n",
       " (4725, -0.00011430889555566434),\n",
       " (4726, -2.8031816857740367e-05),\n",
       " (4728, -3.368136007660482e-05),\n",
       " (4730, -2.102937863484146e-05),\n",
       " (4735, -2.2058285577952478e-05),\n",
       " (4743, -5.3482033571178776e-05),\n",
       " (4744, -1.5722976538618052e-05),\n",
       " (4746, -4.436766704945025e-05),\n",
       " (4765, -1.2882771685932971e-05),\n",
       " (4779, -7.982388717498113e-05),\n",
       " (4780, -8.936498150689152e-05),\n",
       " (4801, -1.4765734192416353e-05),\n",
       " (4802, -8.737684717420666e-06),\n",
       " (4803, -6.933542905172138e-05),\n",
       " (4805, -3.3278491371544116e-05),\n",
       " (4807, -8.115624024713274e-05),\n",
       " (4809, -0.00013836959957170357),\n",
       " (4812, -1.690985203684539e-05),\n",
       " (4817, -2.462970763647317e-05),\n",
       " (4818, -2.8301673196563164e-05),\n",
       " (4822, -9.236054798217334e-05),\n",
       " (4823, -2.334969148973605e-05),\n",
       " (4824, -2.2055500223898888e-05),\n",
       " (4825, -4.7614927604977126e-05),\n",
       " (4827, -4.652629143511877e-06),\n",
       " (4828, -7.213614564246066e-06),\n",
       " (4829, -2.5441761617164056e-05),\n",
       " (4836, -1.607436980022117e-05),\n",
       " (4846, -5.481155457661941e-05),\n",
       " (4847, -4.452112955236132e-05),\n",
       " (4850, -1.3084999944309306e-05),\n",
       " (4853, -1.0954723864709932e-05),\n",
       " (4854, -2.556825904086185e-05),\n",
       " (4863, -8.051835856225419e-06),\n",
       " (4866, -2.1522901710204478e-05),\n",
       " (4867, -2.96730880377975e-06),\n",
       " (4868, -4.653171452152696e-05),\n",
       " (4869, -6.731369950188221e-06),\n",
       " (4871, -1.0915364182871978e-05),\n",
       " (4893, -8.031662994800056e-05),\n",
       " (4897, -4.7138367983171205e-05),\n",
       " (4908, -0.00010290701688037513),\n",
       " (4928, -2.121447606470152e-05),\n",
       " (4929, -1.5904560666769422e-05),\n",
       " (4939, -2.1341696690569267e-05),\n",
       " (4945, -1.3704900431039583e-05),\n",
       " (4984, -3.5578583057947366e-05),\n",
       " (4991, -1.168812564817532e-05),\n",
       " (4992, -3.8849650296535594e-05),\n",
       " (4998, -3.1786040010213415e-05),\n",
       " (4999, -1.8478098372534157e-05),\n",
       " (5001, -2.4292935322694215e-05),\n",
       " (5002, -2.60405662431273e-05),\n",
       " (5003, -2.4721628461844525e-05),\n",
       " (5012, -3.2389163765959165e-05),\n",
       " (5016, -1.611594202690621e-05),\n",
       " (5018, -6.73123858666592e-06),\n",
       " (5019, -1.3172159897588178e-05),\n",
       " (5020, -8.577748392344345e-06),\n",
       " (5021, -2.443154841068273e-05),\n",
       " (5022, -1.3500599032614712e-05),\n",
       " (5024, -1.304600114352462e-05),\n",
       " (5026, -2.0807109304115125e-05),\n",
       " (5028, -1.300975096238052e-05),\n",
       " (5029, -1.6868735268219866e-05),\n",
       " (5030, -8.718533275457515e-06),\n",
       " (5031, -2.3804692059019676e-06),\n",
       " (5033, -1.70401771141199e-05),\n",
       " (5034, -6.098106663136196e-06),\n",
       " (5035, -7.965703755246182e-06),\n",
       " (5036, -2.7028898396198468e-05),\n",
       " (5039, -1.2239605450911314e-05),\n",
       " (5042, -1.6472678892156976e-05),\n",
       " (5047, -4.271467632378169e-05),\n",
       " (5055, -2.7568204274475767e-05),\n",
       " (5056, -1.540753048904648e-05),\n",
       " (5058, -8.622627953907223e-05),\n",
       " (5066, -8.827451766558208e-06),\n",
       " (5120, -5.102133106710855e-05),\n",
       " (5137, -5.120830195738387e-06),\n",
       " (5140, -1.578189628770112e-05),\n",
       " (5141, -3.3207751690866935e-06),\n",
       " (5142, -2.496491072738083e-05),\n",
       " (5143, -9.948683049310513e-06),\n",
       " (5145, -4.8018516048669705e-05),\n",
       " (5147, -1.0825122456595583e-05),\n",
       " (5148, -1.69967671865448e-05),\n",
       " (5149, -1.076860827644903e-05),\n",
       " (5152, -2.274581827859124e-05),\n",
       " (5155, -2.482899541401069e-05),\n",
       " (5163, -0.00017340046054387212),\n",
       " (5189, -4.375928278977586e-05),\n",
       " (5230, -7.358137546510997e-05),\n",
       " (5251, -0.00012784146051423909),\n",
       " (5271, -3.4086779344043014e-05),\n",
       " (5272, -2.5134985214557215e-05),\n",
       " (5273, -2.6669209631701102e-05),\n",
       " (5289, -1.2029824120841585e-05),\n",
       " (5316, -0.00012676800590608777),\n",
       " (5324, -4.8466027602717136e-05),\n",
       " (5338, -4.84775705233161e-05),\n",
       " (5347, -1.3706708388044063e-05),\n",
       " (5349, -4.76518041770933e-05),\n",
       " (5353, -2.346277112222136e-05),\n",
       " (5363, -1.9432322284645565e-05),\n",
       " (5366, -1.1380570852265934e-05),\n",
       " (5368, -1.7089295866218944e-05),\n",
       " (5369, -2.3250970447213287e-05),\n",
       " (5370, -2.3996374617958204e-05),\n",
       " (5371, -1.3618636557499394e-05),\n",
       " (5373, -7.89514203818448e-05),\n",
       " (5385, -7.594569494477031e-05),\n",
       " (5386, -3.95506257089308e-05),\n",
       " (5399, -2.2572195129585345e-05),\n",
       " (5408, -0.0002516493749801333),\n",
       " (5422, -5.0494322472623306e-05),\n",
       " (5426, -8.579982696303333e-05),\n",
       " (5432, -1.277967295424151e-05),\n",
       " (5441, -6.94081176855977e-05),\n",
       " (5457, -6.387248598857656e-05),\n",
       " (5475, -1.7537194266514925e-05),\n",
       " (5484, -2.441966780345851e-05),\n",
       " (5486, -1.7997798606035713e-05),\n",
       " (5494, -2.8646754771748248e-05),\n",
       " (5516, -2.5484903174263384e-05),\n",
       " (5535, -5.023851138976554e-05),\n",
       " (5564, -4.0441666900989024e-05),\n",
       " (5566, -4.628137695097842e-05),\n",
       " (5571, -5.9447695585851933e-05),\n",
       " (5574, -1.715481596633932e-05),\n",
       " (5576, -2.747579875398092e-05),\n",
       " (5607, -5.1692198801524185e-05),\n",
       " (5620, -2.202063273589348e-05),\n",
       " (5622, -1.7662427836787375e-05),\n",
       " (5623, -3.441489300479848e-05),\n",
       " (5626, -4.036124942677768e-05),\n",
       " (5628, -4.200087092561677e-05),\n",
       " (5634, -2.497822204918265e-05),\n",
       " (5635, -3.730983376014105e-05),\n",
       " (5637, -3.505646586907852e-05),\n",
       " (5638, -5.4073109461946406e-05),\n",
       " (5663, -0.00011404336449560176),\n",
       " (5668, -7.606582326807479e-05),\n",
       " (5708, -4.802243362803267e-05),\n",
       " (5724, -2.6216494226808473e-05),\n",
       " (5742, -1.1483135135624697e-05),\n",
       " (5761, -1.487710790032037e-05),\n",
       " (5775, -7.812804906327152e-05),\n",
       " (5783, -3.95763473126116e-05),\n",
       " (5807, -8.429536013958704e-05),\n",
       " (5822, -5.90411455955541e-05),\n",
       " (5824, -8.623869973144297e-06),\n",
       " (5844, -3.676647734257185e-05),\n",
       " (5847, -5.0292652355850754e-05),\n",
       " (5854, -3.284592152786285e-05),\n",
       " (5899, -1.7824118741754755e-05),\n",
       " (5921, -5.9458716267446714e-05),\n",
       " (5922, -4.480424207079086e-05),\n",
       " (5932, -0.00014114072635357187),\n",
       " (5963, -5.316060172459081e-05),\n",
       " (6004, -3.198600155361412e-05),\n",
       " (6007, -3.271960120236242e-05),\n",
       " (6014, -7.689422713064917e-05),\n",
       " (6018, -2.496469255699165e-05),\n",
       " (6034, -0.00014203380753136156),\n",
       " (6045, -6.0578669853324036e-05),\n",
       " (6053, -2.272935317777745e-05),\n",
       " (6068, -9.572742129480786e-05),\n",
       " (6080, -3.032254986300181e-05),\n",
       " (6111, -3.2635811625958067e-05),\n",
       " (6128, -1.2328185959054785e-05),\n",
       " (6151, -5.494411976802162e-05),\n",
       " (6168, -8.684265995435254e-05),\n",
       " (6175, -4.168707247123796e-05),\n",
       " (6190, -6.149946003552221e-05),\n",
       " (6191, -6.284567552320446e-05),\n",
       " (6195, -8.789865530533047e-06),\n",
       " (6197, -1.9473232010832355e-05),\n",
       " (6198, -2.7387512817614525e-05),\n",
       " (6202, -3.0284719236518104e-05),\n",
       " (6205, -1.4790277582950602e-05),\n",
       " (6206, -1.787039244950506e-05),\n",
       " (6207, -5.4649970938023346e-05),\n",
       " (6210, -2.6837816091446534e-05),\n",
       " (6214, -3.410690636994674e-05),\n",
       " (6230, -2.9324725621015692e-05),\n",
       " (6243, -2.45642008425384e-05),\n",
       " (6248, -4.445958255482576e-05),\n",
       " (6261, -4.3632320813452794e-05),\n",
       " (6265, -0.00010466986499531531),\n",
       " (6271, -6.601196308520759e-05),\n",
       " (6276, -2.336354866780123e-05),\n",
       " (6287, -0.00015919008345879104),\n",
       " (6297, -6.954734596218092e-05),\n",
       " (6306, -2.8635130887912155e-05),\n",
       " (6309, -2.6833044064692168e-05),\n",
       " (6317, -4.928727416947606e-05),\n",
       " (6330, -3.7865575147150396e-05),\n",
       " (6347, -4.386773730728179e-05),\n",
       " (6369, -3.553313735705332e-05),\n",
       " (6403, -3.1104297983260665e-05),\n",
       " (6411, -3.0966596671890656e-05),\n",
       " (6417, -3.2793254765011824e-05),\n",
       " (6419, -3.879330760974644e-05),\n",
       " (6422, -2.2086905390007898e-05),\n",
       " (6423, -1.2724880176960562e-05),\n",
       " (6424, -1.8006887163604698e-05),\n",
       " (6428, -6.925467135695606e-05),\n",
       " (6431, -8.416350062899402e-06),\n",
       " (6436, -4.791263543800481e-05),\n",
       " (6437, -0.00016264947380457569),\n",
       " (6444, -8.581302233419102e-05),\n",
       " (6445, -2.251704032432167e-05),\n",
       " (6451, -2.5052063939305517e-05),\n",
       " (6456, -2.0266533305192852e-05),\n",
       " (6459, -6.511061045120761e-05),\n",
       " (6464, -4.657499842329535e-05),\n",
       " (6466, -8.521169010411206e-06),\n",
       " (6481, -1.9509123365843547e-05),\n",
       " (6487, -5.295837382508467e-05),\n",
       " (6501, -3.8863713872349957e-05),\n",
       " (6516, -1.2160110160720996e-05),\n",
       " (6520, -5.597292750760166e-05),\n",
       " (6535, -1.5746794929074702e-05),\n",
       " (6555, -2.8188057694883798e-05),\n",
       " (6561, -2.0690201617461076e-05),\n",
       " (6579, -7.625388091127633e-05),\n",
       " (6580, -2.1788528972205884e-05),\n",
       " (6582, -2.350886928810341e-05),\n",
       " (6585, -2.369129094735419e-05),\n",
       " (6586, -2.6906682405043314e-05),\n",
       " (6588, -4.7936270656655904e-05),\n",
       " (6591, -2.960154759817508e-05),\n",
       " (6593, -1.772973013732614e-05),\n",
       " (6594, -1.5045549493456414e-05),\n",
       " (6601, -1.79264940476294e-05),\n",
       " (6610, -8.661222102902656e-05),\n",
       " (6611, -2.9500386715059157e-05),\n",
       " (6614, -3.876831259256965e-05),\n",
       " ...]"
      ]
     },
     "execution_count": 127,
     "metadata": {},
     "output_type": "execute_result"
    }
   ],
   "source": [
    "outlier_abod_list_2 = []\n",
    "\n",
    "for i in range(0,len(outlier_scores_abod_2)):\n",
    "    outlier_abod_list_2.append((outlier_indexes_abod_2[i], outlier_scores_abod_2[i]))\n",
    "    \n",
    "outlier_abod_list_2"
   ]
  },
  {
   "cell_type": "code",
   "execution_count": 128,
   "metadata": {},
   "outputs": [],
   "source": [
    "def outlier_score(elem):\n",
    "    return elem[1]\n",
    "outlier_abod_list_2 = sorted(outlier_abod_list_2, key=outlier_score, reverse = True)"
   ]
  },
  {
   "cell_type": "code",
   "execution_count": 129,
   "metadata": {},
   "outputs": [
    {
     "data": {
      "text/plain": [
       "-0.0003925204543515618"
      ]
     },
     "execution_count": 129,
     "metadata": {},
     "output_type": "execute_result"
    }
   ],
   "source": [
    "np.min(clf_ABOD_2.decision_scores_[np.where(outliers_ABOD_2==1)])"
   ]
  },
  {
   "cell_type": "code",
   "execution_count": 130,
   "metadata": {},
   "outputs": [
    {
     "data": {
      "text/plain": [
       "-4.445102603358903e-07"
      ]
     },
     "execution_count": 130,
     "metadata": {},
     "output_type": "execute_result"
    }
   ],
   "source": [
    "np.max(clf_ABOD_2.decision_scores_[np.where(outliers_ABOD_2==1)])"
   ]
  },
  {
   "cell_type": "code",
   "execution_count": 131,
   "metadata": {},
   "outputs": [
    {
     "data": {
      "text/plain": [
       "[(1904, -4.445102603358903e-07),\n",
       " (3939, -7.170425773733254e-07),\n",
       " (3934, -1.3113351349534404e-06),\n",
       " (3938, -2.097327764785458e-06),\n",
       " (875, -2.2893145071416405e-06),\n",
       " (2352, -2.3078085450367775e-06),\n",
       " (5031, -2.3804692059019676e-06),\n",
       " (3915, -2.860853666252518e-06),\n",
       " (2451, -2.9260712911303854e-06),\n",
       " (4867, -2.96730880377975e-06)]"
      ]
     },
     "execution_count": 131,
     "metadata": {},
     "output_type": "execute_result"
    }
   ],
   "source": [
    "outlier_abod_list_2[:10]"
   ]
  },
  {
   "cell_type": "code",
   "execution_count": 132,
   "metadata": {},
   "outputs": [
    {
     "data": {
      "text/plain": [
       "-0.0003925204543515618"
      ]
     },
     "execution_count": 132,
     "metadata": {},
     "output_type": "execute_result"
    }
   ],
   "source": [
    "min([i[1] for i in outlier_abod_list_2])"
   ]
  },
  {
   "cell_type": "code",
   "execution_count": 133,
   "metadata": {},
   "outputs": [
    {
     "data": {
      "text/plain": [
       "-4.445102603358903e-07"
      ]
     },
     "execution_count": 133,
     "metadata": {},
     "output_type": "execute_result"
    }
   ],
   "source": [
    "max([i[1] for i in outlier_abod_list_2])"
   ]
  },
  {
   "cell_type": "markdown",
   "metadata": {},
   "source": [
    "**Top 1%**"
   ]
  },
  {
   "cell_type": "code",
   "execution_count": 134,
   "metadata": {},
   "outputs": [
    {
     "data": {
      "text/plain": [
       "10"
      ]
     },
     "execution_count": 134,
     "metadata": {},
     "output_type": "execute_result"
    }
   ],
   "source": [
    "top1perc = int(math.ceil(len(y_outliers_ABOD_2))*0.01)\n",
    "\n",
    "top_outliers_ABOD_2 = outlier_abod_list_2[:top1perc]\n",
    "len(top_outliers_ABOD_2)"
   ]
  },
  {
   "cell_type": "code",
   "execution_count": 135,
   "metadata": {},
   "outputs": [],
   "source": [
    "indexes_list_ABOD_2 = [i[0] for i in top_outliers_ABOD_2] #retrieve index of outliers"
   ]
  },
  {
   "cell_type": "code",
   "execution_count": 136,
   "metadata": {},
   "outputs": [],
   "source": [
    "df_ABOD_outliers_2 = df.iloc[indexes_list_ABOD_2]"
   ]
  },
  {
   "cell_type": "code",
   "execution_count": 137,
   "metadata": {},
   "outputs": [
    {
     "data": {
      "text/html": [
       "<div>\n",
       "<style scoped>\n",
       "    .dataframe tbody tr th:only-of-type {\n",
       "        vertical-align: middle;\n",
       "    }\n",
       "\n",
       "    .dataframe tbody tr th {\n",
       "        vertical-align: top;\n",
       "    }\n",
       "\n",
       "    .dataframe thead th {\n",
       "        text-align: right;\n",
       "    }\n",
       "</style>\n",
       "<table border=\"1\" class=\"dataframe\">\n",
       "  <thead>\n",
       "    <tr style=\"text-align: right;\">\n",
       "      <th></th>\n",
       "      <th>tBodyAccmeanX</th>\n",
       "      <th>tBodyAccmeanY</th>\n",
       "      <th>tBodyAccmeanZ</th>\n",
       "      <th>tBodyAccstdX</th>\n",
       "      <th>tBodyAccstdY</th>\n",
       "      <th>tBodyAccstdZ</th>\n",
       "      <th>tBodyAccmadX</th>\n",
       "      <th>tBodyAccmadY</th>\n",
       "      <th>tBodyAccmadZ</th>\n",
       "      <th>tBodyAccmaxX</th>\n",
       "      <th>...</th>\n",
       "      <th>angletBodyAccMeangravity</th>\n",
       "      <th>angletBodyAccJerkMeangravityMean</th>\n",
       "      <th>angletBodyGyroMeangravityMean</th>\n",
       "      <th>angletBodyGyroJerkMeangravityMean</th>\n",
       "      <th>angleXgravityMean</th>\n",
       "      <th>angleYgravityMean</th>\n",
       "      <th>angleZgravityMean</th>\n",
       "      <th>subject</th>\n",
       "      <th>Activity</th>\n",
       "      <th>ActivityName</th>\n",
       "    </tr>\n",
       "  </thead>\n",
       "  <tbody>\n",
       "    <tr>\n",
       "      <th>1904</th>\n",
       "      <td>0.273039</td>\n",
       "      <td>-0.033770</td>\n",
       "      <td>-0.102502</td>\n",
       "      <td>-0.963494</td>\n",
       "      <td>-0.905461</td>\n",
       "      <td>-0.958686</td>\n",
       "      <td>-0.982357</td>\n",
       "      <td>-0.926281</td>\n",
       "      <td>-0.967236</td>\n",
       "      <td>-0.819511</td>\n",
       "      <td>...</td>\n",
       "      <td>-0.049379</td>\n",
       "      <td>-0.085283</td>\n",
       "      <td>0.613315</td>\n",
       "      <td>-0.348253</td>\n",
       "      <td>-0.742238</td>\n",
       "      <td>0.200055</td>\n",
       "      <td>-0.133881</td>\n",
       "      <td>11</td>\n",
       "      <td>5</td>\n",
       "      <td>STANDING</td>\n",
       "    </tr>\n",
       "    <tr>\n",
       "      <th>3939</th>\n",
       "      <td>0.114180</td>\n",
       "      <td>-0.042243</td>\n",
       "      <td>-0.118167</td>\n",
       "      <td>1.000000</td>\n",
       "      <td>0.753928</td>\n",
       "      <td>0.217305</td>\n",
       "      <td>1.000000</td>\n",
       "      <td>0.722617</td>\n",
       "      <td>0.179957</td>\n",
       "      <td>1.000000</td>\n",
       "      <td>...</td>\n",
       "      <td>0.586616</td>\n",
       "      <td>0.818511</td>\n",
       "      <td>-0.863211</td>\n",
       "      <td>-0.255721</td>\n",
       "      <td>-0.668652</td>\n",
       "      <td>0.228409</td>\n",
       "      <td>0.212093</td>\n",
       "      <td>19</td>\n",
       "      <td>3</td>\n",
       "      <td>WALKING_DOWNSTAIRS</td>\n",
       "    </tr>\n",
       "    <tr>\n",
       "      <th>3934</th>\n",
       "      <td>0.028502</td>\n",
       "      <td>-0.012144</td>\n",
       "      <td>-0.097018</td>\n",
       "      <td>0.793422</td>\n",
       "      <td>0.916238</td>\n",
       "      <td>0.730133</td>\n",
       "      <td>0.761451</td>\n",
       "      <td>0.865956</td>\n",
       "      <td>0.681404</td>\n",
       "      <td>0.683437</td>\n",
       "      <td>...</td>\n",
       "      <td>0.893470</td>\n",
       "      <td>0.536252</td>\n",
       "      <td>0.812812</td>\n",
       "      <td>0.067803</td>\n",
       "      <td>-0.723711</td>\n",
       "      <td>0.228629</td>\n",
       "      <td>0.161748</td>\n",
       "      <td>19</td>\n",
       "      <td>3</td>\n",
       "      <td>WALKING_DOWNSTAIRS</td>\n",
       "    </tr>\n",
       "    <tr>\n",
       "      <th>3938</th>\n",
       "      <td>-0.161088</td>\n",
       "      <td>-0.028160</td>\n",
       "      <td>-0.209931</td>\n",
       "      <td>0.817104</td>\n",
       "      <td>0.873037</td>\n",
       "      <td>0.127390</td>\n",
       "      <td>0.734566</td>\n",
       "      <td>0.845695</td>\n",
       "      <td>0.111837</td>\n",
       "      <td>0.803192</td>\n",
       "      <td>...</td>\n",
       "      <td>0.621322</td>\n",
       "      <td>-0.820087</td>\n",
       "      <td>0.351063</td>\n",
       "      <td>0.193917</td>\n",
       "      <td>-0.729349</td>\n",
       "      <td>0.208647</td>\n",
       "      <td>0.174249</td>\n",
       "      <td>19</td>\n",
       "      <td>3</td>\n",
       "      <td>WALKING_DOWNSTAIRS</td>\n",
       "    </tr>\n",
       "    <tr>\n",
       "      <th>875</th>\n",
       "      <td>0.237868</td>\n",
       "      <td>0.069679</td>\n",
       "      <td>-0.069621</td>\n",
       "      <td>-0.971624</td>\n",
       "      <td>-0.811786</td>\n",
       "      <td>-0.925904</td>\n",
       "      <td>-0.976328</td>\n",
       "      <td>-0.791251</td>\n",
       "      <td>-0.929942</td>\n",
       "      <td>-0.923921</td>\n",
       "      <td>...</td>\n",
       "      <td>-0.013513</td>\n",
       "      <td>-0.285302</td>\n",
       "      <td>-0.201693</td>\n",
       "      <td>-0.622191</td>\n",
       "      <td>-0.774345</td>\n",
       "      <td>-0.020470</td>\n",
       "      <td>-0.091494</td>\n",
       "      <td>5</td>\n",
       "      <td>4</td>\n",
       "      <td>SITTING</td>\n",
       "    </tr>\n",
       "    <tr>\n",
       "      <th>2352</th>\n",
       "      <td>0.346694</td>\n",
       "      <td>-0.064973</td>\n",
       "      <td>-0.155830</td>\n",
       "      <td>0.105998</td>\n",
       "      <td>0.400009</td>\n",
       "      <td>0.394327</td>\n",
       "      <td>-0.056763</td>\n",
       "      <td>0.292261</td>\n",
       "      <td>0.341781</td>\n",
       "      <td>0.643538</td>\n",
       "      <td>...</td>\n",
       "      <td>-0.539461</td>\n",
       "      <td>-0.716979</td>\n",
       "      <td>-0.614701</td>\n",
       "      <td>-0.284026</td>\n",
       "      <td>-0.549139</td>\n",
       "      <td>0.275628</td>\n",
       "      <td>0.278635</td>\n",
       "      <td>14</td>\n",
       "      <td>3</td>\n",
       "      <td>WALKING_DOWNSTAIRS</td>\n",
       "    </tr>\n",
       "    <tr>\n",
       "      <th>5031</th>\n",
       "      <td>0.445497</td>\n",
       "      <td>-0.038743</td>\n",
       "      <td>-0.022479</td>\n",
       "      <td>0.312010</td>\n",
       "      <td>0.393009</td>\n",
       "      <td>0.455654</td>\n",
       "      <td>0.227160</td>\n",
       "      <td>0.343693</td>\n",
       "      <td>0.379090</td>\n",
       "      <td>0.589661</td>\n",
       "      <td>...</td>\n",
       "      <td>-0.399620</td>\n",
       "      <td>-0.301910</td>\n",
       "      <td>0.913745</td>\n",
       "      <td>-0.995100</td>\n",
       "      <td>-0.727216</td>\n",
       "      <td>0.162559</td>\n",
       "      <td>0.202732</td>\n",
       "      <td>23</td>\n",
       "      <td>3</td>\n",
       "      <td>WALKING_DOWNSTAIRS</td>\n",
       "    </tr>\n",
       "    <tr>\n",
       "      <th>3915</th>\n",
       "      <td>0.200659</td>\n",
       "      <td>-0.086655</td>\n",
       "      <td>-0.170024</td>\n",
       "      <td>0.061021</td>\n",
       "      <td>0.289417</td>\n",
       "      <td>0.186073</td>\n",
       "      <td>-0.114068</td>\n",
       "      <td>0.210441</td>\n",
       "      <td>0.101854</td>\n",
       "      <td>0.518618</td>\n",
       "      <td>...</td>\n",
       "      <td>0.101909</td>\n",
       "      <td>-0.319113</td>\n",
       "      <td>-0.966249</td>\n",
       "      <td>-0.968393</td>\n",
       "      <td>-0.779733</td>\n",
       "      <td>0.208059</td>\n",
       "      <td>0.127136</td>\n",
       "      <td>19</td>\n",
       "      <td>1</td>\n",
       "      <td>WALKING</td>\n",
       "    </tr>\n",
       "    <tr>\n",
       "      <th>2451</th>\n",
       "      <td>-1.000000</td>\n",
       "      <td>0.177522</td>\n",
       "      <td>0.543939</td>\n",
       "      <td>-0.100786</td>\n",
       "      <td>-0.126211</td>\n",
       "      <td>0.359538</td>\n",
       "      <td>-0.092218</td>\n",
       "      <td>-0.149869</td>\n",
       "      <td>0.530467</td>\n",
       "      <td>-0.821282</td>\n",
       "      <td>...</td>\n",
       "      <td>-0.061649</td>\n",
       "      <td>0.129772</td>\n",
       "      <td>-0.296755</td>\n",
       "      <td>-0.087100</td>\n",
       "      <td>-0.043034</td>\n",
       "      <td>-0.220034</td>\n",
       "      <td>-0.530436</td>\n",
       "      <td>14</td>\n",
       "      <td>6</td>\n",
       "      <td>LAYING</td>\n",
       "    </tr>\n",
       "    <tr>\n",
       "      <th>4867</th>\n",
       "      <td>0.113550</td>\n",
       "      <td>0.034000</td>\n",
       "      <td>-0.078918</td>\n",
       "      <td>-0.064953</td>\n",
       "      <td>0.102599</td>\n",
       "      <td>0.103434</td>\n",
       "      <td>-0.202318</td>\n",
       "      <td>0.151325</td>\n",
       "      <td>0.004543</td>\n",
       "      <td>0.165346</td>\n",
       "      <td>...</td>\n",
       "      <td>0.653298</td>\n",
       "      <td>0.264156</td>\n",
       "      <td>-0.814311</td>\n",
       "      <td>0.393014</td>\n",
       "      <td>-0.789695</td>\n",
       "      <td>0.163405</td>\n",
       "      <td>0.153595</td>\n",
       "      <td>23</td>\n",
       "      <td>3</td>\n",
       "      <td>WALKING_DOWNSTAIRS</td>\n",
       "    </tr>\n",
       "  </tbody>\n",
       "</table>\n",
       "<p>10 rows × 564 columns</p>\n",
       "</div>"
      ],
      "text/plain": [
       "      tBodyAccmeanX  tBodyAccmeanY  tBodyAccmeanZ  tBodyAccstdX  tBodyAccstdY  \\\n",
       "1904       0.273039      -0.033770      -0.102502     -0.963494     -0.905461   \n",
       "3939       0.114180      -0.042243      -0.118167      1.000000      0.753928   \n",
       "3934       0.028502      -0.012144      -0.097018      0.793422      0.916238   \n",
       "3938      -0.161088      -0.028160      -0.209931      0.817104      0.873037   \n",
       "875        0.237868       0.069679      -0.069621     -0.971624     -0.811786   \n",
       "2352       0.346694      -0.064973      -0.155830      0.105998      0.400009   \n",
       "5031       0.445497      -0.038743      -0.022479      0.312010      0.393009   \n",
       "3915       0.200659      -0.086655      -0.170024      0.061021      0.289417   \n",
       "2451      -1.000000       0.177522       0.543939     -0.100786     -0.126211   \n",
       "4867       0.113550       0.034000      -0.078918     -0.064953      0.102599   \n",
       "\n",
       "      tBodyAccstdZ  tBodyAccmadX  tBodyAccmadY  tBodyAccmadZ  tBodyAccmaxX  \\\n",
       "1904     -0.958686     -0.982357     -0.926281     -0.967236     -0.819511   \n",
       "3939      0.217305      1.000000      0.722617      0.179957      1.000000   \n",
       "3934      0.730133      0.761451      0.865956      0.681404      0.683437   \n",
       "3938      0.127390      0.734566      0.845695      0.111837      0.803192   \n",
       "875      -0.925904     -0.976328     -0.791251     -0.929942     -0.923921   \n",
       "2352      0.394327     -0.056763      0.292261      0.341781      0.643538   \n",
       "5031      0.455654      0.227160      0.343693      0.379090      0.589661   \n",
       "3915      0.186073     -0.114068      0.210441      0.101854      0.518618   \n",
       "2451      0.359538     -0.092218     -0.149869      0.530467     -0.821282   \n",
       "4867      0.103434     -0.202318      0.151325      0.004543      0.165346   \n",
       "\n",
       "      ...  angletBodyAccMeangravity  angletBodyAccJerkMeangravityMean  \\\n",
       "1904  ...                 -0.049379                         -0.085283   \n",
       "3939  ...                  0.586616                          0.818511   \n",
       "3934  ...                  0.893470                          0.536252   \n",
       "3938  ...                  0.621322                         -0.820087   \n",
       "875   ...                 -0.013513                         -0.285302   \n",
       "2352  ...                 -0.539461                         -0.716979   \n",
       "5031  ...                 -0.399620                         -0.301910   \n",
       "3915  ...                  0.101909                         -0.319113   \n",
       "2451  ...                 -0.061649                          0.129772   \n",
       "4867  ...                  0.653298                          0.264156   \n",
       "\n",
       "      angletBodyGyroMeangravityMean  angletBodyGyroJerkMeangravityMean  \\\n",
       "1904                       0.613315                          -0.348253   \n",
       "3939                      -0.863211                          -0.255721   \n",
       "3934                       0.812812                           0.067803   \n",
       "3938                       0.351063                           0.193917   \n",
       "875                       -0.201693                          -0.622191   \n",
       "2352                      -0.614701                          -0.284026   \n",
       "5031                       0.913745                          -0.995100   \n",
       "3915                      -0.966249                          -0.968393   \n",
       "2451                      -0.296755                          -0.087100   \n",
       "4867                      -0.814311                           0.393014   \n",
       "\n",
       "      angleXgravityMean  angleYgravityMean  angleZgravityMean  subject  \\\n",
       "1904          -0.742238           0.200055          -0.133881       11   \n",
       "3939          -0.668652           0.228409           0.212093       19   \n",
       "3934          -0.723711           0.228629           0.161748       19   \n",
       "3938          -0.729349           0.208647           0.174249       19   \n",
       "875           -0.774345          -0.020470          -0.091494        5   \n",
       "2352          -0.549139           0.275628           0.278635       14   \n",
       "5031          -0.727216           0.162559           0.202732       23   \n",
       "3915          -0.779733           0.208059           0.127136       19   \n",
       "2451          -0.043034          -0.220034          -0.530436       14   \n",
       "4867          -0.789695           0.163405           0.153595       23   \n",
       "\n",
       "      Activity        ActivityName  \n",
       "1904         5            STANDING  \n",
       "3939         3  WALKING_DOWNSTAIRS  \n",
       "3934         3  WALKING_DOWNSTAIRS  \n",
       "3938         3  WALKING_DOWNSTAIRS  \n",
       "875          4             SITTING  \n",
       "2352         3  WALKING_DOWNSTAIRS  \n",
       "5031         3  WALKING_DOWNSTAIRS  \n",
       "3915         1             WALKING  \n",
       "2451         6              LAYING  \n",
       "4867         3  WALKING_DOWNSTAIRS  \n",
       "\n",
       "[10 rows x 564 columns]"
      ]
     },
     "execution_count": 137,
     "metadata": {},
     "output_type": "execute_result"
    }
   ],
   "source": [
    "df_ABOD_outliers_2"
   ]
  },
  {
   "cell_type": "code",
   "execution_count": 138,
   "metadata": {},
   "outputs": [
    {
     "data": {
      "text/plain": [
       "[1904, 3939, 3934, 3938, 875, 2352, 5031, 3915, 2451, 4867]"
      ]
     },
     "execution_count": 138,
     "metadata": {},
     "output_type": "execute_result"
    }
   ],
   "source": [
    "#retrieve  id of outliers\n",
    "outliers_id_abod_2 = list(df_ABOD_outliers_2.index)\n",
    "outliers_id_abod_2[:10]"
   ]
  },
  {
   "cell_type": "code",
   "execution_count": 139,
   "metadata": {},
   "outputs": [
    {
     "data": {
      "text/plain": [
       "10"
      ]
     },
     "execution_count": 139,
     "metadata": {},
     "output_type": "execute_result"
    }
   ],
   "source": [
    "len(outliers_id_abod_2)"
   ]
  },
  {
   "cell_type": "code",
   "execution_count": 140,
   "metadata": {},
   "outputs": [
    {
     "data": {
      "text/plain": [
       "[(1904, -4.445102603358903e-07),\n",
       " (3939, -7.170425773733254e-07),\n",
       " (3934, -1.3113351349534404e-06),\n",
       " (3938, -2.097327764785458e-06),\n",
       " (875, -2.2893145071416405e-06)]"
      ]
     },
     "execution_count": 140,
     "metadata": {},
     "output_type": "execute_result"
    }
   ],
   "source": [
    "top_outliers_ABOD_2[:5]"
   ]
  },
  {
   "cell_type": "code",
   "execution_count": 141,
   "metadata": {},
   "outputs": [
    {
     "name": "stdout",
     "output_type": "stream",
     "text": [
      "id with ABOD score of outlierness\n"
     ]
    },
    {
     "data": {
      "text/plain": [
       "[(1904, -4.445102603358903e-07),\n",
       " (3939, -7.170425773733254e-07),\n",
       " (3934, -1.3113351349534404e-06),\n",
       " (3938, -2.097327764785458e-06),\n",
       " (875, -2.2893145071416405e-06),\n",
       " (2352, -2.3078085450367775e-06),\n",
       " (5031, -2.3804692059019676e-06),\n",
       " (3915, -2.860853666252518e-06),\n",
       " (2451, -2.9260712911303854e-06),\n",
       " (4867, -2.96730880377975e-06)]"
      ]
     },
     "execution_count": 141,
     "metadata": {},
     "output_type": "execute_result"
    }
   ],
   "source": [
    "top_outliers_ABOD_id_2 = []\n",
    "\n",
    "for i, val in top_outliers_ABOD_2:\n",
    "    top_outliers_ABOD_id_2.append((df.iloc[i].name, val))\n",
    "\n",
    "print(\"id with ABOD score of outlierness\")\n",
    "top_outliers_ABOD_id_2[:10]"
   ]
  },
  {
   "cell_type": "code",
   "execution_count": 142,
   "metadata": {},
   "outputs": [
    {
     "data": {
      "text/plain": [
       "10"
      ]
     },
     "execution_count": 142,
     "metadata": {},
     "output_type": "execute_result"
    }
   ],
   "source": [
    "len(top_outliers_ABOD_id_2)"
   ]
  },
  {
   "cell_type": "markdown",
   "metadata": {},
   "source": [
    "# Distance based (KNN)"
   ]
  },
  {
   "cell_type": "code",
   "execution_count": null,
   "metadata": {},
   "outputs": [],
   "source": []
  },
  {
   "cell_type": "markdown",
   "metadata": {},
   "source": [
    "## KNN"
   ]
  },
  {
   "cell_type": "code",
   "execution_count": 143,
   "metadata": {},
   "outputs": [
    {
     "data": {
      "text/plain": [
       "KNN(algorithm='auto', contamination=0.1, leaf_size=30, method='largest',\n",
       "  metric='minkowski', metric_params=None, n_jobs=1, n_neighbors=86, p=2,\n",
       "  radius=1.0)"
      ]
     },
     "execution_count": 143,
     "metadata": {},
     "output_type": "execute_result"
    }
   ],
   "source": [
    "clf_KNN = KNN(n_neighbors=86)\n",
    "clf_KNN.fit(X)"
   ]
  },
  {
   "cell_type": "markdown",
   "metadata": {},
   "source": [
    "**Decision_scores_**\n",
    "\n",
    "**The outlier scores of the training data.** The higher, the more abnormal. Outliers tend to have higher scores. This value is available once the detector is fitted."
   ]
  },
  {
   "cell_type": "code",
   "execution_count": 144,
   "metadata": {},
   "outputs": [
    {
     "data": {
      "text/plain": [
       "array([5.41240703, 3.57787976, 3.35489902, ..., 5.09905614, 5.15792921,\n",
       "       4.68287316])"
      ]
     },
     "execution_count": 144,
     "metadata": {},
     "output_type": "execute_result"
    }
   ],
   "source": [
    "clf_KNN.decision_scores_"
   ]
  },
  {
   "cell_type": "markdown",
   "metadata": {},
   "source": [
    "**Decision function**"
   ]
  },
  {
   "cell_type": "code",
   "execution_count": 145,
   "metadata": {},
   "outputs": [
    {
     "data": {
      "text/plain": [
       "array([5.4077712 , 3.57771789, 3.35240149, ..., 5.08950355, 5.15554062,\n",
       "       4.67199846])"
      ]
     },
     "execution_count": 145,
     "metadata": {},
     "output_type": "execute_result"
    }
   ],
   "source": [
    "anomlay_score = clf_KNN.decision_function(X)\n",
    "anomlay_score"
   ]
  },
  {
   "cell_type": "markdown",
   "metadata": {},
   "source": [
    "**Predict**"
   ]
  },
  {
   "cell_type": "code",
   "execution_count": 146,
   "metadata": {},
   "outputs": [
    {
     "data": {
      "text/plain": [
       "(array([0, 1]), array([6622,  730], dtype=int64))"
      ]
     },
     "execution_count": 146,
     "metadata": {},
     "output_type": "execute_result"
    }
   ],
   "source": [
    "outliers_KNN = clf_KNN.predict(X)\n",
    "np.unique(outliers_KNN, return_counts=True)"
   ]
  },
  {
   "cell_type": "code",
   "execution_count": 147,
   "metadata": {},
   "outputs": [
    {
     "data": {
      "text/plain": [
       "array([  27,   30,   31,   32,   64,   66,   67,   69,   70,   71,   72,\n",
       "         73,  134,  136,  137,  138,  140,  237,  238,  240,  241,  245,\n",
       "        246,  247,  299,  344,  346,  347,  378,  384,  385,  386,  481,\n",
       "        482,  483,  486,  487,  552,  564,  565,  578,  579,  594,  657,\n",
       "        688,  690,  703,  716,  739,  753,  802,  818,  819,  847,  861,\n",
       "        870,  896,  955, 1040, 1041, 1049, 1050, 1052, 1062, 1063, 1109,\n",
       "       1110, 1111, 1112, 1115, 1118, 1119, 1121, 1122, 1123, 1126, 1170,\n",
       "       1183, 1194, 1209, 1210, 1211, 1223, 1242, 1243, 1251, 1257, 1258,\n",
       "       1259, 1263, 1264, 1266, 1267, 1268, 1269, 1270, 1271, 1272, 1273,\n",
       "       1274, 1275, 1276, 1277, 1278, 1279, 1280, 1281, 1282, 1283, 1284,\n",
       "       1285, 1286, 1287, 1288, 1289, 1301, 1304, 1305, 1308, 1309, 1310,\n",
       "       1311, 1312, 1343, 1355, 1369, 1370, 1383, 1413, 1420, 1421, 1422,\n",
       "       1423, 1424, 1425, 1429, 1432, 1441, 1442, 1444, 1445, 1446, 1447,\n",
       "       1448, 1449, 1488, 1501, 1513, 1514, 1523, 1550, 1551, 1552, 1553,\n",
       "       1556, 1557, 1558, 1567, 1568, 1570, 1571, 1572, 1573, 1582, 1583,\n",
       "       1587, 1597, 1645, 1646, 1653, 1680, 1718, 1723, 1724, 1725, 1726,\n",
       "       1727, 1728, 1729, 1730, 1731, 1732, 1733, 1734, 1735, 1752, 1754,\n",
       "       1755, 1757, 1773, 1789, 1800, 1813, 1815, 1816, 1817, 1826, 1827,\n",
       "       1843, 1844, 1845, 1846, 1847, 1848, 1849, 1850, 1851, 1852, 1855,\n",
       "       1856, 1857, 1860, 1861, 1862, 1863, 1866, 1867, 1868, 1869, 1870,\n",
       "       1871, 1872, 1873, 1874, 1875, 1876, 1877, 1878, 1879, 1880, 1881,\n",
       "       1882, 1883, 1885, 1886, 1887, 1888, 1889, 1892, 1893, 1894, 1895,\n",
       "       1896, 1897, 1898, 1901, 1902, 1903, 1904, 1925, 1939, 1951, 1965,\n",
       "       2031, 2084, 2099, 2111, 2112, 2125, 2126, 2220, 2276, 2288, 2332,\n",
       "       2333, 2334, 2335, 2336, 2337, 2339, 2340, 2341, 2342, 2343, 2344,\n",
       "       2345, 2346, 2347, 2348, 2349, 2350, 2351, 2352, 2353, 2354, 2355,\n",
       "       2356, 2357, 2358, 2359, 2360, 2361, 2362, 2363, 2364, 2365, 2366,\n",
       "       2367, 2368, 2369, 2370, 2371, 2372, 2373, 2374, 2375, 2376, 2377,\n",
       "       2378, 2379, 2380, 2412, 2440, 2441, 2451, 2455, 2495, 2496, 2497,\n",
       "       2498, 2499, 2500, 2501, 2502, 2503, 2504, 2505, 2506, 2507, 2508,\n",
       "       2509, 2510, 2511, 2512, 2513, 2514, 2515, 2516, 2517, 2518, 2519,\n",
       "       2520, 2521, 2522, 2523, 2524, 2525, 2526, 2527, 2528, 2529, 2530,\n",
       "       2531, 2532, 2533, 2534, 2535, 2536, 2537, 2538, 2539, 2540, 2541,\n",
       "       2542, 2570, 2597, 2611, 2612, 2613, 2618, 2619, 2730, 2745, 2762,\n",
       "       2779, 2786, 2826, 2827, 2831, 2832, 2837, 2838, 2839, 2841, 2845,\n",
       "       2846, 2891, 2907, 2911, 2912, 2913, 2937, 2955, 3012, 3074, 3130,\n",
       "       3149, 3196, 3199, 3200, 3204, 3205, 3296, 3444, 3493, 3625, 3646,\n",
       "       3683, 3726, 3739, 3748, 3749, 3750, 3751, 3752, 3758, 3759, 3760,\n",
       "       3761, 3762, 3763, 3764, 3779, 3780, 3781, 3782, 3783, 3784, 3785,\n",
       "       3792, 3840, 3891, 3892, 3904, 3905, 3906, 3907, 3908, 3909, 3910,\n",
       "       3911, 3912, 3914, 3915, 3917, 3918, 3919, 3920, 3922, 3923, 3924,\n",
       "       3925, 3926, 3927, 3928, 3929, 3930, 3931, 3932, 3933, 3934, 3935,\n",
       "       3936, 3937, 3938, 3939, 3946, 3948, 3949, 3953, 3954, 3955, 3956,\n",
       "       3957, 3958, 3959, 3960, 3961, 3964, 3965, 4033, 4057, 4076, 4128,\n",
       "       4133, 4166, 4176, 4238, 4281, 4333, 4340, 4341, 4342, 4365, 4368,\n",
       "       4435, 4450, 4473, 4481, 4482, 4484, 4485, 4486, 4487, 4488, 4490,\n",
       "       4491, 4492, 4521, 4531, 4567, 4581, 4597, 4598, 4599, 4600, 4601,\n",
       "       4613, 4614, 4615, 4617, 4618, 4634, 4635, 4638, 4640, 4648, 4655,\n",
       "       4674, 4679, 4685, 4691, 4730, 4765, 4800, 4801, 4802, 4803, 4804,\n",
       "       4805, 4806, 4807, 4808, 4810, 4811, 4812, 4813, 4814, 4815, 4816,\n",
       "       4817, 4818, 4820, 4821, 4822, 4823, 4824, 4825, 4826, 4827, 4828,\n",
       "       4829, 4830, 4831, 4833, 4834, 4835, 4836, 4846, 4847, 4848, 4850,\n",
       "       4851, 4852, 4853, 4854, 4863, 4865, 4866, 4867, 4868, 4869, 4870,\n",
       "       4871, 4929, 4939, 4940, 4941, 4945, 4968, 4988, 4990, 4991, 4992,\n",
       "       4993, 4996, 4997, 4998, 4999, 5000, 5001, 5002, 5003, 5004, 5005,\n",
       "       5006, 5009, 5010, 5013, 5014, 5015, 5016, 5017, 5018, 5019, 5020,\n",
       "       5021, 5022, 5023, 5024, 5025, 5026, 5028, 5029, 5030, 5031, 5032,\n",
       "       5033, 5034, 5035, 5036, 5039, 5056, 5066, 5137, 5138, 5139, 5140,\n",
       "       5141, 5142, 5143, 5144, 5145, 5146, 5147, 5148, 5149, 5150, 5151,\n",
       "       5152, 5153, 5154, 5155, 5271, 5308, 5339, 5346, 5347, 5348, 5349,\n",
       "       5350, 5351, 5352, 5353, 5354, 5355, 5356, 5360, 5363, 5364, 5365,\n",
       "       5368, 5369, 5370, 5499, 5514, 5515, 5516, 5557, 5574, 5708, 5724,\n",
       "       5742, 5761, 5903, 6016, 6017, 6205, 6206, 6329, 6330, 6331, 6332,\n",
       "       6340, 6341, 6342, 6343, 6344, 6345, 6346, 6516, 6517, 6518, 6519,\n",
       "       6520, 6521, 6524, 6534, 6535, 6580, 6586, 6587, 6593, 6594, 6599,\n",
       "       6600, 6601, 6671, 6766, 6865, 6939, 6957, 6999, 7000, 7001, 7189,\n",
       "       7190, 7230, 7314, 7321], dtype=int64)"
      ]
     },
     "execution_count": 147,
     "metadata": {},
     "output_type": "execute_result"
    }
   ],
   "source": [
    "outlier_indexes_knn = np.where(outliers_KNN==1)[0]\n",
    "outlier_indexes_knn"
   ]
  },
  {
   "cell_type": "code",
   "execution_count": 148,
   "metadata": {},
   "outputs": [
    {
     "data": {
      "text/plain": [
       "730"
      ]
     },
     "execution_count": 148,
     "metadata": {},
     "output_type": "execute_result"
    }
   ],
   "source": [
    "len(outlier_indexes_knn)"
   ]
  },
  {
   "cell_type": "code",
   "execution_count": 149,
   "metadata": {},
   "outputs": [],
   "source": [
    "outlier_scores_knn = clf_KNN.decision_scores_[outlier_indexes_knn]"
   ]
  },
  {
   "cell_type": "code",
   "execution_count": 150,
   "metadata": {},
   "outputs": [
    {
     "data": {
      "text/plain": [
       "array([ 6.66349021,  6.34843531,  6.33150161,  6.41870333,  6.35033555,\n",
       "        7.25885594,  7.39540479,  6.88206428,  8.32395381,  9.02586166,\n",
       "        7.39466195,  5.80819708,  6.87403346,  6.16103029,  6.21565595,\n",
       "        6.07851574,  5.80548652,  7.92193298,  8.8627316 ,  6.19181343,\n",
       "        5.89667342,  5.93238516,  6.72232856,  6.10460115,  6.10880537,\n",
       "        5.83924418,  6.17375736,  6.15665553,  6.20408563,  6.03771574,\n",
       "        6.15013051,  6.07457007,  6.99302964,  5.81790274,  5.93638257,\n",
       "        6.15465745,  7.27166065,  6.04004619,  6.49879776,  5.94484154,\n",
       "        5.83426546,  5.73233797,  6.32609652,  5.78215397,  6.26206775,\n",
       "        5.68453949,  6.35139408,  6.47696276,  5.68694498,  6.23745385,\n",
       "        5.81313691,  6.21268903,  6.23821749,  6.38641807,  5.98639633,\n",
       "        5.86848267,  5.87933156,  5.70815792,  5.76068827,  5.68480601,\n",
       "        5.8507193 ,  5.95510136,  5.93284282,  8.47273911,  5.79531464,\n",
       "        5.76784713,  7.61065857,  7.79192638,  6.08265686,  6.22287516,\n",
       "        6.34009323,  6.71026444,  5.78160602,  5.88125356,  5.7655349 ,\n",
       "        5.864319  ,  6.01561801,  5.80623616,  5.94284116,  8.95503532,\n",
       "        6.73166593,  5.90981679,  6.1360658 ,  6.11823165,  6.23361527,\n",
       "        5.77483282,  6.16343198,  5.92836092,  5.72357131,  6.06019137,\n",
       "        6.15792948,  7.71970506,  7.54974994,  7.61756547,  7.09836849,\n",
       "        8.10616317,  9.28851034,  7.47367556,  7.38868173,  9.51306077,\n",
       "        7.89733801,  7.26593002,  6.74032837,  7.22762283,  7.35819739,\n",
       "        6.6663849 ,  6.41932016,  6.61940593,  7.3061872 ,  6.80750157,\n",
       "        6.23171236,  8.49768581,  7.57545496,  6.54584236,  7.48498926,\n",
       "        5.73560135,  5.74788701,  5.90913152,  6.84958009,  5.90005065,\n",
       "        5.68794064,  6.62975214,  6.81366839,  6.72348267,  7.79455034,\n",
       "        8.2697728 ,  6.14793791,  6.29256431,  5.70325389,  5.7278817 ,\n",
       "        5.926572  ,  6.02889519,  6.08315052,  5.87965438,  5.76309888,\n",
       "        5.94746894,  5.80433488,  5.75449452,  6.02100924,  5.7219522 ,\n",
       "        5.76514043,  6.05562799,  6.29336519,  6.34304782,  6.65996043,\n",
       "        5.69277369,  5.87131058,  7.87658164,  5.73268267,  7.99768735,\n",
       "        6.19947467,  5.96510767,  6.12103182,  5.78325592,  5.68287087,\n",
       "        5.92843253,  5.78039284,  5.823125  ,  6.06088663,  5.71043867,\n",
       "        5.99843568,  5.82173328,  5.83369743,  6.22044117,  5.80580516,\n",
       "        5.73306328,  5.97556788,  7.87588628,  5.91697153,  5.75945464,\n",
       "        6.22291098,  5.95411518,  7.4706936 ,  8.8355788 ,  7.53205578,\n",
       "        6.07609288,  6.87052066,  6.55060973,  6.25955925,  5.77934659,\n",
       "        6.01726923,  7.87260497,  7.74438617,  5.71306402,  5.71592451,\n",
       "        5.69579876,  6.42308614,  6.63720981,  6.15011266,  7.57058129,\n",
       "        6.57794501,  5.90992752,  8.63419368,  5.7671237 ,  6.19166107,\n",
       "        6.3282719 ,  8.53675084,  5.71880976,  6.02699583,  6.52569103,\n",
       "        6.2862675 ,  6.29097723,  6.21467459,  6.13422096,  6.25239347,\n",
       "        6.05747017,  5.88639922,  5.70782266,  6.24126114,  5.88320277,\n",
       "        5.85858252,  6.40971785,  6.72666011,  6.81576878,  5.73169307,\n",
       "        6.69814258,  7.59597579,  8.43844027,  7.22082868,  7.41340596,\n",
       "        6.95721647,  5.95665051,  5.86454867,  6.12464994,  6.23372004,\n",
       "        5.98340014,  6.69339023,  6.34901325,  6.49960982,  6.31489614,\n",
       "        6.66621666,  6.40859869,  6.10854402,  5.97287407,  5.76221184,\n",
       "        6.16016286,  5.71187229,  5.8687017 ,  6.77496786,  7.46201936,\n",
       "        6.30586845,  6.1504687 ,  6.59023866,  7.17846133,  6.62430514,\n",
       "        5.8534003 ,  6.27243484,  6.76396902,  6.03693863,  6.83944303,\n",
       "        5.87984073,  5.82319279,  6.50467011,  6.0169076 ,  5.91518004,\n",
       "        5.88758311,  6.39732993,  6.22187243,  5.93712968,  6.13457989,\n",
       "        5.84487262,  6.81528571,  5.97134186,  5.8144488 ,  7.00413313,\n",
       "        6.68628747,  5.93585749,  6.01237924,  6.06391519,  6.00553978,\n",
       "        6.47949984,  6.90528148,  6.56392269,  7.71171468,  7.67540276,\n",
       "        5.96740146,  5.86917665,  6.0941238 ,  6.48466482,  7.08392471,\n",
       "        6.92452993,  6.21918331,  8.07010863,  7.22077396,  6.0734444 ,\n",
       "        5.71492103,  6.08031003,  7.02454859,  6.5860065 ,  6.08331408,\n",
       "        6.28474174,  5.83049438,  6.06845285,  6.08175548,  6.15112685,\n",
       "        6.31432177,  7.74462659,  7.55230824,  6.54463049,  6.70474109,\n",
       "        6.68251053,  6.56715595,  5.96916536,  6.36562167,  7.14440801,\n",
       "        7.97175623,  7.81917474,  6.35304886,  6.53421086,  6.85664206,\n",
       "        6.48324465,  7.74953389,  9.60999317,  5.92346163, 10.94431538,\n",
       "        5.90290697,  5.95644013,  7.1296463 ,  7.48136751,  7.42016119,\n",
       "        7.39639259,  7.32835164,  6.24934637,  6.16378457,  6.85516969,\n",
       "        9.92924694,  9.32706702,  7.36665193,  7.22491436,  7.00552416,\n",
       "        7.73352199,  9.06508281, 10.1505782 ,  8.32219922,  8.43099823,\n",
       "        9.22684552,  8.05306982,  6.93747041,  7.37924731,  8.36216457,\n",
       "        7.67160271,  6.99002746,  7.11834437,  7.23975547,  7.13199136,\n",
       "        6.13743366,  5.81481501,  7.07025049,  7.32107267,  8.3993145 ,\n",
       "        7.99498643,  6.52125348,  8.27892296,  9.19114209,  7.5255378 ,\n",
       "        6.3207809 ,  8.20933814,  7.51399449,  6.95581643,  6.56814837,\n",
       "        6.9677489 ,  7.30459774,  6.88759412,  6.61871568,  8.30368209,\n",
       "        6.18519467,  5.95386986,  6.32765893,  5.9409085 ,  5.74179354,\n",
       "        5.7223681 ,  5.82959999,  6.17156422,  5.93116081,  5.7391767 ,\n",
       "        5.97372247,  6.14977079,  6.02335848,  6.56017131,  6.51660774,\n",
       "        6.16393172,  6.59457666,  5.69132502,  5.86717192,  6.21114711,\n",
       "        5.88812606,  6.73062542,  7.52176877,  6.76017779,  6.38591651,\n",
       "        5.72771856,  6.78650561,  5.91435239,  5.76076568,  6.22427111,\n",
       "        5.72721363,  6.33164297,  5.97019031,  6.25251248,  5.69183134,\n",
       "        5.69863826,  5.92078359,  5.78993229,  5.92853744,  6.97866643,\n",
       "        5.68087368,  6.5394295 ,  6.2832445 ,  6.08457036,  5.69728728,\n",
       "        5.6833005 ,  5.87245721,  6.83962091,  6.15037472,  6.31174657,\n",
       "        6.99424795,  8.49159244,  8.87231475,  6.58544073,  6.65588374,\n",
       "        8.59490805, 10.19788473,  6.0449349 ,  6.81159822,  7.07770054,\n",
       "        7.62719201,  7.93528175,  6.86511678,  8.90364014,  6.54111184,\n",
       "        6.04218247,  6.14956448,  5.81500829,  5.89988363,  6.03817715,\n",
       "        5.89763079,  6.82821031,  6.78992928,  6.56250241,  6.55592844,\n",
       "        6.34398623,  6.0048173 ,  5.84617579,  8.96698851,  6.15968245,\n",
       "        5.82438016,  5.7617193 ,  6.14872487,  6.05924215,  6.3199705 ,\n",
       "        6.18591127,  6.56729803,  7.32936575,  5.98293862, 10.17860441,\n",
       "       10.49666125, 11.06341027,  8.1143948 ,  8.61021708,  8.6677803 ,\n",
       "       16.1517061 , 15.82576067, 11.25734621,  9.31733936, 10.3157612 ,\n",
       "       12.69210408,  5.97459806,  7.03681609,  5.98374825,  8.04189372,\n",
       "        9.53405622, 10.17923585,  8.15499447,  8.60058423,  9.82702497,\n",
       "        6.0149868 ,  6.50427475,  6.63923265,  5.75861666,  6.19521858,\n",
       "        5.73582709,  6.70591204,  7.2574688 ,  5.93681172,  5.74288956,\n",
       "        5.80331624,  6.28582248,  5.72688279,  5.94204369,  5.81168539,\n",
       "        6.01124775,  6.05861781,  5.83551329,  5.71153113,  6.22824114,\n",
       "        5.88781112,  5.89801156,  6.44151372,  5.87248904,  5.91707669,\n",
       "        6.02623246,  6.2135083 ,  5.86863443,  5.85777068,  6.02962402,\n",
       "        6.3224435 ,  7.45420077,  7.14060902,  5.70112486,  5.75724693,\n",
       "        7.01982601,  6.08196154,  7.63262332,  5.68725128,  5.99053012,\n",
       "        6.13393363,  5.79290924,  6.35792968,  6.21587327,  5.78289696,\n",
       "        6.60777166,  6.17724649,  6.0533587 ,  6.02385356,  6.42283884,\n",
       "        6.20574157,  5.77933117,  5.85337449,  5.70590954,  6.29808163,\n",
       "        5.75842277,  5.73365321,  6.51686692,  6.23856559,  5.80836948,\n",
       "        6.10848633,  6.87129512,  6.08484952,  6.04091888,  6.87396346,\n",
       "        5.83559228,  6.36388925,  6.09701632,  5.88789385,  5.93019298,\n",
       "        6.28597541,  6.04819354,  6.38057705,  5.89764992,  5.95130181,\n",
       "        6.48895411,  6.38560915,  6.13470335,  6.669363  ,  6.44051072,\n",
       "        7.70669483,  7.95146404,  6.60358862,  6.00766226,  7.61849516,\n",
       "        9.74858025,  7.1997437 ,  6.19412468,  6.01174732,  6.1751786 ,\n",
       "        6.13133519,  6.48619894,  7.33145334,  5.80428669,  6.41241924,\n",
       "        6.09775944,  6.02505159,  6.18573742,  5.84847643,  6.00067232,\n",
       "        5.93102974,  7.0670157 ,  5.69098372,  6.09086106,  6.56158448,\n",
       "        5.7800997 ,  7.17020712,  6.9021878 ,  6.89542494,  5.76841206,\n",
       "        6.52874771,  6.45880306,  6.15906458,  6.05745401,  6.04058871,\n",
       "        5.76814625,  6.35366026,  6.91426085,  6.39477818,  5.74902277,\n",
       "        6.76357058,  8.00417769,  8.18105454,  6.27372172,  6.80413718,\n",
       "        7.13941987,  7.14788824,  5.88138913,  6.1162755 ,  6.52714508,\n",
       "        5.73102159,  5.78033764,  5.73443564,  6.74827906,  6.01274931,\n",
       "        7.26097844,  8.15847831,  7.07385786,  6.77573848,  7.20469066,\n",
       "        8.17359899,  6.6592366 ,  7.26324829,  6.27875246,  6.20534749,\n",
       "        6.19960034,  6.09949171,  6.44748966,  7.66104222,  7.78228768,\n",
       "        8.52872578,  6.19621193,  6.9005459 ,  6.40762236,  7.15514186,\n",
       "        6.26012962,  6.0753263 ,  6.1148526 ,  5.79657169, 10.15062682,\n",
       "        8.85616278,  8.06382905,  7.18914792,  9.23398982,  9.53109827,\n",
       "        9.76560613,  6.28674403,  5.72500362,  6.18089958,  7.97543216,\n",
       "        8.24291813,  9.02789391,  8.02308488,  6.45883263,  5.9748822 ,\n",
       "        6.64718038,  7.35062178,  5.73617763,  6.1945079 ,  5.96650588,\n",
       "        5.70518241,  6.66226006,  6.83497459,  6.49630152,  6.20660337,\n",
       "        6.78594385,  6.98908741,  6.00275701,  6.2238459 ,  5.89098654,\n",
       "        6.03444829,  6.13580672,  7.68341352,  6.1832709 ,  6.73125057,\n",
       "        6.81643094,  7.33733087,  8.02851658,  7.90458378,  5.7484676 ,\n",
       "        6.77844269,  7.00964175,  6.61791029,  5.93438156,  6.28210864,\n",
       "        7.7247678 ,  6.02103698,  6.00954312,  5.85109996,  6.1045393 ,\n",
       "        6.01863934,  5.79976196,  5.72418941,  5.93865399,  6.43608775,\n",
       "        6.30176408,  5.78755482,  6.06420079,  6.04033296,  6.16877808,\n",
       "        6.51792393,  6.58566022,  6.32553156,  6.03786653,  5.89472371,\n",
       "        6.86074359,  6.52171746,  6.49595498,  6.14387725,  6.20923663,\n",
       "        6.1756982 ,  5.71567596,  6.12419695,  6.6399514 ,  5.70370885,\n",
       "        5.76282419,  5.91918525,  5.89174576,  5.94462706,  5.79238046,\n",
       "        5.81410955,  6.37455128,  5.84886867,  5.6920662 ,  5.97784119,\n",
       "        5.72809733,  5.89074575,  5.81730718,  6.83730761,  6.65209568,\n",
       "        6.36013962,  6.35880377,  5.80780453,  5.69004676,  5.87001216])"
      ]
     },
     "execution_count": 150,
     "metadata": {},
     "output_type": "execute_result"
    }
   ],
   "source": [
    "outlier_scores_knn"
   ]
  },
  {
   "cell_type": "code",
   "execution_count": 151,
   "metadata": {},
   "outputs": [
    {
     "data": {
      "text/plain": [
       "730"
      ]
     },
     "execution_count": 151,
     "metadata": {},
     "output_type": "execute_result"
    }
   ],
   "source": [
    "len(outlier_scores_knn)"
   ]
  },
  {
   "cell_type": "code",
   "execution_count": 152,
   "metadata": {},
   "outputs": [
    {
     "data": {
      "text/plain": [
       "5.680873680953621"
      ]
     },
     "execution_count": 152,
     "metadata": {},
     "output_type": "execute_result"
    }
   ],
   "source": [
    "np.min(outlier_scores_knn)"
   ]
  },
  {
   "cell_type": "code",
   "execution_count": 153,
   "metadata": {},
   "outputs": [
    {
     "data": {
      "text/plain": [
       "16.15170609896186"
      ]
     },
     "execution_count": 153,
     "metadata": {},
     "output_type": "execute_result"
    }
   ],
   "source": [
    "np.max(outlier_scores_knn)"
   ]
  },
  {
   "cell_type": "code",
   "execution_count": 154,
   "metadata": {},
   "outputs": [
    {
     "data": {
      "text/plain": [
       "16.145818475703795"
      ]
     },
     "execution_count": 154,
     "metadata": {},
     "output_type": "execute_result"
    }
   ],
   "source": [
    "np.max(anomlay_score[np.where(outliers_KNN==1)])"
   ]
  },
  {
   "cell_type": "code",
   "execution_count": 155,
   "metadata": {
    "scrolled": true
   },
   "outputs": [
    {
     "data": {
      "text/plain": [
       "6.629166885135887"
      ]
     },
     "execution_count": 155,
     "metadata": {},
     "output_type": "execute_result"
    }
   ],
   "source": [
    "np.mean(anomlay_score[np.where(outliers_KNN==1)])"
   ]
  },
  {
   "cell_type": "code",
   "execution_count": 156,
   "metadata": {},
   "outputs": [
    {
     "data": {
      "text/plain": [
       "4.345949476671436"
      ]
     },
     "execution_count": 156,
     "metadata": {},
     "output_type": "execute_result"
    }
   ],
   "source": [
    "np.mean(anomlay_score[np.where(outliers_KNN==0)])"
   ]
  },
  {
   "cell_type": "code",
   "execution_count": 157,
   "metadata": {},
   "outputs": [
    {
     "data": {
      "text/plain": [
       "6.635609649859875"
      ]
     },
     "execution_count": 157,
     "metadata": {},
     "output_type": "execute_result"
    }
   ],
   "source": [
    "np.mean(clf_KNN.decision_scores_[np.where(outliers_KNN==1)])"
   ]
  },
  {
   "cell_type": "code",
   "execution_count": 158,
   "metadata": {},
   "outputs": [
    {
     "data": {
      "text/plain": [
       "4.3499534341039485"
      ]
     },
     "execution_count": 158,
     "metadata": {},
     "output_type": "execute_result"
    }
   ],
   "source": [
    "np.mean(clf_KNN.decision_scores_[np.where(outliers_KNN==0)])"
   ]
  },
  {
   "cell_type": "code",
   "execution_count": 159,
   "metadata": {},
   "outputs": [
    {
     "data": {
      "image/png": "[encoded data removed]",
      "text/plain": [
       "<Figure size 432x288 with 1 Axes>"
      ]
     },
     "metadata": {
      "needs_background": "light"
     },
     "output_type": "display_data"
    }
   ],
   "source": [
    "plt.hist(clf_KNN.decision_scores_, bins=20)\n",
    "plt.axvline(np.min(clf_KNN.decision_scores_[np.where(outliers_KNN==1)]), c='r')\n",
    "plt.title(\"KNN histogram\")\n",
    "plt.show()"
   ]
  },
  {
   "cell_type": "markdown",
   "metadata": {},
   "source": [
    "## Top 1% outliers"
   ]
  },
  {
   "cell_type": "code",
   "execution_count": 160,
   "metadata": {},
   "outputs": [
    {
     "data": {
      "text/plain": [
       "[(27, 6.663490211238669),\n",
       " (30, 6.348435305281878),\n",
       " (31, 6.331501607132842),\n",
       " (32, 6.41870332754816),\n",
       " (64, 6.350335553257467),\n",
       " (66, 7.258855938169568),\n",
       " (67, 7.395404791889644),\n",
       " (69, 6.882064282837135),\n",
       " (70, 8.323953812471036),\n",
       " (71, 9.025861658063466)]"
      ]
     },
     "execution_count": 160,
     "metadata": {},
     "output_type": "execute_result"
    }
   ],
   "source": [
    "outlier_knn_list = []\n",
    "\n",
    "for i in range(0,len(outlier_scores_knn)):\n",
    "    outlier_knn_list.append((outlier_indexes_knn[i], outlier_scores_knn[i]))\n",
    "    \n",
    "outlier_knn_list[:10]"
   ]
  },
  {
   "cell_type": "code",
   "execution_count": 161,
   "metadata": {},
   "outputs": [],
   "source": [
    "outlier_knn_list = sorted(outlier_knn_list, key=outlier_score, reverse = True)"
   ]
  },
  {
   "cell_type": "code",
   "execution_count": 162,
   "metadata": {},
   "outputs": [
    {
     "data": {
      "text/plain": [
       "5.680873680953621"
      ]
     },
     "execution_count": 162,
     "metadata": {},
     "output_type": "execute_result"
    }
   ],
   "source": [
    "np.min(clf_KNN.decision_scores_[np.where(outliers_KNN==1)])"
   ]
  },
  {
   "cell_type": "code",
   "execution_count": 163,
   "metadata": {},
   "outputs": [
    {
     "data": {
      "text/plain": [
       "16.15170609896186"
      ]
     },
     "execution_count": 163,
     "metadata": {},
     "output_type": "execute_result"
    }
   ],
   "source": [
    "np.max(clf_KNN.decision_scores_[np.where(outliers_KNN==1)])"
   ]
  },
  {
   "cell_type": "code",
   "execution_count": 164,
   "metadata": {},
   "outputs": [
    {
     "data": {
      "text/plain": [
       "[(3934, 16.15170609896186),\n",
       " (3935, 15.825760672756722),\n",
       " (3939, 12.692104075103185),\n",
       " (3936, 11.257346211948656),\n",
       " (3930, 11.063410270190156),\n",
       " (2451, 10.944315382800584),\n",
       " (3929, 10.496661250562651),\n",
       " (3938, 10.315761201496578),\n",
       " (3764, 10.197884729624953),\n",
       " (3955, 10.17923584632775)]"
      ]
     },
     "execution_count": 164,
     "metadata": {},
     "output_type": "execute_result"
    }
   ],
   "source": [
    "outlier_knn_list[:10]"
   ]
  },
  {
   "cell_type": "markdown",
   "metadata": {},
   "source": [
    "### Top 1%"
   ]
  },
  {
   "cell_type": "code",
   "execution_count": 165,
   "metadata": {},
   "outputs": [],
   "source": [
    "top1perc = int(math.ceil(len(outlier_indexes_knn))*0.01)"
   ]
  },
  {
   "cell_type": "code",
   "execution_count": 166,
   "metadata": {},
   "outputs": [],
   "source": [
    "top_outliers_knn = outlier_knn_list[:top1perc]"
   ]
  },
  {
   "cell_type": "code",
   "execution_count": 167,
   "metadata": {},
   "outputs": [],
   "source": [
    "indexes_list_knn = [i[0] for i in top_outliers_knn] #retrieve index of outliers"
   ]
  },
  {
   "cell_type": "code",
   "execution_count": 168,
   "metadata": {},
   "outputs": [],
   "source": [
    "df_knn_outliers = df.iloc[indexes_list_knn]"
   ]
  },
  {
   "cell_type": "code",
   "execution_count": 169,
   "metadata": {},
   "outputs": [
    {
     "data": {
      "text/html": [
       "<div>\n",
       "<style scoped>\n",
       "    .dataframe tbody tr th:only-of-type {\n",
       "        vertical-align: middle;\n",
       "    }\n",
       "\n",
       "    .dataframe tbody tr th {\n",
       "        vertical-align: top;\n",
       "    }\n",
       "\n",
       "    .dataframe thead th {\n",
       "        text-align: right;\n",
       "    }\n",
       "</style>\n",
       "<table border=\"1\" class=\"dataframe\">\n",
       "  <thead>\n",
       "    <tr style=\"text-align: right;\">\n",
       "      <th></th>\n",
       "      <th>tBodyAccmeanX</th>\n",
       "      <th>tBodyAccmeanY</th>\n",
       "      <th>tBodyAccmeanZ</th>\n",
       "      <th>tBodyAccstdX</th>\n",
       "      <th>tBodyAccstdY</th>\n",
       "      <th>tBodyAccstdZ</th>\n",
       "      <th>tBodyAccmadX</th>\n",
       "      <th>tBodyAccmadY</th>\n",
       "      <th>tBodyAccmadZ</th>\n",
       "      <th>tBodyAccmaxX</th>\n",
       "      <th>...</th>\n",
       "      <th>angletBodyAccMeangravity</th>\n",
       "      <th>angletBodyAccJerkMeangravityMean</th>\n",
       "      <th>angletBodyGyroMeangravityMean</th>\n",
       "      <th>angletBodyGyroJerkMeangravityMean</th>\n",
       "      <th>angleXgravityMean</th>\n",
       "      <th>angleYgravityMean</th>\n",
       "      <th>angleZgravityMean</th>\n",
       "      <th>subject</th>\n",
       "      <th>Activity</th>\n",
       "      <th>ActivityName</th>\n",
       "    </tr>\n",
       "  </thead>\n",
       "  <tbody>\n",
       "    <tr>\n",
       "      <th>3934</th>\n",
       "      <td>0.028502</td>\n",
       "      <td>-0.012144</td>\n",
       "      <td>-0.097018</td>\n",
       "      <td>0.793422</td>\n",
       "      <td>0.916238</td>\n",
       "      <td>0.730133</td>\n",
       "      <td>0.761451</td>\n",
       "      <td>0.865956</td>\n",
       "      <td>0.681404</td>\n",
       "      <td>0.683437</td>\n",
       "      <td>...</td>\n",
       "      <td>0.893470</td>\n",
       "      <td>0.536252</td>\n",
       "      <td>0.812812</td>\n",
       "      <td>0.067803</td>\n",
       "      <td>-0.723711</td>\n",
       "      <td>0.228629</td>\n",
       "      <td>0.161748</td>\n",
       "      <td>19</td>\n",
       "      <td>3</td>\n",
       "      <td>WALKING_DOWNSTAIRS</td>\n",
       "    </tr>\n",
       "    <tr>\n",
       "      <th>3935</th>\n",
       "      <td>0.418868</td>\n",
       "      <td>-0.000011</td>\n",
       "      <td>-0.103503</td>\n",
       "      <td>0.876942</td>\n",
       "      <td>0.729609</td>\n",
       "      <td>0.551648</td>\n",
       "      <td>0.852822</td>\n",
       "      <td>0.644811</td>\n",
       "      <td>0.542567</td>\n",
       "      <td>0.907994</td>\n",
       "      <td>...</td>\n",
       "      <td>-0.638834</td>\n",
       "      <td>-0.558603</td>\n",
       "      <td>0.965174</td>\n",
       "      <td>0.056948</td>\n",
       "      <td>-0.708794</td>\n",
       "      <td>0.239055</td>\n",
       "      <td>0.165807</td>\n",
       "      <td>19</td>\n",
       "      <td>3</td>\n",
       "      <td>WALKING_DOWNSTAIRS</td>\n",
       "    </tr>\n",
       "    <tr>\n",
       "      <th>3939</th>\n",
       "      <td>0.114180</td>\n",
       "      <td>-0.042243</td>\n",
       "      <td>-0.118167</td>\n",
       "      <td>1.000000</td>\n",
       "      <td>0.753928</td>\n",
       "      <td>0.217305</td>\n",
       "      <td>1.000000</td>\n",
       "      <td>0.722617</td>\n",
       "      <td>0.179957</td>\n",
       "      <td>1.000000</td>\n",
       "      <td>...</td>\n",
       "      <td>0.586616</td>\n",
       "      <td>0.818511</td>\n",
       "      <td>-0.863211</td>\n",
       "      <td>-0.255721</td>\n",
       "      <td>-0.668652</td>\n",
       "      <td>0.228409</td>\n",
       "      <td>0.212093</td>\n",
       "      <td>19</td>\n",
       "      <td>3</td>\n",
       "      <td>WALKING_DOWNSTAIRS</td>\n",
       "    </tr>\n",
       "    <tr>\n",
       "      <th>3936</th>\n",
       "      <td>0.617597</td>\n",
       "      <td>-0.008101</td>\n",
       "      <td>-0.065791</td>\n",
       "      <td>0.786675</td>\n",
       "      <td>0.419288</td>\n",
       "      <td>0.388652</td>\n",
       "      <td>0.780326</td>\n",
       "      <td>0.377150</td>\n",
       "      <td>0.368848</td>\n",
       "      <td>0.907994</td>\n",
       "      <td>...</td>\n",
       "      <td>-0.700399</td>\n",
       "      <td>-0.516792</td>\n",
       "      <td>0.939166</td>\n",
       "      <td>-0.241794</td>\n",
       "      <td>-0.726711</td>\n",
       "      <td>0.226650</td>\n",
       "      <td>0.160792</td>\n",
       "      <td>19</td>\n",
       "      <td>3</td>\n",
       "      <td>WALKING_DOWNSTAIRS</td>\n",
       "    </tr>\n",
       "    <tr>\n",
       "      <th>3930</th>\n",
       "      <td>0.309998</td>\n",
       "      <td>0.041904</td>\n",
       "      <td>-0.105954</td>\n",
       "      <td>0.657785</td>\n",
       "      <td>0.562952</td>\n",
       "      <td>0.398943</td>\n",
       "      <td>0.634664</td>\n",
       "      <td>0.464848</td>\n",
       "      <td>0.261347</td>\n",
       "      <td>0.646970</td>\n",
       "      <td>...</td>\n",
       "      <td>-0.002583</td>\n",
       "      <td>-0.861994</td>\n",
       "      <td>0.908530</td>\n",
       "      <td>-0.629753</td>\n",
       "      <td>-0.710140</td>\n",
       "      <td>0.228412</td>\n",
       "      <td>0.174910</td>\n",
       "      <td>19</td>\n",
       "      <td>3</td>\n",
       "      <td>WALKING_DOWNSTAIRS</td>\n",
       "    </tr>\n",
       "    <tr>\n",
       "      <th>2451</th>\n",
       "      <td>-1.000000</td>\n",
       "      <td>0.177522</td>\n",
       "      <td>0.543939</td>\n",
       "      <td>-0.100786</td>\n",
       "      <td>-0.126211</td>\n",
       "      <td>0.359538</td>\n",
       "      <td>-0.092218</td>\n",
       "      <td>-0.149869</td>\n",
       "      <td>0.530467</td>\n",
       "      <td>-0.821282</td>\n",
       "      <td>...</td>\n",
       "      <td>-0.061649</td>\n",
       "      <td>0.129772</td>\n",
       "      <td>-0.296755</td>\n",
       "      <td>-0.087100</td>\n",
       "      <td>-0.043034</td>\n",
       "      <td>-0.220034</td>\n",
       "      <td>-0.530436</td>\n",
       "      <td>14</td>\n",
       "      <td>6</td>\n",
       "      <td>LAYING</td>\n",
       "    </tr>\n",
       "    <tr>\n",
       "      <th>3929</th>\n",
       "      <td>0.326223</td>\n",
       "      <td>-0.030333</td>\n",
       "      <td>-0.192155</td>\n",
       "      <td>0.732704</td>\n",
       "      <td>0.473368</td>\n",
       "      <td>0.465160</td>\n",
       "      <td>0.743918</td>\n",
       "      <td>0.418036</td>\n",
       "      <td>0.299362</td>\n",
       "      <td>0.740891</td>\n",
       "      <td>...</td>\n",
       "      <td>-0.354839</td>\n",
       "      <td>-0.189736</td>\n",
       "      <td>0.869019</td>\n",
       "      <td>0.237295</td>\n",
       "      <td>-0.730075</td>\n",
       "      <td>0.229188</td>\n",
       "      <td>0.154897</td>\n",
       "      <td>19</td>\n",
       "      <td>3</td>\n",
       "      <td>WALKING_DOWNSTAIRS</td>\n",
       "    </tr>\n",
       "  </tbody>\n",
       "</table>\n",
       "<p>7 rows × 564 columns</p>\n",
       "</div>"
      ],
      "text/plain": [
       "      tBodyAccmeanX  tBodyAccmeanY  tBodyAccmeanZ  tBodyAccstdX  tBodyAccstdY  \\\n",
       "3934       0.028502      -0.012144      -0.097018      0.793422      0.916238   \n",
       "3935       0.418868      -0.000011      -0.103503      0.876942      0.729609   \n",
       "3939       0.114180      -0.042243      -0.118167      1.000000      0.753928   \n",
       "3936       0.617597      -0.008101      -0.065791      0.786675      0.419288   \n",
       "3930       0.309998       0.041904      -0.105954      0.657785      0.562952   \n",
       "2451      -1.000000       0.177522       0.543939     -0.100786     -0.126211   \n",
       "3929       0.326223      -0.030333      -0.192155      0.732704      0.473368   \n",
       "\n",
       "      tBodyAccstdZ  tBodyAccmadX  tBodyAccmadY  tBodyAccmadZ  tBodyAccmaxX  \\\n",
       "3934      0.730133      0.761451      0.865956      0.681404      0.683437   \n",
       "3935      0.551648      0.852822      0.644811      0.542567      0.907994   \n",
       "3939      0.217305      1.000000      0.722617      0.179957      1.000000   \n",
       "3936      0.388652      0.780326      0.377150      0.368848      0.907994   \n",
       "3930      0.398943      0.634664      0.464848      0.261347      0.646970   \n",
       "2451      0.359538     -0.092218     -0.149869      0.530467     -0.821282   \n",
       "3929      0.465160      0.743918      0.418036      0.299362      0.740891   \n",
       "\n",
       "      ...  angletBodyAccMeangravity  angletBodyAccJerkMeangravityMean  \\\n",
       "3934  ...                  0.893470                          0.536252   \n",
       "3935  ...                 -0.638834                         -0.558603   \n",
       "3939  ...                  0.586616                          0.818511   \n",
       "3936  ...                 -0.700399                         -0.516792   \n",
       "3930  ...                 -0.002583                         -0.861994   \n",
       "2451  ...                 -0.061649                          0.129772   \n",
       "3929  ...                 -0.354839                         -0.189736   \n",
       "\n",
       "      angletBodyGyroMeangravityMean  angletBodyGyroJerkMeangravityMean  \\\n",
       "3934                       0.812812                           0.067803   \n",
       "3935                       0.965174                           0.056948   \n",
       "3939                      -0.863211                          -0.255721   \n",
       "3936                       0.939166                          -0.241794   \n",
       "3930                       0.908530                          -0.629753   \n",
       "2451                      -0.296755                          -0.087100   \n",
       "3929                       0.869019                           0.237295   \n",
       "\n",
       "      angleXgravityMean  angleYgravityMean  angleZgravityMean  subject  \\\n",
       "3934          -0.723711           0.228629           0.161748       19   \n",
       "3935          -0.708794           0.239055           0.165807       19   \n",
       "3939          -0.668652           0.228409           0.212093       19   \n",
       "3936          -0.726711           0.226650           0.160792       19   \n",
       "3930          -0.710140           0.228412           0.174910       19   \n",
       "2451          -0.043034          -0.220034          -0.530436       14   \n",
       "3929          -0.730075           0.229188           0.154897       19   \n",
       "\n",
       "      Activity        ActivityName  \n",
       "3934         3  WALKING_DOWNSTAIRS  \n",
       "3935         3  WALKING_DOWNSTAIRS  \n",
       "3939         3  WALKING_DOWNSTAIRS  \n",
       "3936         3  WALKING_DOWNSTAIRS  \n",
       "3930         3  WALKING_DOWNSTAIRS  \n",
       "2451         6              LAYING  \n",
       "3929         3  WALKING_DOWNSTAIRS  \n",
       "\n",
       "[7 rows x 564 columns]"
      ]
     },
     "execution_count": 169,
     "metadata": {},
     "output_type": "execute_result"
    }
   ],
   "source": [
    "df_knn_outliers"
   ]
  },
  {
   "cell_type": "code",
   "execution_count": 170,
   "metadata": {},
   "outputs": [
    {
     "data": {
      "text/plain": [
       "[3934, 3935, 3939, 3936, 3930, 2451, 3929]"
      ]
     },
     "execution_count": 170,
     "metadata": {},
     "output_type": "execute_result"
    }
   ],
   "source": [
    "#retrieve track id of outliers\n",
    "outliers_id_knn = list(df_knn_outliers.index)\n",
    "outliers_id_knn[:10]"
   ]
  },
  {
   "cell_type": "code",
   "execution_count": 171,
   "metadata": {},
   "outputs": [
    {
     "data": {
      "text/plain": [
       "7"
      ]
     },
     "execution_count": 171,
     "metadata": {},
     "output_type": "execute_result"
    }
   ],
   "source": [
    "len(outliers_id_knn)"
   ]
  },
  {
   "cell_type": "code",
   "execution_count": 172,
   "metadata": {},
   "outputs": [
    {
     "data": {
      "text/plain": [
       "5.680873680953621"
      ]
     },
     "execution_count": 172,
     "metadata": {},
     "output_type": "execute_result"
    }
   ],
   "source": [
    "np.min(clf_KNN.decision_scores_[np.where(outliers_KNN==1)])"
   ]
  },
  {
   "cell_type": "code",
   "execution_count": 173,
   "metadata": {},
   "outputs": [
    {
     "data": {
      "text/plain": [
       "[(3934, 16.15170609896186),\n",
       " (3935, 15.825760672756722),\n",
       " (3939, 12.692104075103185),\n",
       " (3936, 11.257346211948656),\n",
       " (3930, 11.063410270190156)]"
      ]
     },
     "execution_count": 173,
     "metadata": {},
     "output_type": "execute_result"
    }
   ],
   "source": [
    "top_outliers_knn[:5]"
   ]
  },
  {
   "cell_type": "code",
   "execution_count": 174,
   "metadata": {},
   "outputs": [
    {
     "name": "stdout",
     "output_type": "stream",
     "text": [
      "id with knn score of outlierness\n"
     ]
    },
    {
     "data": {
      "text/plain": [
       "[(3934, 16.15170609896186),\n",
       " (3935, 15.825760672756722),\n",
       " (3939, 12.692104075103185),\n",
       " (3936, 11.257346211948656),\n",
       " (3930, 11.063410270190156),\n",
       " (2451, 10.944315382800584),\n",
       " (3929, 10.496661250562651)]"
      ]
     },
     "execution_count": 174,
     "metadata": {},
     "output_type": "execute_result"
    }
   ],
   "source": [
    "top_outliers_knn_id = []\n",
    "\n",
    "for i, val in top_outliers_knn:\n",
    "    top_outliers_knn_id.append((df.iloc[i].name, val))\n",
    "\n",
    "print(\"id with knn score of outlierness\")\n",
    "top_outliers_knn_id[:10]"
   ]
  },
  {
   "cell_type": "code",
   "execution_count": 175,
   "metadata": {},
   "outputs": [
    {
     "data": {
      "text/plain": [
       "7"
      ]
     },
     "execution_count": 175,
     "metadata": {},
     "output_type": "execute_result"
    }
   ],
   "source": [
    "len(top_outliers_knn_id)"
   ]
  },
  {
   "cell_type": "markdown",
   "metadata": {},
   "source": [
    "## KNN 10 neighbors"
   ]
  },
  {
   "cell_type": "code",
   "execution_count": 176,
   "metadata": {},
   "outputs": [
    {
     "data": {
      "text/plain": [
       "KNN(algorithm='auto', contamination=0.1, leaf_size=30, method='largest',\n",
       "  metric='minkowski', metric_params=None, n_jobs=1, n_neighbors=10, p=2,\n",
       "  radius=1.0)"
      ]
     },
     "execution_count": 176,
     "metadata": {},
     "output_type": "execute_result"
    }
   ],
   "source": [
    "clf_KNN_2 = KNN(n_neighbors=10)\n",
    "clf_KNN_2.fit(X)"
   ]
  },
  {
   "cell_type": "markdown",
   "metadata": {},
   "source": [
    "**Decision_scores_**\n",
    "\n",
    "**The outlier scores of the training data.** The higher, the more abnormal. Outliers tend to have higher scores. This value is available once the detector is fitted."
   ]
  },
  {
   "cell_type": "code",
   "execution_count": 177,
   "metadata": {},
   "outputs": [
    {
     "data": {
      "text/plain": [
       "array([5.08704577, 3.1812399 , 3.01773289, ..., 4.0962675 , 4.01463561,\n",
       "       3.86841841])"
      ]
     },
     "execution_count": 177,
     "metadata": {},
     "output_type": "execute_result"
    }
   ],
   "source": [
    "clf_KNN_2.decision_scores_"
   ]
  },
  {
   "cell_type": "markdown",
   "metadata": {},
   "source": [
    "**Decision function**"
   ]
  },
  {
   "cell_type": "code",
   "execution_count": 178,
   "metadata": {},
   "outputs": [
    {
     "data": {
      "text/plain": [
       "array([5.07528021, 3.16507947, 3.01616247, ..., 4.00681811, 3.8253595 ,\n",
       "       3.72084343])"
      ]
     },
     "execution_count": 178,
     "metadata": {},
     "output_type": "execute_result"
    }
   ],
   "source": [
    "anomlay_score_2 = clf_KNN_2.decision_function(X)\n",
    "anomlay_score_2"
   ]
  },
  {
   "cell_type": "markdown",
   "metadata": {},
   "source": [
    "**Predict**"
   ]
  },
  {
   "cell_type": "code",
   "execution_count": 179,
   "metadata": {},
   "outputs": [
    {
     "data": {
      "text/plain": [
       "(array([0, 1]), array([6663,  689], dtype=int64))"
      ]
     },
     "execution_count": 179,
     "metadata": {},
     "output_type": "execute_result"
    }
   ],
   "source": [
    "outliers_KNN_2 = clf_KNN_2.predict(X)\n",
    "np.unique(outliers_KNN_2, return_counts=True)"
   ]
  },
  {
   "cell_type": "code",
   "execution_count": 180,
   "metadata": {},
   "outputs": [
    {
     "data": {
      "text/plain": [
       "(array([   0,   27,   30,   31,   32,   64,   66,   67,   69,   70,   71,\n",
       "          72,   73,   74,  133,  134,  135,  136,  137,  138,  140,  144,\n",
       "         176,  225,  237,  238,  240,  245,  246,  247,  298,  299,  331,\n",
       "         335,  344,  346,  347,  378,  384,  385,  388,  481,  482,  483,\n",
       "         486,  487,  500,  536,  552,  564,  565,  578,  579,  594,  657,\n",
       "         688,  690,  703,  716,  739,  740,  753,  797,  802,  803,  816,\n",
       "         817,  818,  819,  847,  861,  870,  871,  874,  886,  896,  933,\n",
       "         953,  955,  956,  957,  959,  962, 1020, 1039, 1040, 1041, 1049,\n",
       "        1050, 1052, 1062, 1085, 1109, 1110, 1111, 1112, 1115, 1116, 1117,\n",
       "        1118, 1119, 1122, 1123, 1126, 1127, 1129, 1143, 1156, 1170, 1183,\n",
       "        1194, 1209, 1210, 1211, 1223, 1243, 1255, 1257, 1266, 1267, 1268,\n",
       "        1269, 1270, 1271, 1272, 1273, 1274, 1275, 1276, 1277, 1278, 1279,\n",
       "        1280, 1281, 1282, 1283, 1284, 1285, 1286, 1287, 1288, 1289, 1305,\n",
       "        1308, 1309, 1311, 1312, 1343, 1355, 1369, 1370, 1383, 1425, 1426,\n",
       "        1429, 1430, 1432, 1441, 1442, 1443, 1447, 1448, 1449, 1501, 1513,\n",
       "        1523, 1580, 1581, 1582, 1583, 1585, 1586, 1587, 1592, 1594, 1596,\n",
       "        1597, 1623, 1645, 1646, 1653, 1680, 1715, 1716, 1718, 1719, 1720,\n",
       "        1721, 1723, 1724, 1725, 1726, 1727, 1728, 1729, 1730, 1731, 1732,\n",
       "        1733, 1734, 1735, 1738, 1743, 1754, 1755, 1757, 1773, 1789, 1800,\n",
       "        1813, 1815, 1816, 1817, 1826, 1827, 1844, 1860, 1861, 1862, 1866,\n",
       "        1867, 1868, 1869, 1870, 1871, 1872, 1873, 1874, 1875, 1876, 1877,\n",
       "        1878, 1879, 1880, 1881, 1882, 1883, 1887, 1889, 1890, 1891, 1892,\n",
       "        1893, 1897, 1898, 1902, 1903, 1904, 1925, 1939, 1951, 1965, 1980,\n",
       "        2031, 2084, 2089, 2099, 2111, 2112, 2124, 2125, 2126, 2220, 2223,\n",
       "        2237, 2250, 2276, 2288, 2332, 2333, 2334, 2336, 2337, 2340, 2341,\n",
       "        2342, 2343, 2344, 2345, 2346, 2347, 2348, 2349, 2350, 2351, 2352,\n",
       "        2353, 2354, 2412, 2413, 2426, 2440, 2451, 2455, 2495, 2496, 2497,\n",
       "        2498, 2499, 2500, 2501, 2502, 2503, 2504, 2505, 2506, 2507, 2508,\n",
       "        2509, 2510, 2511, 2512, 2513, 2514, 2515, 2518, 2525, 2531, 2532,\n",
       "        2535, 2543, 2570, 2611, 2612, 2613, 2618, 2619, 2664, 2730, 2745,\n",
       "        2762, 2786, 2826, 2827, 2829, 2830, 2831, 2832, 2834, 2837, 2838,\n",
       "        2839, 2841, 2843, 2845, 2846, 2891, 2907, 2911, 2912, 2913, 2922,\n",
       "        2937, 2955, 3004, 3012, 3074, 3129, 3130, 3149, 3150, 3196, 3197,\n",
       "        3198, 3199, 3237, 3238, 3280, 3296, 3314, 3398, 3415, 3418, 3427,\n",
       "        3444, 3478, 3493, 3589, 3625, 3646, 3665, 3683, 3726, 3739, 3749,\n",
       "        3750, 3751, 3752, 3753, 3755, 3758, 3759, 3760, 3761, 3762, 3763,\n",
       "        3764, 3779, 3780, 3781, 3782, 3783, 3784, 3785, 3792, 3810, 3823,\n",
       "        3840, 3861, 3891, 3904, 3907, 3908, 3909, 3910, 3911, 3912, 3914,\n",
       "        3915, 3917, 3920, 3922, 3923, 3924, 3925, 3926, 3928, 3929, 3930,\n",
       "        3931, 3932, 3933, 3934, 3935, 3936, 3937, 3938, 3939, 3946, 3948,\n",
       "        3949, 3953, 3954, 3955, 3956, 3957, 3958, 3959, 3960, 3961, 3962,\n",
       "        3964, 3965, 3966, 4033, 4057, 4076, 4133, 4134, 4135, 4166, 4176,\n",
       "        4238, 4281, 4335, 4340, 4341, 4342, 4365, 4367, 4368, 4435, 4450,\n",
       "        4473, 4491, 4492, 4506, 4521, 4537, 4539, 4567, 4580, 4581, 4597,\n",
       "        4598, 4599, 4600, 4601, 4613, 4614, 4615, 4617, 4618, 4638, 4655,\n",
       "        4661, 4679, 4686, 4729, 4730, 4765, 4802, 4805, 4823, 4824, 4827,\n",
       "        4828, 4829, 4830, 4831, 4832, 4833, 4834, 4835, 4836, 4846, 4847,\n",
       "        4848, 4849, 4851, 4852, 4853, 4854, 4863, 4864, 4866, 4867, 4868,\n",
       "        4869, 4870, 4871, 4929, 4939, 4940, 4941, 4945, 4968, 4991, 4997,\n",
       "        4998, 5000, 5001, 5002, 5013, 5014, 5015, 5016, 5017, 5018, 5019,\n",
       "        5020, 5021, 5022, 5023, 5024, 5025, 5026, 5027, 5028, 5029, 5030,\n",
       "        5031, 5032, 5033, 5034, 5035, 5036, 5039, 5056, 5066, 5103, 5137,\n",
       "        5138, 5139, 5140, 5141, 5142, 5143, 5144, 5145, 5146, 5147, 5148,\n",
       "        5149, 5150, 5151, 5152, 5153, 5154, 5157, 5271, 5308, 5346, 5347,\n",
       "        5348, 5349, 5350, 5351, 5352, 5353, 5354, 5355, 5356, 5360, 5363,\n",
       "        5364, 5365, 5366, 5368, 5369, 5370, 5374, 5514, 5515, 5516, 5557,\n",
       "        5574, 5622, 5644, 5708, 5724, 5742, 5761, 5824, 5885, 5903, 5957,\n",
       "        6012, 6015, 6016, 6017, 6025, 6197, 6201, 6202, 6205, 6206, 6207,\n",
       "        6329, 6330, 6332, 6340, 6341, 6342, 6343, 6344, 6347, 6424, 6426,\n",
       "        6516, 6517, 6518, 6520, 6535, 6580, 6582, 6586, 6587, 6588, 6591,\n",
       "        6592, 6593, 6594, 6596, 6599, 6600, 6601, 6671, 6766, 6769, 6849,\n",
       "        6865, 6939, 6959, 6999, 7000, 7001, 7002, 7170, 7189, 7190, 7230,\n",
       "        7248, 7303, 7304, 7312, 7314, 7320, 7321], dtype=int64),)"
      ]
     },
     "execution_count": 180,
     "metadata": {},
     "output_type": "execute_result"
    }
   ],
   "source": [
    "np.where(outliers_KNN_2 == 1)"
   ]
  },
  {
   "cell_type": "code",
   "execution_count": 181,
   "metadata": {},
   "outputs": [
    {
     "data": {
      "text/plain": [
       "array([   0,   27,   30,   31,   32,   64,   66,   67,   69,   70,   71,\n",
       "         72,   73,   74,  133,  134,  135,  136,  137,  138,  140,  144,\n",
       "        176,  225,  237,  238,  240,  245,  246,  247,  298,  299,  331,\n",
       "        335,  344,  346,  347,  378,  384,  385,  388,  481,  482,  483,\n",
       "        486,  487,  500,  536,  552,  564,  565,  578,  579,  594,  657,\n",
       "        688,  690,  703,  716,  739,  740,  753,  797,  802,  803,  816,\n",
       "        817,  818,  819,  847,  861,  870,  871,  874,  886,  896,  933,\n",
       "        953,  955,  956,  957,  959,  962, 1020, 1039, 1040, 1041, 1049,\n",
       "       1050, 1052, 1062, 1085, 1109, 1110, 1111, 1112, 1115, 1116, 1117,\n",
       "       1118, 1119, 1122, 1123, 1126, 1127, 1129, 1143, 1156, 1170, 1183,\n",
       "       1194, 1209, 1210, 1211, 1223, 1243, 1255, 1257, 1266, 1267, 1268,\n",
       "       1269, 1270, 1271, 1272, 1273, 1274, 1275, 1276, 1277, 1278, 1279,\n",
       "       1280, 1281, 1282, 1283, 1284, 1285, 1286, 1287, 1288, 1289, 1305,\n",
       "       1308, 1309, 1311, 1312, 1343, 1355, 1369, 1370, 1383, 1425, 1426,\n",
       "       1429, 1430, 1432, 1441, 1442, 1443, 1447, 1448, 1449, 1501, 1513,\n",
       "       1523, 1580, 1581, 1582, 1583, 1585, 1586, 1587, 1592, 1594, 1596,\n",
       "       1597, 1623, 1645, 1646, 1653, 1680, 1715, 1716, 1718, 1719, 1720,\n",
       "       1721, 1723, 1724, 1725, 1726, 1727, 1728, 1729, 1730, 1731, 1732,\n",
       "       1733, 1734, 1735, 1738, 1743, 1754, 1755, 1757, 1773, 1789, 1800,\n",
       "       1813, 1815, 1816, 1817, 1826, 1827, 1844, 1860, 1861, 1862, 1866,\n",
       "       1867, 1868, 1869, 1870, 1871, 1872, 1873, 1874, 1875, 1876, 1877,\n",
       "       1878, 1879, 1880, 1881, 1882, 1883, 1887, 1889, 1890, 1891, 1892,\n",
       "       1893, 1897, 1898, 1902, 1903, 1904, 1925, 1939, 1951, 1965, 1980,\n",
       "       2031, 2084, 2089, 2099, 2111, 2112, 2124, 2125, 2126, 2220, 2223,\n",
       "       2237, 2250, 2276, 2288, 2332, 2333, 2334, 2336, 2337, 2340, 2341,\n",
       "       2342, 2343, 2344, 2345, 2346, 2347, 2348, 2349, 2350, 2351, 2352,\n",
       "       2353, 2354, 2412, 2413, 2426, 2440, 2451, 2455, 2495, 2496, 2497,\n",
       "       2498, 2499, 2500, 2501, 2502, 2503, 2504, 2505, 2506, 2507, 2508,\n",
       "       2509, 2510, 2511, 2512, 2513, 2514, 2515, 2518, 2525, 2531, 2532,\n",
       "       2535, 2543, 2570, 2611, 2612, 2613, 2618, 2619, 2664, 2730, 2745,\n",
       "       2762, 2786, 2826, 2827, 2829, 2830, 2831, 2832, 2834, 2837, 2838,\n",
       "       2839, 2841, 2843, 2845, 2846, 2891, 2907, 2911, 2912, 2913, 2922,\n",
       "       2937, 2955, 3004, 3012, 3074, 3129, 3130, 3149, 3150, 3196, 3197,\n",
       "       3198, 3199, 3237, 3238, 3280, 3296, 3314, 3398, 3415, 3418, 3427,\n",
       "       3444, 3478, 3493, 3589, 3625, 3646, 3665, 3683, 3726, 3739, 3749,\n",
       "       3750, 3751, 3752, 3753, 3755, 3758, 3759, 3760, 3761, 3762, 3763,\n",
       "       3764, 3779, 3780, 3781, 3782, 3783, 3784, 3785, 3792, 3810, 3823,\n",
       "       3840, 3861, 3891, 3904, 3907, 3908, 3909, 3910, 3911, 3912, 3914,\n",
       "       3915, 3917, 3920, 3922, 3923, 3924, 3925, 3926, 3928, 3929, 3930,\n",
       "       3931, 3932, 3933, 3934, 3935, 3936, 3937, 3938, 3939, 3946, 3948,\n",
       "       3949, 3953, 3954, 3955, 3956, 3957, 3958, 3959, 3960, 3961, 3962,\n",
       "       3964, 3965, 3966, 4033, 4057, 4076, 4133, 4134, 4135, 4166, 4176,\n",
       "       4238, 4281, 4335, 4340, 4341, 4342, 4365, 4367, 4368, 4435, 4450,\n",
       "       4473, 4491, 4492, 4506, 4521, 4537, 4539, 4567, 4580, 4581, 4597,\n",
       "       4598, 4599, 4600, 4601, 4613, 4614, 4615, 4617, 4618, 4638, 4655,\n",
       "       4661, 4679, 4686, 4729, 4730, 4765, 4802, 4805, 4823, 4824, 4827,\n",
       "       4828, 4829, 4830, 4831, 4832, 4833, 4834, 4835, 4836, 4846, 4847,\n",
       "       4848, 4849, 4851, 4852, 4853, 4854, 4863, 4864, 4866, 4867, 4868,\n",
       "       4869, 4870, 4871, 4929, 4939, 4940, 4941, 4945, 4968, 4991, 4997,\n",
       "       4998, 5000, 5001, 5002, 5013, 5014, 5015, 5016, 5017, 5018, 5019,\n",
       "       5020, 5021, 5022, 5023, 5024, 5025, 5026, 5027, 5028, 5029, 5030,\n",
       "       5031, 5032, 5033, 5034, 5035, 5036, 5039, 5056, 5066, 5103, 5137,\n",
       "       5138, 5139, 5140, 5141, 5142, 5143, 5144, 5145, 5146, 5147, 5148,\n",
       "       5149, 5150, 5151, 5152, 5153, 5154, 5157, 5271, 5308, 5346, 5347,\n",
       "       5348, 5349, 5350, 5351, 5352, 5353, 5354, 5355, 5356, 5360, 5363,\n",
       "       5364, 5365, 5366, 5368, 5369, 5370, 5374, 5514, 5515, 5516, 5557,\n",
       "       5574, 5622, 5644, 5708, 5724, 5742, 5761, 5824, 5885, 5903, 5957,\n",
       "       6012, 6015, 6016, 6017, 6025, 6197, 6201, 6202, 6205, 6206, 6207,\n",
       "       6329, 6330, 6332, 6340, 6341, 6342, 6343, 6344, 6347, 6424, 6426,\n",
       "       6516, 6517, 6518, 6520, 6535, 6580, 6582, 6586, 6587, 6588, 6591,\n",
       "       6592, 6593, 6594, 6596, 6599, 6600, 6601, 6671, 6766, 6769, 6849,\n",
       "       6865, 6939, 6959, 6999, 7000, 7001, 7002, 7170, 7189, 7190, 7230,\n",
       "       7248, 7303, 7304, 7312, 7314, 7320, 7321], dtype=int64)"
      ]
     },
     "execution_count": 181,
     "metadata": {},
     "output_type": "execute_result"
    }
   ],
   "source": [
    "outlier_indexes_knn_2 = np.where(outliers_KNN_2==1)[0]\n",
    "outlier_indexes_knn_2"
   ]
  },
  {
   "cell_type": "code",
   "execution_count": 182,
   "metadata": {},
   "outputs": [
    {
     "data": {
      "text/plain": [
       "689"
      ]
     },
     "execution_count": 182,
     "metadata": {},
     "output_type": "execute_result"
    }
   ],
   "source": [
    "len(outlier_indexes_knn_2)"
   ]
  },
  {
   "cell_type": "code",
   "execution_count": 183,
   "metadata": {},
   "outputs": [],
   "source": [
    "outlier_scores_knn_2 = clf_KNN_2.decision_scores_[outlier_indexes_knn_2]"
   ]
  },
  {
   "cell_type": "code",
   "execution_count": 184,
   "metadata": {},
   "outputs": [
    {
     "data": {
      "text/plain": [
       "array([ 5.08704577,  4.86249944,  5.60774685,  5.79308845,  5.02159149,\n",
       "        5.51416545,  6.62726551,  6.57941468,  5.64233537,  8.00717694,\n",
       "        8.67501226,  6.19821352,  4.99105761,  4.93673481,  4.80943047,\n",
       "        5.95874565,  4.83866798,  5.25516503,  5.4766997 ,  5.39588078,\n",
       "        5.00011731,  4.85755696,  4.87507162,  4.87627027,  7.4388359 ,\n",
       "        7.91452557,  5.11264624,  4.97954485,  5.90093532,  5.13380563,\n",
       "        4.88541619,  5.22601348,  4.85886747,  4.82476241,  5.01140741,\n",
       "        5.1592871 ,  5.25104437,  5.4495603 ,  5.04431748,  4.93783664,\n",
       "        4.89587896,  6.16430883,  5.17903604,  5.21564206,  5.53313852,\n",
       "        5.93772723,  5.06381567,  4.91166992,  5.1207045 ,  6.01618862,\n",
       "        5.55640999,  4.91939704,  4.971388  ,  5.61753465,  5.14279617,\n",
       "        5.29091977,  4.87217858,  5.62898156,  5.6290711 ,  4.85430751,\n",
       "        5.04525833,  5.06980849,  4.76991455,  5.14796435,  4.93340576,\n",
       "        4.78550505,  4.85799124,  5.02320958,  5.1986584 ,  5.58360891,\n",
       "        5.16643171,  5.30348892,  4.95057397,  4.89041828,  4.92565436,\n",
       "        4.88857542,  4.90334958,  4.8575359 ,  4.9860081 ,  4.92103568,\n",
       "        4.82294381,  4.80340527,  4.88560271,  5.14336899,  4.90070505,\n",
       "        5.07116011,  5.02248404,  4.82374394,  5.25888107,  5.17467303,\n",
       "        7.34642226,  5.03417715,  5.15004736,  6.41001894,  6.65257458,\n",
       "        5.16600619,  5.31037956,  5.10000728,  4.8890422 ,  5.17705645,\n",
       "        5.73064774,  4.91136863,  4.89111059,  5.17705645,  4.91562517,\n",
       "        4.86141599,  4.79427714,  4.98199334,  5.16824567,  5.14894225,\n",
       "        5.36216973,  8.15633887,  5.37187748,  5.07812135,  5.12466312,\n",
       "        4.88509578,  4.82832834,  4.86237728,  6.24645167,  6.07075842,\n",
       "        5.94757754,  5.9620919 ,  6.40068996,  7.39058687,  5.90075191,\n",
       "        5.86066803,  7.41331594,  5.91599227,  6.20977355,  5.72047267,\n",
       "        5.94840618,  5.96614083,  5.90429533,  5.66464497,  5.99011984,\n",
       "        5.92509718,  6.09996887,  5.53058539,  6.55461139,  5.59490349,\n",
       "        5.77061882,  5.85237372,  5.11003065,  6.36230548,  4.96898275,\n",
       "        5.42056222,  5.74492432,  6.00202421,  6.71352129,  7.34539383,\n",
       "        5.1984708 ,  5.38306449,  5.2847664 ,  5.03388214,  4.77900533,\n",
       "        4.875099  ,  5.1503801 ,  4.83580577,  5.22905452,  4.92839463,\n",
       "        5.26035637,  5.38299713,  5.71663768,  5.2251319 ,  6.72582995,\n",
       "        6.74881801,  4.94578909,  4.90860245,  5.61746306,  5.15703283,\n",
       "        4.81608919,  4.85036692,  5.14833337,  4.85652868,  4.87170982,\n",
       "        4.99926415,  5.45451433,  4.88636069,  5.92184119,  4.93639291,\n",
       "        4.91709979,  5.4349612 ,  4.96565787,  5.05130958,  5.26082622,\n",
       "        4.93593449,  4.87736194,  4.83326292,  6.14560408,  7.18939784,\n",
       "        6.53751399,  5.13934319,  5.86095184,  5.70396647,  5.42479738,\n",
       "        5.01872808,  5.36539323,  6.59952587,  6.52129893,  4.95192194,\n",
       "        5.10119015,  4.93335435,  4.9018029 ,  5.55186603,  5.62793718,\n",
       "        5.25265447,  6.55959479,  5.2343655 ,  4.82219276,  7.29392032,\n",
       "        4.95289479,  5.49271347,  5.78230711,  7.30317458,  5.0282498 ,\n",
       "        4.86281459,  4.92900683,  5.36559392,  5.29783335,  5.78714901,\n",
       "        6.27947609,  7.18606276,  5.76124955,  6.29750867,  5.94200543,\n",
       "        5.14431329,  5.1540621 ,  5.08681566,  5.21841933,  4.97532059,\n",
       "        5.59170146,  5.6168311 ,  5.36337416,  5.38829124,  5.49178578,\n",
       "        5.33528892,  5.64426471,  4.79013776,  4.98370824,  4.77574421,\n",
       "        4.95118983,  5.02867131,  5.85767596,  5.75622381,  5.38507999,\n",
       "        5.1372614 ,  5.61975155,  5.71730254,  6.05898116,  5.15580844,\n",
       "        4.87042159,  5.37574946,  5.00654063,  5.49593239,  5.0075812 ,\n",
       "        4.80881189,  5.20654833,  5.55481505,  5.56332107,  4.8508532 ,\n",
       "        5.40540534,  5.11191636,  4.90149054,  4.78034655,  4.79805689,\n",
       "        4.98494285,  5.77468662,  4.76787894,  5.14995619,  5.355395  ,\n",
       "        4.98699046,  5.02161574,  4.88610221,  5.23148945,  5.01477231,\n",
       "        5.0492345 ,  5.90149804,  5.61054571,  5.00472184,  4.98421567,\n",
       "        4.89140186,  5.2469759 ,  5.45106033,  5.63808709,  5.00925327,\n",
       "        6.2854514 ,  6.02623579,  5.03812783,  6.19945679,  4.92773315,\n",
       "        4.93283343,  8.30903882,  9.25534753,  5.09673544,  5.02441759,\n",
       "        5.83108034,  5.32769696,  5.84659452,  5.37395067,  5.18988685,\n",
       "        5.16436   ,  5.01047301,  4.99457974,  7.34215563,  6.62396528,\n",
       "        5.58209556,  5.74477898,  5.71552086,  5.35337952,  6.58377682,\n",
       "        8.48174081,  5.73488306,  5.9477732 ,  6.25955905,  5.85380369,\n",
       "        5.04719947,  4.9620512 ,  6.47528067,  7.1760303 ,  5.19290749,\n",
       "        4.88480536,  6.32569384,  4.86621176,  5.30513764,  4.95262241,\n",
       "        5.04873046,  4.96685437,  4.89102197,  5.2073473 ,  5.3808658 ,\n",
       "        4.87931668,  5.2141469 ,  5.33573026,  5.15756448,  4.78440485,\n",
       "        4.89102197,  5.50063759,  5.58363081,  4.98206225,  5.09659867,\n",
       "        5.5413445 ,  4.89255038,  4.87201294,  4.98405014,  5.22709198,\n",
       "        5.00626778,  5.32767288,  6.3139597 ,  6.05444947,  5.56075078,\n",
       "        5.17530473,  4.82702882,  6.11431392,  4.88325148,  4.85713723,\n",
       "        4.98338391,  5.57260281,  4.80031054,  4.89608185,  5.54458175,\n",
       "        4.8811523 ,  4.91047691,  4.7712059 ,  4.79524124,  5.13767705,\n",
       "        4.78372572,  4.79014469,  5.07865714,  5.26380571,  4.76708554,\n",
       "        4.82907157,  4.91905873,  5.02265287,  4.92955864,  4.90326524,\n",
       "        4.84652118,  5.92050065,  4.89423111,  5.09815774,  5.50579862,\n",
       "        4.82871563,  5.56458546,  5.14789888,  4.80821847,  5.00723663,\n",
       "        6.0247902 ,  5.34096285,  5.4309139 ,  4.84864961,  4.90508444,\n",
       "        5.96042644,  6.50575124,  6.67057974,  5.44000172,  5.60931606,\n",
       "        6.9073841 ,  7.728978  ,  5.27758004,  5.64640646,  5.76534193,\n",
       "        5.64640646,  6.28042648,  6.01625472,  7.53610497,  6.02288198,\n",
       "        5.09887515,  4.784567  ,  5.31106236,  4.89170512,  4.98764152,\n",
       "        4.82872747,  5.28869609,  5.34635408,  4.91511629,  5.24997859,\n",
       "        5.21139804,  4.91942117,  4.84536348,  7.68879808,  4.85097809,\n",
       "        5.10622076,  4.91095771,  5.10622076,  4.90713578,  5.3483114 ,\n",
       "        6.02693457,  8.17217722,  7.66160043,  8.19222941,  7.02670446,\n",
       "        6.75262257,  7.02787594, 12.04992238, 11.59778087,  7.82792211,\n",
       "        6.62916247,  7.81461747,  9.35695872,  5.32806264,  6.07064642,\n",
       "        5.25811508,  7.01526808,  7.46149997,  7.82792211,  7.01436151,\n",
       "        7.30685925,  7.72425751,  4.99711626,  5.82876726,  5.94077618,\n",
       "        4.88891971,  5.11711554,  5.14638336,  4.88363628,  5.13319979,\n",
       "        5.4904282 ,  6.19178919,  4.88750892,  4.78705037,  4.87662772,\n",
       "        5.23673198,  5.13903112,  5.03337633,  5.18534964,  4.7614072 ,\n",
       "        4.87355461,  5.03941245,  5.04456161,  5.01609036,  4.98802199,\n",
       "        5.67597814,  5.02237527,  4.84316362,  4.91173757,  5.44351209,\n",
       "        4.98936692,  4.91567392,  5.05656361,  5.00413708,  5.00071475,\n",
       "        5.53179897,  5.16971443,  5.03466854,  6.42672015,  5.01538584,\n",
       "        5.27046511,  5.18770935,  4.8681231 ,  5.43825369,  5.22828607,\n",
       "        4.92812993,  5.37390564,  4.86621176,  5.18089865,  5.07071387,\n",
       "        5.13959184,  5.26171669,  4.91717124,  5.29410253,  6.10185174,\n",
       "        5.50761461,  5.13735775,  4.7929534 ,  5.5680958 ,  5.52943465,\n",
       "        5.70259517,  7.73148376,  5.65335881,  5.18988853,  5.21077215,\n",
       "        4.93033048,  5.480332  ,  5.33672726,  5.55564237,  6.05409421,\n",
       "        4.83410424,  5.22233642,  5.20011462,  4.8428272 ,  4.88554911,\n",
       "        4.85959275,  5.03785537,  5.01340793,  5.61102914,  4.79331524,\n",
       "        4.96704394,  5.38603986,  5.06542549,  5.44429401,  5.01024284,\n",
       "        5.92984783,  5.01596978,  5.86751253,  5.6740074 ,  5.32857984,\n",
       "        5.14679825,  5.08550073,  5.11666983,  5.34986095,  5.62249382,\n",
       "        4.95380048,  5.35694464,  5.70046525,  5.47311602,  5.24001671,\n",
       "        5.61441306,  6.31724804,  5.59568199,  5.68033741,  5.70688663,\n",
       "        6.29448412,  5.14534206,  5.78126497,  5.03251936,  5.45753578,\n",
       "        5.01531089,  4.78823394,  4.91639747,  5.0375544 ,  5.8418512 ,\n",
       "        6.13945927,  6.81215506,  4.82729121,  5.78959614,  5.03259213,\n",
       "        5.50020155,  5.26527039,  4.8257194 ,  5.3788243 ,  5.43036935,\n",
       "        4.78462152,  8.1045933 ,  7.3035974 ,  6.59018603,  6.19608485,\n",
       "        7.74685786,  7.70804347,  7.90299095,  5.10493427,  4.98728   ,\n",
       "        5.23170331,  6.87262685,  6.6236299 ,  7.73315171,  6.48442688,\n",
       "        5.63708351,  5.16358469,  5.72115005,  5.87154573,  4.8344478 ,\n",
       "        5.20032954,  5.37932013,  5.68096073,  5.78345102,  5.3991744 ,\n",
       "        5.22521853,  5.81487004,  5.92197911,  5.27957242,  5.59809824,\n",
       "        5.16175732,  5.24691938,  5.22378712,  6.30317865,  4.96370173,\n",
       "        6.11645547,  5.95624515,  4.90268957,  6.54659754,  6.90888202,\n",
       "        6.57773978,  4.77348658,  5.44212794,  5.56131768,  5.28955791,\n",
       "        4.99452104,  5.3348453 ,  4.90669791,  4.8358288 ,  5.70441502,\n",
       "        5.0095571 ,  5.15076381,  5.1324017 ,  4.75887832,  4.858346  ,\n",
       "        4.92503759,  4.81619124,  4.96344102,  4.90866187,  5.37869096,\n",
       "        5.04612057,  4.85487265,  4.84866331,  5.09307873,  4.95756009,\n",
       "        4.92920653,  5.13420032,  4.9616205 ,  5.809706  ,  5.1357361 ,\n",
       "        5.02180296,  4.97426447,  5.27902197,  5.65162487,  5.78848775,\n",
       "        5.20307503,  4.84311206,  5.12835591,  4.8138124 ,  5.77534779,\n",
       "        5.29471256,  5.20197161,  5.10801803,  5.56179722,  5.11422515,\n",
       "        4.86572637,  5.13690764,  5.31555675,  4.90966567,  4.98226897,\n",
       "        4.82924836,  5.33262951,  5.32561674,  4.94703385,  4.973558  ,\n",
       "        4.93593449,  5.64515382,  5.06973018,  4.90018183,  4.85429455,\n",
       "        4.84741438,  4.95646459,  5.00761638,  4.92149579,  5.24053257,\n",
       "        5.45830691,  5.22716092,  4.96361652,  4.79938249,  5.54393561,\n",
       "        5.68742705,  4.85964441,  4.83422299,  4.86458375,  4.84064656,\n",
       "        5.01491286,  4.98546251,  4.95444383,  5.23075166])"
      ]
     },
     "execution_count": 184,
     "metadata": {},
     "output_type": "execute_result"
    }
   ],
   "source": [
    "outlier_scores_knn_2"
   ]
  },
  {
   "cell_type": "code",
   "execution_count": 185,
   "metadata": {},
   "outputs": [
    {
     "data": {
      "text/plain": [
       "689"
      ]
     },
     "execution_count": 185,
     "metadata": {},
     "output_type": "execute_result"
    }
   ],
   "source": [
    "len(outlier_scores_knn_2)"
   ]
  },
  {
   "cell_type": "code",
   "execution_count": 186,
   "metadata": {},
   "outputs": [
    {
     "data": {
      "text/plain": [
       "4.758878322881909"
      ]
     },
     "execution_count": 186,
     "metadata": {},
     "output_type": "execute_result"
    }
   ],
   "source": [
    "np.min(outlier_scores_knn_2)"
   ]
  },
  {
   "cell_type": "code",
   "execution_count": 187,
   "metadata": {},
   "outputs": [
    {
     "data": {
      "text/plain": [
       "12.049922377589699"
      ]
     },
     "execution_count": 187,
     "metadata": {},
     "output_type": "execute_result"
    }
   ],
   "source": [
    "np.max(outlier_scores_knn_2)"
   ]
  },
  {
   "cell_type": "code",
   "execution_count": 188,
   "metadata": {},
   "outputs": [
    {
     "data": {
      "text/plain": [
       "16.145818475703795"
      ]
     },
     "execution_count": 188,
     "metadata": {},
     "output_type": "execute_result"
    }
   ],
   "source": [
    "np.max(anomlay_score[np.where(outliers_KNN_2==1)])"
   ]
  },
  {
   "cell_type": "code",
   "execution_count": 189,
   "metadata": {
    "scrolled": true
   },
   "outputs": [
    {
     "data": {
      "text/plain": [
       "6.513899355529239"
      ]
     },
     "execution_count": 189,
     "metadata": {},
     "output_type": "execute_result"
    }
   ],
   "source": [
    "np.mean(anomlay_score[np.where(outliers_KNN_2==1)])"
   ]
  },
  {
   "cell_type": "code",
   "execution_count": 190,
   "metadata": {},
   "outputs": [
    {
     "data": {
      "text/plain": [
       "4.371918445851388"
      ]
     },
     "execution_count": 190,
     "metadata": {},
     "output_type": "execute_result"
    }
   ],
   "source": [
    "np.mean(anomlay_score[np.where(outliers_KNN_2==0)])"
   ]
  },
  {
   "cell_type": "code",
   "execution_count": 191,
   "metadata": {},
   "outputs": [
    {
     "data": {
      "text/plain": [
       "5.478838367207493"
      ]
     },
     "execution_count": 191,
     "metadata": {},
     "output_type": "execute_result"
    }
   ],
   "source": [
    "np.mean(clf_KNN_2.decision_scores_[np.where(outliers_KNN_2==1)])"
   ]
  },
  {
   "cell_type": "code",
   "execution_count": 192,
   "metadata": {},
   "outputs": [
    {
     "data": {
      "text/plain": [
       "3.639951344775616"
      ]
     },
     "execution_count": 192,
     "metadata": {},
     "output_type": "execute_result"
    }
   ],
   "source": [
    "np.mean(clf_KNN_2.decision_scores_[np.where(outliers_KNN_2==0)])"
   ]
  },
  {
   "cell_type": "code",
   "execution_count": 193,
   "metadata": {},
   "outputs": [
    {
     "data": {
      "image/png": "[encoded data removed]",
      "text/plain": [
       "<Figure size 432x288 with 1 Axes>"
      ]
     },
     "metadata": {
      "needs_background": "light"
     },
     "output_type": "display_data"
    }
   ],
   "source": [
    "plt.hist(clf_KNN_2.decision_scores_, bins=20)\n",
    "plt.axvline(np.min(clf_KNN_2.decision_scores_[np.where(outliers_KNN_2==1)]), c='r')\n",
    "plt.title(\"KNN histogram\")\n",
    "plt.show()"
   ]
  },
  {
   "cell_type": "markdown",
   "metadata": {},
   "source": [
    "## Top 1% outliers"
   ]
  },
  {
   "cell_type": "code",
   "execution_count": 194,
   "metadata": {},
   "outputs": [
    {
     "data": {
      "text/plain": [
       "[(0, 5.087045766839731),\n",
       " (27, 4.862499438998021),\n",
       " (30, 5.607746852669076),\n",
       " (31, 5.793088446783539),\n",
       " (32, 5.0215914929057766),\n",
       " (64, 5.5141654549526224),\n",
       " (66, 6.627265512302147),\n",
       " (67, 6.579414684073173),\n",
       " (69, 5.642335368780815),\n",
       " (70, 8.007176940808147)]"
      ]
     },
     "execution_count": 194,
     "metadata": {},
     "output_type": "execute_result"
    }
   ],
   "source": [
    "outlier_knn_list_2 = []\n",
    "\n",
    "for i in range(0,len(outlier_scores_knn_2)):\n",
    "    outlier_knn_list_2.append((outlier_indexes_knn_2[i], outlier_scores_knn_2[i]))\n",
    "    \n",
    "outlier_knn_list_2[:10]"
   ]
  },
  {
   "cell_type": "code",
   "execution_count": 195,
   "metadata": {},
   "outputs": [],
   "source": [
    "outlier_knn_list_2 = sorted(outlier_knn_list_2, key=outlier_score, reverse = True)"
   ]
  },
  {
   "cell_type": "code",
   "execution_count": 196,
   "metadata": {},
   "outputs": [
    {
     "data": {
      "text/plain": [
       "4.758878322881909"
      ]
     },
     "execution_count": 196,
     "metadata": {},
     "output_type": "execute_result"
    }
   ],
   "source": [
    "np.min(clf_KNN_2.decision_scores_[np.where(outliers_KNN_2==1)])"
   ]
  },
  {
   "cell_type": "code",
   "execution_count": 197,
   "metadata": {},
   "outputs": [
    {
     "data": {
      "text/plain": [
       "12.049922377589699"
      ]
     },
     "execution_count": 197,
     "metadata": {},
     "output_type": "execute_result"
    }
   ],
   "source": [
    "np.max(clf_KNN_2.decision_scores_[np.where(outliers_KNN_2==1)])"
   ]
  },
  {
   "cell_type": "code",
   "execution_count": 198,
   "metadata": {},
   "outputs": [
    {
     "data": {
      "text/plain": [
       "[(3934, 12.049922377589699),\n",
       " (3935, 11.597780873865778),\n",
       " (3939, 9.356958720432093),\n",
       " (2451, 9.255347530810067),\n",
       " (71, 8.675012258470913),\n",
       " (2511, 8.481740806718642),\n",
       " (2440, 8.309038821731201),\n",
       " (3930, 8.192229412394992),\n",
       " (3928, 8.172177219359984),\n",
       " (1209, 8.156338865180306)]"
      ]
     },
     "execution_count": 198,
     "metadata": {},
     "output_type": "execute_result"
    }
   ],
   "source": [
    "outlier_knn_list_2[:10]"
   ]
  },
  {
   "cell_type": "markdown",
   "metadata": {},
   "source": [
    "### Top 1%"
   ]
  },
  {
   "cell_type": "code",
   "execution_count": 199,
   "metadata": {},
   "outputs": [],
   "source": [
    "top_outliers_knn_2 = outlier_knn_list_2[:top1perc]"
   ]
  },
  {
   "cell_type": "code",
   "execution_count": 200,
   "metadata": {},
   "outputs": [],
   "source": [
    "indexes_list_knn_2 = [i[0] for i in top_outliers_knn_2] #retrieve index of outliers"
   ]
  },
  {
   "cell_type": "code",
   "execution_count": 201,
   "metadata": {},
   "outputs": [],
   "source": [
    "df_knn_outliers_2 = df.iloc[indexes_list_knn_2]"
   ]
  },
  {
   "cell_type": "code",
   "execution_count": 202,
   "metadata": {},
   "outputs": [
    {
     "data": {
      "text/html": [
       "<div>\n",
       "<style scoped>\n",
       "    .dataframe tbody tr th:only-of-type {\n",
       "        vertical-align: middle;\n",
       "    }\n",
       "\n",
       "    .dataframe tbody tr th {\n",
       "        vertical-align: top;\n",
       "    }\n",
       "\n",
       "    .dataframe thead th {\n",
       "        text-align: right;\n",
       "    }\n",
       "</style>\n",
       "<table border=\"1\" class=\"dataframe\">\n",
       "  <thead>\n",
       "    <tr style=\"text-align: right;\">\n",
       "      <th></th>\n",
       "      <th>tBodyAccmeanX</th>\n",
       "      <th>tBodyAccmeanY</th>\n",
       "      <th>tBodyAccmeanZ</th>\n",
       "      <th>tBodyAccstdX</th>\n",
       "      <th>tBodyAccstdY</th>\n",
       "      <th>tBodyAccstdZ</th>\n",
       "      <th>tBodyAccmadX</th>\n",
       "      <th>tBodyAccmadY</th>\n",
       "      <th>tBodyAccmadZ</th>\n",
       "      <th>tBodyAccmaxX</th>\n",
       "      <th>...</th>\n",
       "      <th>angletBodyAccMeangravity</th>\n",
       "      <th>angletBodyAccJerkMeangravityMean</th>\n",
       "      <th>angletBodyGyroMeangravityMean</th>\n",
       "      <th>angletBodyGyroJerkMeangravityMean</th>\n",
       "      <th>angleXgravityMean</th>\n",
       "      <th>angleYgravityMean</th>\n",
       "      <th>angleZgravityMean</th>\n",
       "      <th>subject</th>\n",
       "      <th>Activity</th>\n",
       "      <th>ActivityName</th>\n",
       "    </tr>\n",
       "  </thead>\n",
       "  <tbody>\n",
       "    <tr>\n",
       "      <th>3934</th>\n",
       "      <td>0.028502</td>\n",
       "      <td>-0.012144</td>\n",
       "      <td>-0.097018</td>\n",
       "      <td>0.793422</td>\n",
       "      <td>0.916238</td>\n",
       "      <td>0.730133</td>\n",
       "      <td>0.761451</td>\n",
       "      <td>0.865956</td>\n",
       "      <td>0.681404</td>\n",
       "      <td>0.683437</td>\n",
       "      <td>...</td>\n",
       "      <td>0.893470</td>\n",
       "      <td>0.536252</td>\n",
       "      <td>0.812812</td>\n",
       "      <td>0.067803</td>\n",
       "      <td>-0.723711</td>\n",
       "      <td>0.228629</td>\n",
       "      <td>0.161748</td>\n",
       "      <td>19</td>\n",
       "      <td>3</td>\n",
       "      <td>WALKING_DOWNSTAIRS</td>\n",
       "    </tr>\n",
       "    <tr>\n",
       "      <th>3935</th>\n",
       "      <td>0.418868</td>\n",
       "      <td>-0.000011</td>\n",
       "      <td>-0.103503</td>\n",
       "      <td>0.876942</td>\n",
       "      <td>0.729609</td>\n",
       "      <td>0.551648</td>\n",
       "      <td>0.852822</td>\n",
       "      <td>0.644811</td>\n",
       "      <td>0.542567</td>\n",
       "      <td>0.907994</td>\n",
       "      <td>...</td>\n",
       "      <td>-0.638834</td>\n",
       "      <td>-0.558603</td>\n",
       "      <td>0.965174</td>\n",
       "      <td>0.056948</td>\n",
       "      <td>-0.708794</td>\n",
       "      <td>0.239055</td>\n",
       "      <td>0.165807</td>\n",
       "      <td>19</td>\n",
       "      <td>3</td>\n",
       "      <td>WALKING_DOWNSTAIRS</td>\n",
       "    </tr>\n",
       "    <tr>\n",
       "      <th>3939</th>\n",
       "      <td>0.114180</td>\n",
       "      <td>-0.042243</td>\n",
       "      <td>-0.118167</td>\n",
       "      <td>1.000000</td>\n",
       "      <td>0.753928</td>\n",
       "      <td>0.217305</td>\n",
       "      <td>1.000000</td>\n",
       "      <td>0.722617</td>\n",
       "      <td>0.179957</td>\n",
       "      <td>1.000000</td>\n",
       "      <td>...</td>\n",
       "      <td>0.586616</td>\n",
       "      <td>0.818511</td>\n",
       "      <td>-0.863211</td>\n",
       "      <td>-0.255721</td>\n",
       "      <td>-0.668652</td>\n",
       "      <td>0.228409</td>\n",
       "      <td>0.212093</td>\n",
       "      <td>19</td>\n",
       "      <td>3</td>\n",
       "      <td>WALKING_DOWNSTAIRS</td>\n",
       "    </tr>\n",
       "    <tr>\n",
       "      <th>2451</th>\n",
       "      <td>-1.000000</td>\n",
       "      <td>0.177522</td>\n",
       "      <td>0.543939</td>\n",
       "      <td>-0.100786</td>\n",
       "      <td>-0.126211</td>\n",
       "      <td>0.359538</td>\n",
       "      <td>-0.092218</td>\n",
       "      <td>-0.149869</td>\n",
       "      <td>0.530467</td>\n",
       "      <td>-0.821282</td>\n",
       "      <td>...</td>\n",
       "      <td>-0.061649</td>\n",
       "      <td>0.129772</td>\n",
       "      <td>-0.296755</td>\n",
       "      <td>-0.087100</td>\n",
       "      <td>-0.043034</td>\n",
       "      <td>-0.220034</td>\n",
       "      <td>-0.530436</td>\n",
       "      <td>14</td>\n",
       "      <td>6</td>\n",
       "      <td>LAYING</td>\n",
       "    </tr>\n",
       "    <tr>\n",
       "      <th>71</th>\n",
       "      <td>-0.277066</td>\n",
       "      <td>-0.684097</td>\n",
       "      <td>0.346658</td>\n",
       "      <td>-0.596410</td>\n",
       "      <td>0.024683</td>\n",
       "      <td>-0.160404</td>\n",
       "      <td>-0.631819</td>\n",
       "      <td>-0.068857</td>\n",
       "      <td>-0.235160</td>\n",
       "      <td>-0.866296</td>\n",
       "      <td>...</td>\n",
       "      <td>0.123108</td>\n",
       "      <td>0.432540</td>\n",
       "      <td>-0.083446</td>\n",
       "      <td>0.025648</td>\n",
       "      <td>0.668284</td>\n",
       "      <td>-0.336641</td>\n",
       "      <td>-0.672685</td>\n",
       "      <td>1</td>\n",
       "      <td>6</td>\n",
       "      <td>LAYING</td>\n",
       "    </tr>\n",
       "    <tr>\n",
       "      <th>2511</th>\n",
       "      <td>0.283672</td>\n",
       "      <td>-0.007501</td>\n",
       "      <td>-0.172356</td>\n",
       "      <td>0.161401</td>\n",
       "      <td>0.682863</td>\n",
       "      <td>0.888599</td>\n",
       "      <td>-0.018159</td>\n",
       "      <td>0.431337</td>\n",
       "      <td>0.746872</td>\n",
       "      <td>0.676753</td>\n",
       "      <td>...</td>\n",
       "      <td>-0.264412</td>\n",
       "      <td>-0.693300</td>\n",
       "      <td>0.914237</td>\n",
       "      <td>-0.140815</td>\n",
       "      <td>-0.496822</td>\n",
       "      <td>0.253791</td>\n",
       "      <td>0.336026</td>\n",
       "      <td>14</td>\n",
       "      <td>3</td>\n",
       "      <td>WALKING_DOWNSTAIRS</td>\n",
       "    </tr>\n",
       "    <tr>\n",
       "      <th>2440</th>\n",
       "      <td>-0.872395</td>\n",
       "      <td>0.154608</td>\n",
       "      <td>0.330753</td>\n",
       "      <td>-0.060639</td>\n",
       "      <td>-0.306884</td>\n",
       "      <td>0.068578</td>\n",
       "      <td>-0.104270</td>\n",
       "      <td>-0.244592</td>\n",
       "      <td>0.147420</td>\n",
       "      <td>-0.835074</td>\n",
       "      <td>...</td>\n",
       "      <td>-0.066795</td>\n",
       "      <td>0.223959</td>\n",
       "      <td>-0.329403</td>\n",
       "      <td>-0.076789</td>\n",
       "      <td>0.074088</td>\n",
       "      <td>-0.235313</td>\n",
       "      <td>-0.593913</td>\n",
       "      <td>14</td>\n",
       "      <td>6</td>\n",
       "      <td>LAYING</td>\n",
       "    </tr>\n",
       "  </tbody>\n",
       "</table>\n",
       "<p>7 rows × 564 columns</p>\n",
       "</div>"
      ],
      "text/plain": [
       "      tBodyAccmeanX  tBodyAccmeanY  tBodyAccmeanZ  tBodyAccstdX  tBodyAccstdY  \\\n",
       "3934       0.028502      -0.012144      -0.097018      0.793422      0.916238   \n",
       "3935       0.418868      -0.000011      -0.103503      0.876942      0.729609   \n",
       "3939       0.114180      -0.042243      -0.118167      1.000000      0.753928   \n",
       "2451      -1.000000       0.177522       0.543939     -0.100786     -0.126211   \n",
       "71        -0.277066      -0.684097       0.346658     -0.596410      0.024683   \n",
       "2511       0.283672      -0.007501      -0.172356      0.161401      0.682863   \n",
       "2440      -0.872395       0.154608       0.330753     -0.060639     -0.306884   \n",
       "\n",
       "      tBodyAccstdZ  tBodyAccmadX  tBodyAccmadY  tBodyAccmadZ  tBodyAccmaxX  \\\n",
       "3934      0.730133      0.761451      0.865956      0.681404      0.683437   \n",
       "3935      0.551648      0.852822      0.644811      0.542567      0.907994   \n",
       "3939      0.217305      1.000000      0.722617      0.179957      1.000000   \n",
       "2451      0.359538     -0.092218     -0.149869      0.530467     -0.821282   \n",
       "71       -0.160404     -0.631819     -0.068857     -0.235160     -0.866296   \n",
       "2511      0.888599     -0.018159      0.431337      0.746872      0.676753   \n",
       "2440      0.068578     -0.104270     -0.244592      0.147420     -0.835074   \n",
       "\n",
       "      ...  angletBodyAccMeangravity  angletBodyAccJerkMeangravityMean  \\\n",
       "3934  ...                  0.893470                          0.536252   \n",
       "3935  ...                 -0.638834                         -0.558603   \n",
       "3939  ...                  0.586616                          0.818511   \n",
       "2451  ...                 -0.061649                          0.129772   \n",
       "71    ...                  0.123108                          0.432540   \n",
       "2511  ...                 -0.264412                         -0.693300   \n",
       "2440  ...                 -0.066795                          0.223959   \n",
       "\n",
       "      angletBodyGyroMeangravityMean  angletBodyGyroJerkMeangravityMean  \\\n",
       "3934                       0.812812                           0.067803   \n",
       "3935                       0.965174                           0.056948   \n",
       "3939                      -0.863211                          -0.255721   \n",
       "2451                      -0.296755                          -0.087100   \n",
       "71                        -0.083446                           0.025648   \n",
       "2511                       0.914237                          -0.140815   \n",
       "2440                      -0.329403                          -0.076789   \n",
       "\n",
       "      angleXgravityMean  angleYgravityMean  angleZgravityMean  subject  \\\n",
       "3934          -0.723711           0.228629           0.161748       19   \n",
       "3935          -0.708794           0.239055           0.165807       19   \n",
       "3939          -0.668652           0.228409           0.212093       19   \n",
       "2451          -0.043034          -0.220034          -0.530436       14   \n",
       "71             0.668284          -0.336641          -0.672685        1   \n",
       "2511          -0.496822           0.253791           0.336026       14   \n",
       "2440           0.074088          -0.235313          -0.593913       14   \n",
       "\n",
       "      Activity        ActivityName  \n",
       "3934         3  WALKING_DOWNSTAIRS  \n",
       "3935         3  WALKING_DOWNSTAIRS  \n",
       "3939         3  WALKING_DOWNSTAIRS  \n",
       "2451         6              LAYING  \n",
       "71           6              LAYING  \n",
       "2511         3  WALKING_DOWNSTAIRS  \n",
       "2440         6              LAYING  \n",
       "\n",
       "[7 rows x 564 columns]"
      ]
     },
     "execution_count": 202,
     "metadata": {},
     "output_type": "execute_result"
    }
   ],
   "source": [
    "df_knn_outliers_2"
   ]
  },
  {
   "cell_type": "code",
   "execution_count": 203,
   "metadata": {},
   "outputs": [
    {
     "data": {
      "text/plain": [
       "[3934, 3935, 3939, 2451, 71, 2511, 2440]"
      ]
     },
     "execution_count": 203,
     "metadata": {},
     "output_type": "execute_result"
    }
   ],
   "source": [
    "#retrieve id of outliers\n",
    "outliers_track_id_knn_2 = list(df_knn_outliers_2.index)\n",
    "outliers_track_id_knn_2[:10]"
   ]
  },
  {
   "cell_type": "code",
   "execution_count": 204,
   "metadata": {},
   "outputs": [
    {
     "data": {
      "text/plain": [
       "7"
      ]
     },
     "execution_count": 204,
     "metadata": {},
     "output_type": "execute_result"
    }
   ],
   "source": [
    "len(outliers_track_id_knn_2)"
   ]
  },
  {
   "cell_type": "code",
   "execution_count": 205,
   "metadata": {},
   "outputs": [
    {
     "data": {
      "text/plain": [
       "4.758878322881909"
      ]
     },
     "execution_count": 205,
     "metadata": {},
     "output_type": "execute_result"
    }
   ],
   "source": [
    "np.min(clf_KNN_2.decision_scores_[np.where(outliers_KNN_2==1)])"
   ]
  },
  {
   "cell_type": "code",
   "execution_count": 206,
   "metadata": {},
   "outputs": [
    {
     "data": {
      "text/plain": [
       "[(3934, 12.049922377589699),\n",
       " (3935, 11.597780873865778),\n",
       " (3939, 9.356958720432093),\n",
       " (2451, 9.255347530810067),\n",
       " (71, 8.675012258470913)]"
      ]
     },
     "execution_count": 206,
     "metadata": {},
     "output_type": "execute_result"
    }
   ],
   "source": [
    "top_outliers_knn_2[:5]"
   ]
  },
  {
   "cell_type": "code",
   "execution_count": 207,
   "metadata": {},
   "outputs": [
    {
     "name": "stdout",
     "output_type": "stream",
     "text": [
      "Track id with knn score of outlierness\n"
     ]
    },
    {
     "data": {
      "text/plain": [
       "[(3934, 12.049922377589699),\n",
       " (3935, 11.597780873865778),\n",
       " (3939, 9.356958720432093),\n",
       " (2451, 9.255347530810067),\n",
       " (71, 8.675012258470913),\n",
       " (2511, 8.481740806718642),\n",
       " (2440, 8.309038821731201)]"
      ]
     },
     "execution_count": 207,
     "metadata": {},
     "output_type": "execute_result"
    }
   ],
   "source": [
    "top_outliers_knn_track_id_2 = []\n",
    "\n",
    "for i, val in top_outliers_knn_2:\n",
    "    top_outliers_knn_track_id_2.append((df.iloc[i].name, val))\n",
    "\n",
    "print(\"Track id with knn score of outlierness\")\n",
    "top_outliers_knn_track_id_2[:10]"
   ]
  },
  {
   "cell_type": "code",
   "execution_count": 208,
   "metadata": {},
   "outputs": [
    {
     "data": {
      "text/plain": [
       "7"
      ]
     },
     "execution_count": 208,
     "metadata": {},
     "output_type": "execute_result"
    }
   ],
   "source": [
    "len(top_outliers_knn_track_id_2)"
   ]
  },
  {
   "cell_type": "markdown",
   "metadata": {},
   "source": [
    "# Interctions of top 1%"
   ]
  },
  {
   "cell_type": "code",
   "execution_count": 209,
   "metadata": {},
   "outputs": [],
   "source": [
    "set_LOF = set([i[0] for i in top_outliers_lof_id])\n",
    "set_KNN = set([i[0] for i in top_outliers_knn_id])\n",
    "set_ABOD = set([i[0] for i in top_outliers_ABOD_id]) #10\n",
    "set_ABOD2 = set([i[0] for i in top_outliers_ABOD_id_2]) #5\n",
    "\n",
    "set_DBSCAN = set(outliers_dbscan)"
   ]
  },
  {
   "cell_type": "code",
   "execution_count": 210,
   "metadata": {},
   "outputs": [],
   "source": [
    "sets = [set_LOF, set_KNN, set_ABOD, set_ABOD2, set_DBSCAN]"
   ]
  },
  {
   "cell_type": "code",
   "execution_count": 211,
   "metadata": {},
   "outputs": [],
   "source": [
    "sets_names = ['LOF', 'KNN', 'ABOD_10N', 'ABOD_5N', 'DBSCAN']"
   ]
  },
  {
   "cell_type": "code",
   "execution_count": 212,
   "metadata": {},
   "outputs": [
    {
     "name": "stdout",
     "output_type": "stream",
     "text": [
      "Intersections of top 1%\n",
      "\n",
      "LOF - KNN            0\n",
      "LOF - ABOD_10N       0\n",
      "LOF - ABOD_5N        0\n",
      "LOF - DBSCAN         1\n",
      "KNN - ABOD_10N       3\n",
      "KNN - ABOD_5N        3\n",
      "KNN - DBSCAN         7\n",
      "ABOD_10N - ABOD_5N   3\n",
      "ABOD_10N - DBSCAN    7\n",
      "ABOD_5N - DBSCAN     10\n"
     ]
    }
   ],
   "source": [
    "tab_intersection_top_1perc_outliers = []\n",
    "headers_outliers = ['Methods', 'Intersection']\n",
    "print(\"Intersections of top 1%\\n\")\n",
    "\n",
    "for i in range(0, len(sets)):\n",
    "    for j in range(i+1, len(sets)):\n",
    "        methods = ' - '.join(map(str, (sets_names[i], sets_names[j])))\n",
    "        intersection = len(sets[i].intersection(sets[j]))\n",
    "        print(\"{0:20} {1}\".format(methods, intersection))\n",
    "        if intersection != 0:\n",
    "            tab_intersection_top_1perc_outliers.append((methods, intersection))"
   ]
  },
  {
   "cell_type": "code",
   "execution_count": 213,
   "metadata": {},
   "outputs": [
    {
     "name": "stdout",
     "output_type": "stream",
     "text": [
      "Methods              Intersection\n",
      "------------------  --------------\n",
      "LOF - DBSCAN              1\n",
      "KNN - ABOD_10N            3\n",
      "KNN - ABOD_5N             3\n",
      "KNN - DBSCAN              7\n",
      "ABOD_10N - ABOD_5N        3\n",
      "ABOD_10N - DBSCAN         7\n",
      "ABOD_5N - DBSCAN          10\n"
     ]
    }
   ],
   "source": [
    "print(tabulate(tab_intersection_top_1perc_outliers, headers_outliers, colalign=('left', 'center'), tablefmt='simple'))\n"
   ]
  },
  {
   "cell_type": "code",
   "execution_count": 214,
   "metadata": {},
   "outputs": [
    {
     "name": "stdout",
     "output_type": "stream",
     "text": [
      "\\begin{tabular}{lc}\n",
      "\\hline\n",
      " Methods            &  Intersection  \\\\\n",
      "\\hline\n",
      " LOF - DBSCAN       &       1        \\\\\n",
      " KNN - ABOD\\_10N     &       3        \\\\\n",
      " KNN - ABOD\\_5N      &       3        \\\\\n",
      " KNN - DBSCAN       &       7        \\\\\n",
      " ABOD\\_10N - ABOD\\_5N &       3        \\\\\n",
      " ABOD\\_10N - DBSCAN  &       7        \\\\\n",
      " ABOD\\_5N - DBSCAN   &       10       \\\\\n",
      "\\hline\n",
      "\\end{tabular}\n"
     ]
    }
   ],
   "source": [
    "print(tabulate(tab_intersection_top_1perc_outliers, headers_outliers, colalign=('left', 'center'), tablefmt='latex'))\n"
   ]
  },
  {
   "cell_type": "markdown",
   "metadata": {},
   "source": [
    "### Intersections of top 10"
   ]
  },
  {
   "cell_type": "code",
   "execution_count": 215,
   "metadata": {},
   "outputs": [],
   "source": [
    "set_LOF_10 = set([i[0] for i in top_outliers_lof_id[:10]])\n",
    "set_KNN_10 = set([i[0] for i in top_outliers_knn_id[:10]])\n",
    "set_ABOD_10 = set([i[0] for i in top_outliers_ABOD_id[:10]])\n",
    "set_ABOD2_10 = set([i[0] for i in top_outliers_ABOD_id_2[:10]])"
   ]
  },
  {
   "cell_type": "code",
   "execution_count": 216,
   "metadata": {},
   "outputs": [],
   "source": [
    "sets_10 = [set_LOF_10, set_KNN_10, set_ABOD_10, set_ABOD2_10, set_DBSCAN]"
   ]
  },
  {
   "cell_type": "code",
   "execution_count": 217,
   "metadata": {},
   "outputs": [],
   "source": [
    "sets_names_10 = [':10_LOF', ':10_KNN', ':10_ABOD_10N', \n",
    "                 ':10_ABOD_5N', 'DBSCAN']"
   ]
  },
  {
   "cell_type": "code",
   "execution_count": 218,
   "metadata": {},
   "outputs": [
    {
     "name": "stdout",
     "output_type": "stream",
     "text": [
      "Intersections of top 10\n",
      "\n",
      ":10_LOF - :10_KNN                   0\n",
      ":10_LOF - :10_ABOD_10N              0\n",
      ":10_LOF - :10_ABOD_5N               0\n",
      ":10_LOF - DBSCAN                    1\n",
      ":10_KNN - :10_ABOD_10N              3\n",
      ":10_KNN - :10_ABOD_5N               3\n",
      ":10_KNN - DBSCAN                    7\n",
      ":10_ABOD_10N - :10_ABOD_5N          3\n",
      ":10_ABOD_10N - DBSCAN               7\n",
      ":10_ABOD_5N - DBSCAN                10\n"
     ]
    }
   ],
   "source": [
    "tab_intersection_top_10_outliers = []\n",
    "headers_outliers = ['Methods', 'Intersection']\n",
    "print(\"Intersections of top 10\\n\")\n",
    "\n",
    "for i in range(0, len(sets_10)):\n",
    "    for j in range(i+1, len(sets_10)):\n",
    "        methods = ' - '.join(map(str, (sets_names_10[i], sets_names_10[j])))\n",
    "        intersection = len(sets_10[i].intersection(sets_10[j]))\n",
    "        print(\"{0:35} {1}\".format(methods, intersection))\n",
    "        if intersection != 0:\n",
    "            tab_intersection_top_10_outliers.append((methods, intersection))"
   ]
  },
  {
   "cell_type": "code",
   "execution_count": 219,
   "metadata": {},
   "outputs": [
    {
     "name": "stdout",
     "output_type": "stream",
     "text": [
      "Methods                      Intersection\n",
      "--------------------------  --------------\n",
      ":10_LOF - DBSCAN                  1\n",
      ":10_KNN - :10_ABOD_10N            3\n",
      ":10_KNN - :10_ABOD_5N             3\n",
      ":10_KNN - DBSCAN                  7\n",
      ":10_ABOD_10N - :10_ABOD_5N        3\n",
      ":10_ABOD_10N - DBSCAN             7\n",
      ":10_ABOD_5N - DBSCAN              10\n"
     ]
    }
   ],
   "source": [
    "print(tabulate(tab_intersection_top_10_outliers, headers_outliers, colalign=('left', 'center'), tablefmt='simple'))\n"
   ]
  },
  {
   "cell_type": "code",
   "execution_count": 220,
   "metadata": {},
   "outputs": [
    {
     "name": "stdout",
     "output_type": "stream",
     "text": [
      "\\begin{tabular}{lc}\n",
      "\\hline\n",
      " Methods                    &  Intersection  \\\\\n",
      "\\hline\n",
      " :10\\_LOF - DBSCAN           &       1        \\\\\n",
      " :10\\_KNN - :10\\_ABOD\\_10N     &       3        \\\\\n",
      " :10\\_KNN - :10\\_ABOD\\_5N      &       3        \\\\\n",
      " :10\\_KNN - DBSCAN           &       7        \\\\\n",
      " :10\\_ABOD\\_10N - :10\\_ABOD\\_5N &       3        \\\\\n",
      " :10\\_ABOD\\_10N - DBSCAN      &       7        \\\\\n",
      " :10\\_ABOD\\_5N - DBSCAN       &       10       \\\\\n",
      "\\hline\n",
      "\\end{tabular}\n"
     ]
    }
   ],
   "source": [
    "print(tabulate(tab_intersection_top_10_outliers, headers_outliers, colalign=('left', 'center'), tablefmt='latex'))\n"
   ]
  },
  {
   "cell_type": "markdown",
   "metadata": {},
   "source": [
    "### Numbers of outliers identified by each method"
   ]
  },
  {
   "cell_type": "code",
   "execution_count": 221,
   "metadata": {},
   "outputs": [
    {
     "name": "stdout",
     "output_type": "stream",
     "text": [
      "Methods    N. outliers\n",
      "---------  -------------\n",
      "LOF        9\n",
      "DBSCAN     7340\n",
      "KNN_5N     730\n",
      "ABOD_10N   738\n",
      "ABOD_5N    1089\n",
      "ISO-FOR    552\n"
     ]
    }
   ],
   "source": [
    "tab_outliers_count = []\n",
    "headers_count = ['Methods', 'N. outliers']\n",
    "\n",
    "tab_outliers_count.append(('LOF', list(outliers).count(-1)))\n",
    "tab_outliers_count.append(('DBSCAN', list(best_dbscan_model.labels_).count(-1)))\n",
    "tab_outliers_count.append(('KNN_5N', list(outliers_KNN).count(1)))\n",
    "tab_outliers_count.append(('ABOD_10N', list(outliers_ABOD).count(1)))\n",
    "tab_outliers_count.append(('ABOD_5N', list(outliers_ABOD_2).count(1)))\n",
    "tab_outliers_count.append(('ISO-FOR', list(outliers_if).count(-1)))\n",
    "\n",
    "print(tabulate(tab_outliers_count, headers_count, colalign=('left', 'left'), tablefmt='simple'))"
   ]
  },
  {
   "cell_type": "markdown",
   "metadata": {},
   "source": [
    "## Selezione finale outliers"
   ]
  },
  {
   "cell_type": "markdown",
   "metadata": {},
   "source": [
    "### Con indici"
   ]
  },
  {
   "cell_type": "code",
   "execution_count": 222,
   "metadata": {},
   "outputs": [
    {
     "data": {
      "text/plain": [
       "array([   0,   51,   64,   66,   67,   68,   69,   70,   71,   72,   78,\n",
       "         86,  111,  131,  134,  135,  136,  137,  138,  140,  141,  144,\n",
       "        145,  155,  225,  237,  238,  271,  297,  298,  299,  302,  333,\n",
       "        335,  345,  346,  347,  348,  363,  378,  384,  387,  388,  458,\n",
       "        460,  471,  475,  478,  481,  482,  483,  485,  486,  487,  500,\n",
       "        522,  523,  536,  537,  541,  564,  565,  577,  578,  579,  594,\n",
       "        598,  609,  620,  640,  642,  643,  655,  657,  688,  703,  716,\n",
       "        727,  738,  753,  778,  799,  802,  803,  805,  814,  815,  816,\n",
       "        817,  818,  819,  821,  822,  827,  831,  847,  854,  870,  875,\n",
       "        886,  896,  920,  934,  946,  947,  953,  954,  955,  956,  959,\n",
       "        961,  962,  963,  984,  989, 1020, 1022, 1026, 1039, 1041, 1050,\n",
       "       1052, 1062, 1085, 1107, 1109, 1110, 1111, 1112, 1116, 1118, 1119,\n",
       "       1122, 1123, 1126, 1128, 1141, 1143, 1155, 1156, 1157, 1170, 1182,\n",
       "       1183, 1195, 1209, 1210, 1211, 1241, 1243, 1250, 1251, 1252, 1257,\n",
       "       1258, 1265, 1266, 1267, 1268, 1269, 1270, 1271, 1272, 1273, 1274,\n",
       "       1275, 1276, 1277, 1278, 1279, 1280, 1281, 1282, 1283, 1284, 1286,\n",
       "       1287, 1288, 1289, 1290, 1297, 1299, 1307, 1308, 1309, 1310, 1311,\n",
       "       1312, 1343, 1344, 1355, 1369, 1370, 1382, 1383, 1403, 1415, 1422,\n",
       "       1425, 1442, 1501, 1506, 1513, 1523, 1536, 1557, 1575, 1576, 1578,\n",
       "       1581, 1582, 1583, 1585, 1586, 1587, 1589, 1592, 1594, 1597, 1636,\n",
       "       1645, 1646, 1680, 1694, 1704, 1716, 1718, 1719, 1720, 1723, 1724,\n",
       "       1725, 1727, 1728, 1729, 1731, 1732, 1733, 1735, 1738, 1748, 1752,\n",
       "       1754, 1755, 1773, 1788, 1800, 1813, 1817, 1826, 1827, 1854, 1861,\n",
       "       1862, 1866, 1867, 1868, 1869, 1870, 1871, 1873, 1875, 1876, 1877,\n",
       "       1878, 1879, 1880, 1881, 1882, 1883, 1889, 1893, 1895, 1897, 1898,\n",
       "       1900, 1902, 1903, 1904, 1925, 1939, 1950, 1951, 1965, 1980, 2018,\n",
       "       2031, 2058, 2072, 2093, 2099, 2111, 2112, 2123, 2125, 2126, 2188,\n",
       "       2237, 2250, 2276, 2333, 2336, 2343, 2344, 2346, 2348, 2349, 2350,\n",
       "       2352, 2353, 2354, 2412, 2413, 2440, 2451, 2496, 2497, 2498, 2499,\n",
       "       2500, 2503, 2504, 2506, 2507, 2509, 2511, 2513, 2514, 2515, 2518,\n",
       "       2528, 2532, 2533, 2534, 2535, 2541, 2543, 2570, 2609, 2612, 2613,\n",
       "       2620, 2660, 2664, 2667, 2732, 2745, 2778, 2826, 2827, 2831, 2832,\n",
       "       2834, 2838, 2841, 2845, 2846, 2871, 2891, 2907, 2911, 2912, 2922,\n",
       "       2937, 2955, 2972, 3005, 3012, 3014, 3021, 3074, 3084, 3086, 3091,\n",
       "       3092, 3114, 3129, 3196, 3198, 3199, 3210, 3237, 3280, 3296, 3299,\n",
       "       3314, 3326, 3376, 3398, 3427, 3462, 3477, 3478, 3563, 3575, 3589,\n",
       "       3594, 3625, 3646, 3665, 3683, 3726, 3749, 3750, 3751, 3752, 3758,\n",
       "       3759, 3760, 3761, 3762, 3763, 3764, 3779, 3780, 3781, 3782, 3783,\n",
       "       3784, 3785, 3792, 3810, 3840, 3860, 3861, 3886, 3905, 3907, 3908,\n",
       "       3909, 3910, 3911, 3914, 3915, 3917, 3918, 3920, 3922, 3923, 3924,\n",
       "       3926, 3927, 3928, 3929, 3930, 3931, 3932, 3933, 3934, 3935, 3936,\n",
       "       3937, 3938, 3939, 3940, 3946, 3948, 3951, 3953, 3954, 3955, 3956,\n",
       "       3957, 3958, 3960, 3961, 3962, 3963, 3964, 3965, 3966, 3967, 3988,\n",
       "       4010, 4033, 4034, 4057, 4076, 4128, 4132, 4166, 4176, 4238, 4258,\n",
       "       4281, 4307, 4333, 4335, 4336, 4337, 4340, 4341, 4342, 4343, 4362,\n",
       "       4365, 4373, 4388, 4435, 4450, 4473, 4481, 4485, 4491, 4493, 4496,\n",
       "       4499, 4506, 4521, 4531, 4537, 4539, 4544, 4552, 4563, 4567, 4580,\n",
       "       4581, 4597, 4598, 4599, 4613, 4614, 4635, 4638, 4640, 4655, 4656,\n",
       "       4659, 4660, 4661, 4664, 4666, 4667, 4679, 4684, 4689, 4726, 4728,\n",
       "       4730, 4745, 4764, 4765, 4802, 4805, 4812, 4817, 4818, 4823, 4824,\n",
       "       4827, 4828, 4831, 4832, 4833, 4834, 4836, 4846, 4847, 4850, 4851,\n",
       "       4852, 4853, 4854, 4863, 4864, 4866, 4867, 4868, 4869, 4870, 4871,\n",
       "       4875, 4928, 4929, 4938, 4939, 4945, 4968, 4991, 4998, 4999, 5001,\n",
       "       5002, 5013, 5016, 5017, 5018, 5019, 5020, 5021, 5022, 5024, 5025,\n",
       "       5026, 5028, 5029, 5030, 5031, 5033, 5034, 5035, 5036, 5039, 5055,\n",
       "       5056, 5066, 5119, 5137, 5138, 5139, 5140, 5141, 5142, 5143, 5147,\n",
       "       5148, 5149, 5150, 5151, 5153, 5256, 5271, 5289, 5308, 5323, 5339,\n",
       "       5350, 5351, 5353, 5360, 5363, 5368, 5369, 5370, 5475, 5476, 5484,\n",
       "       5499, 5516, 5557, 5574, 5622, 5623, 5633, 5634, 5644, 5724, 5742,\n",
       "       5761, 5783, 5820, 5830, 5844, 5854, 5957, 6004, 6007, 6009, 6016,\n",
       "       6017, 6020, 6023, 6025, 6195, 6197, 6198, 6199, 6201, 6202, 6204,\n",
       "       6205, 6206, 6264, 6276, 6306, 6336, 6347, 6349, 6417, 6422, 6423,\n",
       "       6424, 6426, 6431, 6457, 6516, 6535, 6553, 6580, 6581, 6586, 6587,\n",
       "       6591, 6592, 6593, 6594, 6596, 6597, 6598, 6599, 6611, 6671, 6684,\n",
       "       6766, 6792, 6849, 6865, 6910, 6928, 6957, 6959, 6977, 6978, 7014,\n",
       "       7031, 7064, 7114, 7151, 7152, 7154, 7156, 7170, 7188, 7189, 7190,\n",
       "       7191, 7240, 7304, 7309, 7310, 7312, 7313, 7314, 7317, 7318, 7320,\n",
       "       7321], dtype=int64)"
      ]
     },
     "execution_count": 222,
     "metadata": {},
     "output_type": "execute_result"
    }
   ],
   "source": [
    "outlier_indexes_abod"
   ]
  },
  {
   "cell_type": "code",
   "execution_count": 223,
   "metadata": {},
   "outputs": [
    {
     "data": {
      "text/plain": [
       "array([   0,   70,   71,  564, 1904, 2532, 4729, 4730, 5066], dtype=int64)"
      ]
     },
     "execution_count": 223,
     "metadata": {},
     "output_type": "execute_result"
    }
   ],
   "source": [
    "outlier_indexes"
   ]
  },
  {
   "cell_type": "code",
   "execution_count": 224,
   "metadata": {},
   "outputs": [],
   "source": [
    "# da finire.....\n",
    "data_outliers = []\n",
    "outlier_id_lists = [outlier_indexes,  outlier_indexes_abod_2,  outlier_indexes_if, outlier_indexes_knn, list(outliers_dbscan)] #outliers_dbscan\n"
   ]
  },
  {
   "cell_type": "code",
   "execution_count": 225,
   "metadata": {},
   "outputs": [
    {
     "name": "stdout",
     "output_type": "stream",
     "text": [
      "70 : 5\n",
      "71 : 5\n",
      "2532 : 5\n"
     ]
    }
   ],
   "source": [
    "for index in range(0, len(df)):\n",
    "    #el = df.iloc[index]\n",
    "    count = 0\n",
    "    for outliers_id in outlier_id_lists:\n",
    "        if index in outliers_id:       \n",
    "            count += 1\n",
    "    #if index in outliers_dbscan:\n",
    "        #count += 1\n",
    "    if count >= 5:\n",
    "        print(index, ':', count)\n",
    "        data_outliers.append(index)\n"
   ]
  },
  {
   "cell_type": "markdown",
   "metadata": {},
   "source": [
    "### Con indici e score"
   ]
  },
  {
   "cell_type": "raw",
   "metadata": {},
   "source": [
    "data_outliers = []\n",
    "outlier_lists = [top_outliers_lof_id, top_outliers_ABOD_id_2, top_outliers_if_id,  top_outliers_knn_id] #outliers_dbscan\n",
    "outlier_id_lists = []\n",
    "for outliers in outlier_lists:\n",
    "    ids = [ids for ids, score in outliers]\n",
    "    outlier_id_lists.append(ids)\n",
    "    \n",
    "outlier_id_lists.append(outliers_dbscan)\n"
   ]
  },
  {
   "cell_type": "raw",
   "metadata": {},
   "source": [
    "for index in range(0, len(df)):\n",
    "    #el = df.iloc[index]\n",
    "    count = 0\n",
    "    for outliers_id in outlier_id_lists:\n",
    "        if index in outliers_id:       \n",
    "            count += 1\n",
    "    #if index in outliers_dbscan:\n",
    "        #count += 1\n",
    "    if count >= 2:\n",
    "        print(index, ':', count)\n",
    "        data_outliers.append(index)"
   ]
  },
  {
   "cell_type": "markdown",
   "metadata": {},
   "source": [
    "### Analisi outliers"
   ]
  },
  {
   "cell_type": "code",
   "execution_count": 226,
   "metadata": {},
   "outputs": [],
   "source": [
    "def print_out(method):\n",
    "    for count, el in enumerate([ids for ids, score in method]):\n",
    "        if el in outliers_dbscan:\n",
    "            print(count, el,'yes')\n"
   ]
  },
  {
   "cell_type": "code",
   "execution_count": 227,
   "metadata": {},
   "outputs": [
    {
     "data": {
      "text/plain": [
       "3"
      ]
     },
     "execution_count": 227,
     "metadata": {},
     "output_type": "execute_result"
    }
   ],
   "source": [
    "len(data_outliers)"
   ]
  },
  {
   "cell_type": "code",
   "execution_count": 228,
   "metadata": {},
   "outputs": [
    {
     "name": "stdout",
     "output_type": "stream",
     "text": [
      "0 1575 yes\n",
      "1 4865 yes\n",
      "2 1721 yes\n",
      "3 1403 yes\n",
      "4 5147 yes\n"
     ]
    }
   ],
   "source": [
    "print_out(top_outliers_if_id)"
   ]
  },
  {
   "cell_type": "code",
   "execution_count": 229,
   "metadata": {},
   "outputs": [
    {
     "name": "stdout",
     "output_type": "stream",
     "text": [
      "0 70 yes\n"
     ]
    }
   ],
   "source": [
    "print_out(top_outliers_lof_id)"
   ]
  },
  {
   "cell_type": "code",
   "execution_count": 230,
   "metadata": {},
   "outputs": [
    {
     "name": "stdout",
     "output_type": "stream",
     "text": [
      "0 1904 yes\n",
      "1 3939 yes\n",
      "2 3934 yes\n",
      "3 3938 yes\n",
      "4 875 yes\n",
      "5 2352 yes\n",
      "6 5031 yes\n",
      "7 3915 yes\n",
      "8 2451 yes\n",
      "9 4867 yes\n"
     ]
    }
   ],
   "source": [
    "print_out(top_outliers_ABOD_id_2)"
   ]
  },
  {
   "cell_type": "code",
   "execution_count": 231,
   "metadata": {},
   "outputs": [
    {
     "name": "stdout",
     "output_type": "stream",
     "text": [
      "0 1575 yes\n",
      "1 4865 yes\n",
      "2 1721 yes\n",
      "3 1403 yes\n",
      "4 5147 yes\n"
     ]
    }
   ],
   "source": [
    "print_out(top_outliers_if_id)"
   ]
  },
  {
   "cell_type": "code",
   "execution_count": 232,
   "metadata": {},
   "outputs": [
    {
     "name": "stdout",
     "output_type": "stream",
     "text": [
      "0 3934 yes\n",
      "1 3935 yes\n",
      "2 3939 yes\n",
      "3 3936 yes\n",
      "4 3930 yes\n",
      "5 2451 yes\n",
      "6 3929 yes\n"
     ]
    }
   ],
   "source": [
    "print_out(top_outliers_knn_id)"
   ]
  },
  {
   "cell_type": "code",
   "execution_count": 233,
   "metadata": {},
   "outputs": [
    {
     "name": "stdout",
     "output_type": "stream",
     "text": [
      "0 70 yes\n",
      "1 71 yes\n",
      "2 2532 yes\n"
     ]
    }
   ],
   "source": [
    "for count, el in enumerate(data_outliers):\n",
    "    if el in outliers_dbscan:\n",
    "        print(count, el,'yes')"
   ]
  },
  {
   "cell_type": "code",
   "execution_count": 234,
   "metadata": {},
   "outputs": [
    {
     "data": {
      "text/plain": [
       "3"
      ]
     },
     "execution_count": 234,
     "metadata": {},
     "output_type": "execute_result"
    }
   ],
   "source": [
    "len(data_outliers)"
   ]
  },
  {
   "cell_type": "markdown",
   "metadata": {},
   "source": [
    "### Eliminazione outliers"
   ]
  },
  {
   "cell_type": "code",
   "execution_count": 235,
   "metadata": {},
   "outputs": [
    {
     "data": {
      "text/html": [
       "<div>\n",
       "<style scoped>\n",
       "    .dataframe tbody tr th:only-of-type {\n",
       "        vertical-align: middle;\n",
       "    }\n",
       "\n",
       "    .dataframe tbody tr th {\n",
       "        vertical-align: top;\n",
       "    }\n",
       "\n",
       "    .dataframe thead th {\n",
       "        text-align: right;\n",
       "    }\n",
       "</style>\n",
       "<table border=\"1\" class=\"dataframe\">\n",
       "  <thead>\n",
       "    <tr style=\"text-align: right;\">\n",
       "      <th></th>\n",
       "      <th>tBodyAccmeanX</th>\n",
       "      <th>tBodyAccmeanY</th>\n",
       "      <th>tBodyAccmeanZ</th>\n",
       "      <th>tBodyAccstdX</th>\n",
       "      <th>tBodyAccstdY</th>\n",
       "      <th>tBodyAccstdZ</th>\n",
       "      <th>tBodyAccmadX</th>\n",
       "      <th>tBodyAccmadY</th>\n",
       "      <th>tBodyAccmadZ</th>\n",
       "      <th>tBodyAccmaxX</th>\n",
       "      <th>...</th>\n",
       "      <th>angletBodyAccMeangravity</th>\n",
       "      <th>angletBodyAccJerkMeangravityMean</th>\n",
       "      <th>angletBodyGyroMeangravityMean</th>\n",
       "      <th>angletBodyGyroJerkMeangravityMean</th>\n",
       "      <th>angleXgravityMean</th>\n",
       "      <th>angleYgravityMean</th>\n",
       "      <th>angleZgravityMean</th>\n",
       "      <th>subject</th>\n",
       "      <th>Activity</th>\n",
       "      <th>ActivityName</th>\n",
       "    </tr>\n",
       "  </thead>\n",
       "  <tbody>\n",
       "    <tr>\n",
       "      <th>70</th>\n",
       "      <td>-0.361205</td>\n",
       "      <td>-0.268121</td>\n",
       "      <td>0.176896</td>\n",
       "      <td>-0.599392</td>\n",
       "      <td>0.532506</td>\n",
       "      <td>0.004324</td>\n",
       "      <td>-0.664108</td>\n",
       "      <td>0.502260</td>\n",
       "      <td>0.048472</td>\n",
       "      <td>-0.717081</td>\n",
       "      <td>...</td>\n",
       "      <td>0.152830</td>\n",
       "      <td>0.149602</td>\n",
       "      <td>0.127245</td>\n",
       "      <td>0.192852</td>\n",
       "      <td>0.508733</td>\n",
       "      <td>-0.496132</td>\n",
       "      <td>-0.506197</td>\n",
       "      <td>1</td>\n",
       "      <td>6</td>\n",
       "      <td>LAYING</td>\n",
       "    </tr>\n",
       "    <tr>\n",
       "      <th>71</th>\n",
       "      <td>-0.277066</td>\n",
       "      <td>-0.684097</td>\n",
       "      <td>0.346658</td>\n",
       "      <td>-0.596410</td>\n",
       "      <td>0.024683</td>\n",
       "      <td>-0.160404</td>\n",
       "      <td>-0.631819</td>\n",
       "      <td>-0.068857</td>\n",
       "      <td>-0.235160</td>\n",
       "      <td>-0.866296</td>\n",
       "      <td>...</td>\n",
       "      <td>0.123108</td>\n",
       "      <td>0.432540</td>\n",
       "      <td>-0.083446</td>\n",
       "      <td>0.025648</td>\n",
       "      <td>0.668284</td>\n",
       "      <td>-0.336641</td>\n",
       "      <td>-0.672685</td>\n",
       "      <td>1</td>\n",
       "      <td>6</td>\n",
       "      <td>LAYING</td>\n",
       "    </tr>\n",
       "    <tr>\n",
       "      <th>2532</th>\n",
       "      <td>0.176658</td>\n",
       "      <td>-0.038535</td>\n",
       "      <td>-0.042979</td>\n",
       "      <td>-0.320417</td>\n",
       "      <td>0.517275</td>\n",
       "      <td>1.000000</td>\n",
       "      <td>-0.381541</td>\n",
       "      <td>0.530447</td>\n",
       "      <td>1.000000</td>\n",
       "      <td>-0.369909</td>\n",
       "      <td>...</td>\n",
       "      <td>0.579724</td>\n",
       "      <td>-0.628818</td>\n",
       "      <td>0.888889</td>\n",
       "      <td>0.450867</td>\n",
       "      <td>-0.261964</td>\n",
       "      <td>0.311073</td>\n",
       "      <td>0.481737</td>\n",
       "      <td>14</td>\n",
       "      <td>2</td>\n",
       "      <td>WALKING_UPSTAIRS</td>\n",
       "    </tr>\n",
       "  </tbody>\n",
       "</table>\n",
       "<p>3 rows × 564 columns</p>\n",
       "</div>"
      ],
      "text/plain": [
       "      tBodyAccmeanX  tBodyAccmeanY  tBodyAccmeanZ  tBodyAccstdX  tBodyAccstdY  \\\n",
       "70        -0.361205      -0.268121       0.176896     -0.599392      0.532506   \n",
       "71        -0.277066      -0.684097       0.346658     -0.596410      0.024683   \n",
       "2532       0.176658      -0.038535      -0.042979     -0.320417      0.517275   \n",
       "\n",
       "      tBodyAccstdZ  tBodyAccmadX  tBodyAccmadY  tBodyAccmadZ  tBodyAccmaxX  \\\n",
       "70        0.004324     -0.664108      0.502260      0.048472     -0.717081   \n",
       "71       -0.160404     -0.631819     -0.068857     -0.235160     -0.866296   \n",
       "2532      1.000000     -0.381541      0.530447      1.000000     -0.369909   \n",
       "\n",
       "      ...  angletBodyAccMeangravity  angletBodyAccJerkMeangravityMean  \\\n",
       "70    ...                  0.152830                          0.149602   \n",
       "71    ...                  0.123108                          0.432540   \n",
       "2532  ...                  0.579724                         -0.628818   \n",
       "\n",
       "      angletBodyGyroMeangravityMean  angletBodyGyroJerkMeangravityMean  \\\n",
       "70                         0.127245                           0.192852   \n",
       "71                        -0.083446                           0.025648   \n",
       "2532                       0.888889                           0.450867   \n",
       "\n",
       "      angleXgravityMean  angleYgravityMean  angleZgravityMean  subject  \\\n",
       "70             0.508733          -0.496132          -0.506197        1   \n",
       "71             0.668284          -0.336641          -0.672685        1   \n",
       "2532          -0.261964           0.311073           0.481737       14   \n",
       "\n",
       "      Activity      ActivityName  \n",
       "70           6            LAYING  \n",
       "71           6            LAYING  \n",
       "2532         2  WALKING_UPSTAIRS  \n",
       "\n",
       "[3 rows x 564 columns]"
      ]
     },
     "execution_count": 235,
     "metadata": {},
     "output_type": "execute_result"
    }
   ],
   "source": [
    "df_outliers_final = df.iloc[data_outliers]\n",
    "df_outliers_final.head()"
   ]
  },
  {
   "cell_type": "code",
   "execution_count": 236,
   "metadata": {},
   "outputs": [
    {
     "data": {
      "text/plain": [
       "(3, 564)"
      ]
     },
     "execution_count": 236,
     "metadata": {},
     "output_type": "execute_result"
    }
   ],
   "source": [
    "df_outliers_final.shape"
   ]
  },
  {
   "cell_type": "code",
   "execution_count": 237,
   "metadata": {},
   "outputs": [
    {
     "data": {
      "text/plain": [
       "(7349, 564)"
      ]
     },
     "execution_count": 237,
     "metadata": {},
     "output_type": "execute_result"
    }
   ],
   "source": [
    "df_final = df.drop(data_outliers)\n",
    "df_final.shape"
   ]
  },
  {
   "cell_type": "code",
   "execution_count": 238,
   "metadata": {},
   "outputs": [
    {
     "data": {
      "text/plain": [
       "(7352, 564)"
      ]
     },
     "execution_count": 238,
     "metadata": {},
     "output_type": "execute_result"
    }
   ],
   "source": [
    "df.shape"
   ]
  },
  {
   "cell_type": "code",
   "execution_count": 239,
   "metadata": {},
   "outputs": [],
   "source": [
    "df_final.to_csv('../data/cleaned_files/train_cleaned_5.csv', index=False)"
   ]
  },
  {
   "cell_type": "code",
   "execution_count": 240,
   "metadata": {},
   "outputs": [],
   "source": [
    "df_cleaned = pd.read_csv('../data/cleaned_files/train_cleaned_5.csv')\n",
    "X_train = df_cleaned.drop(['subject', 'Activity','ActivityName'], axis=1)\n",
    "y_train = pd.DataFrame(df_cleaned['Activity'])\n"
   ]
  },
  {
   "cell_type": "code",
   "execution_count": 241,
   "metadata": {},
   "outputs": [
    {
     "data": {
      "text/plain": [
       "(7349, 561)"
      ]
     },
     "execution_count": 241,
     "metadata": {},
     "output_type": "execute_result"
    }
   ],
   "source": [
    "X_train.shape"
   ]
  },
  {
   "cell_type": "code",
   "execution_count": 242,
   "metadata": {},
   "outputs": [
    {
     "data": {
      "text/html": [
       "<div>\n",
       "<style scoped>\n",
       "    .dataframe tbody tr th:only-of-type {\n",
       "        vertical-align: middle;\n",
       "    }\n",
       "\n",
       "    .dataframe tbody tr th {\n",
       "        vertical-align: top;\n",
       "    }\n",
       "\n",
       "    .dataframe thead th {\n",
       "        text-align: right;\n",
       "    }\n",
       "</style>\n",
       "<table border=\"1\" class=\"dataframe\">\n",
       "  <thead>\n",
       "    <tr style=\"text-align: right;\">\n",
       "      <th></th>\n",
       "      <th>Activity</th>\n",
       "    </tr>\n",
       "  </thead>\n",
       "  <tbody>\n",
       "    <tr>\n",
       "      <th>0</th>\n",
       "      <td>5</td>\n",
       "    </tr>\n",
       "    <tr>\n",
       "      <th>1</th>\n",
       "      <td>5</td>\n",
       "    </tr>\n",
       "    <tr>\n",
       "      <th>2</th>\n",
       "      <td>5</td>\n",
       "    </tr>\n",
       "    <tr>\n",
       "      <th>3</th>\n",
       "      <td>5</td>\n",
       "    </tr>\n",
       "    <tr>\n",
       "      <th>4</th>\n",
       "      <td>5</td>\n",
       "    </tr>\n",
       "  </tbody>\n",
       "</table>\n",
       "</div>"
      ],
      "text/plain": [
       "   Activity\n",
       "0         5\n",
       "1         5\n",
       "2         5\n",
       "3         5\n",
       "4         5"
      ]
     },
     "execution_count": 242,
     "metadata": {},
     "output_type": "execute_result"
    }
   ],
   "source": [
    "y_train.head()"
   ]
  },
  {
   "cell_type": "code",
   "execution_count": 243,
   "metadata": {},
   "outputs": [
    {
     "data": {
      "text/plain": [
       "pandas.core.frame.DataFrame"
      ]
     },
     "execution_count": 243,
     "metadata": {},
     "output_type": "execute_result"
    }
   ],
   "source": [
    "type(y_train)"
   ]
  },
  {
   "cell_type": "code",
   "execution_count": null,
   "metadata": {},
   "outputs": [],
   "source": []
  }
 ],
 "metadata": {
  "kernelspec": {
   "display_name": "Python 3 (ipykernel)",
   "language": "python",
   "name": "python3"
  },
  "language_info": {
   "codemirror_mode": {
    "name": "ipython",
    "version": 3
   },
   "file_extension": ".py",
   "mimetype": "text/x-python",
   "name": "python",
   "nbconvert_exporter": "python",
   "pygments_lexer": "ipython3",
   "version": "3.8.5"
  }
 },
 "nbformat": 4,
 "nbformat_minor": 2
}
